{
 "cells": [
  {
   "cell_type": "code",
   "execution_count": 1358,
   "id": "e40c9cd3-8190-4f9c-9ae2-763f46acce8d",
   "metadata": {
    "slideshow": {
     "slide_type": "skip"
    },
    "tags": []
   },
   "outputs": [],
   "source": [
    "\n",
    "import pandas as pd\n",
    "import numpy as np\n",
    "import matplotlib.pyplot as plt\n",
    "import seaborn as sns\n",
    "import scipy.stats as stats\n",
    "from sklearn.linear_model import LinearRegression\n",
    "from sklearn.preprocessing import StandardScaler\n",
    "from mpl_toolkits.mplot3d import Axes3D\n",
    "import statsmodels.api as sm"
   ]
  },
  {
   "cell_type": "markdown",
   "id": "880f9f06",
   "metadata": {
    "slideshow": {
     "slide_type": "slide"
    }
   },
   "source": [
    "# Elektrauto AG\n",
    "\n",
    "### HWR Berlin, Sommersomester 2024\n",
    "\n",
    "##### Christian Begemann, Sean Klückmann, Friedrich Fast\n",
    "\n"
   ]
  },
  {
   "cell_type": "code",
   "execution_count": 1359,
   "id": "8bee1b76-6d53-4ea4-9b38-ad7f3a6b1518",
   "metadata": {
    "scrolled": true,
    "slideshow": {
     "slide_type": "skip"
    },
    "tags": []
   },
   "outputs": [],
   "source": [
    "customer = pd.read_csv('kunden.csv', delimiter= ';')\n",
    "table_customer = pd.DataFrame(customer)\n",
    "\n",
    "visitor = pd.read_csv('besucher.csv', delimiter= ';', decimal= '.')\n",
    "table_visitor = pd.DataFrame(visitor)\n",
    "\n",
    "geodata = pd.read_csv('geo.txt', delimiter= '\\t')\n",
    "table_geo = pd.DataFrame(geodata)\n",
    "\n"
   ]
  },
  {
   "cell_type": "code",
   "execution_count": 1360,
   "id": "4d2509ea",
   "metadata": {
    "slideshow": {
     "slide_type": "skip"
    }
   },
   "outputs": [
    {
     "name": "stdout",
     "output_type": "stream",
     "text": [
      "      Alter  Einkommen      Preis  Geschlecht  Zeit KundeNr\n",
      "0        64    66894.0   88160.31         1.0  43.0   K0310\n",
      "1        54    77644.0  103145.70         1.0  40.0   K1042\n",
      "2        55    44341.0   80565.16         0.0  37.0   K0382\n",
      "3        49    67271.0   83949.89         0.0  42.0   K0498\n",
      "4        46    49832.0   93781.58         0.0  41.0   K0552\n",
      "...     ...        ...        ...         ...   ...     ...\n",
      "1099     70    69581.0  103751.58         1.0  51.0   K0467\n",
      "1100     38    48301.0   64230.98         1.0  33.0   K0122\n",
      "1101     67    63547.0  103123.57         1.0  41.0   K1045\n",
      "1102     37    32686.0   49215.87         1.0  36.0   K1096\n",
      "1103     55    71240.0  106132.59         1.0  49.0   K0861\n",
      "\n",
      "[1104 rows x 6 columns]\n",
      "     Alter           Einkommen  Geschlecht  Zeit KundeNr\n",
      "0       30    39919,0953348874           0  29,0   K1814\n",
      "1       41   53430,67308587748           0  27,0   K1544\n",
      "2       64    73163,2169267002           0  32,0   K1945\n",
      "3       41  36761,482581315344           0  44,0   K1825\n",
      "4       35   42684,33163178136           1  33,0   K1144\n",
      "..     ...                 ...         ...   ...     ...\n",
      "886     32   34391,82496545645           1  48,0   K1211\n",
      "887     41   68516,49543941053           0  34,0   K1375\n",
      "888     65   89685,33344089528           0  23,0   K1965\n",
      "889     68   95714,30526812703           0  32,0   K1540\n",
      "890     49    73319,1870845747           0  27,0   K1207\n",
      "\n",
      "[891 rows x 5 columns]\n",
      "     KundeNr          Niederlassung\n",
      "0      K0001                Sachsen\n",
      "1      K0002                    NRW\n",
      "2      K0003                 Hessen\n",
      "3      K0004                 Bayern\n",
      "4      K0005                 Bayern\n",
      "...      ...                    ...\n",
      "1990   K1991                 Hessen\n",
      "1991   K1992      Baden-Württemberg\n",
      "1992   K1993    Nordrhein-Westfalen\n",
      "1993   K1994                 Berlin\n",
      "1994   K1995  Berlin-Charlottenburg\n",
      "\n",
      "[1995 rows x 2 columns]\n"
     ]
    }
   ],
   "source": [
    "print(table_customer)\n",
    "print(table_visitor)\n",
    "print(table_geo)"
   ]
  },
  {
   "cell_type": "code",
   "execution_count": 1361,
   "id": "9f5be8cb-4019-4592-b2d5-218a6f8d0087",
   "metadata": {
    "slideshow": {
     "slide_type": "skip"
    },
    "tags": []
   },
   "outputs": [
    {
     "name": "stdout",
     "output_type": "stream",
     "text": [
      "Frage: Überschneiden sich Kundennummern?\n",
      "\n",
      "\n",
      "Zeilen Insgesamt: 1995\n",
      "\n",
      "Kundendaten\n",
      "    KundeNr  Geschlecht  Alter  Einkommen  Zeit      Preis\n",
      "476   K0001         1.0     68    89437.0  62.0  114481.90\n",
      "892   K0002         1.0     58    65271.0  44.0  106258.99\n",
      "225   K0003         1.0     44    48195.0  29.0   85705.57\n",
      "174   K0004         0.0     37    48957.0  36.0   76412.36\n",
      "991   K0005         0.0     50    56621.0  40.0   92898.67\n",
      "..      ...         ...    ...        ...   ...        ...\n",
      "240   K1100         1.0     61    82624.0  59.0  134755.80\n",
      "422   K1101         1.0     39    37905.0  32.0   61717.86\n",
      "758   K1102         1.0     39    40159.0  37.0   67170.69\n",
      "813   K1103         0.0     48    45545.0  30.0   75700.83\n",
      "829   K1104         1.0     63    80414.0  49.0  101554.64\n",
      "\n",
      "[1104 rows x 6 columns]\n",
      "Besucherdaten\n",
      "    KundeNr  Geschlecht  Alter          Einkommen  Zeit\n",
      "454   K1105           0     42  57149,49800655036  35,0\n",
      "812   K1106           1     34  43358,56434967347  33,0\n",
      "229   K1107           1     33  45748,42693618564  55,0\n",
      "400   K1108           1     57  58633,96976384482  32,0\n",
      "744   K1109           0     43  53592,01268373325  31,0\n",
      "..      ...         ...    ...                ...   ...\n",
      "18    K1991           1     48  59967,31328247114  21,0\n",
      "799   K1992           1     67  81521,76144297997  21,0\n",
      "592   K1993           0     40  41616,57298010873  48,0\n",
      "72    K1994           1     49   76602,7888395788  19,0\n",
      "491   K1995           1     49  54754,52544962578  44,0\n",
      "\n",
      "[891 rows x 5 columns]\n",
      "\n",
      "Antwort: Die Kundennummern gehen nahtlos ineinander über.\n"
     ]
    }
   ],
   "source": [
    "print(\"Frage: Überschneiden sich Kundennummern?\")\n",
    "table_customer_resorted = table_customer[['KundeNr', 'Geschlecht', 'Alter', 'Einkommen', 'Zeit', 'Preis']]\n",
    "table_customer_sort_by_KNr = table_customer_resorted.sort_values('KundeNr')\n",
    "table_visitor_resorted = table_visitor[['KundeNr', 'Geschlecht', 'Alter', 'Einkommen', 'Zeit']]\n",
    "table_visitor_sort_by_KNr = table_visitor_resorted.sort_values('KundeNr')\n",
    "print(\n",
    ")\n",
    "sum_rows = len(table_customer_sort_by_KNr) + len(table_visitor_sort_by_KNr)\n",
    "print(\n",
    ")\n",
    "print(\"Zeilen Insgesamt:\", sum_rows)\n",
    "print(\n",
    ")\n",
    "print(\"Kundendaten\")\n",
    "print(table_customer_sort_by_KNr)\n",
    "print(\"Besucherdaten\")\n",
    "print(table_visitor_sort_by_KNr)\n",
    "print(\n",
    ")\n",
    "print(\"Antwort: Die Kundennummern gehen nahtlos ineinander über.\")"
   ]
  },
  {
   "cell_type": "code",
   "execution_count": 1362,
   "id": "12639d1d-d8f3-474e-98f4-5180332abd3c",
   "metadata": {
    "scrolled": true,
    "slideshow": {
     "slide_type": "skip"
    },
    "tags": []
   },
   "outputs": [
    {
     "name": "stdout",
     "output_type": "stream",
     "text": [
      "Wir benutzen die Funktion 'merge: outer join' mit dem 'Key: KundeNr'\n",
      "jedem Kunden bzw. Besucher das Attribut Niederlassung zuzuordnen.\n",
      "\n",
      "Kundendaten\n",
      "     KundeNr  Geschlecht  Alter  Einkommen  Zeit      Preis  Niederlassung\n",
      "0      K0001         1.0   68.0    89437.0  62.0  114481.90        Sachsen\n",
      "1      K0002         1.0   58.0    65271.0  44.0  106258.99            NRW\n",
      "2      K0003         1.0   44.0    48195.0  29.0   85705.57         Hessen\n",
      "3      K0004         0.0   37.0    48957.0  36.0   76412.36         Bayern\n",
      "4      K0005         0.0   50.0    56621.0  40.0   92898.67         Bayern\n",
      "...      ...         ...    ...        ...   ...        ...            ...\n",
      "1099   K1100         1.0   61.0    82624.0  59.0  134755.80         Berlin\n",
      "1100   K1101         1.0   39.0    37905.0  32.0   61717.86         Hessen\n",
      "1101   K1102         1.0   39.0    40159.0  37.0   67170.69  Niedersachsen\n",
      "1102   K1103         0.0   48.0    45545.0  30.0   75700.83         Berlin\n",
      "1103   K1104         1.0   63.0    80414.0  49.0  101554.64        Sachsen\n",
      "\n",
      "[1104 rows x 7 columns]\n",
      "\n",
      "Besucherdaten\n",
      "    KundeNr  Geschlecht  Alter          Einkommen  Zeit          Niederlassung\n",
      "0     K1105         0.0   42.0  57149,49800655036  35,0                 Hessen\n",
      "1     K1106         1.0   34.0  43358,56434967347  33,0                 Berlin\n",
      "2     K1107         1.0   33.0  45748,42693618564  55,0          Niedersachsen\n",
      "3     K1108         1.0   57.0  58633,96976384482  32,0              Thüringen\n",
      "4     K1109         0.0   43.0  53592,01268373325  31,0    Nordrhein-Westfalen\n",
      "..      ...         ...    ...                ...   ...                    ...\n",
      "886   K1991         1.0   48.0  59967,31328247114  21,0                 Hessen\n",
      "887   K1992         1.0   67.0  81521,76144297997  21,0      Baden-Württemberg\n",
      "888   K1993         0.0   40.0  41616,57298010873  48,0    Nordrhein-Westfalen\n",
      "889   K1994         1.0   49.0   76602,7888395788  19,0                 Berlin\n",
      "890   K1995         1.0   49.0  54754,52544962578  44,0  Berlin-Charlottenburg\n",
      "\n",
      "[891 rows x 6 columns]\n"
     ]
    }
   ],
   "source": [
    "print(\"Wir benutzen die Funktion 'merge: outer join' mit dem 'Key: KundeNr'\") \n",
    "print(\"jedem Kunden bzw. Besucher das Attribut Niederlassung zuzuordnen.\")\n",
    "print(\n",
    ")\n",
    "customer_merge = pd.merge(table_customer_sort_by_KNr, table_geo, on = 'KundeNr', how = 'outer')\n",
    "customer_geo = customer_merge.head(1104)\n",
    "visitor_merge = pd.merge(table_visitor_sort_by_KNr, table_geo, on='KundeNr', how='outer')\n",
    "visitor_geo = visitor_merge.head(891)\n",
    "print(\"Kundendaten\")\n",
    "print(customer_geo)\n",
    "print(\n",
    ")\n",
    "print(\"Besucherdaten\")\n",
    "print(visitor_geo)"
   ]
  },
  {
   "cell_type": "code",
   "execution_count": 1363,
   "id": "07c1e380-f742-41ed-8713-1157462b126b",
   "metadata": {
    "slideshow": {
     "slide_type": "skip"
    },
    "tags": []
   },
   "outputs": [
    {
     "name": "stdout",
     "output_type": "stream",
     "text": [
      "Frage: gibt es leere Zellen in den Kundendaten?\n",
      "\n",
      "Antwort: Ja, folgende:\n",
      "    KundeNr  Geschlecht  Alter  Einkommen  Zeit      Preis  \\\n",
      "23    K0024         NaN   41.0    46542.0  40.0   63477.00   \n",
      "89    K0090         NaN   64.0    83452.0  62.0  133180.70   \n",
      "165   K0166         NaN   53.0    49798.0  39.0   61329.51   \n",
      "324   K0325         NaN   52.0    66602.0  45.0   98756.07   \n",
      "789   K0790         NaN   67.0    91461.0  66.0  131748.07   \n",
      "\n",
      "           Niederlassung  \n",
      "23     Baden-Württemberg  \n",
      "89         Niedersachsen  \n",
      "165  Nordrhein-Westfalen  \n",
      "324               Bayern  \n",
      "789               Berlin  \n",
      "\n",
      "Frage: gibt es leere Zellen in den Kundendaten?\n",
      "Empty DataFrame\n",
      "Columns: [KundeNr, Geschlecht, Alter, Einkommen, Zeit, Niederlassung]\n",
      "Index: []\n",
      "Nein.\n"
     ]
    }
   ],
   "source": [
    "print(\"Frage: gibt es leere Zellen in den Kundendaten?\")\n",
    "print(\n",
    "    )      \n",
    "customer_isna_rows = customer_geo[customer_geo.isna().any(axis = 1)]\n",
    "print(\"Antwort: Ja, folgende:\")\n",
    "print(customer_isna_rows)\n",
    "\n",
    "print(\n",
    "    )\n",
    "print(\"Frage: gibt es leere Zellen in den Kundendaten?\")\n",
    "visitor_isna_rows = visitor_geo[visitor_geo.isna().any(axis = 1)]\n",
    "print(visitor_isna_rows)\n",
    "print(\"Nein.\")"
   ]
  },
  {
   "cell_type": "code",
   "execution_count": 1364,
   "id": "66142b50-42b2-41f1-9d6b-e875a587572e",
   "metadata": {
    "slideshow": {
     "slide_type": "skip"
    },
    "tags": []
   },
   "outputs": [],
   "source": [
    "# Hier beginnt die Datenbereinigung mit der Spalte Geschlecht"
   ]
  },
  {
   "cell_type": "code",
   "execution_count": 1365,
   "id": "110cba52-8259-4fbc-9d30-04d424984d50",
   "metadata": {
    "scrolled": true,
    "slideshow": {
     "slide_type": "skip"
    },
    "tags": []
   },
   "outputs": [
    {
     "name": "stdout",
     "output_type": "stream",
     "text": [
      "Frage: Wie möchten wir die leeren Felder ersetzen.\n",
      "Antwort: Wir möchten den Prozentualen Anteil von Männern und Frauen beibehalten.\n",
      "Prozentualer Anteil von 1.0: 63.79%\n",
      "Prozentualer Anteil von 0.0: 36.21%\n",
      "\n",
      "Nun ersetzen wir die leeren Felder anhand der Prozentzahlen und prüfen ob noch leere Felder existieren.\n",
      "Gibt es noch NaN-Werte in 'Geschlecht'?\n",
      "True\n",
      "Wir ersetzen alle 0.0 Werte mit 'Weiblich' und alle 1.0 Werte mit 'Männlich'.\n",
      "\n",
      "Kundendaten\n",
      "     KundeNr  Geschlecht  Alter  Einkommen  Zeit      Preis  Niederlassung\n",
      "0      K0001         1.0   68.0    89437.0  62.0  114481.90        Sachsen\n",
      "1      K0002         1.0   58.0    65271.0  44.0  106258.99            NRW\n",
      "2      K0003         1.0   44.0    48195.0  29.0   85705.57         Hessen\n",
      "3      K0004         0.0   37.0    48957.0  36.0   76412.36         Bayern\n",
      "4      K0005         0.0   50.0    56621.0  40.0   92898.67         Bayern\n",
      "...      ...         ...    ...        ...   ...        ...            ...\n",
      "1099   K1100         1.0   61.0    82624.0  59.0  134755.80         Berlin\n",
      "1100   K1101         1.0   39.0    37905.0  32.0   61717.86         Hessen\n",
      "1101   K1102         1.0   39.0    40159.0  37.0   67170.69  Niedersachsen\n",
      "1102   K1103         0.0   48.0    45545.0  30.0   75700.83         Berlin\n",
      "1103   K1104         1.0   63.0    80414.0  49.0  101554.64        Sachsen\n",
      "\n",
      "[1104 rows x 7 columns]\n",
      "Besucherdaten\n",
      "    KundeNr  Geschlecht  Alter          Einkommen  Zeit          Niederlassung\n",
      "0     K1105         0.0   42.0  57149,49800655036  35,0                 Hessen\n",
      "1     K1106         1.0   34.0  43358,56434967347  33,0                 Berlin\n",
      "2     K1107         1.0   33.0  45748,42693618564  55,0          Niedersachsen\n",
      "3     K1108         1.0   57.0  58633,96976384482  32,0              Thüringen\n",
      "4     K1109         0.0   43.0  53592,01268373325  31,0    Nordrhein-Westfalen\n",
      "..      ...         ...    ...                ...   ...                    ...\n",
      "886   K1991         1.0   48.0  59967,31328247114  21,0                 Hessen\n",
      "887   K1992         1.0   67.0  81521,76144297997  21,0      Baden-Württemberg\n",
      "888   K1993         0.0   40.0  41616,57298010873  48,0    Nordrhein-Westfalen\n",
      "889   K1994         1.0   49.0   76602,7888395788  19,0                 Berlin\n",
      "890   K1995         1.0   49.0  54754,52544962578  44,0  Berlin-Charlottenburg\n",
      "\n",
      "[891 rows x 6 columns]\n",
      "\n",
      "Es sind keine leeren Felder mehr vorhanden.\n",
      "Geschlechterbezeichnung wurde eingefügt.\n",
      "\n",
      "Die Daten zum Geschlecht der Kunden und Besucher sind so verteilt\n",
      "\n"
     ]
    },
    {
     "data": {
      "image/png": "[encoded data removed]",
      "text/plain": [
       "<Figure size 1200x500 with 2 Axes>"
      ]
     },
     "metadata": {},
     "output_type": "display_data"
    }
   ],
   "source": [
    "print(\"Frage: Wie möchten wir die leeren Felder ersetzen.\")\n",
    "print(\"Antwort: Wir möchten den Prozentualen Anteil von Männern und Frauen beibehalten.\")\n",
    "counts = customer_geo['Geschlecht'].value_counts(normalize=True)\n",
    "percentage_1 = counts.get(1.0, 0)\n",
    "percentage_0 = counts.get(0.0, 0)\n",
    "print(f\"Prozentualer Anteil von 1.0: {percentage_1:.2%}\")\n",
    "print(f\"Prozentualer Anteil von 0.0: {percentage_0:.2%}\")\n",
    "print(\n",
    ")\n",
    "print(\"Nun ersetzen wir die leeren Felder anhand der Prozentzahlen und prüfen ob noch leere Felder existieren.\")\n",
    "\n",
    "nan_indices = customer_geo[customer_geo['Geschlecht'].isnull()].index\n",
    "replacement_values = np.random.choice([1.0, 0.0], size=len(nan_indices), p=[percentage_1, percentage_0])\n",
    "customer_geo.loc[nan_indices, 'Geschlecht'] = replacement_values\n",
    "\n",
    "# Prüfen, ob noch leere Felder existieren\n",
    "print(\"Gibt es noch NaN-Werte in 'Geschlecht'?\")\n",
    "print(customer_geo['Geschlecht'].isnull().sum() == 0)\n",
    "\n",
    "Kundendaten_01 = customer_geo.copy() \n",
    "Besucherdaten_01 = visitor_geo.copy()  \n",
    "\n",
    "#Kundendaten_01['Geschlecht'] = Kundendaten_01['Geschlecht'].replace({1.0: 'Männlich', 0.0: 'Weiblich'})\n",
    "#Besucherdaten_01['Geschlecht'] = Besucherdaten_01['Geschlecht'].replace({1.0: 'Männlich', 0.0: 'Weiblich'})\n",
    "print(\"Wir ersetzen alle 0.0 Werte mit 'Weiblich' und alle 1.0 Werte mit 'Männlich'.\")\n",
    "print(\n",
    ")\n",
    "print(\"Kundendaten\")\n",
    "print(Kundendaten_01)\n",
    "\n",
    "print(\"Besucherdaten\")\n",
    "print(Besucherdaten_01)\n",
    "print(\n",
    ")\n",
    "print(\"Es sind keine leeren Felder mehr vorhanden.\")\n",
    "print(\"Geschlechterbezeichnung wurde eingefügt.\")\n",
    "print(\n",
    ")\n",
    "print(\"Die Daten zum Geschlecht der Kunden und Besucher sind so verteilt\")\n",
    "print(\n",
    ")   \n",
    "fig, axs = plt.subplots(1, 2, figsize=(12, 5))\n",
    "\n",
    "# Histogramm für Kundendaten_01\n",
    "axs[0].hist(Kundendaten_01['Geschlecht'], bins=[-0.5, 0.5, 1.5], edgecolor='black')\n",
    "axs[0].set_xticks([0, 1])\n",
    "axs[0].set_xticklabels(['Weiblich', 'Männlich'])\n",
    "axs[0].set_xlabel('Geschlecht')\n",
    "axs[0].set_ylabel('Frequency')\n",
    "axs[0].set_title('Geschlecht der Kunden')\n",
    "\n",
    "# Anzahl über den Säulen platzieren\n",
    "counts_kunde, bins_kunde = np.histogram(Kundendaten_01['Geschlecht'], bins=[-0.5, 0.5, 1.5])\n",
    "for count, bin in zip(counts_kunde, bins_kunde):\n",
    "    axs[0].text(bin + 0.25, count + 0.05, str(int(count)), ha='center', va='bottom')\n",
    "\n",
    "# Histogramm für Besucherdaten_01\n",
    "axs[1].hist(Besucherdaten_01['Geschlecht'], bins=[-0.5, 0.5, 1.5], edgecolor='black')\n",
    "axs[1].set_xticks([0, 1])\n",
    "axs[1].set_xticklabels(['Weiblich', 'Männlich'])\n",
    "axs[1].set_xlabel('Geschlecht')\n",
    "axs[1].set_ylabel('Frequency')\n",
    "axs[1].set_title('Geschlecht der Besucher')\n",
    "\n",
    "# Anzahl über den Säulen platzieren\n",
    "counts_besucher, bins_besucher = np.histogram(Besucherdaten_01['Geschlecht'], bins=[-0.5, 0.5, 1.5])\n",
    "for count, bin in zip(counts_besucher, bins_besucher):\n",
    "    axs[1].text(bin + 0.25, count + 0.05, str(int(count)), ha='center', va='bottom')\n",
    "\n",
    "plt.tight_layout()\n",
    "plt.show()\n",
    "\n",
    "Kundendaten_02 = Kundendaten_01\n",
    "Besucherdaten_02 = Besucherdaten_01\n",
    "# Ersetzen der Werte in der Spalte \"Geschlecht\"\n",
    "Kundendaten_02['Geschlecht'] = Kundendaten_02['Geschlecht'].replace({0.0: 'Weiblich', 1.0: 'Männlich'})\n",
    "Besucherdaten_02['Geschlecht'] = Besucherdaten_02['Geschlecht'].replace({0.0: 'Weiblich', 1.0: 'Männlich'})"
   ]
  },
  {
   "cell_type": "code",
   "execution_count": 1366,
   "id": "b6f41382-5cef-4afe-b257-ffe2c9bea49d",
   "metadata": {
    "slideshow": {
     "slide_type": "skip"
    },
    "tags": []
   },
   "outputs": [
    {
     "name": "stdout",
     "output_type": "stream",
     "text": [
      "    KundeNr Geschlecht  Alter          Einkommen  Zeit          Niederlassung\n",
      "0     K1105   Weiblich   42.0  57149,49800655036  35,0                 Hessen\n",
      "1     K1106   Männlich   34.0  43358,56434967347  33,0                 Berlin\n",
      "2     K1107   Männlich   33.0  45748,42693618564  55,0          Niedersachsen\n",
      "3     K1108   Männlich   57.0  58633,96976384482  32,0              Thüringen\n",
      "4     K1109   Weiblich   43.0  53592,01268373325  31,0    Nordrhein-Westfalen\n",
      "..      ...        ...    ...                ...   ...                    ...\n",
      "886   K1991   Männlich   48.0  59967,31328247114  21,0                 Hessen\n",
      "887   K1992   Männlich   67.0  81521,76144297997  21,0      Baden-Württemberg\n",
      "888   K1993   Weiblich   40.0  41616,57298010873  48,0    Nordrhein-Westfalen\n",
      "889   K1994   Männlich   49.0   76602,7888395788  19,0                 Berlin\n",
      "890   K1995   Männlich   49.0  54754,52544962578  44,0  Berlin-Charlottenburg\n",
      "\n",
      "[891 rows x 6 columns]\n"
     ]
    },
    {
     "data": {
      "image/png": "[encoded data removed]",
      "text/plain": [
       "<Figure size 1200x500 with 2 Axes>"
      ]
     },
     "metadata": {},
     "output_type": "display_data"
    },
    {
     "name": "stdout",
     "output_type": "stream",
     "text": [
      "Bereinigung für Kundendaten_02:\n",
      "Untergrenze für Ausreißer in Alter: 8.5\n",
      "Obergrenze für Ausreißer in Alter: 92.5\n",
      "Ausreißer in Alter:\n",
      "    KundeNr Geschlecht  Alter  Einkommen  Zeit      Preis      Niederlassung\n",
      "38    K0039   Männlich  120.0    61857.0  52.0  104214.07  Baden-Württemberg\n",
      "493   K0494   Weiblich  100.0    88749.0  64.0  119134.23             Bayern\n",
      "\n",
      "Bereinigung für Besucherdaten_02:\n",
      "Untergrenze für Ausreißer in Alter: 10.0\n",
      "Obergrenze für Ausreißer in Alter: 90.0\n",
      "Ausreißer in Alter:\n",
      "Empty DataFrame\n",
      "Columns: [KundeNr, Geschlecht, Alter, Einkommen, Zeit, Niederlassung]\n",
      "Index: []\n",
      "\n"
     ]
    },
    {
     "data": {
      "image/png": "[encoded data removed]",
      "text/plain": [
       "<Figure size 1200x500 with 2 Axes>"
      ]
     },
     "metadata": {},
     "output_type": "display_data"
    },
    {
     "name": "stdout",
     "output_type": "stream",
     "text": [
      "KundeNr           object\n",
      "Geschlecht        object\n",
      "Alter            float64\n",
      "Einkommen         object\n",
      "Zeit              object\n",
      "Niederlassung     object\n",
      "dtype: object\n",
      "    KundeNr Geschlecht  Alter          Einkommen  Zeit          Niederlassung\n",
      "0     K1105   Weiblich   42.0  57149,49800655036  35,0                 Hessen\n",
      "1     K1106   Männlich   34.0  43358,56434967347  33,0                 Berlin\n",
      "2     K1107   Männlich   33.0  45748,42693618564  55,0          Niedersachsen\n",
      "3     K1108   Männlich   57.0  58633,96976384482  32,0              Thüringen\n",
      "4     K1109   Weiblich   43.0  53592,01268373325  31,0    Nordrhein-Westfalen\n",
      "..      ...        ...    ...                ...   ...                    ...\n",
      "886   K1991   Männlich   48.0  59967,31328247114  21,0                 Hessen\n",
      "887   K1992   Männlich   67.0  81521,76144297997  21,0      Baden-Württemberg\n",
      "888   K1993   Weiblich   40.0  41616,57298010873  48,0    Nordrhein-Westfalen\n",
      "889   K1994   Männlich   49.0   76602,7888395788  19,0                 Berlin\n",
      "890   K1995   Männlich   49.0  54754,52544962578  44,0  Berlin-Charlottenburg\n",
      "\n",
      "[891 rows x 6 columns]\n"
     ]
    }
   ],
   "source": [
    "# Histogramme erstellen\n",
    "fig, axs = plt.subplots(1, 2, figsize=(12, 5))\n",
    "\n",
    "# Histogramm für Kundendaten_02\n",
    "axs[0].hist(Kundendaten_02['Alter'], bins=np.arange(30, 131, 10), edgecolor='black')\n",
    "axs[0].set_xticks(np.arange(30, 131, 10))\n",
    "axs[0].set_xlabel('Alter')\n",
    "axs[0].set_ylabel('Frequency')\n",
    "axs[0].set_title('Alter der Kunden')\n",
    "\n",
    "# Anzahl über den Säulen platzieren\n",
    "counts_kunde, bins_kunde = np.histogram(Kundendaten_02['Alter'], bins=np.arange(30, 131, 10))\n",
    "for count, bin in zip(counts_kunde, bins_kunde[:-1]):\n",
    "    axs[0].text(bin + 5, count + 0.5, str(int(count)), ha='center', va='bottom')\n",
    "\n",
    "print(Besucherdaten_02)\n",
    "# Histogramm für Besucherdaten_02\n",
    "axs[1].hist(Besucherdaten_02['Alter'], bins=np.arange(30, 131, 10), edgecolor='black')\n",
    "axs[1].set_xticks(np.arange(30, 131, 10))\n",
    "axs[1].set_xlabel('Alter')\n",
    "axs[1].set_ylabel('Frequency')\n",
    "axs[1].set_title('Alter der Besucher')\n",
    "\n",
    "# Anzahl über den Säulen platzieren\n",
    "counts_besucher, bins_besucher = np.histogram(Besucherdaten_02['Alter'], bins=np.arange(30, 131, 10))\n",
    "for count, bin in zip(counts_besucher, bins_besucher[:-1]):\n",
    "    axs[1].text(bin + 5, count + 0.5, str(int(count)), ha='center', va='bottom')\n",
    "\n",
    "plt.tight_layout()\n",
    "plt.show()\n",
    "\n",
    "# Funktion zur Bereinigung der Ausreißer\n",
    "def remove_outliers(df, column):\n",
    "    q1 = df[column].quantile(0.25)\n",
    "    q3 = df[column].quantile(0.75)\n",
    "    iqr = q3 - q1\n",
    "\n",
    "    # Bestimmen der unteren und oberen Grenzen für Ausreißer\n",
    "    lower_bound = q1 - 1.5 * iqr\n",
    "    upper_bound = q3 + 1.5 * iqr\n",
    "\n",
    "    # Identifizieren von Ausreißern\n",
    "    outliers = df[(df[column] < lower_bound) | (df[column] > upper_bound)]\n",
    "\n",
    "    print(f\"Untergrenze für Ausreißer in {column}: {lower_bound}\")\n",
    "    print(f\"Obergrenze für Ausreißer in {column}: {upper_bound}\")\n",
    "    print(f\"Ausreißer in {column}:\")\n",
    "    print(outliers)\n",
    "    print()\n",
    "\n",
    "    # Ersetzen der Ausreißer mit dem Median\n",
    "    median = df[column].median()\n",
    "    df[column] = df[column].apply(lambda x: median if x < lower_bound or x > upper_bound else x)\n",
    "\n",
    "    return df\n",
    "\n",
    "# Bereinigung der Ausreißer in Kundendaten_02 und Besucherdaten_02\n",
    "Kundendaten_03 = Kundendaten_02.copy()\n",
    "Besucherdaten_03 = Besucherdaten_02.copy()\n",
    "\n",
    "print(\"Bereinigung für Kundendaten_02:\")\n",
    "Kundendaten_03 = remove_outliers(Kundendaten_03, 'Alter')\n",
    "\n",
    "print(\"Bereinigung für Besucherdaten_02:\")\n",
    "Besucherdaten_03 = remove_outliers(Besucherdaten_03, 'Alter')\n",
    "\n",
    "# Histogramme erstellen\n",
    "fig, axs = plt.subplots(1, 2, figsize=(12, 5))\n",
    "\n",
    "# Histogramm für Kundendaten_03\n",
    "axs[0].hist(Kundendaten_03['Alter'], bins=np.arange(30, 81, 10), edgecolor='black')\n",
    "axs[0].set_xticks(np.arange(30, 81, 10))\n",
    "axs[0].set_xlabel('Alter')\n",
    "axs[0].set_ylabel('Frequency')\n",
    "axs[0].set_title('Alter der Kunden')\n",
    "\n",
    "# Anzahl über den Säulen platzieren\n",
    "counts_kunde, bins_kunde = np.histogram(Kundendaten_03['Alter'], bins=np.arange(30, 81, 10))\n",
    "for count, bin in zip(counts_kunde, bins_kunde[:-1]):\n",
    "    axs[0].text(bin + 5, count + 0.5, str(int(count)), ha='center', va='bottom')\n",
    "\n",
    "# Histogramm für Besucherdaten_03\n",
    "axs[1].hist(Besucherdaten_03['Alter'], bins=np.arange(30, 81, 10), edgecolor='black')\n",
    "axs[1].set_xticks(np.arange(30, 81, 10))\n",
    "axs[1].set_xlabel('Alter')\n",
    "axs[1].set_ylabel('Frequency')\n",
    "axs[1].set_title('Alter der Besucher')\n",
    "\n",
    "# Anzahl über den Säulen platzieren\n",
    "counts_besucher, bins_besucher = np.histogram(Besucherdaten_03['Alter'], bins=np.arange(30, 81, 10))\n",
    "for count, bin in zip(counts_besucher, bins_besucher[:-1]):\n",
    "    axs[1].text(bin + 5, count + 0.5, str(int(count)), ha='center', va='bottom')\n",
    "\n",
    "plt.tight_layout()\n",
    "plt.show()\n",
    "print(Besucherdaten_03.dtypes)\n",
    "print(Besucherdaten_03)\n",
    "Besucherdaten_03['Zeit'] = Besucherdaten_03['Zeit'].str.replace(',', '.').astype(float)"
   ]
  },
  {
   "cell_type": "code",
   "execution_count": 1367,
   "id": "7f74b28e-3594-439a-81f8-00cec6a1a641",
   "metadata": {
    "slideshow": {
     "slide_type": "skip"
    },
    "tags": []
   },
   "outputs": [
    {
     "name": "stdout",
     "output_type": "stream",
     "text": [
      "Bereinigung für Kundendaten_04:\n",
      "Anzahl der Ausreißer in 'Einkommen': 3\n",
      "Ausreißer in 'Einkommen':\n",
      "     KundeNr Geschlecht  Alter     Einkommen  Zeit      Preis  \\\n",
      "700    K0701   Weiblich   68.0  1.000000e+09  52.0   87209.72   \n",
      "1020   K1021   Männlich   69.0  0.000000e+00  65.0  125140.05   \n",
      "1082   K1083   Weiblich   59.0 -6.284037e+04  46.0   92837.59   \n",
      "\n",
      "            Niederlassung  \n",
      "700   Nordrhein-Westfalen  \n",
      "1020               Bayern  \n",
      "1082    Baden-Württemberg  \n",
      "\n",
      "Durchschnitt der verbleibenden Daten: 58894.676657584016\n",
      "Bereinigung für Besucherdaten_04:\n",
      "Anzahl der Ausreißer in 'Einkommen': 0\n",
      "Ausreißer in 'Einkommen':\n",
      "Empty DataFrame\n",
      "Columns: [KundeNr, Geschlecht, Alter, Einkommen, Zeit, Niederlassung]\n",
      "Index: []\n",
      "\n",
      "Durchschnitt der verbleibenden Daten: 59367.93604938266\n"
     ]
    },
    {
     "data": {
      "image/png": "[encoded data removed]",
      "text/plain": [
       "<Figure size 1200x500 with 2 Axes>"
      ]
     },
     "metadata": {},
     "output_type": "display_data"
    }
   ],
   "source": [
    "Besucherdaten_03['Einkommen'] = Besucherdaten_03['Einkommen'].astype(str).str.replace(',', '.').astype(float).round(2)\n",
    "\n",
    "# Funktion zur Bereinigung der Ausreißer und zum Entfernen\n",
    "def remove_outliers(df, column, lower_bound=10000, upper_bound=150000):\n",
    "    # Sicherstellen, dass die Spalte numerisch ist\n",
    "    df[column] = pd.to_numeric(df[column], errors='coerce')\n",
    "\n",
    "    # Identifizieren von Ausreißern\n",
    "    outliers = df[(df[column] < lower_bound) | (df[column] > upper_bound)]\n",
    "    print(f\"Anzahl der Ausreißer in '{column}': {len(outliers)}\")\n",
    "    print(f\"Ausreißer in '{column}':\")\n",
    "    print(outliers)\n",
    "    print()\n",
    "\n",
    "    # Berechnen des Durchschnitts nach Entfernung der Ausreißer\n",
    "    cleaned_data = df[(df[column] >= lower_bound) & (df[column] <= upper_bound)][column]\n",
    "    mean = cleaned_data.dropna().mean()\n",
    "    print(f\"Durchschnitt der verbleibenden Daten: {mean}\")\n",
    "\n",
    "    # Ersetzen der Ausreißer durch den Durchschnitt\n",
    "    df.loc[outliers.index, column] = mean\n",
    "\n",
    "    return df\n",
    "\n",
    "# Kopieren der DataFrames für Kundendaten_04 und Besucherdaten_04\n",
    "Kundendaten_04 = Kundendaten_03.copy()\n",
    "Besucherdaten_04 = Besucherdaten_03.copy()\n",
    "\n",
    "# Bereinigung der Ausreißer für Kundendaten_04 und Besucherdaten_04\n",
    "print(\"Bereinigung für Kundendaten_04:\")\n",
    "Kundendaten_04 = remove_outliers(Kundendaten_04, 'Einkommen')\n",
    "\n",
    "print(\"Bereinigung für Besucherdaten_04:\")\n",
    "Besucherdaten_04 = remove_outliers(Besucherdaten_04, 'Einkommen')\n",
    "\n",
    "# Histogramme erstellen\n",
    "fig, axs = plt.subplots(1, 2, figsize=(12, 5))\n",
    "\n",
    "# Histogramm für Kundendaten_04\n",
    "axs[0].hist(Kundendaten_04['Einkommen'].dropna(), bins=np.arange(10000, 120000, 20000), edgecolor='black')\n",
    "axs[0].set_xticks(np.arange(10000, 120000, 20000))\n",
    "axs[0].set_xlim([10000, 110000])\n",
    "axs[0].set_xlabel('Einkommen')\n",
    "axs[0].set_ylabel('Frequency')\n",
    "axs[0].set_title('Einkommen der Kunden')\n",
    "\n",
    "# Anzahl über den Säulen platzieren\n",
    "counts_kunde, bins_kunde = np.histogram(Kundendaten_04['Einkommen'].dropna(), bins=np.arange(10000, 120000, 20000))\n",
    "for count, bin in zip(counts_kunde, bins_kunde[:-1]):\n",
    "    axs[0].text(bin + 10000, count + 0.5, str(int(count)), ha='center', va='bottom')\n",
    "\n",
    "# Histogramm für Besucherdaten_04\n",
    "axs[1].hist(Besucherdaten_04['Einkommen'].dropna(), bins=np.arange(10000, 120000, 20000), edgecolor='black')\n",
    "axs[1].set_xticks(np.arange(10000, 120000, 20000))\n",
    "axs[1].set_xlim([10000, 110000])\n",
    "axs[1].set_xlabel('Einkommen')\n",
    "axs[1].set_ylabel('Frequency')\n",
    "axs[1].set_title('Einkommen der Besucher')\n",
    "\n",
    "# Anzahl über den Säulen platzieren\n",
    "counts_besucher, bins_besucher = np.histogram(Besucherdaten_04['Einkommen'].dropna(), bins=np.arange(10000, 120000, 20000))\n",
    "for count, bin in zip(counts_besucher, bins_besucher[:-1]):\n",
    "    axs[1].text(bin + 10000, count + 0.5, str(int(count)), ha='center', va='bottom')\n",
    "\n",
    "plt.tight_layout()\n",
    "plt.show()"
   ]
  },
  {
   "cell_type": "code",
   "execution_count": 1368,
   "id": "58408681-61dc-4176-bf0d-61fa183b2ad8",
   "metadata": {
    "scrolled": true,
    "slideshow": {
     "slide_type": "skip"
    },
    "tags": []
   },
   "outputs": [
    {
     "name": "stdout",
     "output_type": "stream",
     "text": [
      "Treten unter den Values für 'Niederlassung Doppelungen auf? Ja, diese:.\n",
      "\n",
      "['Sachsen' 'NRW' 'Hessen' 'Bayern' 'Baden-Württemberg'\n",
      " 'Nordrhein-Westfalen' 'Berlin' 'Niedersachsen' 'Brandenburg' 'Thüringen'\n",
      " 'Hamburg' 'Düsseldorf' 'Berlin-Charlottenburg' 'Berlin-Mitte' 'BERLIN']\n",
      "['Hessen' 'Berlin' 'Niedersachsen' 'Thüringen' 'Nordrhein-Westfalen'\n",
      " 'Baden-Württemberg' 'Bayern' 'Hamburg' 'Sachsen' 'Brandenburg' 'BERLIN'\n",
      " 'Düsseldorf' 'NRW' 'Berlin-Charlottenburg']\n",
      "\n",
      "Wir fassen NRW; Nordrhein-westfalen unter Nordrhein-westfalen und BERLIN; Berlin-Charlottenburg; Berlin-Mitte; Berlin unter Berlin zusammen.\n",
      "\n",
      "Sind nun noch Doppelungen vorhanden?\n",
      "\n",
      "['Sachsen' 'Nordrhein-Westfalen' 'Hessen' 'Bayern' 'Baden-Württemberg'\n",
      " 'Berlin' 'Niedersachsen' 'Brandenburg' 'Thüringen' 'Hamburg' 'Düsseldorf']\n",
      "['Hessen' 'Berlin' 'Niedersachsen' 'Thüringen' 'Nordrhein-Westfalen'\n",
      " 'Baden-Württemberg' 'Bayern' 'Hamburg' 'Sachsen' 'Brandenburg'\n",
      " 'Düsseldorf']\n",
      "\n",
      "Nein. Jedes Bundesland tritt jetzt nur noch in einer Schreibweise auf.\n"
     ]
    }
   ],
   "source": [
    "print(\"Treten unter den Values für 'Niederlassung Doppelungen auf?\" \" Ja, diese:.\")\n",
    "print(\n",
    "    )\n",
    "print(Kundendaten_04['Niederlassung'].unique())\n",
    "print(Besucherdaten_04['Niederlassung'].unique())\n",
    "print(\n",
    "    )\n",
    "print(\"Wir fassen NRW; Nordrhein-westfalen unter Nordrhein-westfalen und BERLIN; Berlin-Charlottenburg; Berlin-Mitte; Berlin unter Berlin zusammen.\")\n",
    "\n",
    "Kundendaten_04['Niederlassung'] = Kundendaten_04['Niederlassung'].replace({\n",
    "    'NRW': 'Nordrhein-Westfalen',\n",
    "    'BERLIN': 'Berlin',\n",
    "    'Berlin-Charlottenburg': 'Berlin',\n",
    "    'Berlin-Mitte': 'Berlin'\n",
    "})\n",
    "\n",
    "Besucherdaten_04['Niederlassung'] = Besucherdaten_04['Niederlassung'].replace({\n",
    "    'NRW': 'Nordrhein-Westfalen',\n",
    "    'BERLIN': 'Berlin',\n",
    "    'Berlin-Charlottenburg': 'Berlin',\n",
    "    'Berlin-Mitte': 'Berlin'\n",
    "})\n",
    "print(\n",
    ")\n",
    "print(\"Sind nun noch Doppelungen vorhanden?\")\n",
    "print(\n",
    ")\n",
    "print(Kundendaten_04['Niederlassung'].unique())\n",
    "print(Besucherdaten_04['Niederlassung'].unique())  \n",
    "print(\n",
    ")\n",
    "print(\"Nein. Jedes Bundesland tritt jetzt nur noch in einer Schreibweise auf.\")"
   ]
  },
  {
   "cell_type": "code",
   "execution_count": 1369,
   "id": "642d761c-6124-40c8-b4eb-d9638f94d53b",
   "metadata": {
    "slideshow": {
     "slide_type": "skip"
    },
    "tags": []
   },
   "outputs": [
    {
     "data": {
      "image/png": "[encoded data removed]",
      "text/plain": [
       "<Figure size 1200x500 with 2 Axes>"
      ]
     },
     "metadata": {},
     "output_type": "display_data"
    },
    {
     "name": "stdout",
     "output_type": "stream",
     "text": [
      "Ausreißer in Kundendaten_04:\n",
      "    KundeNr Geschlecht  Alter  Einkommen  Zeit     Preis        Niederlassung\n",
      "204   K0205   Weiblich   35.0    32553.0  19.0  66814.09  Nordrhein-Westfalen\n",
      "383   K0384   Männlich   38.0    33666.0  13.0  50494.07  Nordrhein-Westfalen\n",
      "394   K0395   Männlich   34.0    24811.0  12.0  57541.73              Hamburg\n",
      "446   K0447   Männlich   32.0    30856.0  18.0  27934.83  Nordrhein-Westfalen\n",
      "597   K0598   Männlich   32.0    38008.0  17.0  59823.29               Berlin\n",
      "739   K0740   Männlich   33.0    27264.0  15.0  49485.54          Brandenburg\n",
      "858   K0859   Männlich   34.0    24264.0  19.0  22580.44               Berlin\n",
      "982   K0983   Männlich   33.0    38675.0  13.0  56493.40    Baden-Württemberg\n",
      "\n",
      "Ausreißer in Besucherdaten_04:\n",
      "    KundeNr Geschlecht  Alter  Einkommen  Zeit        Niederlassung\n",
      "52    K1157   Weiblich   30.0   30096.84   8.0            Thüringen\n",
      "91    K1196   Männlich   43.0   37696.63   7.0        Niedersachsen\n",
      "442   K1547   Männlich   40.0   39581.25   5.0        Niedersachsen\n",
      "518   K1623   Männlich   31.0   38298.53   3.0  Nordrhein-Westfalen\n",
      "864   K1969   Männlich   51.0   70533.44   7.0    Baden-Württemberg\n",
      "Wir setzen die Untergrenze in Sachen 'Zeit' auf 20 bzw. 10 Wir glauben,\n",
      "dass diese niedrig aber für Einzelfälle Realistisch ist.\n",
      "Die Obergrenze Setzen wir mit 90 hoch. Wir begründen dies damit,\n",
      "dass es nicht umbedingt ungweöhnlich ist bei einem Autokauf genau nachfragende und\n",
      "länger überlegende Kunden im Geschäft zu haben.\n",
      "Wir setzen die Obergrenze in erster linie um Messfehler in extremer höhe heraus zu filtern.\n"
     ]
    },
    {
     "data": {
      "image/png": "[encoded data removed]",
      "text/plain": [
       "<Figure size 1200x500 with 2 Axes>"
      ]
     },
     "metadata": {},
     "output_type": "display_data"
    }
   ],
   "source": [
    "# Histogramme erstellen\n",
    "fig, axs = plt.subplots(1, 2, figsize=(12, 5))\n",
    "\n",
    "# Histogramm für Kundendaten_04\n",
    "axs[0].hist(Kundendaten_04['Zeit'], bins=np.arange(10, 91, 20), edgecolor='black')\n",
    "axs[0].set_xticks(np.arange(10, 91, 20))\n",
    "axs[0].set_xlabel('Zeit')\n",
    "axs[0].set_ylabel('Frequency')\n",
    "axs[0].set_title('Zeit der Kunden')\n",
    "\n",
    "# Anzahl über den Säulen platzieren\n",
    "counts_kunde, bins_kunde = np.histogram(Kundendaten_04['Zeit'], bins=np.arange(10, 91, 20))\n",
    "for count, bin in zip(counts_kunde, bins_kunde[:-1]):\n",
    "    axs[0].text(bin + 10, count + 0.5, str(int(count)), ha='center', va='bottom')\n",
    "\n",
    "# Histogramm für Besucherdaten_04 (nach Konvertierung)\n",
    "axs[1].hist(Besucherdaten_04['Zeit'], bins=np.arange(10, 91, 20), edgecolor='black')\n",
    "axs[1].set_xticks(np.arange(10, 91, 20))\n",
    "axs[1].set_xlabel('Zeit')\n",
    "axs[1].set_ylabel('Frequency')\n",
    "axs[1].set_title('Zeit der Besucher')\n",
    "\n",
    "# Anzahl über den Säulen platzieren\n",
    "counts_besucher, bins_besucher = np.histogram(Besucherdaten_04['Zeit'], bins=np.arange(10, 91, 20))\n",
    "for count, bin in zip(counts_besucher, bins_besucher[:-1]):\n",
    "    axs[1].text(bin + 10, count + 0.5, str(int(count)), ha='center', va='bottom')\n",
    "\n",
    "plt.tight_layout()\n",
    "plt.show()\n",
    "# Funktion zur Bereinigung der Ausreißer und Ersetzung durch Durchschnitt\n",
    "def remove_outliers_and_replace_with_mean(df, column, lower_bound, upper_bound):\n",
    "    # Sicherstellen, dass die Spalte numerisch ist\n",
    "    df[column] = pd.to_numeric(df[column], errors='coerce')\n",
    "    \n",
    "    # Identifizieren von Ausreißern\n",
    "    outliers = df[(df[column] < lower_bound) | (df[column] > upper_bound)]\n",
    "    \n",
    "    # Entfernen der Ausreißer\n",
    "    df_no_outliers = df[(df[column] >= lower_bound) & (df[column] <= upper_bound)]\n",
    "    \n",
    "    # Berechnung des Durchschnitts ohne Ausreißer\n",
    "    mean_value = df_no_outliers[column].mean()\n",
    "    \n",
    "    # Ersetzen der Ausreißer durch den Durchschnitt\n",
    "    df.loc[outliers.index, column] = mean_value\n",
    "    \n",
    "    return df, outliers\n",
    "\n",
    "# Bereinigung der Ausreißer in der Spalte 'Zeit'\n",
    "Kundendaten_05, outliers_kunden = remove_outliers_and_replace_with_mean(Kundendaten_04.copy(), 'Zeit', 20, 90)\n",
    "Besucherdaten_05, outliers_besucher = remove_outliers_and_replace_with_mean(Besucherdaten_04.copy(), 'Zeit', 10, 90)\n",
    "\n",
    "# Anzeigen der Ausreißer\n",
    "print(\"Ausreißer in Kundendaten_04:\")\n",
    "print(outliers_kunden)\n",
    "print(\"\\nAusreißer in Besucherdaten_04:\")\n",
    "print(outliers_besucher)\n",
    "\n",
    "print(\"Wir setzen die Untergrenze in Sachen 'Zeit' auf 20 bzw. 10 Wir glauben,\")\n",
    "print(\"dass diese niedrig aber für Einzelfälle Realistisch ist.\")\n",
    "print(\"Die Obergrenze Setzen wir mit 90 hoch. Wir begründen dies damit,\") \n",
    "print(\"dass es nicht umbedingt ungweöhnlich ist bei einem Autokauf genau nachfragende und\")\n",
    "print(\"länger überlegende Kunden im Geschäft zu haben.\")\n",
    "print(\"Wir setzen die Obergrenze in erster linie um Messfehler in extremer höhe heraus zu filtern.\")\n",
    "\n",
    "# Histogramme erstellen\n",
    "fig, axs = plt.subplots(1, 2, figsize=(12, 5))\n",
    "\n",
    "# Histogramm für Kundendaten_04\n",
    "axs[0].hist(Kundendaten_05['Zeit'], bins=np.arange(10, 91, 20), edgecolor='black')\n",
    "axs[0].set_xticks(np.arange(10, 91, 20))\n",
    "axs[0].set_xlabel('Zeit')\n",
    "axs[0].set_ylabel('Frequency')\n",
    "axs[0].set_title('Zeit der Kunden')\n",
    "\n",
    "# Anzahl über den Säulen platzieren\n",
    "counts_kunde, bins_kunde = np.histogram(Kundendaten_04['Zeit'], bins=np.arange(10, 91, 20))\n",
    "for count, bin in zip(counts_kunde, bins_kunde[:-1]):\n",
    "    axs[0].text(bin + 10, count + 0.5, str(int(count)), ha='center', va='bottom')\n",
    "\n",
    "# Histogramm für Besucherdaten_04 (nach Konvertierung)\n",
    "axs[1].hist(Besucherdaten_05['Zeit'], bins=np.arange(10, 91, 20), edgecolor='black')\n",
    "axs[1].set_xticks(np.arange(10, 91, 20))\n",
    "axs[1].set_xlabel('Zeit')\n",
    "axs[1].set_ylabel('Frequency')\n",
    "axs[1].set_title('Zeit der Besucher')\n",
    "\n",
    "# Anzahl über den Säulen platzieren\n",
    "counts_besucher, bins_besucher = np.histogram(Besucherdaten_04['Zeit'], bins=np.arange(10, 91, 20))\n",
    "for count, bin in zip(counts_besucher, bins_besucher[:-1]):\n",
    "    axs[1].text(bin + 10, count + 0.5, str(int(count)), ha='center', va='bottom')\n",
    "\n",
    "plt.tight_layout()\n",
    "plt.show()"
   ]
  },
  {
   "cell_type": "code",
   "execution_count": 1370,
   "id": "a16848d0-2539-4a96-ad0a-5551541fcd7a",
   "metadata": {
    "slideshow": {
     "slide_type": "skip"
    },
    "tags": []
   },
   "outputs": [
    {
     "name": "stdout",
     "output_type": "stream",
     "text": [
      "     KundeNr Geschlecht  Alter  Einkommen  Zeit      Preis  \\\n",
      "0      K0001   Männlich   68.0    89437.0  62.0  114481.90   \n",
      "1      K0002   Männlich   58.0    65271.0  44.0  106258.99   \n",
      "2      K0003   Männlich   44.0    48195.0  29.0   85705.57   \n",
      "3      K0004   Weiblich   37.0    48957.0  36.0   76412.36   \n",
      "4      K0005   Weiblich   50.0    56621.0  40.0   92898.67   \n",
      "...      ...        ...    ...        ...   ...        ...   \n",
      "1099   K1100   Männlich   61.0    82624.0  59.0  134755.80   \n",
      "1100   K1101   Männlich   39.0    37905.0  32.0   61717.86   \n",
      "1101   K1102   Männlich   39.0    40159.0  37.0   67170.69   \n",
      "1102   K1103   Weiblich   48.0    45545.0  30.0   75700.83   \n",
      "1103   K1104   Männlich   63.0    80414.0  49.0  101554.64   \n",
      "\n",
      "            Niederlassung  \n",
      "0                 Sachsen  \n",
      "1     Nordrhein-Westfalen  \n",
      "2                  Hessen  \n",
      "3                  Bayern  \n",
      "4                  Bayern  \n",
      "...                   ...  \n",
      "1099               Berlin  \n",
      "1100               Hessen  \n",
      "1101        Niedersachsen  \n",
      "1102               Berlin  \n",
      "1103              Sachsen  \n",
      "\n",
      "[1104 rows x 7 columns]\n"
     ]
    },
    {
     "data": {
      "image/png": "[encoded data removed]",
      "text/plain": [
       "<Figure size 800x600 with 1 Axes>"
      ]
     },
     "metadata": {},
     "output_type": "display_data"
    },
    {
     "data": {
      "image/png": "[encoded data removed]",
      "text/plain": [
       "<Figure size 800x600 with 1 Axes>"
      ]
     },
     "metadata": {},
     "output_type": "display_data"
    }
   ],
   "source": [
    "print(Kundendaten_05)\n",
    "# Original-Histogramm der Spalte 'Preis'\n",
    "plt.figure(figsize=(8, 6))\n",
    "plt.hist(Kundendaten_05['Preis'], bins=20, edgecolor='black')\n",
    "plt.xlabel('Preis')\n",
    "plt.ylabel('Frequency')\n",
    "plt.title('Histogramm Preis Kunden')\n",
    "\n",
    "# Anzahl über den Säulen platzieren\n",
    "for bin_edge in plt.gca().patches:\n",
    "    plt.gca().annotate(f\"{int(bin_edge.get_height())}\", \n",
    "                       xy=(bin_edge.get_x() + bin_edge.get_width() / 2, bin_edge.get_height()), \n",
    "                       xytext=(0, 3),  # 3 points vertical offset\n",
    "                       textcoords=\"offset points\",\n",
    "                       ha='center', va='bottom')\n",
    "\n",
    "plt.show()\n",
    "\n",
    "# Berechnung der Quartile und des IQR\n",
    "q1 = Kundendaten_05['Preis'].quantile(0.25)\n",
    "q3 = Kundendaten_05['Preis'].quantile(0.75)\n",
    "iqr = q3 - q1\n",
    "\n",
    "# Bestimmen der unteren und oberen Grenzen für Ausreißer\n",
    "lower_bound = q1 - 1.5 * iqr\n",
    "upper_bound = q3 + 1.5 * iqr\n",
    "\n",
    "# Identifizierung der Ausreißer\n",
    "outliers = Kundendaten_05[(Kundendaten_05['Preis'] < lower_bound) | (Kundendaten_05['Preis'] > upper_bound)]\n",
    "\n",
    "# Ersetzen der Ausreißer mit dem Median\n",
    "median_price = Kundendaten_05['Preis'].median()\n",
    "Kundendaten_bereinigt = Kundendaten_05.copy()  # Kopie des DataFrame für die Bereinigung\n",
    "Kundendaten_bereinigt.loc[outliers.index, 'Preis'] = median_price\n",
    "\n",
    "# Histogramm der bereinigten Preise\n",
    "plt.figure(figsize=(8, 6))\n",
    "plt.hist(Kundendaten_bereinigt['Preis'], bins=20, edgecolor='black')\n",
    "plt.xlabel('Preis')\n",
    "plt.ylabel('Frequency')\n",
    "plt.title('Histogramm Preis Kunden')\n",
    "\n",
    "# Anzahl über den Säulen platzieren\n",
    "for bin_edge in plt.gca().patches:\n",
    "    plt.gca().annotate(f\"{int(bin_edge.get_height())}\", \n",
    "                       xy=(bin_edge.get_x() + bin_edge.get_width() / 2, bin_edge.get_height()), \n",
    "                       xytext=(0, 3),  # 3 points vertical offset\n",
    "                       textcoords=\"offset points\",\n",
    "                       ha='center', va='bottom')\n",
    "\n",
    "plt.show()"
   ]
  },
  {
   "cell_type": "code",
   "execution_count": 1371,
   "id": "dfd7e69a-b603-433f-87e0-f00e7cf43685",
   "metadata": {
    "slideshow": {
     "slide_type": "skip"
    },
    "tags": []
   },
   "outputs": [
    {
     "name": "stdout",
     "output_type": "stream",
     "text": [
      "     KundeNr Geschlecht  Alter  Einkommen  Zeit      Preis  \\\n",
      "0      K0001   Männlich   68.0    89437.0  62.0  114481.90   \n",
      "1      K0002   Männlich   58.0    65271.0  44.0  106258.99   \n",
      "2      K0003   Männlich   44.0    48195.0  29.0   85705.57   \n",
      "3      K0004   Weiblich   37.0    48957.0  36.0   76412.36   \n",
      "4      K0005   Weiblich   50.0    56621.0  40.0   92898.67   \n",
      "...      ...        ...    ...        ...   ...        ...   \n",
      "1099   K1100   Männlich   61.0    82624.0  59.0  134755.80   \n",
      "1100   K1101   Männlich   39.0    37905.0  32.0   61717.86   \n",
      "1101   K1102   Männlich   39.0    40159.0  37.0   67170.69   \n",
      "1102   K1103   Weiblich   48.0    45545.0  30.0   75700.83   \n",
      "1103   K1104   Männlich   63.0    80414.0  49.0  101554.64   \n",
      "\n",
      "            Niederlassung  \n",
      "0                 Sachsen  \n",
      "1     Nordrhein-Westfalen  \n",
      "2                  Hessen  \n",
      "3                  Bayern  \n",
      "4                  Bayern  \n",
      "...                   ...  \n",
      "1099               Berlin  \n",
      "1100               Hessen  \n",
      "1101        Niedersachsen  \n",
      "1102               Berlin  \n",
      "1103              Sachsen  \n",
      "\n",
      "[1104 rows x 7 columns]\n",
      "    KundeNr Geschlecht  Alter  Einkommen  Zeit        Niederlassung\n",
      "0     K1105   Weiblich   42.0   57149.50  35.0               Hessen\n",
      "1     K1106   Männlich   34.0   43358.56  33.0               Berlin\n",
      "2     K1107   Männlich   33.0   45748.43  55.0        Niedersachsen\n",
      "3     K1108   Männlich   57.0   58633.97  32.0            Thüringen\n",
      "4     K1109   Weiblich   43.0   53592.01  31.0  Nordrhein-Westfalen\n",
      "..      ...        ...    ...        ...   ...                  ...\n",
      "886   K1991   Männlich   48.0   59967.31  21.0               Hessen\n",
      "887   K1992   Männlich   67.0   81521.76  21.0    Baden-Württemberg\n",
      "888   K1993   Weiblich   40.0   41616.57  48.0  Nordrhein-Westfalen\n",
      "889   K1994   Männlich   49.0   76602.79  19.0               Berlin\n",
      "890   K1995   Männlich   49.0   54754.53  44.0               Berlin\n",
      "\n",
      "[891 rows x 6 columns]\n"
     ]
    }
   ],
   "source": [
    "print(Kundendaten_bereinigt)\n",
    "Besucherdaten_bereinigt = Besucherdaten_05\n",
    "print(Besucherdaten_bereinigt)\n"
   ]
  },
  {
   "cell_type": "markdown",
   "id": "cdbb2a95-6ed3-4874-ae2a-1ed0d69b94e5",
   "metadata": {
    "slideshow": {
     "slide_type": "skip"
    }
   },
   "source": [
    "# Prüfen, ob alle Werte ganzzahlig sind in den Spalten \"Alter\" und \"Zeit\"\n",
    "if Kundendaten_bereinigt['Alter'].apply(float.is_integer).all():\n",
    "    Kundendaten_bereinigt['Alter'] = Kundendaten_bereinigt['Alter'].astype(int)\n",
    "    \n",
    "if Besucherdaten_bereinigt['Zeit'].dropna().apply(float.is_integer).all():\n",
    "    Besucherdaten_bereinigt['Zeit'] = Besucherdaten_bereinigt['Zeit'].astype(int)\n",
    "\n",
    "# Überprüfen der Änderungen\n",
    "print(\"Datentypen nach der Konvertierung:\")\n",
    "print(\"Kundendaten_bereinigt:\")\n",
    "print(Kundendaten_bereinigt.dtypes)\n",
    "\n",
    "print(\"\\nBesucherdaten_bereinigt:\")\n",
    "print(Besucherdaten_bereinigt.dtypes)"
   ]
  },
  {
   "cell_type": "code",
   "execution_count": 1372,
   "id": "8c48fbab-fa1c-4249-805e-ad804bac6d24",
   "metadata": {
    "slideshow": {
     "slide_type": "skip"
    },
    "tags": []
   },
   "outputs": [
    {
     "name": "stdout",
     "output_type": "stream",
     "text": [
      "Index(['index', 'KundeNr', 'Geschlecht', 'Alter', 'Einkommen', 'Zeit', 'Preis',\n",
      "       'Niederlassung'],\n",
      "      dtype='object')\n",
      "Index(['index', 'KundeNr', 'Geschlecht', 'Alter', 'Einkommen', 'Zeit',\n",
      "       'Niederlassung'],\n",
      "      dtype='object')\n",
      "        Geschlecht  Alter  Einkommen        Niederlassung  Zeit      Preis\n",
      "KundeNr                                                                   \n",
      "K0001     Männlich   68.0   89437.00              Sachsen  62.0  114481.90\n",
      "K0002     Männlich   58.0   65271.00  Nordrhein-Westfalen  44.0  106258.99\n",
      "K0003     Männlich   44.0   48195.00               Hessen  29.0   85705.57\n",
      "K0004     Weiblich   37.0   48957.00               Bayern  36.0   76412.36\n",
      "K0005     Weiblich   50.0   56621.00               Bayern  40.0   92898.67\n",
      "...            ...    ...        ...                  ...   ...        ...\n",
      "K1991     Männlich   48.0   59967.31               Hessen  21.0        NaN\n",
      "K1992     Männlich   67.0   81521.76    Baden-Württemberg  21.0        NaN\n",
      "K1993     Weiblich   40.0   41616.57  Nordrhein-Westfalen  48.0        NaN\n",
      "K1994     Männlich   49.0   76602.79               Berlin  19.0        NaN\n",
      "K1995     Männlich   49.0   54754.53               Berlin  44.0        NaN\n",
      "\n",
      "[1995 rows x 6 columns]\n",
      "        Geschlecht  Alter  Einkommen        Niederlassung  Zeit      Preis\n",
      "KundeNr                                                                   \n",
      "K0001     Männlich   68.0    89437.0              Sachsen  62.0  114481.90\n",
      "K0002     Männlich   58.0    65271.0  Nordrhein-Westfalen  44.0  106258.99\n",
      "K0003     Männlich   44.0    48195.0               Hessen  29.0   85705.57\n",
      "K0004     Weiblich   37.0    48957.0               Bayern  36.0   76412.36\n",
      "K0005     Weiblich   50.0    56621.0               Bayern  40.0   92898.67\n",
      "...            ...    ...        ...                  ...   ...        ...\n",
      "K1100     Männlich   61.0    82624.0               Berlin  59.0  134755.80\n",
      "K1101     Männlich   39.0    37905.0               Hessen  32.0   61717.86\n",
      "K1102     Männlich   39.0    40159.0        Niedersachsen  37.0   67170.69\n",
      "K1103     Weiblich   48.0    45545.0               Berlin  30.0   75700.83\n",
      "K1104     Männlich   63.0    80414.0              Sachsen  49.0  101554.64\n",
      "\n",
      "[1104 rows x 6 columns]\n",
      "        Geschlecht  Alter  Einkommen        Niederlassung  Zeit\n",
      "KundeNr                                                        \n",
      "K1105     Weiblich   42.0   57149.50               Hessen  35.0\n",
      "K1106     Männlich   34.0   43358.56               Berlin  33.0\n",
      "K1107     Männlich   33.0   45748.43        Niedersachsen  55.0\n",
      "K1108     Männlich   57.0   58633.97            Thüringen  32.0\n",
      "K1109     Weiblich   43.0   53592.01  Nordrhein-Westfalen  31.0\n",
      "...            ...    ...        ...                  ...   ...\n",
      "K1991     Männlich   48.0   59967.31               Hessen  21.0\n",
      "K1992     Männlich   67.0   81521.76    Baden-Württemberg  21.0\n",
      "K1993     Weiblich   40.0   41616.57  Nordrhein-Westfalen  48.0\n",
      "K1994     Männlich   49.0   76602.79               Berlin  19.0\n",
      "K1995     Männlich   49.0   54754.53               Berlin  44.0\n",
      "\n",
      "[891 rows x 5 columns]\n"
     ]
    }
   ],
   "source": [
    "# Falls notwendig, den Index zurücksetzen und 'KundeNr' als normale Spalte hinzufügen\n",
    "Kundendaten_bereinigt.reset_index(inplace=True)\n",
    "Besucherdaten_bereinigt.reset_index(inplace=True)\n",
    "\n",
    "# Optional: Nochmals überprüfen, ob 'KundeNr' jetzt eine Spalte ist\n",
    "print(Kundendaten_bereinigt.columns)\n",
    "print(Besucherdaten_bereinigt.columns)\n",
    "\n",
    "# Setzen Sie 'KundeNr' als Index, wenn erforderlich\n",
    "Kundendaten_bereinigt.set_index('KundeNr', inplace=True)\n",
    "Besucherdaten_bereinigt.set_index('KundeNr', inplace=True)\n",
    "\n",
    "# Auswahl der gewünschten Spalten\n",
    "Kundendaten_bereinigt = Kundendaten_bereinigt[['Geschlecht', 'Alter', 'Einkommen', 'Niederlassung', 'Zeit', 'Preis']]\n",
    "Besucherdaten_bereinigt = Besucherdaten_bereinigt[['Geschlecht', 'Alter', 'Einkommen', 'Niederlassung', 'Zeit']]\n",
    "\n",
    "# Zusammenführen der DataFrames\n",
    "df = pd.concat([Kundendaten_bereinigt, Besucherdaten_bereinigt])\n",
    "Kunden = Kundendaten_bereinigt\n",
    "Besucher = Besucherdaten_bereinigt\n",
    "\n",
    "# Ausgabe des resultierenden DataFrames\n",
    "print(df)\n",
    "print(Kunden)\n",
    "print(Besucher)"
   ]
  },
  {
   "cell_type": "code",
   "execution_count": 1373,
   "id": "1384ecde-5758-4814-940d-eb84304aa705",
   "metadata": {
    "slideshow": {
     "slide_type": "skip"
    },
    "tags": []
   },
   "outputs": [
    {
     "name": "stdout",
     "output_type": "stream",
     "text": [
      "DataFrame wurde in 'meine_datei.csv' exportiert.\n"
     ]
    }
   ],
   "source": [
    "# DataFrame in eine CSV-Datei exportieren\n",
    "df.to_csv('df_final.csv')\n",
    "Kunden.to_csv('Kunden_d.csv')\n",
    "Besucher.to_csv('Besucher_d.csv')\n",
    "# Bestätigung\n",
    "print(\"DataFrame wurde in 'meine_datei.csv' exportiert.\")"
   ]
  },
  {
   "cell_type": "markdown",
   "id": "66d0c522",
   "metadata": {
    "slideshow": {
     "slide_type": "slide"
    }
   },
   "source": [
    "# Kennzahlen\n",
    "\n",
    "   ## F1 Gesamtanzahl der Verkäufe\n",
    "   \n",
    "   ## F3 Gesamtumsatz\n",
    "\n",
    "   ## F2 Günstigstes Auto\n",
    "   ## Teuerstes Auto\n",
    "   ## Durchschnittlicher Preis"
   ]
  },
  {
   "cell_type": "code",
   "execution_count": 1374,
   "id": "d58e481f-2e96-4959-9467-0cfdbbb37367",
   "metadata": {
    "slideshow": {
     "slide_type": "skip"
    },
    "tags": []
   },
   "outputs": [],
   "source": [
    "# Aufgabe 1: Wie viele Autos wurden verkauft?"
   ]
  },
  {
   "cell_type": "code",
   "execution_count": 1375,
   "id": "72206564-8ce6-479f-8346-68fa5c66c3ff",
   "metadata": {
    "slideshow": {
     "slide_type": "skip"
    },
    "tags": []
   },
   "outputs": [],
   "source": [
    "verkaufte_Autos = df[df['Preis'].notna()]\n",
    "Anzahl_verkaufter_Autos = len(verkaufte_Autos)"
   ]
  },
  {
   "cell_type": "code",
   "execution_count": 1376,
   "id": "cce99414-cc84-4cff-8760-5848594426c0",
   "metadata": {
    "slideshow": {
     "slide_type": "skip"
    },
    "tags": []
   },
   "outputs": [],
   "source": [
    "# Aufgabe 2: Was ist der Höchst-, Mindest- und Durchschnittspreis der verkauften Autos?"
   ]
  },
  {
   "cell_type": "code",
   "execution_count": 1377,
   "id": "330703ae-37a5-43c5-82a0-9d0cafafa01a",
   "metadata": {
    "scrolled": true,
    "slideshow": {
     "slide_type": "skip"
    },
    "tags": []
   },
   "outputs": [],
   "source": [
    "# Min, Max und Mean der Spalte 'Preis'\n",
    "preis_min = df['Preis'].min()\n",
    "preis_max = df['Preis'].max()\n",
    "preis_mean = df['Preis'].mean()\n"
   ]
  },
  {
   "cell_type": "code",
   "execution_count": 1378,
   "id": "851d5160",
   "metadata": {
    "hideCode": true,
    "slideshow": {
     "slide_type": "skip"
    }
   },
   "outputs": [
    {
     "name": "stdout",
     "output_type": "stream",
     "text": [
      "Es wurden 1104 Autos verkauft.\n"
     ]
    }
   ],
   "source": [
    "print(f\"Es wurden {Anzahl_verkaufter_Autos} Autos verkauft.\")"
   ]
  },
  {
   "cell_type": "code",
   "execution_count": 1379,
   "id": "14dc2f85-cbea-46e6-a4ff-0d660bf16ecc",
   "metadata": {
    "slideshow": {
     "slide_type": "skip"
    },
    "tags": []
   },
   "outputs": [],
   "source": [
    "# Aufgabe 3: Wie hoch war der Gesamtumsatz?"
   ]
  },
  {
   "cell_type": "code",
   "execution_count": 1380,
   "id": "f7a0a618-85cc-44aa-9814-c079a7bd31aa",
   "metadata": {
    "slideshow": {
     "slide_type": "skip"
    },
    "tags": []
   },
   "outputs": [
    {
     "name": "stdout",
     "output_type": "stream",
     "text": [
      "Der Gesamtumsatz liegt bei: 98152068.52€\n"
     ]
    }
   ],
   "source": [
    "Gesamtumsatz = df['Preis'].sum()\n",
    "print(f\"Der Gesamtumsatz liegt bei: {Gesamtumsatz:.2f}€\")"
   ]
  },
  {
   "cell_type": "code",
   "execution_count": 1381,
   "id": "a0c71331",
   "metadata": {
    "hideCode": true,
    "slideshow": {
     "slide_type": "subslide"
    }
   },
   "outputs": [
    {
     "name": "stdout",
     "output_type": "stream",
     "text": [
      "Es wurden 1104 Autos verkauft.\n",
      "\n",
      "Der Gesamtumsatz liegt bei: 98152068.52€\n",
      "\n",
      "Der Mindestpreis ist:          21471.65€\n",
      "Der Maximalpreis ist:         149827.25€\n",
      "Der Durchschnittspreis ist:    88905.86€\n"
     ]
    }
   ],
   "source": [
    "print(f\"Es wurden {Anzahl_verkaufter_Autos} Autos verkauft.\")\n",
    "print(\n",
    ")\n",
    "print(f\"Der Gesamtumsatz liegt bei: {Gesamtumsatz:.2f}€\")\n",
    "print(\n",
    ")\n",
    "print(f\"Der Mindestpreis ist:          {preis_min:}€\")\n",
    "print(f\"Der Maximalpreis ist:         {preis_max:}€\")\n",
    "print(f\"Der Durchschnittspreis ist:    {preis_mean:.2f}€\")"
   ]
  },
  {
   "cell_type": "code",
   "execution_count": 1382,
   "id": "5f2adc26-25bd-40e4-9d42-5ab014a8aba7",
   "metadata": {
    "slideshow": {
     "slide_type": "skip"
    },
    "tags": []
   },
   "outputs": [
    {
     "name": "stdout",
     "output_type": "stream",
     "text": [
      "Der Gesamtumsatz liegt bei: 98,152,068.52€\n"
     ]
    }
   ],
   "source": [
    "## Analyse des Gesamtumsatzes\n",
    "\n",
    "# In dieser Analyse betrachten wir den Gesamtumsatz aus den Verkaufsdaten\n",
    "\n",
    "# Berechnung des Gesamtumsatzes\n",
    "Gesamtumsatz = df['Preis'].sum()\n",
    "\n",
    "# Ausgabe des Ergebnisses\n",
    "print(f\"Der Gesamtumsatz liegt bei: {Gesamtumsatz:,.2f}€\")"
   ]
  },
  {
   "cell_type": "markdown",
   "id": "1c039b27-76c4-40a2-8259-c051c9d9342f",
   "metadata": {
    "slideshow": {
     "slide_type": "slide"
    },
    "tags": []
   },
   "source": [
    "\n",
    "# Kennzahlen Standorte\n",
    "\n",
    "   ### F4 Verkaufzahlen pro Bundesland\n",
    "   \n",
    "   ### F5 Durchschnitt Umsatz der Bundesländer\n",
    "\n",
    "   ### F6 Bundesland mit dem teuerstes Auto\n"
   ]
  },
  {
   "cell_type": "code",
   "execution_count": 1383,
   "id": "ce69c4ae-2476-4b38-8b8d-43e3f4dade39",
   "metadata": {
    "slideshow": {
     "slide_type": "skip"
    },
    "tags": []
   },
   "outputs": [],
   "source": [
    "# Aufgabe 4: Wie viele Autos wurden pro Bundesland verkauft?"
   ]
  },
  {
   "cell_type": "code",
   "execution_count": 1384,
   "id": "f440b6b9-c91f-4ccc-843f-5877bab24a64",
   "metadata": {
    "slideshow": {
     "slide_type": "skip"
    },
    "tags": []
   },
   "outputs": [],
   "source": [
    "# Niederlassungen gruppieren, dann zählen \n",
    "df_numbers = df.groupby(df.Niederlassung).count()\n",
    "df_numbers = df_numbers.Preis\n"
   ]
  },
  {
   "cell_type": "code",
   "execution_count": 1385,
   "id": "e03b113a",
   "metadata": {
    "hideCode": true,
    "slideshow": {
     "slide_type": "subslide"
    }
   },
   "outputs": [
    {
     "name": "stdout",
     "output_type": "stream",
     "text": [
      "Niederlassung\n",
      "Baden-Württemberg      205\n",
      "Bayern                 188\n",
      "Berlin                 126\n",
      "Brandenburg             37\n",
      "Düsseldorf               1\n",
      "Hamburg                 43\n",
      "Hessen                  96\n",
      "Niedersachsen           96\n",
      "Nordrhein-Westfalen    174\n",
      "Sachsen                 89\n",
      "Thüringen               49\n",
      "Name: Preis, dtype: int64\n"
     ]
    }
   ],
   "source": [
    "# Aufgabe 4: Wie viele Autos wurden pro Bundesland verkauft?\n",
    "print(df_numbers)"
   ]
  },
  {
   "cell_type": "code",
   "execution_count": 1386,
   "id": "2fd6b3d5-cf08-4620-bc9b-4e973b494578",
   "metadata": {
    "slideshow": {
     "slide_type": "skip"
    },
    "tags": []
   },
   "outputs": [],
   "source": [
    "# Aufgabe 5: Wie hoch war der durchschnittliche Umsatz pro Bundesland?"
   ]
  },
  {
   "cell_type": "code",
   "execution_count": 1387,
   "id": "2bfe4c53-358e-49e6-bd6d-a0ef8312b387",
   "metadata": {
    "hideCode": true,
    "slideshow": {
     "slide_type": "skip"
    },
    "tags": [
     "hide_code"
    ]
   },
   "outputs": [
    {
     "data": {
      "text/plain": [
       "Niederlassung\n",
       "Hamburg                 85549.50\n",
       "Hessen                  85864.93\n",
       "Brandenburg             86673.64\n",
       "Niedersachsen           87165.91\n",
       "Nordrhein-Westfalen     88451.76\n",
       "Bayern                  89344.31\n",
       "Sachsen                 89455.08\n",
       "Berlin                  89584.98\n",
       "Thüringen               90816.99\n",
       "Baden-Württemberg       90969.56\n",
       "Düsseldorf             120215.50\n",
       "Name: Preis, dtype: float64"
      ]
     },
     "execution_count": 1387,
     "metadata": {},
     "output_type": "execute_result"
    }
   ],
   "source": [
    "# Niederlassungen gruppieren, Durchschnittspreis nehmen, Werte sortieren\n",
    "df.groupby(df.Niederlassung) \\\n",
    "    .Preis.mean() \\\n",
    "    .sort_values() \\\n",
    "    .round(2)"
   ]
  },
  {
   "cell_type": "code",
   "execution_count": 1388,
   "id": "080abb6f",
   "metadata": {
    "hideCode": true,
    "slideshow": {
     "slide_type": "subslide"
    },
    "tags": [
     "hide_code"
    ]
   },
   "outputs": [
    {
     "data": {
      "image/png": "[encoded data removed]",
      "text/plain": [
       "<Figure size 1000x600 with 1 Axes>"
      ]
     },
     "metadata": {},
     "output_type": "display_data"
    }
   ],
   "source": [
    "# Berechnen des durchschnittlichen Umsatzes pro Bundesland und Sortieren\n",
    "avg_umsatz = df.groupby(df.Niederlassung).Preis.mean().sort_values().round(2)\n",
    "\n",
    "# Erstellen des Balkendiagramms\n",
    "fig, ax = plt.subplots(figsize=(10, 6))\n",
    "avg_umsatz.plot(kind=\"bar\", ax=ax, color='skyblue', title=\"Durchnittlicher Umsatz pro Bundesland\")\n",
    "plt.xlabel(\"Bundesland\", color=\"r\")\n",
    "plt.ylabel(\"Umsatz\", color=\"r\")\n",
    "\n",
    "# Werte über den Säulen anzeigen\n",
    "for index, value in enumerate(avg_umsatz):\n",
    "    ax.text(index, value, f'{value}', ha='center', va='bottom', fontsize=10, color='black')\n",
    "\n",
    "# Diagramm anzeigen\n",
    "plt.show()"
   ]
  },
  {
   "cell_type": "code",
   "execution_count": 1389,
   "id": "711a2567-324c-4670-85f6-917c489a7ec4",
   "metadata": {
    "slideshow": {
     "slide_type": "skip"
    },
    "tags": []
   },
   "outputs": [],
   "source": [
    "# Aufgabe 6: In welchem Bundesland wurde das teuerste Auto verkauft?"
   ]
  },
  {
   "cell_type": "code",
   "execution_count": 1390,
   "id": "23a7c1ee-dbcb-486b-884a-5836ad7b17f6",
   "metadata": {
    "slideshow": {
     "slide_type": "skip"
    },
    "tags": []
   },
   "outputs": [
    {
     "name": "stdout",
     "output_type": "stream",
     "text": [
      "        Geschlecht  Alter  Einkommen        Niederlassung  Zeit      Preis\n",
      "KundeNr                                                                   \n",
      "K0001     Männlich   68.0    89437.0              Sachsen  62.0  114481.90\n",
      "K0002     Männlich   58.0    65271.0  Nordrhein-Westfalen  44.0  106258.99\n",
      "K0003     Männlich   44.0    48195.0               Hessen  29.0   85705.57\n",
      "K0004     Weiblich   37.0    48957.0               Bayern  36.0   76412.36\n",
      "K0005     Weiblich   50.0    56621.0               Bayern  40.0   92898.67\n",
      "...            ...    ...        ...                  ...   ...        ...\n",
      "K1100     Männlich   61.0    82624.0               Berlin  59.0  134755.80\n",
      "K1101     Männlich   39.0    37905.0               Hessen  32.0   61717.86\n",
      "K1102     Männlich   39.0    40159.0        Niedersachsen  37.0   67170.69\n",
      "K1103     Weiblich   48.0    45545.0               Berlin  30.0   75700.83\n",
      "K1104     Männlich   63.0    80414.0              Sachsen  49.0  101554.64\n",
      "\n",
      "[1104 rows x 6 columns]\n"
     ]
    }
   ],
   "source": [
    "print(Kunden)"
   ]
  },
  {
   "cell_type": "code",
   "execution_count": 1391,
   "id": "1803d0ca-d62a-4178-954f-29b1e619c4cc",
   "metadata": {
    "hideCode": true,
    "slideshow": {
     "slide_type": "subslide"
    },
    "tags": []
   },
   "outputs": [
    {
     "name": "stdout",
     "output_type": "stream",
     "text": [
      "Bundesland mit dem teuersten Auto: Sachsen\n"
     ]
    }
   ],
   "source": [
    "state_most_expensive = df.loc[df['Preis'].idxmax()]['Niederlassung']\n",
    "print(f\"Bundesland mit dem teuersten Auto: {state_most_expensive}\")"
   ]
  },
  {
   "cell_type": "markdown",
   "id": "94377844",
   "metadata": {
    "slideshow": {
     "slide_type": "slide"
    }
   },
   "source": [
    "# Kunden\n",
    "\n",
    "### F7 Gender Count\n",
    "\n",
    "### F8 Durchschnittsalter\n",
    "\n",
    "### F9 Durchschnittseinkommen\n",
    "\n",
    "### F13 Kunden ohne Bankkreditfinanzierung"
   ]
  },
  {
   "cell_type": "code",
   "execution_count": 1392,
   "id": "907f40ee-df51-45f7-b613-f2f12412cd6d",
   "metadata": {
    "slideshow": {
     "slide_type": "skip"
    },
    "tags": []
   },
   "outputs": [],
   "source": [
    "# Aufgabe 7: Haben mehr Frauen oder mehr Männer unsere Autos gekauft?"
   ]
  },
  {
   "cell_type": "code",
   "execution_count": 1393,
   "id": "470a7463-63f1-482f-bcc8-c28b89e1a576",
   "metadata": {
    "hideCode": true,
    "slideshow": {
     "slide_type": "subslide"
    },
    "tags": []
   },
   "outputs": [
    {
     "name": "stdout",
     "output_type": "stream",
     "text": [
      "Anzahl der verkauften Autos nach Geschlecht:\n",
      "Männlich    705\n",
      "Weiblich    399\n",
      "Name: Geschlecht, dtype: int64\n"
     ]
    }
   ],
   "source": [
    "gender_counts = Kunden['Geschlecht'].value_counts().rename({0: 'Frauen', 1: 'Männer'})\n",
    "print(\"Anzahl der verkauften Autos nach Geschlecht:\")\n",
    "print(gender_counts)"
   ]
  },
  {
   "cell_type": "code",
   "execution_count": 1394,
   "id": "284668c8-f688-4ae1-a61d-0bffc3ff11d6",
   "metadata": {
    "slideshow": {
     "slide_type": "skip"
    },
    "tags": []
   },
   "outputs": [],
   "source": [
    "# Aufgabe 8: Wie hoch ist das Durchschnittsalter unserer Kunden? Wie hoch ist das Durchschnittsalter unserer Besucher?"
   ]
  },
  {
   "cell_type": "code",
   "execution_count": 1395,
   "id": "7ec5391c-99ff-455f-9497-41739b9508f1",
   "metadata": {
    "hideCode": true,
    "slideshow": {
     "slide_type": "subslide"
    },
    "tags": []
   },
   "outputs": [
    {
     "name": "stdout",
     "output_type": "stream",
     "text": [
      "Durchschnittsalter der Kunden: 50.38\n",
      "Durchschnittsalter der Besucher: 49.88\n"
     ]
    }
   ],
   "source": [
    "\n",
    "avg_age_customers = Kunden['Alter'].mean()\n",
    "avg_age_visitors = Besucher['Alter'].mean()\n",
    "\n",
    "print(f\"Durchschnittsalter der Kunden: {avg_age_customers:.2f}\")\n",
    "print(f\"Durchschnittsalter der Besucher: {avg_age_visitors:.2f}\")"
   ]
  },
  {
   "cell_type": "code",
   "execution_count": 1396,
   "id": "7492b397-b37b-4605-b8a6-436dc9b2d8c6",
   "metadata": {
    "slideshow": {
     "slide_type": "skip"
    },
    "tags": []
   },
   "outputs": [],
   "source": [
    "# Aufgabe 9: Wie hoch ist das Durchschnittseinkommen unserer Kunden? Wie hoch ist das Durchschnittseinkommen unserer Besucher?"
   ]
  },
  {
   "cell_type": "code",
   "execution_count": 1397,
   "id": "298445fe-58b0-49b1-b537-f287deca86bc",
   "metadata": {
    "hideCode": true,
    "slideshow": {
     "slide_type": "subslide"
    },
    "tags": []
   },
   "outputs": [
    {
     "name": "stdout",
     "output_type": "stream",
     "text": [
      "Durchschnittseinkommen der Kunden: 58894.68\n",
      "Durchschnittseinkommen der Besucher: 59367.94\n"
     ]
    }
   ],
   "source": [
    "avg_income_customers = Kunden['Einkommen'].mean()\n",
    "avg_income_visitors = Besucher['Einkommen'].mean()\n",
    "print(f\"Durchschnittseinkommen der Kunden: {avg_income_customers:.2f}\")\n",
    "print(f\"Durchschnittseinkommen der Besucher: {avg_income_visitors:.2f}\")"
   ]
  },
  {
   "cell_type": "code",
   "execution_count": 1398,
   "id": "799ae457-1a75-4379-a316-abfe2481e9b2",
   "metadata": {
    "slideshow": {
     "slide_type": "skip"
    },
    "tags": []
   },
   "outputs": [],
   "source": [
    "# Aufgabe 13: Wie viele Kunden haben keinen Bankkredit aufgenommen, um das Auto zu kaufen?\n",
    "#             Kundenabteilung hat vergessen, diese Informationen zu erfassen. Wir können davon aus\n",
    "#             gehen, dass die Kunden mit einem Jahreseinkommen höher als der Autopreis keinen Kredit\n",
    "#             aufgenommen haben."
   ]
  },
  {
   "cell_type": "code",
   "execution_count": 1399,
   "id": "b2ccc8ee-db2a-4f25-bf94-9a3a67b6b543",
   "metadata": {
    "hideCode": true,
    "slideshow": {
     "slide_type": "subslide"
    },
    "tags": []
   },
   "outputs": [
    {
     "name": "stdout",
     "output_type": "stream",
     "text": [
      "Anzahl der Kunden ohne Bankkredit: 6\n"
     ]
    }
   ],
   "source": [
    "# Einkommen > Preis = Anzahl\n",
    "no_credit_customers = Kunden[Kunden['Einkommen'] > Kunden['Preis']].shape[0]\n",
    "print(f\"Anzahl der Kunden ohne Bankkredit: {no_credit_customers}\")"
   ]
  },
  {
   "cell_type": "markdown",
   "id": "bbc67d9b",
   "metadata": {
    "slideshow": {
     "slide_type": "slide"
    }
   },
   "source": [
    "# Kundenverhalten\n",
    "\n",
    "### F10 Welch's T-Statistik und P-Wert\n",
    "\n",
    "### F11 Korreletionskoeffizienten\n",
    "\n",
    "### F12 Zeit ist normalverteilt"
   ]
  },
  {
   "cell_type": "code",
   "execution_count": 1400,
   "id": "dfe2acf2-d739-4d46-a417-72302101cca2",
   "metadata": {
    "slideshow": {
     "slide_type": "skip"
    },
    "tags": []
   },
   "outputs": [],
   "source": [
    "# Aufgabe 10: Bestimmen Sie, ob es einen statistisch signifikanten Unterschied zwischen dem Durchschnittseinkommen der Kunden \n",
    "#             und dem Durchschnittseinkommen der Besucher gibt."
   ]
  },
  {
   "cell_type": "code",
   "execution_count": 1401,
   "id": "0b6627eb-8118-4e67-ba73-c81aacdb6cb5",
   "metadata": {
    "hideCode": true,
    "slideshow": {
     "slide_type": "subslide"
    },
    "tags": []
   },
   "outputs": [
    {
     "name": "stdout",
     "output_type": "stream",
     "text": [
      "Welch's T-Statistik: -0.6439497470996066\n",
      "P-Wert: 0.5196849017097575\n",
      "\n",
      "Interpretation: \n",
      "Durchnittseinkommen von Kunden und Besucher weichen mittelstark voneinander ab | T-Test\n",
      "Allerdings nicht mit ausreichend hoher Signifikanz. P-Wert\n",
      "Eine Abweichung höher als die Varianz tritt nur in ca. 50% der Fälle auf\n"
     ]
    }
   ],
   "source": [
    "from scipy.stats import ttest_ind\n",
    "\n",
    "# Beispielgruppen aus den beiden DataFrames\n",
    "einkommen_der_kunden = Kunden['Einkommen']\n",
    "einkommen_der_besucher = Besucher['Einkommen']\n",
    "\n",
    "# Welch-T-Test\n",
    "t_stat, p_value = ttest_ind(einkommen_der_kunden, einkommen_der_besucher, equal_var=False)\n",
    "\n",
    "print(f\"Welch's T-Statistik: {t_stat}\")\n",
    "print(f\"P-Wert: {p_value}\")\n",
    "print(\n",
    ")\n",
    "print(\"Interpretation: \")\n",
    "print(\"Durchnittseinkommen von Kunden und Besucher weichen mittelstark voneinander ab | T-Test\")\n",
    "print(\"Allerdings nicht mit ausreichend hoher Signifikanz. P-Wert\")\n",
    "print(\"Eine Abweichung höher als die Varianz tritt nur in ca. 50% der Fälle auf\")"
   ]
  },
  {
   "cell_type": "code",
   "execution_count": 1402,
   "id": "0e34f6c4-8ca0-4add-8ca6-747751bda173",
   "metadata": {
    "slideshow": {
     "slide_type": "skip"
    },
    "tags": []
   },
   "outputs": [],
   "source": [
    "# Aufgabe 11: Wie hoch ist die Korrelation (Pearson-Korrelation) zwischen den Variablen Alter, Einkommen, Preis und Zeit?"
   ]
  },
  {
   "cell_type": "code",
   "execution_count": 1403,
   "id": "721f42c3-6782-46b8-a9d5-acaf04fa1379",
   "metadata": {
    "hideCode": true,
    "slideshow": {
     "slide_type": "subslide"
    },
    "tags": []
   },
   "outputs": [
    {
     "name": "stdout",
     "output_type": "stream",
     "text": [
      "Interpretation der jeweiligen Korrelationskoefizienten\n",
      "\n",
      "Alter - Einkommen korreliert mit: 0.79\n",
      "positive Korrelation. Ältere Personen tendieren dazu, höhere Einkommen zu haben.\n",
      "\n",
      "Alter - Preis korreliert mit 0.78\n",
      "starke positive Korrelation. Ältere Personen neigen dazu, höhere Preise zu zahlen.\n",
      "\n",
      "Alter - Zeit korreliert mit 0.3\n",
      "schwache positive Korrelation. Ältere Personen bleiben tendenziell etwas länger im Geschäft.\n",
      "\n",
      "Einkommen - Preis korreliert mit 0.89\n",
      "sehr starke positive Korrelation. Personen mit höherem Einkommen tendieren dazu, höhere Preise zu zahlen.\n",
      "\n",
      "Einkommen - Preis korreliert mit 0.39\n",
      "moderate positive Korrelation. Personen mit höherem Einkommen bleiben tendenziell länger im Geschäft.\n",
      "\n",
      "Preis - Zeit korreliert mit 0.69\n",
      "moderate positive Korrelation. Höhere Preise korrelieren mit einer tendenziell höheren Vorgangszeit.\n"
     ]
    }
   ],
   "source": [
    "correlation_matrix = df[['Alter', 'Einkommen', 'Preis', 'Zeit']].corr(method='pearson')\n",
    "\n",
    "# Ausgabe der Korrelationsmatrix\n",
    "#print(\"Korrelationsmatrix (Pearson-Korrelation):\")\n",
    "#print(correlation_matrix)\n",
    "correlation_list = correlation_matrix.values.flatten().tolist()\n",
    "correlation_list = [round(coeff, 2) for coeff in correlation_list]\n",
    "#print(\n",
    "#)\n",
    "#print(\"Hinweis: Die Funktion .corr('method='pearson') ignoriert alle Wertepaare bei denen ein Wert NaN ist.\")\n",
    "#print(\n",
    "#)\n",
    "alter_einkommen = \"positive Korrelation. Ältere Personen tendieren dazu, höhere Einkommen zu haben.\"\n",
    "alter_preis = \"starke positive Korrelation. Ältere Personen neigen dazu, höhere Preise zu zahlen.\"\n",
    "alter_zeit = \"schwache positive Korrelation. Ältere Personen bleiben tendenziell etwas länger im Geschäft.\"\n",
    "einkommen_preis = \"sehr starke positive Korrelation. Personen mit höherem Einkommen tendieren dazu, höhere Preise zu zahlen.\"\n",
    "einkommen_zeit = \"moderate positive Korrelation. Personen mit höherem Einkommen bleiben tendenziell länger im Geschäft.\"\n",
    "preis_zeit = \"moderate positive Korrelation. Höhere Preise korrelieren mit einer tendenziell höheren Vorgangszeit.\"\n",
    "\n",
    "KE_AE = correlation_list[1]\n",
    "KE_AP = correlation_list[2]\n",
    "KE_AZ = correlation_list[3]\n",
    "KE_EP = correlation_list[6]\n",
    "KE_EZ = correlation_list[7]\n",
    "KE_PZ = correlation_list[11]\n",
    "print(\"Interpretation der jeweiligen Korrelationskoefizienten\")\n",
    "print(\n",
    ")\n",
    "print(\"Alter - Einkommen korreliert mit:\", KE_AE)\n",
    "print(alter_einkommen)\n",
    "print(\n",
    ")\n",
    "print(\"Alter - Preis korreliert mit\", KE_AP)\n",
    "print(alter_preis)\n",
    "print(\n",
    ")\n",
    "print(\"Alter - Zeit korreliert mit\", KE_AZ)\n",
    "print(alter_zeit)\n",
    "print(\n",
    ")\n",
    "print(\"Einkommen - Preis korreliert mit\", KE_EP)\n",
    "print(einkommen_preis)\n",
    "print(\n",
    ")\n",
    "print(\"Einkommen - Preis korreliert mit\", KE_EZ)\n",
    "print(einkommen_zeit)\n",
    "print(\n",
    ")\n",
    "print(\"Preis - Zeit korreliert mit\", KE_PZ)\n",
    "print(preis_zeit)"
   ]
  },
  {
   "cell_type": "code",
   "execution_count": 1404,
   "id": "57ead820-f832-41dd-92b9-e60323a450bb",
   "metadata": {
    "slideshow": {
     "slide_type": "skip"
    },
    "tags": []
   },
   "outputs": [],
   "source": [
    "# Aufgabe 12: Testen Sie grafisch mit Hilfe eines qq-Plots, ob die Variable Zeit approximativ normalverteilt ist."
   ]
  },
  {
   "cell_type": "code",
   "execution_count": 1405,
   "id": "f2e4dda1-0b73-447b-98b0-75f5abeeba40",
   "metadata": {
    "hideCode": false,
    "scrolled": false,
    "slideshow": {
     "slide_type": "subslide"
    },
    "tags": []
   },
   "outputs": [
    {
     "name": "stdout",
     "output_type": "stream",
     "text": [
      "Die Variable Zeit ist nahezu perfekt normalverteilt.\n"
     ]
    },
    {
     "data": {
      "image/png": "[encoded data removed]",
      "text/plain": [
       "<Figure size 640x480 with 1 Axes>"
      ]
     },
     "metadata": {},
     "output_type": "display_data"
    }
   ],
   "source": [
    "# QQ-Plot für die Variable \"Zeit\"\n",
    "zeit = df['Zeit'].dropna()\n",
    "\n",
    "# QQ-Plot erstellen\n",
    "stats.probplot(zeit, dist=\"norm\", plot=plt)\n",
    "plt.title('QQ-Plot für die Variable \"Zeit\"')\n",
    "plt.xlabel('Theoretische Quantile')\n",
    "plt.ylabel('Empirische Quantile')\n",
    "plt.grid(True)\n",
    "\n",
    "print(\"Die Variable Zeit ist nahezu perfekt normalverteilt.\")"
   ]
  },
  {
   "cell_type": "markdown",
   "id": "4ee14977",
   "metadata": {
    "slideshow": {
     "slide_type": "slide"
    }
   },
   "source": [
    "# Vorausschau\n",
    "\n",
    "### F14 Sozioökonomische Einflüsse auf Kaufpreis\n",
    "\n",
    "### F15 Prognose für Kaufpreis Beispiele\n",
    "\n",
    "### F16 Variable welche den Preis des Autos beeinflussen\n",
    "\n",
    "### F17 Regression, die die Wahrscheinlichkeit des Kaufs eines Autos ermittelt\n",
    "\n",
    "### F18 Beispiel für die Wahrscheinlichkeit eines Kaufs"
   ]
  },
  {
   "cell_type": "code",
   "execution_count": 1406,
   "id": "c66740e2-7db2-4638-8444-fa92e5a21acb",
   "metadata": {
    "slideshow": {
     "slide_type": "skip"
    },
    "tags": []
   },
   "outputs": [],
   "source": [
    "# Aufgabe 14: Welche sozioökonomischen Merkmale beeinflussen den Kaufpreis? Wählen Sie die geeigneten\n",
    "#             unabhängigen Variablen aus und schätzen Sie eine Regression unter Verwendung der geeigneten Methode."
   ]
  },
  {
   "cell_type": "code",
   "execution_count": 1407,
   "id": "64443742-09b8-4823-87c8-efce0bf13b11",
   "metadata": {
    "hideCode": true,
    "scrolled": true,
    "slideshow": {
     "slide_type": "subslide"
    },
    "tags": []
   },
   "outputs": [
    {
     "name": "stdout",
     "output_type": "stream",
     "text": [
      "                            OLS Regression Results                            \n",
      "==============================================================================\n",
      "Dep. Variable:                  Preis   R-squared:                       0.821\n",
      "Model:                            OLS   Adj. R-squared:                  0.821\n",
      "Method:                 Least Squares   F-statistic:                     1687.\n",
      "Date:                Thu, 27 Jun 2024   Prob (F-statistic):               0.00\n",
      "Time:                        23:16:17   Log-Likelihood:                -11766.\n",
      "No. Observations:                1104   AIC:                         2.354e+04\n",
      "Df Residuals:                    1100   BIC:                         2.356e+04\n",
      "Df Model:                           3                                         \n",
      "Covariance Type:            nonrobust                                         \n",
      "==============================================================================\n",
      "                 coef    std err          t      P>|t|      [0.025      0.975]\n",
      "------------------------------------------------------------------------------\n",
      "const       1433.3439   1410.874      1.016      0.310   -1334.963    4201.651\n",
      "Alter        490.0621     40.066     12.231      0.000     411.448     568.676\n",
      "Einkommen      1.0440      0.029     35.976      0.000       0.987       1.101\n",
      "Geschlecht  2035.0582    646.079      3.150      0.002     767.371    3302.745\n",
      "==============================================================================\n",
      "Omnibus:                       19.267   Durbin-Watson:                   2.024\n",
      "Prob(Omnibus):                  0.000   Jarque-Bera (JB):               29.395\n",
      "Skew:                          -0.152   Prob(JB):                     4.14e-07\n",
      "Kurtosis:                       3.739   Cond. No.                     2.81e+05\n",
      "==============================================================================\n",
      "\n",
      "Notes:\n",
      "[1] Standard Errors assume that the covariance matrix of the errors is correctly specified.\n",
      "[2] The condition number is large, 2.81e+05. This might indicate that there are\n",
      "strong multicollinearity or other numerical problems.\n",
      "R-squared: 82,2% der Varianz im Preis werden von denn Variablen Alter, Einkommen und Geschlecht erklärt.\n",
      "Const: Sind alle drei Varablen Null, liegt der Preis bei 1429.29€\n",
      "Für jedes zusätzliche Jahr im Alter steigt der Preis um 490.15€\n",
      "Das Geschlecht hat signifikanten Einfluss auf den Preis.\n",
      "Eine Erhöhung des Einkommens führt zu einer signifikanten Preissteigerung.\n"
     ]
    }
   ],
   "source": [
    "geschlecht_mapping = {'Weiblich': 0.0, 'Männlich': 1.0}\n",
    "Kunden['Geschlecht'] = Kunden['Geschlecht'].map(geschlecht_mapping).astype(float)\n",
    "X = Kunden[['Alter', 'Einkommen', 'Geschlecht']]\n",
    "y = Kunden['Preis']\n",
    "X = sm.add_constant(X)  # Add constant term for intercept\n",
    "model = sm.OLS(y, X).fit()\n",
    "print(model.summary())\n",
    "\n",
    "print(\"R-squared: 82,2% der Varianz im Preis werden von denn Variablen Alter, Einkommen und Geschlecht erklärt.\")\n",
    "print(\"Const: Sind alle drei Varablen Null, liegt der Preis bei 1429.29€\")\n",
    "print(\"Für jedes zusätzliche Jahr im Alter steigt der Preis um 490.15€\")\n",
    "print(\"Das Geschlecht hat signifikanten Einfluss auf den Preis.\")\n",
    "print(\"Eine Erhöhung des Einkommens führt zu einer signifikanten Preissteigerung.\")"
   ]
  },
  {
   "cell_type": "code",
   "execution_count": 1408,
   "id": "4c67853e-ef68-45cf-81ec-c6c10e0ac492",
   "metadata": {
    "slideshow": {
     "slide_type": "skip"
    },
    "tags": []
   },
   "outputs": [],
   "source": [
    "# Aufgabe 15: Prognostizieren Sie den Kaufpreis eines unserer Autos für einen männlichen Kunden im\n",
    "#             Alter von 32 Jahren mit einem Einkommen von 30.000 Euro. Prognostizieren Sie den Kaufpreis\n",
    "#             preis eines unserer Autos für einen männlichen Kunden im Alter von 51 Jahren und mit\n",
    "#             einem Einkommen von 54.000 Euro."
   ]
  },
  {
   "cell_type": "code",
   "execution_count": 1409,
   "id": "7ea52d25",
   "metadata": {
    "hideCode": true,
    "slideshow": {
     "slide_type": "subslide"
    }
   },
   "outputs": [
    {
     "name": "stdout",
     "output_type": "stream",
     "text": [
      "Vorhergesagter Preis für einen männlichen Kunden im Alter von 32 Jahren mit einem Einkommen von 30.000 Euro: 50470.41€\n",
      "Vorhergesagter Preis für einen männlichen Kunden im Alter von 51 Jahren und mit einem Einkommen von 54.000 Euro: 84837.60€\n"
     ]
    }
   ],
   "source": [
    "# Vorhersagen für neue Kunden\n",
    "new_customer_1 = pd.DataFrame({'const': [1], 'Alter': [32], 'Einkommen': [30000], 'Geschlecht': [1]})\n",
    "new_customer_2 = pd.DataFrame({'const': [1], 'Alter': [51], 'Einkommen': [54000], 'Geschlecht': [1]})\n",
    "\n",
    "# Konstante hinzufügen (so dass die Spaltenreihenfolge und Namen übereinstimmen)\n",
    "new_customer_1 = new_customer_1[['const', 'Alter', 'Einkommen', 'Geschlecht']]\n",
    "new_customer_2 = new_customer_2[['const', 'Alter', 'Einkommen', 'Geschlecht']]\n",
    "\n",
    "# Preisvorhersagen\n",
    "predicted_price_1 = model.predict(new_customer_1)\n",
    "predicted_price_2 = model.predict(new_customer_2)\n",
    "\n",
    "print(f\"Vorhergesagter Preis für einen männlichen Kunden im Alter von 32 Jahren mit einem Einkommen von 30.000 Euro: {predicted_price_1[0]:.2f}€\")\n",
    "print(f\"Vorhergesagter Preis für einen männlichen Kunden im Alter von 51 Jahren und mit einem Einkommen von 54.000 Euro: {predicted_price_2[0]:.2f}€\")"
   ]
  },
  {
   "cell_type": "code",
   "execution_count": 1410,
   "id": "620e37da-8ae7-4001-b98c-abf9caeec70a",
   "metadata": {
    "slideshow": {
     "slide_type": "skip"
    },
    "tags": []
   },
   "outputs": [],
   "source": [
    "# Aufgabe 16: In Bezug auf die vorherige Frage: Welche Variable beeinflusst den Preis des Autos am\n",
    "#             meisten? Mit anderen Worten: Die von Ihnen geschätzten Regressionskoeffizienten müssen\n",
    "#             direkt vergleichbar sein. Wie sollen die Daten transformiert werden?"
   ]
  },
  {
   "cell_type": "code",
   "execution_count": 1411,
   "id": "e1c6201a",
   "metadata": {
    "hideCode": true,
    "scrolled": true,
    "slideshow": {
     "slide_type": "subslide"
    }
   },
   "outputs": [
    {
     "name": "stdout",
     "output_type": "stream",
     "text": [
      "Einfluss der Variablen auf den Preis des Autos:\n",
      "Alter         5817.20\n",
      "Einkommen    17288.25\n",
      "dtype: float64\n",
      "Interpretation der Regressionskoeffizienten:\n",
      "\n",
      "Einfluss von Alter:\n",
      "Dies bedeutet, dass für jedes zusätzliche Jahr im Alter des Kunden der vorhergesagte Preis des Autos um 5817.20€\n",
      "Euro steigt, wenn alle anderen Variablen (wie Einkommen) konstant gehalten werden.\n",
      "\n",
      "Einfluss von Einkommen:\n",
      "Dies bedeutet, dass für jede zusätzliche Einheit des Einkommens (in der gleichen Einheit wie die Daten, z.B. Euro) der \n",
      "vorhergesagte Preis des Autos um 17288.25 Euro steigt, wenn alle anderen Variablen (wie Alter) konstant gehalten werden.\n"
     ]
    }
   ],
   "source": [
    "# Filtere für männliche Kunden\n",
    "male_customers = Kunden[Kunden['Geschlecht'] == 'Männlich']\n",
    "\n",
    "# Normalisiere die Daten für die Regressionsanalyse\n",
    "scaler = StandardScaler()\n",
    "Kunden[['Alter', 'Einkommen']] = scaler.fit_transform(Kunden[['Alter', 'Einkommen']])\n",
    "\n",
    "# Passe ein lineares Regressionsmodell an die normalisierten Daten an\n",
    "X = Kunden[['Alter', 'Einkommen']]\n",
    "y = Kunden['Preis']\n",
    "model_normalized = LinearRegression()\n",
    "model_normalized.fit(X, y)\n",
    "\n",
    "# Erhalte die Regressionskoeffizienten\n",
    "coefficients = model_normalized.coef_\n",
    "\n",
    "# Bestimme den Einfluss jeder Variable\n",
    "influence = pd.Series(coefficients, index=['Alter', 'Einkommen'])\n",
    "\n",
    "# Runde die Einflusswerte auf zwei Nachkommastellen\n",
    "influence = influence.round(2)\n",
    "\n",
    "print(\"Einfluss der Variablen auf den Preis des Autos:\")\n",
    "print(influence)\n",
    "\n",
    "print(\"Interpretation der Regressionskoeffizienten:\")\n",
    "print(\n",
    ")\n",
    "print(\"Einfluss von Alter:\")\n",
    "print(\"Dies bedeutet, dass für jedes zusätzliche Jahr im Alter des Kunden der vorhergesagte Preis des Autos um 5817.20€\")\n",
    "print(\"Euro steigt, wenn alle anderen Variablen (wie Einkommen) konstant gehalten werden.\")\n",
    "print(\n",
    ")\n",
    "print(\"Einfluss von Einkommen:\")\n",
    "print(\"Dies bedeutet, dass für jede zusätzliche Einheit des Einkommens (in der gleichen Einheit wie die Daten, z.B. Euro) der \")\n",
    "print(\"vorhergesagte Preis des Autos um 17288.25 Euro steigt, wenn alle anderen Variablen (wie Alter) konstant gehalten werden.\")\n"
   ]
  },
  {
   "cell_type": "code",
   "execution_count": 1412,
   "id": "8992b49d-135a-4e36-a0e5-964d8189761c",
   "metadata": {
    "slideshow": {
     "slide_type": "skip"
    },
    "tags": []
   },
   "outputs": [],
   "source": [
    "# Aufgabe 17: Schätzen Sie eine Regression, die die Wahrscheinlichkeit des Kaufs eines Autos ermittelt.\n",
    "#             Verwenden Sie die entsprechende Methode."
   ]
  },
  {
   "cell_type": "code",
   "execution_count": 1413,
   "id": "daf69c9b",
   "metadata": {
    "slideshow": {
     "slide_type": "skip"
    }
   },
   "outputs": [
    {
     "ename": "KeyError",
     "evalue": "'Purchase'",
     "output_type": "error",
     "traceback": [
      "\u001b[1;31m---------------------------------------------------------------------------\u001b[0m",
      "\u001b[1;31mKeyError\u001b[0m                                  Traceback (most recent call last)",
      "\u001b[1;32m~\\anaconda3\\lib\\site-packages\\pandas\\core\\indexes\\base.py\u001b[0m in \u001b[0;36mget_loc\u001b[1;34m(self, key, method, tolerance)\u001b[0m\n\u001b[0;32m   3620\u001b[0m             \u001b[1;32mtry\u001b[0m\u001b[1;33m:\u001b[0m\u001b[1;33m\u001b[0m\u001b[1;33m\u001b[0m\u001b[0m\n\u001b[1;32m-> 3621\u001b[1;33m                 \u001b[1;32mreturn\u001b[0m \u001b[0mself\u001b[0m\u001b[1;33m.\u001b[0m\u001b[0m_engine\u001b[0m\u001b[1;33m.\u001b[0m\u001b[0mget_loc\u001b[0m\u001b[1;33m(\u001b[0m\u001b[0mcasted_key\u001b[0m\u001b[1;33m)\u001b[0m\u001b[1;33m\u001b[0m\u001b[1;33m\u001b[0m\u001b[0m\n\u001b[0m\u001b[0;32m   3622\u001b[0m             \u001b[1;32mexcept\u001b[0m \u001b[0mKeyError\u001b[0m \u001b[1;32mas\u001b[0m \u001b[0merr\u001b[0m\u001b[1;33m:\u001b[0m\u001b[1;33m\u001b[0m\u001b[1;33m\u001b[0m\u001b[0m\n",
      "\u001b[1;32m~\\anaconda3\\lib\\site-packages\\pandas\\_libs\\index.pyx\u001b[0m in \u001b[0;36mpandas._libs.index.IndexEngine.get_loc\u001b[1;34m()\u001b[0m\n",
      "\u001b[1;32m~\\anaconda3\\lib\\site-packages\\pandas\\_libs\\index.pyx\u001b[0m in \u001b[0;36mpandas._libs.index.IndexEngine.get_loc\u001b[1;34m()\u001b[0m\n",
      "\u001b[1;32mpandas\\_libs\\hashtable_class_helper.pxi\u001b[0m in \u001b[0;36mpandas._libs.hashtable.PyObjectHashTable.get_item\u001b[1;34m()\u001b[0m\n",
      "\u001b[1;32mpandas\\_libs\\hashtable_class_helper.pxi\u001b[0m in \u001b[0;36mpandas._libs.hashtable.PyObjectHashTable.get_item\u001b[1;34m()\u001b[0m\n",
      "\u001b[1;31mKeyError\u001b[0m: 'Purchase'",
      "\nThe above exception was the direct cause of the following exception:\n",
      "\u001b[1;31mKeyError\u001b[0m                                  Traceback (most recent call last)",
      "\u001b[1;32m~\\AppData\\Local\\Temp\\ipykernel_13908\\718364570.py\u001b[0m in \u001b[0;36m<module>\u001b[1;34m\u001b[0m\n\u001b[0;32m      1\u001b[0m \u001b[1;31m# Define the features and target variable for logistic regression\u001b[0m\u001b[1;33m\u001b[0m\u001b[1;33m\u001b[0m\u001b[0m\n\u001b[0;32m      2\u001b[0m \u001b[0mX_log\u001b[0m \u001b[1;33m=\u001b[0m \u001b[0mKunden\u001b[0m\u001b[1;33m[\u001b[0m\u001b[1;33m[\u001b[0m\u001b[1;34m'Alter'\u001b[0m\u001b[1;33m,\u001b[0m \u001b[1;34m'Einkommen'\u001b[0m\u001b[1;33m,\u001b[0m \u001b[1;34m'Zeit'\u001b[0m\u001b[1;33m]\u001b[0m\u001b[1;33m]\u001b[0m\u001b[1;33m\u001b[0m\u001b[1;33m\u001b[0m\u001b[0m\n\u001b[1;32m----> 3\u001b[1;33m \u001b[0my_log\u001b[0m \u001b[1;33m=\u001b[0m \u001b[0mKunden\u001b[0m\u001b[1;33m[\u001b[0m\u001b[1;34m'Purchase'\u001b[0m\u001b[1;33m]\u001b[0m\u001b[1;33m\u001b[0m\u001b[1;33m\u001b[0m\u001b[0m\n\u001b[0m\u001b[0;32m      4\u001b[0m \u001b[1;33m\u001b[0m\u001b[0m\n\u001b[0;32m      5\u001b[0m \u001b[1;31m# Normalize the features\u001b[0m\u001b[1;33m\u001b[0m\u001b[1;33m\u001b[0m\u001b[0m\n",
      "\u001b[1;32m~\\anaconda3\\lib\\site-packages\\pandas\\core\\frame.py\u001b[0m in \u001b[0;36m__getitem__\u001b[1;34m(self, key)\u001b[0m\n\u001b[0;32m   3503\u001b[0m             \u001b[1;32mif\u001b[0m \u001b[0mself\u001b[0m\u001b[1;33m.\u001b[0m\u001b[0mcolumns\u001b[0m\u001b[1;33m.\u001b[0m\u001b[0mnlevels\u001b[0m \u001b[1;33m>\u001b[0m \u001b[1;36m1\u001b[0m\u001b[1;33m:\u001b[0m\u001b[1;33m\u001b[0m\u001b[1;33m\u001b[0m\u001b[0m\n\u001b[0;32m   3504\u001b[0m                 \u001b[1;32mreturn\u001b[0m \u001b[0mself\u001b[0m\u001b[1;33m.\u001b[0m\u001b[0m_getitem_multilevel\u001b[0m\u001b[1;33m(\u001b[0m\u001b[0mkey\u001b[0m\u001b[1;33m)\u001b[0m\u001b[1;33m\u001b[0m\u001b[1;33m\u001b[0m\u001b[0m\n\u001b[1;32m-> 3505\u001b[1;33m             \u001b[0mindexer\u001b[0m \u001b[1;33m=\u001b[0m \u001b[0mself\u001b[0m\u001b[1;33m.\u001b[0m\u001b[0mcolumns\u001b[0m\u001b[1;33m.\u001b[0m\u001b[0mget_loc\u001b[0m\u001b[1;33m(\u001b[0m\u001b[0mkey\u001b[0m\u001b[1;33m)\u001b[0m\u001b[1;33m\u001b[0m\u001b[1;33m\u001b[0m\u001b[0m\n\u001b[0m\u001b[0;32m   3506\u001b[0m             \u001b[1;32mif\u001b[0m \u001b[0mis_integer\u001b[0m\u001b[1;33m(\u001b[0m\u001b[0mindexer\u001b[0m\u001b[1;33m)\u001b[0m\u001b[1;33m:\u001b[0m\u001b[1;33m\u001b[0m\u001b[1;33m\u001b[0m\u001b[0m\n\u001b[0;32m   3507\u001b[0m                 \u001b[0mindexer\u001b[0m \u001b[1;33m=\u001b[0m \u001b[1;33m[\u001b[0m\u001b[0mindexer\u001b[0m\u001b[1;33m]\u001b[0m\u001b[1;33m\u001b[0m\u001b[1;33m\u001b[0m\u001b[0m\n",
      "\u001b[1;32m~\\anaconda3\\lib\\site-packages\\pandas\\core\\indexes\\base.py\u001b[0m in \u001b[0;36mget_loc\u001b[1;34m(self, key, method, tolerance)\u001b[0m\n\u001b[0;32m   3621\u001b[0m                 \u001b[1;32mreturn\u001b[0m \u001b[0mself\u001b[0m\u001b[1;33m.\u001b[0m\u001b[0m_engine\u001b[0m\u001b[1;33m.\u001b[0m\u001b[0mget_loc\u001b[0m\u001b[1;33m(\u001b[0m\u001b[0mcasted_key\u001b[0m\u001b[1;33m)\u001b[0m\u001b[1;33m\u001b[0m\u001b[1;33m\u001b[0m\u001b[0m\n\u001b[0;32m   3622\u001b[0m             \u001b[1;32mexcept\u001b[0m \u001b[0mKeyError\u001b[0m \u001b[1;32mas\u001b[0m \u001b[0merr\u001b[0m\u001b[1;33m:\u001b[0m\u001b[1;33m\u001b[0m\u001b[1;33m\u001b[0m\u001b[0m\n\u001b[1;32m-> 3623\u001b[1;33m                 \u001b[1;32mraise\u001b[0m \u001b[0mKeyError\u001b[0m\u001b[1;33m(\u001b[0m\u001b[0mkey\u001b[0m\u001b[1;33m)\u001b[0m \u001b[1;32mfrom\u001b[0m \u001b[0merr\u001b[0m\u001b[1;33m\u001b[0m\u001b[1;33m\u001b[0m\u001b[0m\n\u001b[0m\u001b[0;32m   3624\u001b[0m             \u001b[1;32mexcept\u001b[0m \u001b[0mTypeError\u001b[0m\u001b[1;33m:\u001b[0m\u001b[1;33m\u001b[0m\u001b[1;33m\u001b[0m\u001b[0m\n\u001b[0;32m   3625\u001b[0m                 \u001b[1;31m# If we have a listlike key, _check_indexing_error will raise\u001b[0m\u001b[1;33m\u001b[0m\u001b[1;33m\u001b[0m\u001b[0m\n",
      "\u001b[1;31mKeyError\u001b[0m: 'Purchase'"
     ]
    }
   ],
   "source": [
    "# Define the features and target variable for logistic regression\n",
    "X_log = Kunden[['Alter', 'Einkommen', 'Zeit']]\n",
    "y_log = Kunden['Purchase']\n",
    "\n",
    "# Normalize the features\n",
    "scaler = StandardScaler()\n",
    "X_log_normalized = scaler.fit_transform(X_log)\n",
    "\n",
    "# Fit a logistic regression model\n",
    "log_model = LogisticRegression()\n",
    "log_model.fit(X_log_normalized, y_log)\n",
    "\n",
    "# Display the coefficients of the logistic regression model\n",
    "log_coefficients = pd.Series(log_model.coef_[0], index=['Alter', 'Einkommen', 'Zeit'])\n",
    "\n",
    "# Print the regression coefficients\n",
    "log_coefficients"
   ]
  },
  {
   "cell_type": "code",
   "execution_count": null,
   "id": "6ec4c9c9",
   "metadata": {
    "slideshow": {
     "slide_type": "skip"
    }
   },
   "outputs": [],
   "source": [
    "\n",
    "\n",
    "# Assign 1 if 'Preis' is not NaN, indicating a purchase\n",
    "Kunden['Purchase'] = (Kunden['Preis']> 25000).astype(int)\n",
    "\n",
    "# Target variable\n",
    "y = Kunden['Purchase']\n",
    "# Regressors\n",
    "X = Kunden[['Alter', 'Einkommen', 'Zeit']]\n",
    "\n",
    "# Add a constant to the model\n",
    "X = sm.add_constant(X)\n",
    "\n",
    "# Fit the logistic regression model\n",
    "logit_model = sm.Logit(y, X).fit()\n",
    "\n",
    "# Model summary\n",
    "model_summary = logit_model.summary()\n",
    "model_summary"
   ]
  },
  {
   "cell_type": "code",
   "execution_count": null,
   "id": "0dcf3728-5986-4c19-9cf2-b89a5d8bc42d",
   "metadata": {
    "slideshow": {
     "slide_type": "skip"
    },
    "tags": []
   },
   "outputs": [],
   "source": [
    "# Aufgabe 18: Wie hoch ist die Wahrscheinlichkeit, dass ein 32-jähriger männlicher Kunde mit einem\n",
    "#             Einkommen von 30.000 Euro, der das Auto 30 Minuten lang getestet hat, eines unserer\n",
    "#             Modelle kauft? Wie hoch ist die Wahrscheinlichkeit, dass ein 51-jähriger männlicher Kunde\n",
    "#             mit einem Einkommen von 54.000 Euro, der das Auto 45 Minuten lang getestet hat, eines\n",
    "#             unserer Modelle kauft?"
   ]
  },
  {
   "cell_type": "code",
   "execution_count": null,
   "id": "bb1965c0-83bb-4a93-b41d-aeee9e61168f",
   "metadata": {
    "scrolled": true,
    "slideshow": {
     "slide_type": "skip"
    },
    "tags": []
   },
   "outputs": [],
   "source": [
    "# Filtere für männliche Kunden\n",
    "male_customers = Kunden[Kunden['Geschlecht'] == 'Männlich']\n",
    "\n",
    "# Erstelle eine binäre Zielvariable für die logistische Regression\n",
    "male_customers.loc[:, 'Purchase'] = (male_customers['Preis'] > 25000).astype(int)\n",
    "\n",
    "# Features und Zielvariable für die logistische Regression\n",
    "X_log = male_customers[['Alter', 'Einkommen', 'Zeit']]\n",
    "y_log = male_customers['Purchase']\n",
    "\n",
    "# Normalisiere die Features\n",
    "scaler = StandardScaler()\n",
    "X_log_normalized = scaler.fit_transform(X_log)\n",
    "\n",
    "# Fitte ein logistisches Regressionsmodell\n",
    "log_model = LogisticRegression()\n",
    "log_model.fit(X_log_normalized, y_log)\n",
    "\n",
    "# Funktion zur Berechnung der Kaufwahrscheinlichkeit für gegebenes Alter, Einkommen und Testzeit\n",
    "def predict_purchase_probability(age, income, time):\n",
    "    input_data = pd.DataFrame({'Alter': [age], 'Einkommen': [income], 'Zeit': [time]})\n",
    "    input_data_normalized = scaler.transform(input_data)\n",
    "    probability = log_model.predict_proba(input_data_normalized)[0][1]\n",
    "    return probability\n",
    "\n",
    "# Berechnung der Wahrscheinlichkeit für einen 32-jährigen Kunden mit einem Einkommen von 30.000 Euro und 30 Minuten Testzeit\n",
    "probability_32_30000_30min = predict_purchase_probability(32, 30000, 30)\n",
    "\n",
    "# Berechnung der Wahrscheinlichkeit für einen 51-jährigen Kunden mit einem Einkommen von 54.000 Euro und 45 Minuten Testzeit\n",
    "probability_51_54000_45min = predict_purchase_probability(51, 54000, 45)\n",
    "\n",
    "# Anzeige der Wahrscheinlichkeiten\n",
    "print(\"Wahrscheinlichkeit des Kaufs für einen 32-jährigen männlichen Kunden mit einem Einkommen von 30.000 Euro und 30 Minuten Testzeit: \", round(probability_32_30000_30min, 4))\n",
    "print(\"Wahrscheinlichkeit des Kaufs für einen 51-jährigen männlichen Kunden mit einem Einkommen von 54.000 Euro und 45 Minuten Testzeit: \", round(probability_51_54000_45min, 4))\n"
   ]
  },
  {
   "cell_type": "code",
   "execution_count": null,
   "id": "5b696b74",
   "metadata": {
    "slideshow": {
     "slide_type": "skip"
    }
   },
   "outputs": [],
   "source": [
    "\n",
    "# Erstelle eine binäre Zielvariable für die logistische Regression\n",
    "Kunden['Purchase'] = (Kunden['Preis'] > 25000).astype(int)\n",
    "\n",
    "# Features und Zielvariable für die logistische Regression\n",
    "X_log = Kunden[['Alter', 'Einkommen', 'Zeit']]\n",
    "y_log = Kunden['Purchase']\n",
    "\n",
    "# Normalisiere die Features\n",
    "scaler = StandardScaler()\n",
    "X_log_normalized = scaler.fit_transform(X_log)\n",
    "\n",
    "# Fitte ein logistisches Regressionsmodell\n",
    "log_model = LogisticRegression()\n",
    "log_model.fit(X_log_normalized, y_log)\n",
    "\n",
    "# Funktion zur Berechnung der Kaufwahrscheinlichkeit für gegebenes Alter, Einkommen und Testzeit\n",
    "def predict_purchase_probability(age, income, time):\n",
    "    input_data = pd.DataFrame({'Alter': [age], 'Einkommen': [income], 'Zeit': [time]})\n",
    "    input_data_normalized = scaler.transform(input_data)\n",
    "    probability = log_model.predict_proba(input_data_normalized)[0][1]\n",
    "    return probability\n",
    "\n",
    "# Erstelle ein Gitter von Alters-, Einkommens- und Zeitwerten\n",
    "age_range = np.arange(18, 101, 5)\n",
    "income_range = np.arange(0, 110001, 10000)\n",
    "time_range = np.arange(0, 61, 10)  # 0 bis 60 Minuten in 10-Minuten-Intervallen\n",
    "\n",
    "# Berechne die Kaufwahrscheinlichkeit für jede Kombination aus Alter und Einkommen (bei 30 Minuten Testzeit)\n",
    "probability_grid = np.zeros((len(age_range), len(income_range)))\n",
    "\n",
    "for i, age in enumerate(age_range):\n",
    "    for j, income in enumerate(income_range):\n",
    "        probability_grid[i, j] = predict_purchase_probability(age, income, 30)  # 30 Minuten Testzeit\n",
    "\n",
    "# Erstelle eine Heatmap der Kaufwahrscheinlichkeiten\n",
    "plt.figure(figsize=(12, 8))\n",
    "sns.heatmap(probability_grid, xticklabels=income_range, yticklabels=age_range, cmap='YlGnBu', annot=True, fmt=\".2f\")\n",
    "plt.title('Heatmap der Kaufwahrscheinlichkeiten (bei 30 Minuten Testzeit)')\n",
    "plt.xlabel('Einkommen')\n",
    "plt.ylabel('Alter')\n",
    "plt.show()\n",
    "\n",
    "# Erstelle einen 3D-Oberflächenplot der Kaufwahrscheinlichkeiten\n",
    "age_grid, income_grid = np.meshgrid(age_range, income_range)\n",
    "probability_grid_3d = np.zeros((len(income_range), len(age_range)), dtype=float)\n",
    "\n",
    "for i in range(len(income_range)):\n",
    "    for j in range(len(age_range)):\n",
    "        probability_grid_3d[i, j] = predict_purchase_probability(age_range[j], income_range[i], 30)  # 30 Minuten Testzeit\n",
    "\n",
    "fig = plt.figure(figsize=(12, 8))\n",
    "ax = fig.add_subplot(111, projection='3d')\n",
    "ax.plot_surface(age_grid, income_grid, probability_grid_3d, cmap='YlGnBu')\n",
    "\n",
    "ax.set_title('3D-Oberflächenplot der Kaufwahrscheinlichkeiten (bei 30 Minuten Testzeit)')\n",
    "ax.set_xlabel('Alter')\n",
    "ax.set_ylabel('Einkommen')\n",
    "ax.set_zlabel('Wahrscheinlichkeit des Kaufs')\n",
    "plt.show()\n"
   ]
  },
  {
   "cell_type": "code",
   "execution_count": null,
   "id": "b59bc63d-45f0-4ef0-9276-1ff1ebfc98d9",
   "metadata": {
    "slideshow": {
     "slide_type": "skip"
    },
    "tags": []
   },
   "outputs": [],
   "source": [
    "# Aufgabe 19: Auf welche Probleme sind Sie bei der Zusammenführung des Datensatzes gestoßen? Stellen\n",
    "#             len Sie die Operationen vor, die Sie zum Zusammenführen und Bereinigen der Daten\n",
    "#             durchgeführt haben."
   ]
  },
  {
   "cell_type": "markdown",
   "id": "5f7f1fe6",
   "metadata": {
    "slideshow": {
     "slide_type": "slide"
    }
   },
   "source": [
    "## Zusammenführen der Daten\n",
    "\n",
    "## Die Mergefunktion: vor Bereinigung zu: Kundendaten_0X | Besucherdaten_0X"
   ]
  },
  {
   "cell_type": "markdown",
   "id": "6ff75601",
   "metadata": {
    "slideshow": {
     "slide_type": "subslide"
    }
   },
   "source": [
    "## Die Concatfunktion: nach Bereinigung zu Kundendaten_0X | Besucherdaten_0X\n"
   ]
  },
  {
   "cell_type": "markdown",
   "id": "49a99ef4",
   "metadata": {
    "slideshow": {
     "slide_type": "slide"
    }
   },
   "source": [
    "## Bereinigung der Daten\n",
    "\n",
    "#### Ersetzen fehlender Daten\n",
    "\n",
    "#### Ausreißer ermitteln und ersetzten durch jeweiligen Mittelwert: \n",
    "\n",
    "#### Ausreißer ermitteln und ersetzten mit nachvollziehbaren Werten\n",
    "\n",
    "#### Visualisierung "
   ]
  },
  {
   "cell_type": "markdown",
   "id": "6e63ac6a",
   "metadata": {
    "slideshow": {
     "slide_type": "subslide"
    }
   },
   "source": [
    "#### Fehlende Daten: Prozentualer Anteil x  Anzahl der fehlenden Werte\n",
    "\n",
    "#### Ausreißer: Interquatiersabstand | median bei Alter | durchschnitt bei Einkommmen\n",
    "\n",
    "#### Ausreißer: Unter-/Obergrenze konstant gesetzt: Preis | Zeit \n",
    "\n",
    "#### Histogramme per df_0x.hist()"
   ]
  },
  {
   "cell_type": "code",
   "execution_count": null,
   "id": "e1c2118c-525c-419d-9b71-bea121019d71",
   "metadata": {
    "slideshow": {
     "slide_type": "skip"
    },
    "tags": []
   },
   "outputs": [],
   "source": [
    "# Aufgabe 20: Welche Vorschläge würden Sie der Kundenabteilung für die Umfrage im nächsten Jahr machen?\n",
    "#             Welche zusätzlichen Informationen sollten gesammelt werden? \n",
    "#             Formulieren Sie zwei Vorschläge."
   ]
  },
  {
   "cell_type": "markdown",
   "id": "ec621c5e",
   "metadata": {
    "slideshow": {
     "slide_type": "slide"
    }
   },
   "source": [
    "##  F20 Vorschläge für die Kundenabteilung\n",
    "\n",
    "### Kunden Information sammeln:\n",
    "\n",
    "#### Kaufhäufigkeit, wie oft kaufen sie ein neues Auto? \n",
    "#### Privat oder Geschäftliche Nutzung, wird es ein Firmenwagen?\n"
   ]
  }
 ],
 "metadata": {
  "celltoolbar": "Slideshow",
  "kernelspec": {
   "display_name": "Python 3 (ipykernel)",
   "language": "python",
   "name": "python3"
  },
  "language_info": {
   "codemirror_mode": {
    "name": "ipython",
    "version": 3
   },
   "file_extension": ".py",
   "mimetype": "text/x-python",
   "name": "python",
   "nbconvert_exporter": "python",
   "pygments_lexer": "ipython3",
   "version": "3.9.13"
  }
 },
 "nbformat": 4,
 "nbformat_minor": 5
}
