{
 "cells": [
  {
   "cell_type": "code",
   "execution_count": 1,
   "id": "e40c9cd3-8190-4f9c-9ae2-763f46acce8d",
   "metadata": {},
   "outputs": [],
   "source": [
    "import pandas as pd\n",
    "import numpy as np\n",
    "import matplotlib.pyplot as plt\n",
    "import seaborn as sns\n",
    "import scipy.stats as stats\n",
    "import statsmodels.api as sm"
   ]
  },
  {
   "cell_type": "code",
   "execution_count": 2,
   "id": "8bee1b76-6d53-4ea4-9b38-ad7f3a6b1518",
   "metadata": {},
   "outputs": [
    {
     "name": "stdout",
     "output_type": "stream",
     "text": [
      "      Alter  Einkommen      Preis  Geschlecht  Zeit KundeNr\n",
      "0        64    66894.0   88160.31         1.0  43.0   K0310\n",
      "1        54    77644.0  103145.70         1.0  40.0   K1042\n",
      "2        55    44341.0   80565.16         0.0  37.0   K0382\n",
      "3        49    67271.0   83949.89         0.0  42.0   K0498\n",
      "4        46    49832.0   93781.58         0.0  41.0   K0552\n",
      "...     ...        ...        ...         ...   ...     ...\n",
      "1099     70    69581.0  103751.58         1.0  51.0   K0467\n",
      "1100     38    48301.0   64230.98         1.0  33.0   K0122\n",
      "1101     67    63547.0  103123.57         1.0  41.0   K1045\n",
      "1102     37    32686.0   49215.87         1.0  36.0   K1096\n",
      "1103     55    71240.0  106132.59         1.0  49.0   K0861\n",
      "\n",
      "[1104 rows x 6 columns]\n",
      "     Alter     Einkommen  Geschlecht  Zeit KundeNr\n",
      "0       30  39919.095335           0  29.0   K1814\n",
      "1       41  53430.673086           0  27.0   K1544\n",
      "2       64  73163.216927           0  32.0   K1945\n",
      "3       41  36761.482581           0  44.0   K1825\n",
      "4       35  42684.331632           1  33.0   K1144\n",
      "..     ...           ...         ...   ...     ...\n",
      "886     32  34391.824965           1  48.0   K1211\n",
      "887     41  68516.495439           0  34.0   K1375\n",
      "888     65  89685.333441           0  23.0   K1965\n",
      "889     68  95714.305268           0  32.0   K1540\n",
      "890     49  73319.187085           0  27.0   K1207\n",
      "\n",
      "[891 rows x 5 columns]\n",
      "     KundeNr          Niederlassung\n",
      "0      K0001                Sachsen\n",
      "1      K0002                    NRW\n",
      "2      K0003                 Hessen\n",
      "3      K0004                 Bayern\n",
      "4      K0005                 Bayern\n",
      "...      ...                    ...\n",
      "1990   K1991                 Hessen\n",
      "1991   K1992      Baden-Württemberg\n",
      "1992   K1993    Nordrhein-Westfalen\n",
      "1993   K1994                 Berlin\n",
      "1994   K1995  Berlin-Charlottenburg\n",
      "\n",
      "[1995 rows x 2 columns]\n"
     ]
    }
   ],
   "source": [
    "customer = pd.read_csv('kunden.csv', delimiter= ';')\n",
    "table_customer = pd.DataFrame(customer)\n",
    "\n",
    "visitor = pd.read_csv('besucher.csv', delimiter= ';', decimal= ',')\n",
    "table_visitor = pd.DataFrame(visitor)\n",
    "\n",
    "geodata = pd.read_csv('geo.txt', delimiter= '\\t')\n",
    "table_geo = pd.DataFrame(geodata)\n",
    "\n",
    "print(table_customer)\n",
    "print(table_visitor)\n",
    "print(table_geo)"
   ]
  },
  {
   "cell_type": "code",
   "execution_count": 3,
   "id": "44081752-f875-4815-885a-1108d45883c7",
   "metadata": {},
   "outputs": [
    {
     "name": "stdout",
     "output_type": "stream",
     "text": [
      "Gefilterte Zeilen von table_customer (K1005 bis K1104):\n",
      "     Alter  Einkommen      Preis  Geschlecht  Zeit KundeNr\n",
      "816     69    84021.0  133358.19         1.0  56.0   K1005\n",
      "579     47    46708.0   70719.18         1.0  31.0   K1006\n",
      "221     54    57917.0   94386.02         1.0  47.0   K1007\n",
      "950     62    57795.0   85730.62         0.0  38.0   K1008\n",
      "967     69    77887.0  126098.91         0.0  51.0   K1009\n",
      "..     ...        ...        ...         ...   ...     ...\n",
      "240     61    82624.0  134755.80         1.0  59.0   K1100\n",
      "422     39    37905.0   61717.86         1.0  32.0   K1101\n",
      "758     39    40159.0   67170.69         1.0  37.0   K1102\n",
      "813     48    45545.0   75700.83         0.0  30.0   K1103\n",
      "829     63    80414.0  101554.64         1.0  49.0   K1104\n",
      "\n",
      "[100 rows x 6 columns]\n",
      "\n",
      "Gefilterte Zeilen von table_visitor (K1005 bis K1104):\n",
      "Empty DataFrame\n",
      "Columns: [Alter, Einkommen, Geschlecht, Zeit, KundeNr]\n",
      "Index: []\n",
      "\n",
      "Gefilterte Zeilen von table_geo (K1005 bis K1104):\n",
      "     KundeNr        Niederlassung\n",
      "1004   K1005    Baden-Württemberg\n",
      "1005   K1006  Nordrhein-Westfalen\n",
      "1006   K1007        Niedersachsen\n",
      "1007   K1008        Niedersachsen\n",
      "1008   K1009               Hessen\n",
      "...      ...                  ...\n",
      "1099   K1100               Berlin\n",
      "1100   K1101               Hessen\n",
      "1101   K1102        Niedersachsen\n",
      "1102   K1103               Berlin\n",
      "1103   K1104              Sachsen\n",
      "\n",
      "[100 rows x 2 columns]\n"
     ]
    }
   ],
   "source": [
    "sorted_customer = table_customer.sort_values('KundeNr')\n",
    "sorted_visitor = table_visitor.sort_values('KundeNr')\n",
    "sorted_geo = table_geo.sort_values('KundeNr')\n",
    "\n",
    "# Filtern der Zeilen von 'K1005' bis 'K1104'\n",
    "customer_filtered = sorted_customer[(sorted_customer['KundeNr'] >= 'K1005') & (sorted_customer['KundeNr'] <= 'K1104')]\n",
    "visitor_filtered = sorted_visitor[(sorted_visitor['KundeNr'] >= 'K1005') & (sorted_visitor['KundeNr'] <= 'K1104')]\n",
    "geo_filtered = sorted_geo[(sorted_geo['KundeNr'] >= 'K1005') & (sorted_geo['KundeNr'] <= 'K1104')]\n",
    "\n",
    "# Anzeigen der gefilterten DataFrames\n",
    "print(\"Gefilterte Zeilen von table_customer (K1005 bis K1104):\")\n",
    "print(customer_filtered)\n",
    "\n",
    "print(\"\\nGefilterte Zeilen von table_visitor (K1005 bis K1104):\")\n",
    "print(visitor_filtered)\n",
    "\n",
    "print(\"\\nGefilterte Zeilen von table_geo (K1005 bis K1104):\")\n",
    "print(geo_filtered)"
   ]
  },
  {
   "cell_type": "code",
   "execution_count": 4,
   "id": "ffba5f79-655f-4f95-932d-f6a8850cffb7",
   "metadata": {},
   "outputs": [],
   "source": [
    " ## überschneiden sich die KundeNr"
   ]
  },
  {
   "cell_type": "code",
   "execution_count": 5,
   "id": "bd1f9362-f131-4ab2-900f-d9a723127fb5",
   "metadata": {},
   "outputs": [
    {
     "name": "stdout",
     "output_type": "stream",
     "text": [
      "1995\n"
     ]
    }
   ],
   "source": [
    "sum_rows = (1104+891)\n",
    "\n",
    "print(sum_rows)"
   ]
  },
  {
   "cell_type": "code",
   "execution_count": 6,
   "id": "9f5be8cb-4019-4592-b2d5-218a6f8d0087",
   "metadata": {},
   "outputs": [
    {
     "name": "stdout",
     "output_type": "stream",
     "text": [
      "    KundeNr  Geschlecht  Alter  Einkommen      Preis  Zeit\n",
      "476   K0001         1.0     68    89437.0  114481.90  62.0\n",
      "892   K0002         1.0     58    65271.0  106258.99  44.0\n",
      "225   K0003         1.0     44    48195.0   85705.57  29.0\n",
      "174   K0004         0.0     37    48957.0   76412.36  36.0\n",
      "991   K0005         0.0     50    56621.0   92898.67  40.0\n",
      "..      ...         ...    ...        ...        ...   ...\n",
      "240   K1100         1.0     61    82624.0  134755.80  59.0\n",
      "422   K1101         1.0     39    37905.0   61717.86  32.0\n",
      "758   K1102         1.0     39    40159.0   67170.69  37.0\n",
      "813   K1103         0.0     48    45545.0   75700.83  30.0\n",
      "829   K1104         1.0     63    80414.0  101554.64  49.0\n",
      "\n",
      "[1104 rows x 6 columns]\n",
      "    KundeNr  Geschlecht  Alter     Einkommen  Zeit\n",
      "454   K1105           0     42  57149.498007  35.0\n",
      "812   K1106           1     34  43358.564350  33.0\n",
      "229   K1107           1     33  45748.426936  55.0\n",
      "400   K1108           1     57  58633.969764  32.0\n",
      "744   K1109           0     43  53592.012684  31.0\n",
      "..      ...         ...    ...           ...   ...\n",
      "18    K1991           1     48  59967.313282  21.0\n",
      "799   K1992           1     67  81521.761443  21.0\n",
      "592   K1993           0     40  41616.572980  48.0\n",
      "72    K1994           1     49  76602.788840  19.0\n",
      "491   K1995           1     49  54754.525450  44.0\n",
      "\n",
      "[891 rows x 5 columns]\n"
     ]
    }
   ],
   "source": [
    "table_customer_resorted = table_customer[['KundeNr', 'Geschlecht', 'Alter', 'Einkommen', 'Preis', 'Zeit']]\n",
    "table_customer_sort_by_KNr = table_customer_resorted.sort_values('KundeNr')\n",
    "\n",
    "table_visitor_resorted = table_visitor[['KundeNr', 'Geschlecht', 'Alter', 'Einkommen', 'Zeit']]\n",
    "table_visitor_sort_by_KNr = table_visitor_resorted.sort_values('KundeNr')\n",
    "\n",
    "print(table_customer_sort_by_KNr)\n",
    "print(table_visitor_sort_by_KNr)"
   ]
  },
  {
   "cell_type": "code",
   "execution_count": 17,
   "id": "c78eb46e",
   "metadata": {},
   "outputs": [
    {
     "data": {
      "text/html": [
       "<div>\n",
       "<style scoped>\n",
       "    .dataframe tbody tr th:only-of-type {\n",
       "        vertical-align: middle;\n",
       "    }\n",
       "\n",
       "    .dataframe tbody tr th {\n",
       "        vertical-align: top;\n",
       "    }\n",
       "\n",
       "    .dataframe thead th {\n",
       "        text-align: right;\n",
       "    }\n",
       "</style>\n",
       "<table border=\"1\" class=\"dataframe\">\n",
       "  <thead>\n",
       "    <tr style=\"text-align: right;\">\n",
       "      <th></th>\n",
       "      <th>KundeNr</th>\n",
       "      <th>Geschlecht</th>\n",
       "      <th>Alter</th>\n",
       "      <th>Einkommen</th>\n",
       "      <th>Zeit</th>\n",
       "    </tr>\n",
       "  </thead>\n",
       "  <tbody>\n",
       "    <tr>\n",
       "      <th>454</th>\n",
       "      <td>K1105</td>\n",
       "      <td>0</td>\n",
       "      <td>42</td>\n",
       "      <td>57149.498007</td>\n",
       "      <td>35.0</td>\n",
       "    </tr>\n",
       "    <tr>\n",
       "      <th>812</th>\n",
       "      <td>K1106</td>\n",
       "      <td>1</td>\n",
       "      <td>34</td>\n",
       "      <td>43358.564350</td>\n",
       "      <td>33.0</td>\n",
       "    </tr>\n",
       "    <tr>\n",
       "      <th>229</th>\n",
       "      <td>K1107</td>\n",
       "      <td>1</td>\n",
       "      <td>33</td>\n",
       "      <td>45748.426936</td>\n",
       "      <td>55.0</td>\n",
       "    </tr>\n",
       "    <tr>\n",
       "      <th>400</th>\n",
       "      <td>K1108</td>\n",
       "      <td>1</td>\n",
       "      <td>57</td>\n",
       "      <td>58633.969764</td>\n",
       "      <td>32.0</td>\n",
       "    </tr>\n",
       "    <tr>\n",
       "      <th>744</th>\n",
       "      <td>K1109</td>\n",
       "      <td>0</td>\n",
       "      <td>43</td>\n",
       "      <td>53592.012684</td>\n",
       "      <td>31.0</td>\n",
       "    </tr>\n",
       "    <tr>\n",
       "      <th>...</th>\n",
       "      <td>...</td>\n",
       "      <td>...</td>\n",
       "      <td>...</td>\n",
       "      <td>...</td>\n",
       "      <td>...</td>\n",
       "    </tr>\n",
       "    <tr>\n",
       "      <th>18</th>\n",
       "      <td>K1991</td>\n",
       "      <td>1</td>\n",
       "      <td>48</td>\n",
       "      <td>59967.313282</td>\n",
       "      <td>21.0</td>\n",
       "    </tr>\n",
       "    <tr>\n",
       "      <th>799</th>\n",
       "      <td>K1992</td>\n",
       "      <td>1</td>\n",
       "      <td>67</td>\n",
       "      <td>81521.761443</td>\n",
       "      <td>21.0</td>\n",
       "    </tr>\n",
       "    <tr>\n",
       "      <th>592</th>\n",
       "      <td>K1993</td>\n",
       "      <td>0</td>\n",
       "      <td>40</td>\n",
       "      <td>41616.572980</td>\n",
       "      <td>48.0</td>\n",
       "    </tr>\n",
       "    <tr>\n",
       "      <th>72</th>\n",
       "      <td>K1994</td>\n",
       "      <td>1</td>\n",
       "      <td>49</td>\n",
       "      <td>76602.788840</td>\n",
       "      <td>19.0</td>\n",
       "    </tr>\n",
       "    <tr>\n",
       "      <th>491</th>\n",
       "      <td>K1995</td>\n",
       "      <td>1</td>\n",
       "      <td>49</td>\n",
       "      <td>54754.525450</td>\n",
       "      <td>44.0</td>\n",
       "    </tr>\n",
       "  </tbody>\n",
       "</table>\n",
       "<p>891 rows × 5 columns</p>\n",
       "</div>"
      ],
      "text/plain": [
       "    KundeNr  Geschlecht  Alter     Einkommen  Zeit\n",
       "454   K1105           0     42  57149.498007  35.0\n",
       "812   K1106           1     34  43358.564350  33.0\n",
       "229   K1107           1     33  45748.426936  55.0\n",
       "400   K1108           1     57  58633.969764  32.0\n",
       "744   K1109           0     43  53592.012684  31.0\n",
       "..      ...         ...    ...           ...   ...\n",
       "18    K1991           1     48  59967.313282  21.0\n",
       "799   K1992           1     67  81521.761443  21.0\n",
       "592   K1993           0     40  41616.572980  48.0\n",
       "72    K1994           1     49  76602.788840  19.0\n",
       "491   K1995           1     49  54754.525450  44.0\n",
       "\n",
       "[891 rows x 5 columns]"
      ]
     },
     "execution_count": 17,
     "metadata": {},
     "output_type": "execute_result"
    }
   ],
   "source": [
    "table_visitor_sort_by_KNr"
   ]
  },
  {
   "cell_type": "code",
   "execution_count": 18,
   "id": "12639d1d-d8f3-474e-98f4-5180332abd3c",
   "metadata": {
    "scrolled": true
   },
   "outputs": [
    {
     "name": "stdout",
     "output_type": "stream",
     "text": [
      "outer join:\n",
      "      KundeNr  Geschlecht  Alter  Einkommen      Preis  Zeit  Niederlassung\n",
      "0      K0001         1.0   68.0    89437.0  114481.90  62.0        Sachsen\n",
      "1      K0002         1.0   58.0    65271.0  106258.99  44.0            NRW\n",
      "2      K0003         1.0   44.0    48195.0   85705.57  29.0         Hessen\n",
      "3      K0004         0.0   37.0    48957.0   76412.36  36.0         Bayern\n",
      "4      K0005         0.0   50.0    56621.0   92898.67  40.0         Bayern\n",
      "...      ...         ...    ...        ...        ...   ...            ...\n",
      "1099   K1100         1.0   61.0    82624.0  134755.80  59.0         Berlin\n",
      "1100   K1101         1.0   39.0    37905.0   61717.86  32.0         Hessen\n",
      "1101   K1102         1.0   39.0    40159.0   67170.69  37.0  Niedersachsen\n",
      "1102   K1103         0.0   48.0    45545.0   75700.83  30.0         Berlin\n",
      "1103   K1104         1.0   63.0    80414.0  101554.64  49.0        Sachsen\n",
      "\n",
      "[1104 rows x 7 columns]\n",
      "outer Join:\n",
      "     KundeNr  Geschlecht  Alter     Einkommen  Zeit          Niederlassung\n",
      "0     K1105           0     42  57149.498007  35.0                 Hessen\n",
      "1     K1106           1     34  43358.564350  33.0                 Berlin\n",
      "2     K1107           1     33  45748.426936  55.0          Niedersachsen\n",
      "3     K1108           1     57  58633.969764  32.0              Thüringen\n",
      "4     K1109           0     43  53592.012684  31.0    Nordrhein-Westfalen\n",
      "..      ...         ...    ...           ...   ...                    ...\n",
      "886   K1991           1     48  59967.313282  21.0                 Hessen\n",
      "887   K1992           1     67  81521.761443  21.0      Baden-Württemberg\n",
      "888   K1993           0     40  41616.572980  48.0    Nordrhein-Westfalen\n",
      "889   K1994           1     49  76602.788840  19.0                 Berlin\n",
      "890   K1995           1     49  54754.525450  44.0  Berlin-Charlottenburg\n",
      "\n",
      "[891 rows x 6 columns]\n"
     ]
    }
   ],
   "source": [
    "customer_merge = pd.merge(table_customer_sort_by_KNr, table_geo, on = 'KundeNr', how = 'outer')\n",
    "customer_geo = customer_merge.head(1104)\n",
    "visitor_merge = pd.merge(table_visitor_sort_by_KNr, table_geo, on='KundeNr')\n",
    "visitor_geo = visitor_merge.head(891)\n",
    "\n",
    "print(\"outer join:\\n\", customer_geo)\n",
    "print(\"outer Join:\\n\", visitor_geo)"
   ]
  },
  {
   "cell_type": "code",
   "execution_count": 19,
   "id": "07c1e380-f742-41ed-8713-1157462b126b",
   "metadata": {},
   "outputs": [
    {
     "name": "stdout",
     "output_type": "stream",
     "text": [
      "Zeilen mit mindestens einem NaN-Wert:\n",
      "    KundeNr  Geschlecht  Alter  Einkommen      Preis  Zeit  \\\n",
      "23    K0024         NaN   41.0    46542.0   63477.00  40.0   \n",
      "89    K0090         NaN   64.0    83452.0  133180.70  62.0   \n",
      "165   K0166         NaN   53.0    49798.0   61329.51  39.0   \n",
      "324   K0325         NaN   52.0    66602.0   98756.07  45.0   \n",
      "789   K0790         NaN   67.0    91461.0  131748.07  66.0   \n",
      "\n",
      "           Niederlassung  \n",
      "23     Baden-Württemberg  \n",
      "89         Niedersachsen  \n",
      "165  Nordrhein-Westfalen  \n",
      "324               Bayern  \n",
      "789               Berlin  \n",
      "\n",
      "Zeilen mit mindestens einem NaN-Wert:\n",
      "Empty DataFrame\n",
      "Columns: [KundeNr, Geschlecht, Alter, Einkommen, Zeit, Niederlassung]\n",
      "Index: []\n"
     ]
    }
   ],
   "source": [
    "customer_isna_rows = customer_geo[customer_geo.isna().any(axis = 1)]\n",
    "print(\"Zeilen mit mindestens einem NaN-Wert:\")\n",
    "print(customer_isna_rows)\n",
    "\n",
    "print(\n",
    "    )\n",
    "visitor_isna_rows = visitor_geo[visitor_geo.isna().any(axis = 1)]\n",
    "print(\"Zeilen mit mindestens einem NaN-Wert:\")\n",
    "print(visitor_isna_rows)"
   ]
  },
  {
   "cell_type": "code",
   "execution_count": 20,
   "id": "110cba52-8259-4fbc-9d30-04d424984d50",
   "metadata": {},
   "outputs": [
    {
     "name": "stdout",
     "output_type": "stream",
     "text": [
      "Prozentualer Anteil von 1.0: 63.79%\n",
      "Prozentualer Anteil von 0.0: 36.21%\n"
     ]
    }
   ],
   "source": [
    "counts = customer_geo['Geschlecht'].value_counts(normalize=True)\n",
    "percentage_1 = counts.get(1.0, 0)\n",
    "percentage_0 = counts.get(0.0, 0)\n",
    "\n",
    "print(f\"Prozentualer Anteil von 1.0: {percentage_1:.2%}\")\n",
    "print(f\"Prozentualer Anteil von 0.0: {percentage_0:.2%}\")"
   ]
  },
  {
   "cell_type": "code",
   "execution_count": 21,
   "id": "4ff1ee68-ef79-4bf2-bc94-f3940618fe97",
   "metadata": {},
   "outputs": [
    {
     "name": "stdout",
     "output_type": "stream",
     "text": [
      "     KundeNr  Geschlecht  Alter  Einkommen      Preis  Zeit  Niederlassung\n",
      "0      K0001         1.0   68.0    89437.0  114481.90  62.0        Sachsen\n",
      "1      K0002         1.0   58.0    65271.0  106258.99  44.0            NRW\n",
      "2      K0003         1.0   44.0    48195.0   85705.57  29.0         Hessen\n",
      "3      K0004         0.0   37.0    48957.0   76412.36  36.0         Bayern\n",
      "4      K0005         0.0   50.0    56621.0   92898.67  40.0         Bayern\n",
      "...      ...         ...    ...        ...        ...   ...            ...\n",
      "1099   K1100         1.0   61.0    82624.0  134755.80  59.0         Berlin\n",
      "1100   K1101         1.0   39.0    37905.0   61717.86  32.0         Hessen\n",
      "1101   K1102         1.0   39.0    40159.0   67170.69  37.0  Niedersachsen\n",
      "1102   K1103         0.0   48.0    45545.0   75700.83  30.0         Berlin\n",
      "1103   K1104         1.0   63.0    80414.0  101554.64  49.0        Sachsen\n",
      "\n",
      "[1104 rows x 7 columns]\n",
      "    KundeNr  Geschlecht  Alter     Einkommen  Zeit          Niederlassung\n",
      "0     K1105           0     42  57149.498007  35.0                 Hessen\n",
      "1     K1106           1     34  43358.564350  33.0                 Berlin\n",
      "2     K1107           1     33  45748.426936  55.0          Niedersachsen\n",
      "3     K1108           1     57  58633.969764  32.0              Thüringen\n",
      "4     K1109           0     43  53592.012684  31.0    Nordrhein-Westfalen\n",
      "..      ...         ...    ...           ...   ...                    ...\n",
      "886   K1991           1     48  59967.313282  21.0                 Hessen\n",
      "887   K1992           1     67  81521.761443  21.0      Baden-Württemberg\n",
      "888   K1993           0     40  41616.572980  48.0    Nordrhein-Westfalen\n",
      "889   K1994           1     49  76602.788840  19.0                 Berlin\n",
      "890   K1995           1     49  54754.525450  44.0  Berlin-Charlottenburg\n",
      "\n",
      "[891 rows x 6 columns]\n"
     ]
    }
   ],
   "source": [
    "nan_indices = customer_geo[customer_geo['Geschlecht'].isnull()].index\n",
    "replacement_values = np.random.choice([1.0, 0.0], size=len(nan_indices), p=[percentage_1, percentage_0])\n",
    "customer_geo.loc[nan_indices, 'Geschlecht'] = replacement_values\n",
    "customer_geo_noNaN = customer_geo.rename(columns={'Geschlecht': 'customer_geo_noNaN'})\n",
    "\n",
    "customer_geo_noNaN = customer_geo\n",
    "visitor_geo_noNaN = visitor_geo\n",
    "\n",
    "print(customer_geo_noNaN)\n",
    "print(visitor_geo_noNaN)"
   ]
  },
  {
   "cell_type": "code",
   "execution_count": 22,
   "id": "0309d14b-130d-4d2d-b0cf-2d30dac9364e",
   "metadata": {},
   "outputs": [
    {
     "name": "stdout",
     "output_type": "stream",
     "text": [
      "Zeilen mit mindestens einem NaN-Wert:\n",
      "Empty DataFrame\n",
      "Columns: [KundeNr, Geschlecht, Alter, Einkommen, Preis, Zeit, Niederlassung]\n",
      "Index: []\n"
     ]
    }
   ],
   "source": [
    "customer_isna_rows = customer_geo[customer_geo.isna().any(axis = 1)]\n",
    "print(\"Zeilen mit mindestens einem NaN-Wert:\")\n",
    "print(customer_isna_rows)"
   ]
  },
  {
   "cell_type": "code",
   "execution_count": 23,
   "id": "b2365658-9b8f-4440-be10-66276804e6bb",
   "metadata": {},
   "outputs": [
    {
     "name": "stdout",
     "output_type": "stream",
     "text": [
      "KundeNr           object\n",
      "Geschlecht       float64\n",
      "Alter            float64\n",
      "Einkommen        float64\n",
      "Preis            float64\n",
      "Zeit             float64\n",
      "Niederlassung     object\n",
      "dtype: object\n",
      "\n",
      "KundeNr           object\n",
      "Geschlecht         int64\n",
      "Alter              int64\n",
      "Einkommen        float64\n",
      "Zeit             float64\n",
      "Niederlassung     object\n",
      "dtype: object\n"
     ]
    }
   ],
   "source": [
    "print(customer_geo.dtypes)\n",
    "\n",
    "print(\n",
    "    )\n",
    "\n",
    "print(visitor_geo.dtypes)"
   ]
  },
  {
   "cell_type": "code",
   "execution_count": 25,
   "id": "47a63d82-5864-422e-9a78-cfc5e85f85d2",
   "metadata": {},
   "outputs": [
    {
     "name": "stdout",
     "output_type": "stream",
     "text": [
      "Sind alle Werte für 'Geschlecht', 'Alter' und 'Zeit' in customer_geo ganzzahlig?\n",
      "\n",
      "Alle Werte in der Spalte 'Geschlecht' sind ganze Zahlen.\n",
      "Alle Werte in der Spalte 'Alter' sind ganze Zahlen.\n",
      "Alle Werte in der Spalte 'Zeit' sind ganze Zahlen.\n",
      "\n",
      "Sind alle Werte für 'Geschlecht', 'Alter' und 'Zeit' in visitor_geo ganzzahlig?\n",
      "\n",
      "Alle Werte in der Spalte 'Geschlecht' sind ganze Zahlen.\n",
      "Alle Werte in der Spalte 'Alter' sind ganze Zahlen.\n",
      "Alle Werte in der Spalte 'Zeit' sind ganze Zahlen.\n"
     ]
    }
   ],
   "source": [
    "print(\"Sind alle Werte für 'Geschlecht', 'Alter' und 'Zeit' in customer_geo ganzzahlig?\")\n",
    "print(\n",
    "    )\n",
    "columns_are_int_a = ['Geschlecht', 'Alter', 'Zeit']\n",
    "\n",
    "for col in columns_are_int_a:\n",
    "    customer_geo_is_int = customer_geo_noNaN[col].apply(lambda x: np.equal(x, np.round(x))).all()\n",
    "    \n",
    "    if customer_geo_is_int:\n",
    "        print(f\"Alle Werte in der Spalte '{col}' sind ganze Zahlen.\")\n",
    "    else:\n",
    "        print(f\"Nicht alle Werte in der Spalte '{col}' sind ganze Zahlen.\")\n",
    "print(\n",
    "    )\n",
    "print(\"Sind alle Werte für 'Geschlecht', 'Alter' und 'Zeit' in visitor_geo ganzzahlig?\")\n",
    "print(\n",
    "    )\n",
    "columns_are_int_b = ['Geschlecht', 'Alter', 'Zeit']\n",
    "\n",
    "for col in columns_are_int_b:\n",
    "    visitor_geo_is_int = visitor_geo_noNaN[col].apply(lambda x: np.equal(x, np.round(x))).all()\n",
    "    \n",
    "    if visitor_geo_is_int:\n",
    "        print(f\"Alle Werte in der Spalte '{col}' sind ganze Zahlen.\")\n",
    "    else:\n",
    "        print(f\"Nicht alle Werte in der Spalte '{col}' sind ganze Zahlen.\")"
   ]
  },
  {
   "cell_type": "code",
   "execution_count": 60,
   "id": "36a2eb1e",
   "metadata": {},
   "outputs": [
    {
     "data": {
      "text/html": [
       "<div>\n",
       "<style scoped>\n",
       "    .dataframe tbody tr th:only-of-type {\n",
       "        vertical-align: middle;\n",
       "    }\n",
       "\n",
       "    .dataframe tbody tr th {\n",
       "        vertical-align: top;\n",
       "    }\n",
       "\n",
       "    .dataframe thead th {\n",
       "        text-align: right;\n",
       "    }\n",
       "</style>\n",
       "<table border=\"1\" class=\"dataframe\">\n",
       "  <thead>\n",
       "    <tr style=\"text-align: right;\">\n",
       "      <th></th>\n",
       "      <th>KundeNr</th>\n",
       "      <th>Geschlecht</th>\n",
       "      <th>Alter</th>\n",
       "      <th>Einkommen</th>\n",
       "      <th>Zeit</th>\n",
       "      <th>Niederlassung</th>\n",
       "    </tr>\n",
       "  </thead>\n",
       "  <tbody>\n",
       "    <tr>\n",
       "      <th>0</th>\n",
       "      <td>K1105</td>\n",
       "      <td>0</td>\n",
       "      <td>42</td>\n",
       "      <td>57149.498007</td>\n",
       "      <td>35.0</td>\n",
       "      <td>Hessen</td>\n",
       "    </tr>\n",
       "    <tr>\n",
       "      <th>1</th>\n",
       "      <td>K1106</td>\n",
       "      <td>1</td>\n",
       "      <td>34</td>\n",
       "      <td>43358.564350</td>\n",
       "      <td>33.0</td>\n",
       "      <td>Berlin</td>\n",
       "    </tr>\n",
       "    <tr>\n",
       "      <th>2</th>\n",
       "      <td>K1107</td>\n",
       "      <td>1</td>\n",
       "      <td>33</td>\n",
       "      <td>45748.426936</td>\n",
       "      <td>55.0</td>\n",
       "      <td>Niedersachsen</td>\n",
       "    </tr>\n",
       "    <tr>\n",
       "      <th>3</th>\n",
       "      <td>K1108</td>\n",
       "      <td>1</td>\n",
       "      <td>57</td>\n",
       "      <td>58633.969764</td>\n",
       "      <td>32.0</td>\n",
       "      <td>Thüringen</td>\n",
       "    </tr>\n",
       "    <tr>\n",
       "      <th>4</th>\n",
       "      <td>K1109</td>\n",
       "      <td>0</td>\n",
       "      <td>43</td>\n",
       "      <td>53592.012684</td>\n",
       "      <td>31.0</td>\n",
       "      <td>Nordrhein-Westfalen</td>\n",
       "    </tr>\n",
       "    <tr>\n",
       "      <th>...</th>\n",
       "      <td>...</td>\n",
       "      <td>...</td>\n",
       "      <td>...</td>\n",
       "      <td>...</td>\n",
       "      <td>...</td>\n",
       "      <td>...</td>\n",
       "    </tr>\n",
       "    <tr>\n",
       "      <th>886</th>\n",
       "      <td>K1991</td>\n",
       "      <td>1</td>\n",
       "      <td>48</td>\n",
       "      <td>59967.313282</td>\n",
       "      <td>21.0</td>\n",
       "      <td>Hessen</td>\n",
       "    </tr>\n",
       "    <tr>\n",
       "      <th>887</th>\n",
       "      <td>K1992</td>\n",
       "      <td>1</td>\n",
       "      <td>67</td>\n",
       "      <td>81521.761443</td>\n",
       "      <td>21.0</td>\n",
       "      <td>Baden-Württemberg</td>\n",
       "    </tr>\n",
       "    <tr>\n",
       "      <th>888</th>\n",
       "      <td>K1993</td>\n",
       "      <td>0</td>\n",
       "      <td>40</td>\n",
       "      <td>41616.572980</td>\n",
       "      <td>48.0</td>\n",
       "      <td>Nordrhein-Westfalen</td>\n",
       "    </tr>\n",
       "    <tr>\n",
       "      <th>889</th>\n",
       "      <td>K1994</td>\n",
       "      <td>1</td>\n",
       "      <td>49</td>\n",
       "      <td>76602.788840</td>\n",
       "      <td>19.0</td>\n",
       "      <td>Berlin</td>\n",
       "    </tr>\n",
       "    <tr>\n",
       "      <th>890</th>\n",
       "      <td>K1995</td>\n",
       "      <td>1</td>\n",
       "      <td>49</td>\n",
       "      <td>54754.525450</td>\n",
       "      <td>44.0</td>\n",
       "      <td>Berlin-Charlottenburg</td>\n",
       "    </tr>\n",
       "  </tbody>\n",
       "</table>\n",
       "<p>891 rows × 6 columns</p>\n",
       "</div>"
      ],
      "text/plain": [
       "    KundeNr  Geschlecht  Alter     Einkommen  Zeit          Niederlassung\n",
       "0     K1105           0     42  57149.498007  35.0                 Hessen\n",
       "1     K1106           1     34  43358.564350  33.0                 Berlin\n",
       "2     K1107           1     33  45748.426936  55.0          Niedersachsen\n",
       "3     K1108           1     57  58633.969764  32.0              Thüringen\n",
       "4     K1109           0     43  53592.012684  31.0    Nordrhein-Westfalen\n",
       "..      ...         ...    ...           ...   ...                    ...\n",
       "886   K1991           1     48  59967.313282  21.0                 Hessen\n",
       "887   K1992           1     67  81521.761443  21.0      Baden-Württemberg\n",
       "888   K1993           0     40  41616.572980  48.0    Nordrhein-Westfalen\n",
       "889   K1994           1     49  76602.788840  19.0                 Berlin\n",
       "890   K1995           1     49  54754.525450  44.0  Berlin-Charlottenburg\n",
       "\n",
       "[891 rows x 6 columns]"
      ]
     },
     "execution_count": 60,
     "metadata": {},
     "output_type": "execute_result"
    }
   ],
   "source": [
    "visitor_geo"
   ]
  },
  {
   "cell_type": "code",
   "execution_count": 27,
   "id": "80f0e240-ff73-45bd-aa3a-c98756fb9b5e",
   "metadata": {},
   "outputs": [
    {
     "name": "stdout",
     "output_type": "stream",
     "text": [
      "Also convertieren wir diese Spalten in integer\n",
      "\n",
      "     KundeNr  Geschlecht  Alter  Einkommen      Preis  Zeit  Niederlassung\n",
      "0      K0001           1     68    89437.0  114481.90    62        Sachsen\n",
      "1      K0002           1     58    65271.0  106258.99    44            NRW\n",
      "2      K0003           1     44    48195.0   85705.57    29         Hessen\n",
      "3      K0004           0     37    48957.0   76412.36    36         Bayern\n",
      "4      K0005           0     50    56621.0   92898.67    40         Bayern\n",
      "...      ...         ...    ...        ...        ...   ...            ...\n",
      "1099   K1100           1     61    82624.0  134755.80    59         Berlin\n",
      "1100   K1101           1     39    37905.0   61717.86    32         Hessen\n",
      "1101   K1102           1     39    40159.0   67170.69    37  Niedersachsen\n",
      "1102   K1103           0     48    45545.0   75700.83    30         Berlin\n",
      "1103   K1104           1     63    80414.0  101554.64    49        Sachsen\n",
      "\n",
      "[1104 rows x 7 columns]\n",
      "\n",
      "KundeNr           object\n",
      "Geschlecht         int64\n",
      "Alter              int64\n",
      "Einkommen        float64\n",
      "Preis            float64\n",
      "Zeit               int64\n",
      "Niederlassung     object\n",
      "dtype: object\n",
      "\n",
      "    KundeNr  Geschlecht  Alter     Einkommen  Zeit          Niederlassung\n",
      "0     K1105           0     42  57149.498007    35                 Hessen\n",
      "1     K1106           1     34  43358.564350    33                 Berlin\n",
      "2     K1107           1     33  45748.426936    55          Niedersachsen\n",
      "3     K1108           1     57  58633.969764    32              Thüringen\n",
      "4     K1109           0     43  53592.012684    31    Nordrhein-Westfalen\n",
      "..      ...         ...    ...           ...   ...                    ...\n",
      "886   K1991           1     48  59967.313282    21                 Hessen\n",
      "887   K1992           1     67  81521.761443    21      Baden-Württemberg\n",
      "888   K1993           0     40  41616.572980    48    Nordrhein-Westfalen\n",
      "889   K1994           1     49  76602.788840    19                 Berlin\n",
      "890   K1995           1     49  54754.525450    44  Berlin-Charlottenburg\n",
      "\n",
      "[891 rows x 6 columns]\n",
      "\n",
      "KundeNr           object\n",
      "Geschlecht         int64\n",
      "Alter              int64\n",
      "Einkommen        float64\n",
      "Zeit               int64\n",
      "Niederlassung     object\n",
      "dtype: object\n"
     ]
    }
   ],
   "source": [
    "print(\"Also convertieren wir diese Spalten in integer\")\n",
    "print(\n",
    "    )\n",
    "customer_geo_retype = customer_geo.astype({'Geschlecht': int, 'Alter': int, 'Zeit': int})\n",
    "print(customer_geo_retype)\n",
    "print(\n",
    "    )\n",
    "print(customer_geo_retype.dtypes)\n",
    "print(\n",
    "    )\n",
    "visitor_geo_retype = visitor_geo.astype({'Geschlecht': int, 'Alter': int, 'Zeit': int})\n",
    "print(visitor_geo_retype)\n",
    "print(\n",
    "    )\n",
    "print(visitor_geo_retype.dtypes)"
   ]
  },
  {
   "cell_type": "code",
   "execution_count": 28,
   "id": "6a4af9ef-7210-46f4-b62d-c1fb047a04dc",
   "metadata": {},
   "outputs": [
    {
     "name": "stdout",
     "output_type": "stream",
     "text": [
      "Sind alle Werte für 'Einkommen' und 'Preis' in customer_geo ganzzahlig?\n",
      "\n",
      "Nicht alle Werte in der Spalte 'Einkommen' sind ganze Zahlen.\n",
      "Nicht alle Werte in der Spalte 'Preis' sind ganze Zahlen.\n",
      "\n",
      "Sind alle Werte für 'Einkommen' in visitor_geo ganzzahlig?\n",
      "\n",
      "Nicht alle Werte in der Spalte 'Einkommen' sind ganze Zahlen.\n"
     ]
    }
   ],
   "source": [
    "print(\"Sind alle Werte für 'Einkommen' und 'Preis' in customer_geo ganzzahlig?\")\n",
    "print(\n",
    "    )\n",
    "columns_are_int_c = ['Einkommen', 'Preis']\n",
    "\n",
    "for col in columns_are_int_c:\n",
    "    customer_geo_is_int_c = customer_geo[col].apply(lambda x: np.equal(x, np.round(x))).all()\n",
    "    \n",
    "    if customer_geo_is_int_c:\n",
    "        print(f\"Alle Werte in der Spalte '{col}' sind ganze Zahlen.\")\n",
    "    else:\n",
    "        print(f\"Nicht alle Werte in der Spalte '{col}' sind ganze Zahlen.\")\n",
    "print(\n",
    "    )\n",
    "\n",
    "print(\"Sind alle Werte für 'Einkommen' in visitor_geo ganzzahlig?\")\n",
    "print(\n",
    "    )\n",
    "columns_are_int_d = ['Einkommen']\n",
    "\n",
    "for col in columns_are_int_d:\n",
    "    visitor_geo_is_int_d = visitor_geo[col].apply(lambda x: np.equal(x, np.round(x))).all()\n",
    "    \n",
    "    if visitor_geo_is_int_d:\n",
    "        print(f\"Alle Werte in der Spalte '{col}' sind ganze Zahlen.\")\n",
    "    else:\n",
    "        print(f\"Nicht alle Werte in der Spalte '{col}' sind ganze Zahlen.\")"
   ]
  },
  {
   "cell_type": "code",
   "execution_count": 29,
   "id": "364cd596-ea66-41d7-958b-cb0d173398d7",
   "metadata": {},
   "outputs": [
    {
     "name": "stdout",
     "output_type": "stream",
     "text": [
      "Welchen Datentyp haben 'Einkommen' und 'Preis'?\n",
      "\n",
      "KundeNr           object\n",
      "Geschlecht         int64\n",
      "Alter              int64\n",
      "Einkommen        float64\n",
      "Preis            float64\n",
      "Zeit               int64\n",
      "Niederlassung     object\n",
      "dtype: object\n"
     ]
    }
   ],
   "source": [
    "print(\"Welchen Datentyp haben 'Einkommen' und 'Preis'?\")\n",
    "print(\n",
    "    )\n",
    "print(customer_geo_retype.dtypes)"
   ]
  },
  {
   "cell_type": "code",
   "execution_count": 31,
   "id": "33a9d26b-9faa-4275-8519-73db0a7873ee",
   "metadata": {},
   "outputs": [
    {
     "name": "stdout",
     "output_type": "stream",
     "text": [
      "Da Einkommen und Preis Geldwerte sind convertieren wir diese als float mit zwei Decimalstellen.\n",
      "\n",
      "Customer\n",
      "     KundeNr  Geschlecht  Alter  Einkommen      Preis  Zeit  Niederlassung\n",
      "0      K0001           1     68    89437.0  114481.90    62        Sachsen\n",
      "1      K0002           1     58    65271.0  106258.99    44            NRW\n",
      "2      K0003           1     44    48195.0   85705.57    29         Hessen\n",
      "3      K0004           0     37    48957.0   76412.36    36         Bayern\n",
      "4      K0005           0     50    56621.0   92898.67    40         Bayern\n",
      "...      ...         ...    ...        ...        ...   ...            ...\n",
      "1099   K1100           1     61    82624.0  134755.80    59         Berlin\n",
      "1100   K1101           1     39    37905.0   61717.86    32         Hessen\n",
      "1101   K1102           1     39    40159.0   67170.69    37  Niedersachsen\n",
      "1102   K1103           0     48    45545.0   75700.83    30         Berlin\n",
      "1103   K1104           1     63    80414.0  101554.64    49        Sachsen\n",
      "\n",
      "[1104 rows x 7 columns]\n",
      "\n",
      "KundeNr           object\n",
      "Geschlecht         int64\n",
      "Alter              int64\n",
      "Einkommen        float64\n",
      "Preis            float64\n",
      "Zeit               int64\n",
      "Niederlassung     object\n",
      "dtype: object\n",
      "\n",
      "Visitor\n",
      "    KundeNr  Geschlecht  Alter  Einkommen  Zeit          Niederlassung\n",
      "0     K1105           0     42   57149.50    35                 Hessen\n",
      "1     K1106           1     34   43358.56    33                 Berlin\n",
      "2     K1107           1     33   45748.43    55          Niedersachsen\n",
      "3     K1108           1     57   58633.97    32              Thüringen\n",
      "4     K1109           0     43   53592.01    31    Nordrhein-Westfalen\n",
      "..      ...         ...    ...        ...   ...                    ...\n",
      "886   K1991           1     48   59967.31    21                 Hessen\n",
      "887   K1992           1     67   81521.76    21      Baden-Württemberg\n",
      "888   K1993           0     40   41616.57    48    Nordrhein-Westfalen\n",
      "889   K1994           1     49   76602.79    19                 Berlin\n",
      "890   K1995           1     49   54754.53    44  Berlin-Charlottenburg\n",
      "\n",
      "[891 rows x 6 columns]\n",
      "\n",
      "KundeNr           object\n",
      "Geschlecht         int64\n",
      "Alter              int64\n",
      "Einkommen        float64\n",
      "Zeit               int64\n",
      "Niederlassung     object\n",
      "dtype: object\n"
     ]
    }
   ],
   "source": [
    "print(\"Da Einkommen und Preis Geldwerte sind convertieren wir diese als float mit zwei Decimalstellen.\")\n",
    "print(\n",
    "    )\n",
    "customer_geo_retype['Einkommen'] = pd.to_numeric(customer_geo_retype['Einkommen'], errors='coerce')\n",
    "customer_geo_retype['Preis'] = pd.to_numeric(customer_geo_retype['Preis'], errors='coerce')\n",
    "\n",
    "customer_geo_retype['Einkommen'] = customer_geo_retype['Einkommen'].astype(float)\n",
    "customer_geo_retype['Preis'] = customer_geo_retype['Preis'].astype(float)\n",
    "\n",
    "customer_geo_retype['Einkommen'] = customer_geo_retype['Einkommen'].round(2)\n",
    "customer_geo_retype['Preis'] = customer_geo_retype['Preis'].round(2)\n",
    "\n",
    "print(\"Customer\")\n",
    "print(customer_geo_retype)\n",
    "print(\n",
    "    )\n",
    "print(customer_geo_retype.dtypes)\n",
    "print(\n",
    "    )\n",
    "visitor_geo_retype['Einkommen'] = pd.to_numeric(visitor_geo_retype['Einkommen'], errors='coerce')\n",
    "\n",
    "visitor_geo_retype['Einkommen'] = visitor_geo_retype['Einkommen'].astype(float)\n",
    "\n",
    "visitor_geo_retype['Einkommen'] = visitor_geo_retype['Einkommen'].round(2)\n",
    "\n",
    "print(\"Visitor\")\n",
    "print(visitor_geo_retype)\n",
    "print(\n",
    "    )\n",
    "print(visitor_geo_retype.dtypes)"
   ]
  },
  {
   "cell_type": "code",
   "execution_count": 32,
   "id": "ff338c13-edb7-4b0a-b9cd-ba9600fd5a20",
   "metadata": {},
   "outputs": [
    {
     "name": "stdout",
     "output_type": "stream",
     "text": [
      "Treten unter den Values für 'Niederlassung Doppelungen auf?\n",
      "\n",
      "['Sachsen' 'NRW' 'Hessen' 'Bayern' 'Baden-Württemberg'\n",
      " 'Nordrhein-Westfalen' 'Berlin' 'Niedersachsen' 'Brandenburg' 'Thüringen'\n",
      " 'Hamburg' 'Düsseldorf' 'Berlin-Charlottenburg' 'Berlin-Mitte' 'BERLIN']\n",
      "\n",
      "['Hessen' 'Berlin' 'Niedersachsen' 'Thüringen' 'Nordrhein-Westfalen'\n",
      " 'Baden-Württemberg' 'Bayern' 'Hamburg' 'Sachsen' 'Brandenburg' 'BERLIN'\n",
      " 'Düsseldorf' 'NRW' 'Berlin-Charlottenburg']\n",
      "\n",
      "Ja. Wir fassen NRW; Nordrhein-westfalen unter Nordrhein-westfalen und BERLIN; Berlin-Charlottenburg; Berlin-Mitte; Berlin unter Berlin zusammen.\n"
     ]
    }
   ],
   "source": [
    "print(\"Treten unter den Values für 'Niederlassung Doppelungen auf?\")\n",
    "print(\n",
    "    )\n",
    "Niederlassung_unique_values_customer = customer_geo_retype['Niederlassung'].unique()\n",
    "print(Niederlassung_unique_values_customer)\n",
    "print(\n",
    "    )\n",
    "Niederlassung_unique_values_visitor = visitor_geo_retype['Niederlassung'].unique()\n",
    "print(Niederlassung_unique_values_visitor)\n",
    "print(\n",
    "    )\n",
    "print(\"Ja.\"\" Wir fassen NRW; Nordrhein-westfalen unter Nordrhein-westfalen und BERLIN; Berlin-Charlottenburg; Berlin-Mitte; Berlin unter Berlin zusammen.\")"
   ]
  },
  {
   "cell_type": "code",
   "execution_count": 33,
   "id": "84ab3b23-d5d9-45ef-a805-df42783aa3e9",
   "metadata": {},
   "outputs": [
    {
     "name": "stdout",
     "output_type": "stream",
     "text": [
      "Customer\n",
      "     KundeNr  Geschlecht  Alter  Einkommen      Preis  Zeit  \\\n",
      "0      K0001           1     68    89437.0  114481.90    62   \n",
      "1      K0002           1     58    65271.0  106258.99    44   \n",
      "2      K0003           1     44    48195.0   85705.57    29   \n",
      "3      K0004           0     37    48957.0   76412.36    36   \n",
      "4      K0005           0     50    56621.0   92898.67    40   \n",
      "...      ...         ...    ...        ...        ...   ...   \n",
      "1099   K1100           1     61    82624.0  134755.80    59   \n",
      "1100   K1101           1     39    37905.0   61717.86    32   \n",
      "1101   K1102           1     39    40159.0   67170.69    37   \n",
      "1102   K1103           0     48    45545.0   75700.83    30   \n",
      "1103   K1104           1     63    80414.0  101554.64    49   \n",
      "\n",
      "            Niederlassung  \n",
      "0                 Sachsen  \n",
      "1     Nordrhein-Westfalen  \n",
      "2                  Hessen  \n",
      "3                  Bayern  \n",
      "4                  Bayern  \n",
      "...                   ...  \n",
      "1099               Berlin  \n",
      "1100               Hessen  \n",
      "1101        Niedersachsen  \n",
      "1102               Berlin  \n",
      "1103              Sachsen  \n",
      "\n",
      "[1104 rows x 7 columns]\n",
      "\n",
      "Visitor\n",
      "    KundeNr  Geschlecht  Alter  Einkommen  Zeit        Niederlassung\n",
      "0     K1105           0     42   57149.50    35               Hessen\n",
      "1     K1106           1     34   43358.56    33               Berlin\n",
      "2     K1107           1     33   45748.43    55        Niedersachsen\n",
      "3     K1108           1     57   58633.97    32            Thüringen\n",
      "4     K1109           0     43   53592.01    31  Nordrhein-Westfalen\n",
      "..      ...         ...    ...        ...   ...                  ...\n",
      "886   K1991           1     48   59967.31    21               Hessen\n",
      "887   K1992           1     67   81521.76    21    Baden-Württemberg\n",
      "888   K1993           0     40   41616.57    48  Nordrhein-Westfalen\n",
      "889   K1994           1     49   76602.79    19               Berlin\n",
      "890   K1995           1     49   54754.53    44               Berlin\n",
      "\n",
      "[891 rows x 6 columns]\n"
     ]
    }
   ],
   "source": [
    "customer_geo_retype['Niederlassung'] = customer_geo_retype['Niederlassung'].replace({\n",
    "    'NRW': 'Nordrhein-Westfalen',\n",
    "    'BERLIN': 'Berlin',\n",
    "    'Berlin-Charlottenburg': 'Berlin',\n",
    "    'Berlin-Mitte': 'Berlin'\n",
    "})\n",
    "\n",
    "visitor_geo_retype['Niederlassung'] = visitor_geo_retype['Niederlassung'].replace({\n",
    "    'NRW': 'Nordrhein-Westfalen',\n",
    "    'BERLIN': 'Berlin',\n",
    "    'Berlin-Charlottenburg': 'Berlin',\n",
    "    'Berlin-Mitte': 'Berlin'\n",
    "})\n",
    "print(\"Customer\")\n",
    "print(customer_geo_retype)\n",
    "print(\n",
    "    )\n",
    "print(\"Visitor\")\n",
    "print(visitor_geo_retype)"
   ]
  },
  {
   "cell_type": "code",
   "execution_count": 34,
   "id": "25440b0b-763d-41ad-a071-8155f2471731",
   "metadata": {},
   "outputs": [
    {
     "name": "stdout",
     "output_type": "stream",
     "text": [
      "Sind nun noch Doppelungen vorhanden?\n",
      "\n",
      "Keine ungewollten Werte gefunden.\n",
      "\n",
      "Keine ungewollten Werte gefunden.\n"
     ]
    }
   ],
   "source": [
    "print(\"Sind nun noch Doppelungen vorhanden?\")\n",
    "  \n",
    "filtered_df_customer = customer_geo_retype[customer_geo_retype['Niederlassung'].isin(['Nordrhein-Westfalen', 'Berlin'])]\n",
    "remaining_unwanted_values_customer = customer_geo_retype[customer_geo_retype['Niederlassung'].isin(['NRW', 'BERLIN', 'Berlin-Charlottenburg', 'Berlin-Mitte'])]\n",
    "\n",
    "if not remaining_unwanted_values_customer.empty:\n",
    "    print(\"\\nUngewollte Werte gefunden:\")\n",
    "    print(remaining_unwanted_values_customer)\n",
    "else:\n",
    "    print(\"\\nKeine ungewollten Werte gefunden.\")\n",
    "\n",
    "filtered_df_visitor = visitor_geo_retype[visitor_geo_retype['Niederlassung'].isin(['Nordrhein-Westfalen', 'Berlin'])]\n",
    "remaining_unwanted_values_visitor = visitor_geo_retype[visitor_geo_retype['Niederlassung'].isin(['NRW', 'BERLIN', 'Berlin-Charlottenburg', 'Berlin-Mitte'])]\n",
    "\n",
    "if not remaining_unwanted_values_visitor.empty:\n",
    "    print(\"\\nUngewollte Werte gefunden:\")\n",
    "    print(remaining_unwanted_values_visitor)\n",
    "else:\n",
    "    print(\"\\nKeine ungewollten Werte gefunden.\")"
   ]
  },
  {
   "cell_type": "code",
   "execution_count": 35,
   "id": "7b03ae42-ca63-4683-a9df-1c2c0fe4f535",
   "metadata": {},
   "outputs": [
    {
     "name": "stdout",
     "output_type": "stream",
     "text": [
      "KundeNr           object\n",
      "Geschlecht         int64\n",
      "Alter              int64\n",
      "Einkommen        float64\n",
      "Zeit             float64\n",
      "Niederlassung     object\n",
      "dtype: object\n"
     ]
    }
   ],
   "source": [
    "print(visitor_geo.dtypes)"
   ]
  },
  {
   "cell_type": "code",
   "execution_count": null,
   "id": "5c5e8021-4e59-455c-a51f-afc88a0d5bfc",
   "metadata": {},
   "outputs": [],
   "source": [
    "# Visuelle & Statistische Ausreißerbereinigung von Customer"
   ]
  },
  {
   "cell_type": "code",
   "execution_count": 36,
   "id": "55712ec9-7efc-44cd-b0a1-4205ee90dfe3",
   "metadata": {},
   "outputs": [
    {
     "data": {
      "image/png": "[encoded data removed]",
      "text/plain": [
       "<Figure size 640x480 with 1 Axes>"
      ]
     },
     "metadata": {},
     "output_type": "display_data"
    }
   ],
   "source": [
    "plt.hist(customer_geo_retype['Geschlecht'], bins=[-0.5, 0.5, 1.5], edgecolor='black')  # Bins für 0 und 1 festlegen\n",
    "plt.xticks([0, 1], ['0', '1'])  # Beschriftungen der x-Achse festlegen\n",
    "plt.xlabel('Geschlecht')\n",
    "plt.ylabel('Frequency')\n",
    "plt.title('Histogram of Geschlecht')\n",
    "for i in range(2):  # 0 und 1\n",
    "    count = customer_geo_retype['Geschlecht'].value_counts()[i]\n",
    "    plt.text(i, count, str(count), ha='center', va='bottom')\n",
    "plt.grid(axis='y', alpha=0.75)\n",
    "plt.show()"
   ]
  },
  {
   "cell_type": "code",
   "execution_count": 37,
   "id": "9f515bcb-d0d7-4a56-ab86-4b9a231a5827",
   "metadata": {
    "scrolled": true
   },
   "outputs": [
    {
     "data": {
      "image/png": "[encoded data removed]",
      "text/plain": [
       "<Figure size 640x480 with 1 Axes>"
      ]
     },
     "metadata": {},
     "output_type": "display_data"
    },
    {
     "name": "stdout",
     "output_type": "stream",
     "text": [
      "Untergrenze für Ausreißer: 8.5\n",
      "Obergrenze für Ausreißer: 92.5\n",
      "Ausreißer:\n",
      "    KundeNr  Geschlecht  Alter  Einkommen      Preis  Zeit      Niederlassung\n",
      "38    K0039           1    120    61857.0  104214.07    52  Baden-Württemberg\n",
      "493   K0494           0    100    88749.0  119134.23    64             Bayern\n",
      "Eine Untergrenze von 8.5 macht keinen Sinn, da in Deutschland erst ab 18 Jahren Auto gefahren werden darf.\n",
      "Eine Obergrenze von 92.5 macht aus unserer Sicht Sinn, da eine so alte Person bestimmt nicht mehr Auto fahren würden, aber in Einzelfällen ein Auto für eine andere Person Kaufen könnte.\n",
      "In unserem Fall macht dieses Vorgehen die beiden einzigen über 80 liegenden Altersangaben zu Ausreißern.\n",
      "\n",
      "Da wir eine moderat linksschiefe und extrem Rechtssteile verteilung vorliegen haben, ersetzen wir beide Werte mit dem Median\n"
     ]
    }
   ],
   "source": [
    "n, bins, patches = plt.hist(customer_geo_retype['Alter'], bins=range(20, 140, 10), edgecolor='black')  # Bins von 15 bis 135 in 10er-Schritten festlegen\n",
    "plt.xticks(range(20, 140, 10))  # 10er-Schritte auf der x-Achse festlegen\n",
    "plt.xlabel('Alter')\n",
    "plt.ylabel('Frequency')\n",
    "plt.title('Histogramm Alter Customer')\n",
    "\n",
    "# Anzahl der Werte über jedem Balken anzeigen\n",
    "for i in range(len(patches)):\n",
    "    height = patches[i].get_height()\n",
    "    plt.text(patches[i].get_x() + patches[i].get_width() / 2, height, int(height), ha='center', va='bottom')\n",
    "\n",
    "plt.grid(axis='y', alpha=0.75)  # Gitterlinien hinzufügen\n",
    "plt.show()\n",
    "\n",
    "q1 = customer_geo_retype['Alter'].quantile(0.25)\n",
    "q3 = customer_geo_retype['Alter'].quantile(0.75)\n",
    "iqr = q3 - q1\n",
    "\n",
    "# Bestimmen der unteren und oberen Grenzen für Ausreißer\n",
    "lower_bound = q1 - 1.5 * iqr\n",
    "upper_bound = q3 + 1.5 * iqr\n",
    "\n",
    "# Identifizieren von Ausreißern\n",
    "outliers = customer_geo_retype[(customer_geo_retype['Alter'] < lower_bound) | (customer_geo_retype['Alter'] > upper_bound)]\n",
    "\n",
    "print(\"Untergrenze für Ausreißer:\", lower_bound)\n",
    "print(\"Obergrenze für Ausreißer:\", upper_bound)\n",
    "print(\"Ausreißer:\")\n",
    "print(outliers)\n",
    "print(\"Eine Untergrenze von 8.5 macht keinen Sinn, da in Deutschland erst ab 18 Jahren Auto gefahren werden darf.\")\n",
    "print(\"Eine Obergrenze von 92.5 macht aus unserer Sicht Sinn, da eine so alte Person bestimmt nicht mehr Auto fahren würden, aber in Einzelfällen ein Auto für eine andere Person Kaufen könnte.\")\n",
    "print(\"In unserem Fall macht dieses Vorgehen die beiden einzigen über 80 liegenden Altersangaben zu Ausreißern.\")\n",
    "print(\n",
    ")\n",
    "print(\"Da wir eine moderat linksschiefe und extrem Rechtssteile verteilung vorliegen haben, ersetzen wir beide Werte mit dem Median\")    \n"
   ]
  },
  {
   "cell_type": "code",
   "execution_count": 38,
   "id": "24155c72-642c-4ab2-aa03-e0fdcfb0f597",
   "metadata": {},
   "outputs": [
    {
     "data": {
      "image/png": "[encoded data removed]",
      "text/plain": [
       "<Figure size 640x480 with 1 Axes>"
      ]
     },
     "metadata": {},
     "output_type": "display_data"
    }
   ],
   "source": [
    "median = customer_geo_retype['Alter'].median()\n",
    "\n",
    "# Berechnung des Interquartilsabstands (IQR) für die Spalte 'Alter'\n",
    "q1 = customer_geo_retype['Alter'].quantile(0.25)\n",
    "q3 = customer_geo_retype['Alter'].quantile(0.75)\n",
    "iqr = q3 - q1\n",
    "\n",
    "lower_bound = q1 - 1.5 * iqr\n",
    "upper_bound = q3 + 1.5 * iqr\n",
    "\n",
    "customer_geo_retype['Alter'] = customer_geo_retype['Alter'].apply(lambda x: median if x < lower_bound or x > upper_bound else x)\n",
    "\n",
    "n, bins, patches = plt.hist(customer_geo_retype['Alter'], bins=range(30, 90, 10), edgecolor='black')  \n",
    "plt.xticks(range(30, 90, 10))\n",
    "plt.xlabel('Alter')\n",
    "plt.ylabel('Frequency')\n",
    "plt.title('Histogramm Alter Customer')\n",
    "for i in range(len(patches)):\n",
    "    height = patches[i].get_height()\n",
    "    plt.text(patches[i].get_x() + patches[i].get_width() / 2, height, int(height), ha='center', va='bottom')\n",
    "\n",
    "plt.grid(axis='y', alpha=0.75)\n",
    "plt.show()"
   ]
  },
  {
   "cell_type": "code",
   "execution_count": 39,
   "id": "2b4eb613-8228-4bdd-ad88-d5c1c1ec7125",
   "metadata": {
    "scrolled": true
   },
   "outputs": [
    {
     "data": {
      "image/png": "[encoded data removed]",
      "text/plain": [
       "<Figure size 640x480 with 1 Axes>"
      ]
     },
     "metadata": {},
     "output_type": "display_data"
    },
    {
     "name": "stdout",
     "output_type": "stream",
     "text": [
      "Untergrenze: 15883.493750000001\n",
      "Obergrenze: 161819.30375\n",
      "Ausreißer:\n",
      "    KundeNr  Geschlecht  Alter  Einkommen      Preis  Zeit  Niederlassung\n",
      "414   K0415           1   68.0   107689.0  165482.31    60  Niedersachsen\n"
     ]
    }
   ],
   "source": [
    "customer_geo_retype['Preis'].hist()\n",
    "plt.xlabel('Preis')\n",
    "plt.ylabel('Frequency')\n",
    "plt.title('Histogramm Preis')\n",
    "plt.show()\n",
    "\n",
    "q1 = customer_geo_retype['Preis'].quantile(0.25)\n",
    "q3 = customer_geo_retype['Preis'].quantile(0.75)\n",
    "iqr = q3 - q1\n",
    "\n",
    "# Bestimmen der unteren und oberen Grenzen für Ausreißer\n",
    "lower_bound = q1 - 1.5 * iqr\n",
    "upper_bound = q3 + 1.5 * iqr\n",
    "\n",
    "print(f\"Untergrenze: {lower_bound}\")\n",
    "print(f\"Obergrenze: {upper_bound}\")\n",
    "\n",
    "# Identifizierung der Ausreißer\n",
    "outliers = customer_geo_retype[(customer_geo_retype['Preis'] < lower_bound) | (customer_geo_retype['Preis'] > upper_bound)]\n",
    "print(\"Ausreißer:\")\n",
    "print(outliers)"
   ]
  },
  {
   "cell_type": "code",
   "execution_count": 40,
   "id": "26f38446-fcc4-4724-9d85-b32babc44af8",
   "metadata": {},
   "outputs": [
    {
     "name": "stdout",
     "output_type": "stream",
     "text": [
      "KundeNr                 K1105\n",
      "Geschlecht                  0\n",
      "Alter                      30\n",
      "Einkommen        10802.033307\n",
      "Zeit                      3.0\n",
      "Niederlassung          BERLIN\n",
      "dtype: object\n",
      "        Geschlecht        Alter     Einkommen          Preis         Zeit\n",
      "count  1104.000000  1104.000000  1.104000e+03    1104.000000  1104.000000\n",
      "mean      0.637681    50.481884  9.644748e+05   88975.198714    44.375906\n",
      "std       0.480888    12.225059  3.009470e+07   24464.067781    10.848040\n",
      "min       0.000000    30.000000 -6.284037e+04   21471.650000    12.000000\n",
      "25%       0.000000    40.000000  4.663850e+04   70609.422500    37.000000\n",
      "50%       1.000000    51.000000  5.901300e+04   88931.455000    44.000000\n",
      "75%       1.000000    61.000000  7.029800e+04  107093.375000    52.000000\n",
      "max       1.000000   120.000000  1.000000e+09  165482.310000    80.000000\n"
     ]
    }
   ],
   "source": [
    "print(visitor_geo.min())\n",
    "print(customer_geo.describe())"
   ]
  },
  {
   "cell_type": "code",
   "execution_count": 41,
   "id": "87bf0e61-c04d-493b-965e-b45453db31ef",
   "metadata": {
    "scrolled": true
   },
   "outputs": [
    {
     "data": {
      "image/png": "[encoded data removed]",
      "text/plain": [
       "<Figure size 640x480 with 1 Axes>"
      ]
     },
     "metadata": {},
     "output_type": "display_data"
    },
    {
     "name": "stdout",
     "output_type": "stream",
     "text": [
      "1003 der 1004 Angaben zum Einkommen bewegen sich zwischen 14547 € und 107689€ und sind realistisch\n",
      "Einer liegt bei 1000000000. Diesen stufen wir als Ausreißer ein.\n",
      "Er kann eine Fehlangaben, ein Datenverarbeitungsfehler oder ein extremer Einzelfall sein.\n"
     ]
    }
   ],
   "source": [
    "bins = [0, 20000, 40000, 60000, 80000, 100000, 120000]\n",
    "\n",
    "plt.hist(customer_geo_retype['Einkommen'], bins=bins, edgecolor='black')\n",
    "\n",
    "plt.xlabel('Einkommen')\n",
    "plt.ylabel('Frequency')\n",
    "plt.title('Histogramm Einkommen')\n",
    "for i in range(len(bins)-1):\n",
    "    count = ((customer_geo_retype['Einkommen'] >= bins[i]) & (customer_geo_retype['Einkommen'] < bins[i+1])).sum()\n",
    "    plt.text((bins[i] + bins[i+1]) / 2, count, str(count), ha='center', va='bottom')\n",
    "\n",
    "plt.show()\n",
    "\n",
    "print(\"1003 der 1004 Angaben zum Einkommen bewegen sich zwischen 14547 € und 107689€ und sind realistisch\")\n",
    "print(\"Einer liegt bei 1000000000. Diesen stufen wir als Ausreißer ein.\")\n",
    "print(\"Er kann eine Fehlangaben, ein Datenverarbeitungsfehler oder ein extremer Einzelfall sein.\")"
   ]
  },
  {
   "cell_type": "code",
   "execution_count": 42,
   "id": "94d27e92-03ed-4f85-8e9f-cce29b26892d",
   "metadata": {},
   "outputs": [
    {
     "name": "stdout",
     "output_type": "stream",
     "text": [
      "\n",
      "DataFrame nach der Ersetzung:\n",
      "        Geschlecht        Alter      Einkommen          Preis         Zeit\n",
      "count  1104.000000  1104.000000    1104.000000    1104.000000  1104.000000\n",
      "mean      0.637681    50.375000   58841.233212   88975.198714    44.375906\n",
      "std       0.480888    11.951426   16603.953365   24464.067781    10.848040\n",
      "min       0.000000    30.000000       0.000000   21471.650000    12.000000\n",
      "25%       0.000000    40.000000   46662.750000   70609.422500    37.000000\n",
      "50%       1.000000    51.000000   59011.500000   88931.455000    44.000000\n",
      "75%       1.000000    61.000000   70281.750000  107093.375000    52.000000\n",
      "max       1.000000    70.000000  107689.000000  165482.310000    80.000000\n"
     ]
    }
   ],
   "source": [
    "valid_mean = customer_geo_retype[(customer_geo_retype['Einkommen'] >= 0) & (customer_geo_retype['Einkommen'] <= 500000)]['Einkommen'].mean()\n",
    "\n",
    "# Ersetzen der Ausreißer durch den Durchschnitt\n",
    "customer_geo_retype['Einkommen'] = customer_geo_retype['Einkommen'].apply(lambda x: valid_mean if x < 0 or x > 500000 else x)\n",
    "\n",
    "# Drucken der ersetzen Zeilen (Ausreißer)\n",
    "replaced_values = customer_geo_retype[(customer_geo_retype['Einkommen'] < 0) | (customer_geo_retype['Einkommen'] > 500000)]\n",
    "\n",
    "# Ergebnis anzeigen\n",
    "print(\"\\nDataFrame nach der Ersetzung:\")\n",
    "print(customer_geo_retype.describe())\n"
   ]
  },
  {
   "cell_type": "code",
   "execution_count": 43,
   "id": "0b86fe82-2f14-4e70-9814-310e96ab5a13",
   "metadata": {},
   "outputs": [
    {
     "data": {
      "image/png": "[encoded data removed]",
      "text/plain": [
       "<Figure size 640x480 with 1 Axes>"
      ]
     },
     "metadata": {},
     "output_type": "display_data"
    }
   ],
   "source": [
    "customer_geo_retype['Zeit'].hist()\n",
    "plt.xlabel('Zeit')\n",
    "plt.ylabel('Frequency')\n",
    "plt.title('Histogram Zeit')\n",
    "plt.show()"
   ]
  },
  {
   "cell_type": "code",
   "execution_count": 45,
   "id": "7ded786e-cc63-4230-a391-1ba75737c549",
   "metadata": {},
   "outputs": [
    {
     "name": "stdout",
     "output_type": "stream",
     "text": [
      "Untergrenze: 14.5\n",
      "Obergrenze: 74.5\n",
      "Ausreißer:\n",
      "Empty DataFrame\n",
      "Columns: [KundeNr, Geschlecht, Alter, Einkommen, Preis, Zeit, Niederlassung]\n",
      "Index: []\n",
      "        Geschlecht        Alter      Einkommen          Preis         Zeit\n",
      "count  1104.000000  1104.000000    1104.000000    1104.000000  1104.000000\n",
      "mean      0.637681    50.375000   58841.233212   88975.198714    44.372495\n",
      "std       0.480888    11.951426   16603.953365   24464.067781    10.582091\n",
      "min       0.000000    30.000000       0.000000   21471.650000    15.000000\n",
      "25%       0.000000    40.000000   46662.750000   70609.422500    37.000000\n",
      "50%       1.000000    51.000000   59011.500000   88931.455000    44.000000\n",
      "75%       1.000000    61.000000   70281.750000  107093.375000    52.000000\n",
      "max       1.000000    70.000000  107689.000000  165482.310000    74.000000\n",
      "Wir setzen die Untergrenze in Sachen 'Zeit' auf 20. Wir glauben, dass diese niedrig aber für Einzelfälle Realistisch ist.\n",
      "Die Obergrenze Setzen wir mit 90 hoch. Wir begründen dies damit,\n",
      "dass es nicht umbedingt ungweöhnlich ist bei einem Autokauf genau nachfragende und\n",
      "länger überlegende Kunden im Geschäft zu haben.\n",
      "Wir setzen die Obergrenze in erster linie um Messfehler in extremer höhe heraus zu filtern.\n"
     ]
    }
   ],
   "source": [
    "q1 = customer_geo_retype['Zeit'].quantile(0.25)\n",
    "q3 = customer_geo_retype['Zeit'].quantile(0.75)\n",
    "iqr = q3 - q1\n",
    "\n",
    "lower_bound = q1 - 1.5 * iqr\n",
    "upper_bound = q3 + 1.5 * iqr\n",
    "\n",
    "print(f\"Untergrenze: {lower_bound}\")\n",
    "print(f\"Obergrenze: {upper_bound}\")\n",
    "\n",
    "outliers = customer_geo_retype[(customer_geo_retype['Zeit'] < lower_bound) | (customer_geo_retype['Zeit'] > upper_bound)]\n",
    "print(\"Ausreißer:\")\n",
    "print(outliers)\n",
    "\n",
    "non_outliers_mean = customer_geo_retype[(customer_geo_retype['Zeit'] >= lower_bound) & (customer_geo_retype['Zeit'] <= upper_bound)]['Zeit'].mean()\n",
    "customer_geo_retype['Zeit'] = customer_geo_retype['Zeit'].apply(lambda x: non_outliers_mean if x < lower_bound or x > upper_bound else x)\n",
    "print(customer_geo_retype.describe())\n",
    "\n",
    "print(\"Wir setzen die Untergrenze in Sachen 'Zeit' auf 20. Wir glauben, dass diese niedrig aber für Einzelfälle Realistisch ist.\")\n",
    "print(\"Die Obergrenze Setzen wir mit 90 hoch. Wir begründen dies damit,\") \n",
    "print(\"dass es nicht umbedingt ungweöhnlich ist bei einem Autokauf genau nachfragende und\")\n",
    "print(\"länger überlegende Kunden im Geschäft zu haben.\")\n",
    "print(\"Wir setzen die Obergrenze in erster linie um Messfehler in extremer höhe heraus zu filtern.\")"
   ]
  },
  {
   "cell_type": "code",
   "execution_count": null,
   "id": "60d4e5d8-9d26-43e0-9a18-f9cb6702ca4f",
   "metadata": {},
   "outputs": [],
   "source": [
    "# Visuelle & Statistische Ausreißerbereinigung von Customer"
   ]
  },
  {
   "cell_type": "code",
   "execution_count": 46,
   "id": "3ede4d8b-fb17-4401-8ab9-d5baef3f92b4",
   "metadata": {},
   "outputs": [
    {
     "name": "stdout",
     "output_type": "stream",
     "text": [
      "       Geschlecht       Alter      Einkommen        Zeit\n",
      "count  891.000000  891.000000     891.000000  891.000000\n",
      "mean     0.578002   49.881033   59367.936188   35.166105\n",
      "std      0.494156   11.865889   16164.358221   10.476802\n",
      "min      0.000000   30.000000   10802.033307    3.000000\n",
      "25%      0.000000   40.000000   47816.611417   28.000000\n",
      "50%      1.000000   49.000000   59163.823681   35.000000\n",
      "75%      1.000000   60.000000   71001.378839   43.000000\n",
      "max      1.000000   70.000000  108569.087021   68.000000\n"
     ]
    }
   ],
   "source": [
    "print(visitor_geo.describe())"
   ]
  },
  {
   "cell_type": "code",
   "execution_count": 47,
   "id": "97656662-b31b-4a72-b133-c77236ffb103",
   "metadata": {},
   "outputs": [
    {
     "data": {
      "image/png": "[encoded data removed]",
      "text/plain": [
       "<Figure size 640x480 with 1 Axes>"
      ]
     },
     "metadata": {},
     "output_type": "display_data"
    }
   ],
   "source": [
    "plt.hist(visitor_geo_retype['Geschlecht'], bins=[-0.5, 0.5, 1.5], edgecolor='black')\n",
    "plt.xticks([0, 1], ['0', '1'])\n",
    "plt.xlabel('Geschlecht')\n",
    "plt.ylabel('Frequency')\n",
    "plt.title('Histogramm Geschlecht Visitor')\n",
    "for i in range(2):  # 0 und 1\n",
    "    count = visitor_geo_retype['Geschlecht'].value_counts()[i]\n",
    "    plt.text(i, count, str(count), ha='center', va='bottom')\n",
    "plt.grid(axis='y', alpha=0.75)\n",
    "plt.show()"
   ]
  },
  {
   "cell_type": "code",
   "execution_count": 48,
   "id": "f5ce9a1a-71b0-4e5b-93e5-7d97d5abc7e5",
   "metadata": {},
   "outputs": [
    {
     "data": {
      "image/png": "[encoded data removed]",
      "text/plain": [
       "<Figure size 640x480 with 1 Axes>"
      ]
     },
     "metadata": {},
     "output_type": "display_data"
    }
   ],
   "source": [
    "n, bins, patches = plt.hist(visitor_geo_retype['Alter'], bins=range(20, 140, 10), edgecolor='black')  \n",
    "plt.xticks(range(20, 140, 10))\n",
    "plt.xlabel('Alter')\n",
    "plt.ylabel('Frequency')\n",
    "plt.title('Histogramm Alter Visitor')\n",
    "for i in range(len(patches)):\n",
    "    height = patches[i].get_height()\n",
    "    plt.text(patches[i].get_x() + patches[i].get_width() / 2, height, int(height), ha='center', va='bottom')\n",
    "\n",
    "plt.grid(axis='y', alpha=0.75)\n",
    "plt.show()"
   ]
  },
  {
   "cell_type": "code",
   "execution_count": 49,
   "id": "a2c494c4-3a49-4dae-8bbc-a9e5d1db4313",
   "metadata": {},
   "outputs": [
    {
     "name": "stdout",
     "output_type": "stream",
     "text": [
      "Keine Ausreißer\n"
     ]
    }
   ],
   "source": [
    "print(\"Keine Ausreißer\")"
   ]
  },
  {
   "cell_type": "code",
   "execution_count": 50,
   "id": "751986cf-1345-4b68-96a7-5f723afda2e2",
   "metadata": {},
   "outputs": [
    {
     "data": {
      "image/png": "[encoded data removed]",
      "text/plain": [
       "<Figure size 640x480 with 1 Axes>"
      ]
     },
     "metadata": {},
     "output_type": "display_data"
    }
   ],
   "source": [
    "n, bins, patches = plt.hist(visitor_geo_retype['Alter'], bins=range(30, 90, 10), edgecolor='black')  \n",
    "plt.xticks(range(30, 90, 10))\n",
    "plt.xlabel('Alter')\n",
    "plt.ylabel('Frequency')\n",
    "plt.title('Histogramm Alter Visitor')\n",
    "for i in range(len(patches)):\n",
    "    height = patches[i].get_height()\n",
    "    plt.text(patches[i].get_x() + patches[i].get_width() / 2, height, int(height), ha='center', va='bottom')\n",
    "\n",
    "plt.grid(axis='y', alpha=0.75)\n",
    "plt.show()"
   ]
  },
  {
   "cell_type": "code",
   "execution_count": 51,
   "id": "63a978ab-ab14-456a-b1d0-7007d3b03fa4",
   "metadata": {},
   "outputs": [
    {
     "data": {
      "image/png": "[encoded data removed]",
      "text/plain": [
       "<Figure size 640x480 with 1 Axes>"
      ]
     },
     "metadata": {},
     "output_type": "display_data"
    }
   ],
   "source": [
    "bins = [0, 20000, 40000, 60000, 80000, 100000, 120000]\n",
    "\n",
    "plt.hist(visitor_geo_retype['Einkommen'], bins=bins, edgecolor='black')\n",
    "\n",
    "plt.xlabel('Einkommen')\n",
    "plt.ylabel('Frequency')\n",
    "plt.title('Histogramm Einkommen Visitor')\n",
    "for i in range(len(bins)-1):\n",
    "    count = ((visitor_geo_retype['Einkommen'] >= bins[i]) & (visitor_geo_retype['Einkommen'] < bins[i+1])).sum()\n",
    "    plt.text((bins[i] + bins[i+1]) / 2, count, str(count), ha='center', va='bottom')\n",
    "\n",
    "plt.show()"
   ]
  },
  {
   "cell_type": "code",
   "execution_count": 52,
   "id": "7b7132a5-0da2-4f31-9d2f-5b753a4adc5a",
   "metadata": {},
   "outputs": [
    {
     "data": {
      "image/png": "[encoded data removed]",
      "text/plain": [
       "<Figure size 640x480 with 1 Axes>"
      ]
     },
     "metadata": {},
     "output_type": "display_data"
    }
   ],
   "source": [
    "visitor_geo_retype['Zeit'].hist()\n",
    "plt.xlabel('Zeit')\n",
    "plt.ylabel('Frequency')\n",
    "plt.title('Histogram Zeit Visitor')\n",
    "plt.show()"
   ]
  },
  {
   "cell_type": "code",
   "execution_count": 53,
   "id": "b1a86a30-3467-4860-8db0-fb4d2f93f6f3",
   "metadata": {},
   "outputs": [
    {
     "name": "stdout",
     "output_type": "stream",
     "text": [
      "Untergrenze: 10\n",
      "Obergrenze: 90\n",
      "Ausreißer:\n",
      "    KundeNr  Geschlecht  Alter  Einkommen  Zeit        Niederlassung\n",
      "52    K1157           0     30   30096.84     8            Thüringen\n",
      "91    K1196           1     43   37696.63     7        Niedersachsen\n",
      "442   K1547           1     40   39581.25     5        Niedersachsen\n",
      "518   K1623           1     31   38298.53     3  Nordrhein-Westfalen\n",
      "864   K1969           1     51   70533.44     7    Baden-Württemberg\n",
      "       Geschlecht       Alter      Einkommen        Zeit\n",
      "count  891.000000  891.000000     891.000000  891.000000\n",
      "mean     0.578002   49.881033   59367.936049   35.330700\n",
      "std      0.494156   11.865889   16164.358263   10.243995\n",
      "min      0.000000   30.000000   10802.030000   10.000000\n",
      "25%      0.000000   40.000000   47816.610000   28.000000\n",
      "50%      1.000000   49.000000   59163.820000   35.000000\n",
      "75%      1.000000   60.000000   71001.380000   43.000000\n",
      "max      1.000000   70.000000  108569.090000   68.000000\n"
     ]
    }
   ],
   "source": [
    "q1 = visitor_geo_retype['Zeit'].quantile(0.25)\n",
    "q3 = visitor_geo_retype['Zeit'].quantile(0.75)\n",
    "iqr = q3 - q1\n",
    "\n",
    "# Bestimmen der unteren und oberen Grenzen für Ausreißer\n",
    "lower_bound = 10\n",
    "upper_bound = 90\n",
    "\n",
    "print(f\"Untergrenze: {lower_bound}\")\n",
    "print(f\"Obergrenze: {upper_bound}\")\n",
    "\n",
    "outliers = visitor_geo_retype[(visitor_geo_retype['Zeit'] < lower_bound) | (visitor_geo_retype['Zeit'] > upper_bound)]\n",
    "print(\"Ausreißer:\")\n",
    "print(outliers)\n",
    "\n",
    "non_outliers_mean = visitor_geo_retype[(visitor_geo_retype['Zeit'] >= lower_bound) & (visitor_geo_retype['Zeit'] <= upper_bound)]['Zeit'].mean()\n",
    "\n",
    "visitor_geo_retype['Zeit'] = visitor_geo_retype['Zeit'].apply(lambda x: non_outliers_mean if x < lower_bound or x > upper_bound else x)\n",
    "\n",
    "print(visitor_geo_retype.describe())"
   ]
  },
  {
   "cell_type": "code",
   "execution_count": 54,
   "id": "0ad9448c-4fc5-4404-a37c-f18ad582f8bc",
   "metadata": {},
   "outputs": [
    {
     "name": "stdout",
     "output_type": "stream",
     "text": [
      "Wir setzen die Untergrenze in Sachen 'Zeit' auf 10 Wir glauben, dass diese niedrig aber für Einzelfälle Realistisch ist.\n",
      "Die Obergrenze Setzen wir mit 90 hoch. Wir begründen dies damit,\n",
      "dass es nicht umbedingt ungweöhnlich ist bei einem Autokauf genau nachfragende und\n",
      "länger überlegende Kunden im Geschäft zu haben.\n",
      "Wir setzen die Obergrenze in erster linie um Messfehler in extremer höhe heraus zu filtern.\n"
     ]
    }
   ],
   "source": [
    "print(\"Wir setzen die Untergrenze in Sachen 'Zeit' auf 10 Wir glauben, dass diese niedrig aber für Einzelfälle Realistisch ist.\")\n",
    "print(\"Die Obergrenze Setzen wir mit 90 hoch. Wir begründen dies damit,\") \n",
    "print(\"dass es nicht umbedingt ungweöhnlich ist bei einem Autokauf genau nachfragende und\")\n",
    "print(\"länger überlegende Kunden im Geschäft zu haben.\")\n",
    "print(\"Wir setzen die Obergrenze in erster linie um Messfehler in extremer höhe heraus zu filtern.\")"
   ]
  },
  {
   "cell_type": "code",
   "execution_count": 55,
   "id": "d30587cd-ed8c-46a4-a68b-50c767fbd9e0",
   "metadata": {},
   "outputs": [
    {
     "name": "stdout",
     "output_type": "stream",
     "text": [
      "        Geschlecht        Alter      Einkommen          Preis         Zeit\n",
      "count  1104.000000  1104.000000    1104.000000    1104.000000  1104.000000\n",
      "mean      0.637681    50.375000   58841.233212   88975.198714    44.372495\n",
      "std       0.480888    11.951426   16603.953365   24464.067781    10.582091\n",
      "min       0.000000    30.000000       0.000000   21471.650000    15.000000\n",
      "25%       0.000000    40.000000   46662.750000   70609.422500    37.000000\n",
      "50%       1.000000    51.000000   59011.500000   88931.455000    44.000000\n",
      "75%       1.000000    61.000000   70281.750000  107093.375000    52.000000\n",
      "max       1.000000    70.000000  107689.000000  165482.310000    74.000000\n",
      "     KundeNr  Geschlecht  Alter  Einkommen      Preis  Zeit  \\\n",
      "0      K0001           1   68.0    89437.0  114481.90  62.0   \n",
      "1      K0002           1   58.0    65271.0  106258.99  44.0   \n",
      "2      K0003           1   44.0    48195.0   85705.57  29.0   \n",
      "3      K0004           0   37.0    48957.0   76412.36  36.0   \n",
      "4      K0005           0   50.0    56621.0   92898.67  40.0   \n",
      "...      ...         ...    ...        ...        ...   ...   \n",
      "1099   K1100           1   61.0    82624.0  134755.80  59.0   \n",
      "1100   K1101           1   39.0    37905.0   61717.86  32.0   \n",
      "1101   K1102           1   39.0    40159.0   67170.69  37.0   \n",
      "1102   K1103           0   48.0    45545.0   75700.83  30.0   \n",
      "1103   K1104           1   63.0    80414.0  101554.64  49.0   \n",
      "\n",
      "            Niederlassung  \n",
      "0                 Sachsen  \n",
      "1     Nordrhein-Westfalen  \n",
      "2                  Hessen  \n",
      "3                  Bayern  \n",
      "4                  Bayern  \n",
      "...                   ...  \n",
      "1099               Berlin  \n",
      "1100               Hessen  \n",
      "1101        Niedersachsen  \n",
      "1102               Berlin  \n",
      "1103              Sachsen  \n",
      "\n",
      "[1104 rows x 7 columns]\n",
      "\n",
      "       Geschlecht       Alter      Einkommen        Zeit\n",
      "count  891.000000  891.000000     891.000000  891.000000\n",
      "mean     0.578002   49.881033   59367.936049   35.330700\n",
      "std      0.494156   11.865889   16164.358263   10.243995\n",
      "min      0.000000   30.000000   10802.030000   10.000000\n",
      "25%      0.000000   40.000000   47816.610000   28.000000\n",
      "50%      1.000000   49.000000   59163.820000   35.000000\n",
      "75%      1.000000   60.000000   71001.380000   43.000000\n",
      "max      1.000000   70.000000  108569.090000   68.000000\n",
      "    KundeNr  Geschlecht  Alter  Einkommen  Zeit        Niederlassung\n",
      "0     K1105           0     42   57149.50  35.0               Hessen\n",
      "1     K1106           1     34   43358.56  33.0               Berlin\n",
      "2     K1107           1     33   45748.43  55.0        Niedersachsen\n",
      "3     K1108           1     57   58633.97  32.0            Thüringen\n",
      "4     K1109           0     43   53592.01  31.0  Nordrhein-Westfalen\n",
      "..      ...         ...    ...        ...   ...                  ...\n",
      "886   K1991           1     48   59967.31  21.0               Hessen\n",
      "887   K1992           1     67   81521.76  21.0    Baden-Württemberg\n",
      "888   K1993           0     40   41616.57  48.0  Nordrhein-Westfalen\n",
      "889   K1994           1     49   76602.79  19.0               Berlin\n",
      "890   K1995           1     49   54754.53  44.0               Berlin\n",
      "\n",
      "[891 rows x 6 columns]\n"
     ]
    }
   ],
   "source": [
    "print(customer_geo_retype.describe())\n",
    "print(customer_geo_retype)\n",
    "print(\n",
    ")\n",
    "print(visitor_geo_retype.describe())\n",
    "print(visitor_geo_retype)"
   ]
  },
  {
   "cell_type": "code",
   "execution_count": 61,
   "id": "5fbf1207",
   "metadata": {},
   "outputs": [
    {
     "data": {
      "text/plain": [
       "Index(['K0001', 'K0002', 'K0003', 'K0004', 'K0005', 'K0006', 'K0007', 'K0008',\n",
       "       'K0009', 'K0010',\n",
       "       ...\n",
       "       'K1095', 'K1096', 'K1097', 'K1098', 'K1099', 'K1100', 'K1101', 'K1102',\n",
       "       'K1103', 'K1104'],\n",
       "      dtype='object', name='KundeNr', length=1104)"
      ]
     },
     "execution_count": 61,
     "metadata": {},
     "output_type": "execute_result"
    }
   ],
   "source": [
    "customer_geo_retype.index"
   ]
  },
  {
   "cell_type": "code",
   "execution_count": 64,
   "id": "8c48fbab-fa1c-4249-805e-ad804bac6d24",
   "metadata": {},
   "outputs": [
    {
     "name": "stdout",
     "output_type": "stream",
     "text": [
      "         Geschlecht  Alter  Einkommen        Niederlassung  Zeit      Preis\n",
      "KundeNr                                                                    \n",
      "K0001             1   68.0   89437.00              Sachsen  62.0  114481.90\n",
      "K0002             1   58.0   65271.00  Nordrhein-Westfalen  44.0  106258.99\n",
      "K0003             1   44.0   48195.00               Hessen  29.0   85705.57\n",
      "K0004             0   37.0   48957.00               Bayern  36.0   76412.36\n",
      "K0005             0   50.0   56621.00               Bayern  40.0   92898.67\n",
      "...             ...    ...        ...                  ...   ...        ...\n",
      "K1991             1   48.0   59967.31               Hessen  21.0        NaN\n",
      "K1992             1   67.0   81521.76    Baden-Württemberg  21.0        NaN\n",
      "K1993             0   40.0   41616.57  Nordrhein-Westfalen  48.0        NaN\n",
      "K1994             1   49.0   76602.79               Berlin  19.0        NaN\n",
      "K1995             1   49.0   54754.53               Berlin  44.0        NaN\n",
      "\n",
      "[1995 rows x 6 columns]\n"
     ]
    }
   ],
   "source": [
    "# KundeNr als Index setzen\n",
    "customer_geo_retype.set_index('KundeNr', inplace=True)\n",
    "visitor_geo_retype.set_index('KundeNr', inplace=True)\n",
    "\n",
    "# Auswahl der gewünschten Spalten\n",
    "customer_geo_retype = customer_geo_retype[['Geschlecht', 'Alter', 'Einkommen', 'Niederlassung', 'Zeit', 'Preis']]\n",
    "visitor_geo_retype = visitor_geo_retype[['Geschlecht', 'Alter', 'Einkommen', 'Niederlassung', 'Zeit']]\n",
    "\n",
    "# Zusammenführen der DataFrames\n",
    "df = pd.concat([customer_geo_retype, visitor_geo_retype])\n",
    "\n",
    "# Ausgabe des resultierenden DataFrames\n",
    "print(df)"
   ]
  },
  {
   "cell_type": "code",
   "execution_count": 65,
   "id": "0874117b-beaa-46ce-a31a-3ef8dbf131eb",
   "metadata": {},
   "outputs": [
    {
     "name": "stdout",
     "output_type": "stream",
     "text": [
      "Fehlende Kundennummern:\n",
      "[]\n",
      "Fehlende Zeilen:\n",
      "Empty DataFrame\n",
      "Columns: [Geschlecht, Alter, Einkommen, Niederlassung, Zeit, Preis]\n",
      "Index: []\n"
     ]
    }
   ],
   "source": [
    "all_customer_numbers = [f'K{str(i).zfill(4)}' for i in range(1, 1996)]\n",
    "\n",
    "# Finden der fehlenden Kundennummern\n",
    "missing_customer_numbers = set(all_customer_numbers) - set(df.index)\n",
    "\n",
    "# Ausgabe der fehlenden Kundennummern\n",
    "print(\"Fehlende Kundennummern:\")\n",
    "print(sorted(missing_customer_numbers))\n",
    "all_customer_numbers = [f'K{str(i).zfill(4)}' for i in range(1, 1996)]\n",
    "\n",
    "# Finden der fehlenden Kundennummern\n",
    "missing_customer_numbers = sorted(set(all_customer_numbers) - set(df.index))\n",
    "\n",
    "# Erstellen eines DataFrames mit den fehlenden Kundennummern\n",
    "missing_df = pd.DataFrame(index=missing_customer_numbers, columns=df.columns)\n",
    "missing_df.index.name = 'KundeNr'\n",
    "\n",
    "# Ausgabe der fehlenden Kundennummern als fehlende Zeilen\n",
    "print(\"Fehlende Zeilen:\")\n",
    "print(missing_df)"
   ]
  },
  {
   "cell_type": "code",
   "execution_count": 66,
   "id": "37533393-c96d-4d9e-8b03-473504f17fb1",
   "metadata": {},
   "outputs": [
    {
     "name": "stdout",
     "output_type": "stream",
     "text": [
      "         Geschlecht  Alter  Einkommen        Niederlassung  Zeit      Preis\n",
      "KundeNr                                                                    \n",
      "K0001             1   68.0    89437.0              Sachsen  62.0  114481.90\n",
      "K0002             1   58.0    65271.0  Nordrhein-Westfalen  44.0  106258.99\n",
      "K0003             1   44.0    48195.0               Hessen  29.0   85705.57\n",
      "K0004             0   37.0    48957.0               Bayern  36.0   76412.36\n",
      "K0005             0   50.0    56621.0               Bayern  40.0   92898.67\n",
      "...             ...    ...        ...                  ...   ...        ...\n",
      "K1100             1   61.0    82624.0               Berlin  59.0  134755.80\n",
      "K1101             1   39.0    37905.0               Hessen  32.0   61717.86\n",
      "K1102             1   39.0    40159.0        Niedersachsen  37.0   67170.69\n",
      "K1103             0   48.0    45545.0               Berlin  30.0   75700.83\n",
      "K1104             1   63.0    80414.0              Sachsen  49.0  101554.64\n",
      "\n",
      "[1104 rows x 6 columns]\n",
      "       Geschlecht  Alter  Einkommen        Niederlassung  Zeit\n",
      "K1006           0     42   57149.50               Hessen  35.0\n",
      "K1007           1     34   43358.56               Berlin  33.0\n",
      "K1008           1     33   45748.43        Niedersachsen  55.0\n",
      "K1009           1     57   58633.97            Thüringen  32.0\n",
      "K1010           0     43   53592.01  Nordrhein-Westfalen  31.0\n",
      "...           ...    ...        ...                  ...   ...\n",
      "K1892           1     48   59967.31               Hessen  21.0\n",
      "K1893           1     67   81521.76    Baden-Württemberg  21.0\n",
      "K1894           0     40   41616.57  Nordrhein-Westfalen  48.0\n",
      "K1895           1     49   76602.79               Berlin  19.0\n",
      "K1896           1     49   54754.53               Berlin  44.0\n",
      "\n",
      "[891 rows x 5 columns]\n"
     ]
    }
   ],
   "source": [
    "print(customer_geo_retype)\n",
    "\n",
    "# Erstellen eines neuen Indexes von K1006 bis K1896\n",
    "new_index = [f'K{i:04d}' for i in range(1006, 1006 + len(visitor_geo_retype))]\n",
    "\n",
    "# Setzen des neuen Indexes\n",
    "visitor_geo_retype.index = new_index\n",
    "print(visitor_geo_retype)"
   ]
  },
  {
   "cell_type": "code",
   "execution_count": 130,
   "id": "419bfa8e-21dc-4cf7-b4b3-5dc5ad29dcc9",
   "metadata": {},
   "outputs": [
    {
     "name": "stdout",
     "output_type": "stream",
     "text": [
      "      Geschlecht  Alter  Einkommen        Niederlassung  Zeit      Preis\n",
      "K0001   Männlich   68.0   89437.00              Sachsen  62.0  114481.90\n",
      "K0002   Männlich   58.0   65271.00  Nordrhein-Westfalen  44.0  106258.99\n",
      "K0003   Männlich   44.0   48195.00               Hessen  29.0   85705.57\n",
      "K0004   Weiblich   37.0   48957.00               Bayern  36.0   76412.36\n",
      "K0005   Weiblich   50.0   56621.00               Bayern  40.0   92898.67\n",
      "...          ...    ...        ...                  ...   ...        ...\n",
      "K1892   Männlich   48.0   59967.31               Hessen  21.0        NaN\n",
      "K1893   Männlich   67.0   81521.76    Baden-Württemberg  21.0        NaN\n",
      "K1894   Weiblich   40.0   41616.57  Nordrhein-Westfalen  48.0        NaN\n",
      "K1895   Männlich   49.0   76602.79               Berlin  19.0        NaN\n",
      "K1896   Männlich   49.0   54754.53               Berlin  44.0        NaN\n",
      "\n",
      "[1995 rows x 6 columns]\n",
      "      Geschlecht  Alter  Einkommen        Niederlassung  Zeit      Preis\n",
      "K1004   Männlich   42.0   41463.00    Baden-Württemberg  43.0   74976.67\n",
      "K1005   Männlich   69.0   84021.00    Baden-Württemberg  56.0  133358.19\n",
      "K1006   Männlich   47.0   46708.00  Nordrhein-Westfalen  31.0   70719.18\n",
      "K1007   Männlich   54.0   57917.00        Niedersachsen  47.0   94386.02\n",
      "K1008   Weiblich   62.0   57795.00        Niedersachsen  38.0   85730.62\n",
      "...          ...    ...        ...                  ...   ...        ...\n",
      "K1101   Männlich   54.0   74220.58  Nordrhein-Westfalen  45.0        NaN\n",
      "K1102   Männlich   36.0   32281.86               Hessen  52.0        NaN\n",
      "K1103   Weiblich   67.0   68054.56        Niedersachsen  40.0        NaN\n",
      "K1104   Männlich   57.0   69354.04            Thüringen  51.0        NaN\n",
      "K1105   Männlich   34.0   50082.23    Baden-Württemberg  19.0        NaN\n",
      "\n",
      "[201 rows x 6 columns]\n"
     ]
    }
   ],
   "source": [
    "# Auswahl der gewünschten Spalten\n",
    "customer_geo_retype = customer_geo_retype[['Geschlecht', 'Alter', 'Einkommen', 'Niederlassung', 'Zeit', 'Preis']]\n",
    "visitor_geo_retype = visitor_geo_retype[['Geschlecht', 'Alter', 'Einkommen', 'Niederlassung', 'Zeit']]\n",
    "\n",
    "# Zusammenführen der DataFrames\n",
    "df = pd.concat([customer_geo_retype, visitor_geo_retype])\n",
    "\n",
    "# Entfernen von Zeilen mit fehlenden Werten (optional, wenn notwendig)\n",
    "df.dropna(how='all', inplace=True)\n",
    "\n",
    "# Ausgabe des DataFrames mit dem neuen Index\n",
    "print(df)\n",
    "\n",
    "# Filtern der Zeilen von 'K1004' bis 'K1105'\n",
    "filtered_df = df.loc['K1004':'K1105']\n",
    "\n",
    "# Anzeigen der gefilterten Zeilen\n",
    "print(filtered_df)"
   ]
  },
  {
   "cell_type": "code",
   "execution_count": 68,
   "id": "336ac356-3f77-4b3a-95c9-3cb738e6f281",
   "metadata": {},
   "outputs": [
    {
     "name": "stdout",
     "output_type": "stream",
     "text": [
      "<class 'pandas.core.frame.DataFrame'>\n",
      "Index: 1995 entries, K0001 to K1896\n",
      "Data columns (total 6 columns):\n",
      " #   Column         Non-Null Count  Dtype  \n",
      "---  ------         --------------  -----  \n",
      " 0   Geschlecht     1995 non-null   int64  \n",
      " 1   Alter          1995 non-null   float64\n",
      " 2   Einkommen      1995 non-null   float64\n",
      " 3   Niederlassung  1995 non-null   object \n",
      " 4   Zeit           1995 non-null   float64\n",
      " 5   Preis          1104 non-null   float64\n",
      "dtypes: float64(4), int64(1), object(1)\n",
      "memory usage: 173.6+ KB\n",
      "None\n"
     ]
    }
   ],
   "source": [
    "print(df.info())"
   ]
  },
  {
   "cell_type": "code",
   "execution_count": 69,
   "id": "1c46dca5-a85b-4eec-8111-b9fb95008093",
   "metadata": {},
   "outputs": [
    {
     "name": "stdout",
     "output_type": "stream",
     "text": [
      "      Geschlecht  Alter  Einkommen        Niederlassung  Zeit      Preis\n",
      "K0001   Männlich     68   89437.00              Sachsen    62  114481.90\n",
      "K0002   Männlich     58   65271.00  Nordrhein-Westfalen    44  106258.99\n",
      "K0003   Männlich     44   48195.00               Hessen    29   85705.57\n",
      "K0004   Weiblich     37   48957.00               Bayern    36   76412.36\n",
      "K0005   Weiblich     50   56621.00               Bayern    40   92898.67\n",
      "...          ...    ...        ...                  ...   ...        ...\n",
      "K1892   Männlich     48   59967.31               Hessen    21        NaN\n",
      "K1893   Männlich     67   81521.76    Baden-Württemberg    21        NaN\n",
      "K1894   Weiblich     40   41616.57  Nordrhein-Westfalen    48        NaN\n",
      "K1895   Männlich     49   76602.79               Berlin    19        NaN\n",
      "K1896   Männlich     49   54754.53               Berlin    44        NaN\n",
      "\n",
      "[1995 rows x 6 columns]\n",
      "\n",
      "Geschlecht        object\n",
      "Alter              int64\n",
      "Einkommen        float64\n",
      "Niederlassung     object\n",
      "Zeit               int64\n",
      "Preis            float64\n",
      "dtype: object\n"
     ]
    }
   ],
   "source": [
    "# Ensure that the 'Geschlecht', 'Alter', and 'Zeit' columns are of integer type\n",
    "df = df.astype({'Geschlecht': int, 'Alter': int, 'Zeit': int})\n",
    "\n",
    "# Replace 1 with 'Männlich' and 0 with 'Weiblich' in the 'Geschlecht' column\n",
    "df['Geschlecht'] = df['Geschlecht'].replace({1: 'Männlich', 0: 'Weiblich'})\n",
    "\n",
    "# Display the updated dataframe\n",
    "print(df)\n",
    "print(\n",
    "    )\n",
    "print(df.dtypes)"
   ]
  },
  {
   "cell_type": "code",
   "execution_count": 70,
   "id": "63505a8e-d1ed-4cd0-9943-0d8fd61b26ac",
   "metadata": {},
   "outputs": [
    {
     "name": "stdout",
     "output_type": "stream",
     "text": [
      "Final Tabelle Kundendaten\n",
      "        Geschlecht  Alter  Einkommen        Niederlassung  Zeit      Preis\n",
      "KundeNr                                                                   \n",
      "K0001     Männlich   68.0    89437.0              Sachsen  62.0  114481.90\n",
      "K0002     Männlich   58.0    65271.0  Nordrhein-Westfalen  44.0  106258.99\n",
      "K0003     Männlich   44.0    48195.0               Hessen  29.0   85705.57\n",
      "K0004     Weiblich   37.0    48957.0               Bayern  36.0   76412.36\n",
      "K0005     Weiblich   50.0    56621.0               Bayern  40.0   92898.67\n",
      "...            ...    ...        ...                  ...   ...        ...\n",
      "K1100     Männlich   61.0    82624.0               Berlin  59.0  134755.80\n",
      "K1101     Männlich   39.0    37905.0               Hessen  32.0   61717.86\n",
      "K1102     Männlich   39.0    40159.0        Niedersachsen  37.0   67170.69\n",
      "K1103     Weiblich   48.0    45545.0               Berlin  30.0   75700.83\n",
      "K1104     Männlich   63.0    80414.0              Sachsen  49.0  101554.64\n",
      "\n",
      "[1104 rows x 6 columns]\n",
      "             Alter      Einkommen         Zeit          Preis\n",
      "count  1104.000000    1104.000000  1104.000000    1104.000000\n",
      "mean     50.375000   58841.233212    44.372495   88975.198714\n",
      "std      11.951426   16603.953365    10.582091   24464.067781\n",
      "min      30.000000       0.000000    15.000000   21471.650000\n",
      "25%      40.000000   46662.750000    37.000000   70609.422500\n",
      "50%      51.000000   59011.500000    44.000000   88931.455000\n",
      "75%      61.000000   70281.750000    52.000000  107093.375000\n",
      "max      70.000000  107689.000000    74.000000  165482.310000\n",
      "\n",
      "Finale Tabelle Besucherdaten\n",
      "      Geschlecht  Alter  Einkommen        Niederlassung  Zeit\n",
      "K1006   Weiblich     42   57149.50               Hessen  35.0\n",
      "K1007   Männlich     34   43358.56               Berlin  33.0\n",
      "K1008   Männlich     33   45748.43        Niedersachsen  55.0\n",
      "K1009   Männlich     57   58633.97            Thüringen  32.0\n",
      "K1010   Weiblich     43   53592.01  Nordrhein-Westfalen  31.0\n",
      "...          ...    ...        ...                  ...   ...\n",
      "K1892   Männlich     48   59967.31               Hessen  21.0\n",
      "K1893   Männlich     67   81521.76    Baden-Württemberg  21.0\n",
      "K1894   Weiblich     40   41616.57  Nordrhein-Westfalen  48.0\n",
      "K1895   Männlich     49   76602.79               Berlin  19.0\n",
      "K1896   Männlich     49   54754.53               Berlin  44.0\n",
      "\n",
      "[891 rows x 5 columns]\n",
      "            Alter      Einkommen        Zeit\n",
      "count  891.000000     891.000000  891.000000\n",
      "mean    49.881033   59367.936049   35.330700\n",
      "std     11.865889   16164.358263   10.243995\n",
      "min     30.000000   10802.030000   10.000000\n",
      "25%     40.000000   47816.610000   28.000000\n",
      "50%     49.000000   59163.820000   35.000000\n",
      "75%     60.000000   71001.380000   43.000000\n",
      "max     70.000000  108569.090000   68.000000\n"
     ]
    }
   ],
   "source": [
    "customer_geo_retype['Geschlecht'] = customer_geo_retype['Geschlecht'].replace({1: 'Männlich', 0: 'Weiblich'})\n",
    "visitor_geo_retype['Geschlecht'] = visitor_geo_retype['Geschlecht'].replace({1: 'Männlich', 0: 'Weiblich'})\n",
    "Kunden = customer_geo_retype\n",
    "Besucher = visitor_geo_retype\n",
    "print(\"Final Tabelle Kundendaten\")\n",
    "print(Kunden)\n",
    "print(Kunden.describe())\n",
    "print(\n",
    ")\n",
    "print(\"Finale Tabelle Besucherdaten\")\n",
    "print(Besucher)\n",
    "print(Besucher.describe())"
   ]
  },
  {
   "cell_type": "code",
   "execution_count": null,
   "id": "d58e481f-2e96-4959-9467-0cfdbbb37367",
   "metadata": {},
   "outputs": [],
   "source": [
    "# Aufgabe 1: Wie viele Autos wurden verkauft?"
   ]
  },
  {
   "cell_type": "code",
   "execution_count": 71,
   "id": "72206564-8ce6-479f-8346-68fa5c66c3ff",
   "metadata": {},
   "outputs": [
    {
     "name": "stdout",
     "output_type": "stream",
     "text": [
      "Es wurden 1104 Autos verkauft.\n"
     ]
    }
   ],
   "source": [
    "verkaufte_Autos = df[df['Preis'].notna()]\n",
    "Anzahl_verkaufter_Autos = len(verkaufte_Autos)\n",
    "\n",
    "print(f\"Es wurden {Anzahl_verkaufter_Autos} Autos verkauft.\")"
   ]
  },
  {
   "cell_type": "code",
   "execution_count": null,
   "id": "cce99414-cc84-4cff-8760-5848594426c0",
   "metadata": {},
   "outputs": [],
   "source": [
    "# Aufgabe 2: Was ist der Höchst-, Mindest- und Durchschnittspreis der verkauften Autos?"
   ]
  },
  {
   "cell_type": "code",
   "execution_count": 72,
   "id": "330703ae-37a5-43c5-82a0-9d0cafafa01a",
   "metadata": {
    "scrolled": true
   },
   "outputs": [
    {
     "name": "stdout",
     "output_type": "stream",
     "text": [
      "Der Mindestpreis ist:          21,471.65€\n",
      "Der Maximalpreis ist:         165,482.31€\n",
      "Der Durchschnittspreis ist:    88,975.2€\n"
     ]
    }
   ],
   "source": [
    "# Min, Max und Mean der Spalte 'Preis'\n",
    "preis_min = df['Preis'].min()\n",
    "preis_max = df['Preis'].max()\n",
    "preis_mean = df['Preis'].mean().round(2)\n",
    "\n",
    "# Ausgabe der Ergebnisse\n",
    "print(f\"Der Mindestpreis ist:          {preis_min:,}€\")\n",
    "print(f\"Der Maximalpreis ist:         {preis_max:,}€\")\n",
    "print(f\"Der Durchschnittspreis ist:    {preis_mean:,}€\")"
   ]
  },
  {
   "cell_type": "code",
   "execution_count": null,
   "id": "14dc2f85-cbea-46e6-a4ff-0d660bf16ecc",
   "metadata": {},
   "outputs": [],
   "source": [
    "# Aufgabe 3: Wie hoch war der Gesamtumsatz?"
   ]
  },
  {
   "cell_type": "code",
   "execution_count": 73,
   "id": "f7a0a618-85cc-44aa-9814-c079a7bd31aa",
   "metadata": {},
   "outputs": [
    {
     "name": "stdout",
     "output_type": "stream",
     "text": [
      "Der Gesamtumsatz liegt bei: 98,228,619.38€\n"
     ]
    }
   ],
   "source": [
    "Gesamtumsatz = df['Preis'].sum()\n",
    "print(f\"Der Gesamtumsatz liegt bei: {Gesamtumsatz:,}€\")"
   ]
  },
  {
   "cell_type": "code",
   "execution_count": null,
   "id": "ce69c4ae-2476-4b38-8b8d-43e3f4dade39",
   "metadata": {},
   "outputs": [],
   "source": [
    "# Aufgabe 4: Wie viele Autos wurden pro Bundesland verkauft?"
   ]
  },
  {
   "cell_type": "code",
   "execution_count": 74,
   "id": "f440b6b9-c91f-4ccc-843f-5877bab24a64",
   "metadata": {},
   "outputs": [
    {
     "name": "stdout",
     "output_type": "stream",
     "text": [
      "Niederlassung\n",
      "Baden-Württemberg      205\n",
      "Bayern                 188\n",
      "Berlin                 126\n",
      "Brandenburg             37\n",
      "Düsseldorf               1\n",
      "Hamburg                 43\n",
      "Hessen                  96\n",
      "Niedersachsen           96\n",
      "Nordrhein-Westfalen    174\n",
      "Sachsen                 89\n",
      "Thüringen               49\n",
      "Name: Preis, dtype: int64\n"
     ]
    }
   ],
   "source": [
    "# Niederlassungen gruppieren, dann zählen \n",
    "df_numbers = df.groupby(df.Niederlassung).count()\n",
    "df_numbers = df_numbers.Preis\n",
    "print(df_numbers)"
   ]
  },
  {
   "cell_type": "code",
   "execution_count": null,
   "id": "2fd6b3d5-cf08-4620-bc9b-4e973b494578",
   "metadata": {},
   "outputs": [],
   "source": [
    "# Aufgabe 5: Wie hoch war der durchschnittliche Umsatz pro Bundesland?"
   ]
  },
  {
   "cell_type": "code",
   "execution_count": 75,
   "id": "2bfe4c53-358e-49e6-bd6d-a0ef8312b387",
   "metadata": {},
   "outputs": [
    {
     "data": {
      "text/plain": [
       "Niederlassung\n",
       "Hamburg                 85549.50\n",
       "Hessen                  85864.93\n",
       "Brandenburg             86673.64\n",
       "Niedersachsen           87963.31\n",
       "Nordrhein-Westfalen     88451.76\n",
       "Bayern                  89344.31\n",
       "Sachsen                 89455.08\n",
       "Berlin                  89584.98\n",
       "Thüringen               90816.99\n",
       "Baden-Württemberg       90969.56\n",
       "Düsseldorf             120215.50\n",
       "Name: Preis, dtype: float64"
      ]
     },
     "execution_count": 75,
     "metadata": {},
     "output_type": "execute_result"
    }
   ],
   "source": [
    "# Niederlassungen gruppieren, Durchschnittspreis nehmen, Werte sortieren\n",
    "df.groupby(df.Niederlassung) \\\n",
    "    .Preis.mean() \\\n",
    "    .sort_values() \\\n",
    "    .round(2)"
   ]
  },
  {
   "cell_type": "code",
   "execution_count": 76,
   "id": "b21b08dd",
   "metadata": {},
   "outputs": [
    {
     "data": {
      "text/plain": [
       "Text(0, 0.5, 'Revenue')"
      ]
     },
     "execution_count": 76,
     "metadata": {},
     "output_type": "execute_result"
    },
    {
     "data": {
      "image/png": "[encoded data removed]",
      "text/plain": [
       "<Figure size 640x480 with 1 Axes>"
      ]
     },
     "metadata": {},
     "output_type": "display_data"
    }
   ],
   "source": [
    "# Abbildung erstellen. \n",
    "\n",
    "avg_umsatz = df.groupby(df.Niederlassung) \\\n",
    "    .Preis.mean() \\\n",
    "    .sort_values() \\\n",
    "    .round(2).plot(kind=\"bar\", title=\"Average Revenue per State\")\n",
    "plt.xlabel(\"State\", color=\"r\")\n",
    "plt.ylabel(\"Revenue\", color=\"r\")\n"
   ]
  },
  {
   "cell_type": "code",
   "execution_count": null,
   "id": "711a2567-324c-4670-85f6-917c489a7ec4",
   "metadata": {},
   "outputs": [],
   "source": [
    "# Aufgabe 6: In welchem Bundesland wurde das teuerste Auto verkauft?"
   ]
  },
  {
   "cell_type": "code",
   "execution_count": 77,
   "id": "1803d0ca-d62a-4178-954f-29b1e619c4cc",
   "metadata": {},
   "outputs": [
    {
     "data": {
      "text/plain": [
       "Niederlassung\n",
       "Baden-Württemberg    144045.32\n",
       "Name: Preis, dtype: float64"
      ]
     },
     "execution_count": 77,
     "metadata": {},
     "output_type": "execute_result"
    }
   ],
   "source": [
    "df.groupby(df.Niederlassung).Preis.max().head(1)"
   ]
  },
  {
   "cell_type": "code",
   "execution_count": null,
   "id": "907f40ee-df51-45f7-b613-f2f12412cd6d",
   "metadata": {},
   "outputs": [],
   "source": [
    "# Aufgabe 7: Haben mehr Frauen oder mehr Männer unsere Autos gekauft?"
   ]
  },
  {
   "cell_type": "code",
   "execution_count": null,
   "id": "470a7463-63f1-482f-bcc8-c28b89e1a576",
   "metadata": {},
   "outputs": [],
   "source": []
  },
  {
   "cell_type": "code",
   "execution_count": null,
   "id": "284668c8-f688-4ae1-a61d-0bffc3ff11d6",
   "metadata": {},
   "outputs": [],
   "source": [
    "# Aufgabe 8: Wie hoch ist das Durchschnittsalter unserer Kunden? Wie hoch ist das Durchschnittsalter unserer Besucher?"
   ]
  },
  {
   "cell_type": "code",
   "execution_count": null,
   "id": "7ec5391c-99ff-455f-9497-41739b9508f1",
   "metadata": {},
   "outputs": [],
   "source": []
  },
  {
   "cell_type": "code",
   "execution_count": null,
   "id": "7492b397-b37b-4605-b8a6-436dc9b2d8c6",
   "metadata": {},
   "outputs": [],
   "source": [
    "# Aufgabe 9: Wie hoch ist das Durchschnittseinkommen unserer Kunden? Wie hoch ist das Durchschnittseinkommen unserer Besucher?"
   ]
  },
  {
   "cell_type": "code",
   "execution_count": null,
   "id": "298445fe-58b0-49b1-b537-f287deca86bc",
   "metadata": {},
   "outputs": [],
   "source": []
  },
  {
   "cell_type": "code",
   "execution_count": null,
   "id": "dfe2acf2-d739-4d46-a417-72302101cca2",
   "metadata": {},
   "outputs": [],
   "source": [
    "# Aufgabe 10: Bestimmen Sie, ob es einen statistisch signifikanten Unterschied zwischen dem Durchschnittseinkommen der Kunden \n",
    "#             und dem Durchschnittseinkommen der Besucher gibt."
   ]
  },
  {
   "cell_type": "code",
   "execution_count": 78,
   "id": "e07b8b89-6d17-4e5d-b720-61fb204cc946",
   "metadata": {},
   "outputs": [
    {
     "name": "stdout",
     "output_type": "stream",
     "text": [
      "Welch's T-Statistik: -0.7147880334114172\n",
      "P-Wert: 0.4748267082926213\n"
     ]
    }
   ],
   "source": [
    "from scipy.stats import ttest_ind\n",
    "\n",
    "# Beispielgruppen aus den beiden DataFrames\n",
    "einkommen_der_kunden = customer_geo_retype['Einkommen']\n",
    "einkommen_der_besucher = visitor_geo_retype['Einkommen']\n",
    "\n",
    "# Welch-T-Test\n",
    "t_stat, p_value = ttest_ind(einkommen_der_kunden, einkommen_der_besucher, equal_var=False)\n",
    "\n",
    "print(f\"Welch's T-Statistik: {t_stat}\")\n",
    "print(f\"P-Wert: {p_value}\")"
   ]
  },
  {
   "cell_type": "code",
   "execution_count": null,
   "id": "0e34f6c4-8ca0-4add-8ca6-747751bda173",
   "metadata": {},
   "outputs": [],
   "source": [
    "# Aufgabe 11: Wie hoch ist die Korrelation (Pearson-Korrelation) zwischen den Variablen Alter, Einkommen, Preis und Zeit?"
   ]
  },
  {
   "cell_type": "code",
   "execution_count": 79,
   "id": "98ae6bf7-bc12-4fa5-9011-76f2cf4bfa25",
   "metadata": {},
   "outputs": [
    {
     "name": "stdout",
     "output_type": "stream",
     "text": [
      "Korrelationsmatrix (Pearson-Korrelation):\n",
      "              Alter  Einkommen     Preis      Zeit\n",
      "Alter      1.000000   0.783247  0.780478  0.305881\n",
      "Einkommen  0.783247   1.000000  0.886670  0.383306\n",
      "Preis      0.780478   0.886670  1.000000  0.698215\n",
      "Zeit       0.305881   0.383306  0.698215  1.000000\n",
      "\n",
      "Hinweis: Die Funktion .corr('method='pearson') ignoriert alle Wertepaare bei denen ein Wert NaN ist.\n",
      "\n",
      "Interpretation der jeweiligen Korrelationskoefizienten\n",
      "\n",
      "Alter - Einkommen korreliert mit: 0.78\n",
      "positive Korrelation. Ältere Personen tendieren dazu, höhere Einkommen zu haben.\n",
      "\n",
      "Alter - Preis korreliert mit 0.78\n",
      "starke positive Korrelation. Ältere Personen neigen dazu, höhere Preise zu zahlen.\n",
      "\n",
      "Alter - Zeit korreliert mit 0.31\n",
      "schwache positive Korrelation. Ältere Personen bleiben tendenziell etwas länger im Geschäft.\n",
      "\n",
      "Einkommen - Preis korreliert mit 0.89\n",
      "sehr starke positive Korrelation. Personen mit höherem Einkommen tendieren dazu, höhere Preise zu zahlen.\n",
      "\n",
      "Einkommen - Preis korreliert mit 0.38\n",
      "moderate positive Korrelation. Personen mit höherem Einkommen bleiben tendenziell länger im Geschäft.\n",
      "\n",
      "Preis - Zeit korreliert mit 0.7\n",
      "moderate positive Korrelation. Höhere Preise korrelieren mit einer tendenziell höheren Vorgangszeit.\n"
     ]
    }
   ],
   "source": [
    "correlation_matrix = df[['Alter', 'Einkommen', 'Preis', 'Zeit']].corr(method='pearson')\n",
    "\n",
    "# Ausgabe der Korrelationsmatrix\n",
    "print(\"Korrelationsmatrix (Pearson-Korrelation):\")\n",
    "print(correlation_matrix)\n",
    "correlation_list = correlation_matrix.values.flatten().tolist()\n",
    "correlation_list = [round(coeff, 2) for coeff in correlation_list]\n",
    "print(\n",
    ")\n",
    "print(\"Hinweis: Die Funktion .corr('method='pearson') ignoriert alle Wertepaare bei denen ein Wert NaN ist.\")\n",
    "print(\n",
    ")\n",
    "alter_einkommen = \"positive Korrelation. Ältere Personen tendieren dazu, höhere Einkommen zu haben.\"\n",
    "alter_preis = \"starke positive Korrelation. Ältere Personen neigen dazu, höhere Preise zu zahlen.\"\n",
    "alter_zeit = \"schwache positive Korrelation. Ältere Personen bleiben tendenziell etwas länger im Geschäft.\"\n",
    "einkommen_preis = \"sehr starke positive Korrelation. Personen mit höherem Einkommen tendieren dazu, höhere Preise zu zahlen.\"\n",
    "einkommen_zeit = \"moderate positive Korrelation. Personen mit höherem Einkommen bleiben tendenziell länger im Geschäft.\"\n",
    "preis_zeit = \"moderate positive Korrelation. Höhere Preise korrelieren mit einer tendenziell höheren Vorgangszeit.\"\n",
    "\n",
    "KE_AE = correlation_list[1]\n",
    "KE_AP = correlation_list[2]\n",
    "KE_AZ = correlation_list[3]\n",
    "KE_EP = correlation_list[6]\n",
    "KE_EZ = correlation_list[7]\n",
    "KE_PZ = correlation_list[11]\n",
    "print(\"Interpretation der jeweiligen Korrelationskoefizienten\")\n",
    "print(\n",
    ")\n",
    "print(\"Alter - Einkommen korreliert mit:\", KE_AE)\n",
    "print(alter_einkommen)\n",
    "print(\n",
    ")\n",
    "print(\"Alter - Preis korreliert mit\", KE_AP)\n",
    "print(alter_preis)\n",
    "print(\n",
    ")\n",
    "print(\"Alter - Zeit korreliert mit\", KE_AZ)\n",
    "print(alter_zeit)\n",
    "print(\n",
    ")\n",
    "print(\"Einkommen - Preis korreliert mit\", KE_EP)\n",
    "print(einkommen_preis)\n",
    "print(\n",
    ")\n",
    "print(\"Einkommen - Preis korreliert mit\", KE_EZ)\n",
    "print(einkommen_zeit)\n",
    "print(\n",
    ")\n",
    "print(\"Preis - Zeit korreliert mit\", KE_PZ)\n",
    "print(preis_zeit)"
   ]
  },
  {
   "cell_type": "code",
   "execution_count": null,
   "id": "57ead820-f832-41dd-92b9-e60323a450bb",
   "metadata": {},
   "outputs": [],
   "source": [
    "# Aufgabe 12: Testen Sie grafisch mit Hilfe eines qq-Plots, ob die Variable Zeit approximativ normalverteilt ist."
   ]
  },
  {
   "cell_type": "code",
   "execution_count": 80,
   "id": "f2e4dda1-0b73-447b-98b0-75f5abeeba40",
   "metadata": {},
   "outputs": [
    {
     "data": {
      "image/png": "[encoded data removed]",
      "text/plain": [
       "<Figure size 640x480 with 1 Axes>"
      ]
     },
     "metadata": {},
     "output_type": "display_data"
    }
   ],
   "source": [
    "# QQ-Plot für die Variable \"Zeit\"\n",
    "zeit = df['Zeit'].dropna()\n",
    "\n",
    "# QQ-Plot erstellen\n",
    "stats.probplot(zeit, dist=\"norm\", plot=plt)\n",
    "plt.title('QQ-Plot für die Variable \"Zeit\"')\n",
    "plt.xlabel('Theoretische Quantile')\n",
    "plt.ylabel('Empirische Quantile')\n",
    "plt.grid(True)"
   ]
  },
  {
   "cell_type": "code",
   "execution_count": null,
   "id": "799ae457-1a75-4379-a316-abfe2481e9b2",
   "metadata": {},
   "outputs": [],
   "source": [
    "# Aufgabe 13: Wie viele Kunden haben keinen Bankkredit aufgenommen, um das Auto zu kaufen?\n",
    "#             Kundenabteilung hat vergessen, diese Informationen zu erfassen. Wir können davon aus\n",
    "#             gehen, dass die Kunden mit einem Jahreseinkommen höher als der Autopreis keinen Kredit\n",
    "#             aufgenommen haben."
   ]
  },
  {
   "cell_type": "code",
   "execution_count": 82,
   "id": "b2ccc8ee-db2a-4f25-bf94-9a3a67b6b543",
   "metadata": {},
   "outputs": [
    {
     "name": "stdout",
     "output_type": "stream",
     "text": [
      "Anzahl der Kunden ohne Bankkredit: 5\n"
     ]
    }
   ],
   "source": [
    "# Einkommen > Preis = Anzahl\n",
    "no_credit_customers = df[df['Einkommen'] > df['Preis']].shape[0]\n",
    "print(f\"Anzahl der Kunden ohne Bankkredit: {no_credit_customers}\")"
   ]
  },
  {
   "cell_type": "code",
   "execution_count": null,
   "id": "c66740e2-7db2-4638-8444-fa92e5a21acb",
   "metadata": {},
   "outputs": [],
   "source": [
    "# Aufgabe 14: Welche sozioökonomischen Merkmale beeinflussen den Kaufpreis? Wählen Sie die geeigneten\n",
    "#             unabhängigen Variablen aus und schätzen Sie eine Regression unter Verwendung der geeigneten Methode."
   ]
  },
  {
   "cell_type": "code",
   "execution_count": null,
   "id": "e0fb19e0-feed-453e-ba4d-f55d40d094c5",
   "metadata": {},
   "outputs": [],
   "source": [
    "df.head()"
   ]
  },
  {
   "cell_type": "code",
   "execution_count": 90,
   "id": "fb6f5ae5",
   "metadata": {},
   "outputs": [
    {
     "data": {
      "text/plain": [
       "Index(['K0001', 'K0002', 'K0003', 'K0004', 'K0005', 'K0006', 'K0007', 'K0008',\n",
       "       'K0009', 'K0010',\n",
       "       ...\n",
       "       'K1887', 'K1888', 'K1889', 'K1890', 'K1891', 'K1892', 'K1893', 'K1894',\n",
       "       'K1895', 'K1896'],\n",
       "      dtype='object', length=1995)"
      ]
     },
     "execution_count": 90,
     "metadata": {},
     "output_type": "execute_result"
    }
   ],
   "source": [
    "df.index"
   ]
  },
  {
   "cell_type": "code",
   "execution_count": 96,
   "id": "f054ee4f",
   "metadata": {},
   "outputs": [
    {
     "name": "stderr",
     "output_type": "stream",
     "text": [
      "/var/folders/ts/wd0xmbjx59v9bnn6pvtdfz780000gn/T/ipykernel_23611/1832953665.py:1: SettingWithCopyWarning: \n",
      "A value is trying to be set on a copy of a slice from a DataFrame\n",
      "\n",
      "See the caveats in the documentation: https://pandas.pydata.org/pandas-docs/stable/user_guide/indexing.html#returning-a-view-versus-a-copy\n",
      "  df_clean.dropna(inplace=True)\n"
     ]
    }
   ],
   "source": []
  },
  {
   "cell_type": "code",
   "execution_count": 97,
   "id": "b4c5c514",
   "metadata": {},
   "outputs": [
    {
     "name": "stdout",
     "output_type": "stream",
     "text": [
      "                            OLS Regression Results                            \n",
      "==============================================================================\n",
      "Dep. Variable:                      y   R-squared:                       0.818\n",
      "Model:                            OLS   Adj. R-squared:                  0.817\n",
      "Method:                 Least Squares   F-statistic:                     1646.\n",
      "Date:                Wed, 26 Jun 2024   Prob (F-statistic):               0.00\n",
      "Time:                        21:14:36   Log-Likelihood:                -11782.\n",
      "No. Observations:                1104   AIC:                         2.357e+04\n",
      "Df Residuals:                    1100   BIC:                         2.359e+04\n",
      "Df Model:                           3                                         \n",
      "Covariance Type:            nonrobust                                         \n",
      "==============================================================================\n",
      "                 coef    std err          t      P>|t|      [0.025      0.975]\n",
      "------------------------------------------------------------------------------\n",
      "const       3056.0538   1398.320      2.186      0.029     312.379    5799.729\n",
      "x1           538.1019     39.983     13.458      0.000     459.651     616.553\n",
      "x2             1.0133      0.029     35.199      0.000       0.957       1.070\n",
      "x3         -2246.3385    655.053     -3.429      0.001   -3531.633    -961.044\n",
      "==============================================================================\n",
      "Omnibus:                      133.768   Durbin-Watson:                   2.012\n",
      "Prob(Omnibus):                  0.000   Jarque-Bera (JB):              601.550\n",
      "Skew:                           0.477   Prob(JB):                    2.37e-131\n",
      "Kurtosis:                       6.488   Cond. No.                     2.73e+05\n",
      "==============================================================================\n",
      "\n",
      "Notes:\n",
      "[1] Standard Errors assume that the covariance matrix of the errors is correctly specified.\n",
      "[2] The condition number is large, 2.73e+05. This might indicate that there are\n",
      "strong multicollinearity or other numerical problems.\n"
     ]
    },
    {
     "name": "stderr",
     "output_type": "stream",
     "text": [
      "/var/folders/ts/wd0xmbjx59v9bnn6pvtdfz780000gn/T/ipykernel_23611/1028756945.py:7: SettingWithCopyWarning: \n",
      "A value is trying to be set on a copy of a slice from a DataFrame\n",
      "\n",
      "See the caveats in the documentation: https://pandas.pydata.org/pandas-docs/stable/user_guide/indexing.html#returning-a-view-versus-a-copy\n",
      "  df_clean.dropna(inplace=True)\n"
     ]
    }
   ],
   "source": [
    "import pandas as pd\n",
    "import numpy as np\n",
    "import statsmodels.api as sm\n",
    "\n",
    "# Filter the DataFrame to include only the rows with customer numbers\n",
    "df_clean = df[df.index.isin(customer_geo['KundeNr'])]\n",
    "df_clean.dropna(inplace=True)\n",
    "# Assuming 'df' is your DataFrame\n",
    "X = df_clean[['Alter', 'Einkommen', 'Geschlecht']]\n",
    "y = df_clean['Preis']\n",
    "\n",
    "# Convert categorical variable 'Geschlecht' into dummy/indicator variables\n",
    "X = pd.get_dummies(X, drop_first=True)\n",
    "\n",
    "# Add constant term for intercept\n",
    "X = sm.add_constant(X)\n",
    "\n",
    "# Convert y to a numpy array and ensure it's a 1-dimensional array\n",
    "y = np.asarray(y).astype(float)\n",
    "\n",
    "# Convert X to a numpy array and ensure all values are numeric\n",
    "X = np.asarray(X).astype(float)\n",
    "\n",
    "# Fit the OLS model\n",
    "model = sm.OLS(y, X).fit()\n",
    "\n",
    "# Print the summary of the model\n",
    "print(model.summary())\n"
   ]
  },
  {
   "cell_type": "code",
   "execution_count": 104,
   "id": "0d37c5bf",
   "metadata": {},
   "outputs": [
    {
     "data": {
      "text/html": [
       "<table class=\"simpletable\">\n",
       "<caption>OLS Regression Results</caption>\n",
       "<tr>\n",
       "  <th>Dep. Variable:</th>            <td>y</td>        <th>  R-squared:         </th> <td>   0.818</td> \n",
       "</tr>\n",
       "<tr>\n",
       "  <th>Model:</th>                   <td>OLS</td>       <th>  Adj. R-squared:    </th> <td>   0.817</td> \n",
       "</tr>\n",
       "<tr>\n",
       "  <th>Method:</th>             <td>Least Squares</td>  <th>  F-statistic:       </th> <td>   1646.</td> \n",
       "</tr>\n",
       "<tr>\n",
       "  <th>Date:</th>             <td>Wed, 26 Jun 2024</td> <th>  Prob (F-statistic):</th>  <td>  0.00</td>  \n",
       "</tr>\n",
       "<tr>\n",
       "  <th>Time:</th>                 <td>21:18:49</td>     <th>  Log-Likelihood:    </th> <td> -11782.</td> \n",
       "</tr>\n",
       "<tr>\n",
       "  <th>No. Observations:</th>      <td>  1104</td>      <th>  AIC:               </th> <td>2.357e+04</td>\n",
       "</tr>\n",
       "<tr>\n",
       "  <th>Df Residuals:</th>          <td>  1100</td>      <th>  BIC:               </th> <td>2.359e+04</td>\n",
       "</tr>\n",
       "<tr>\n",
       "  <th>Df Model:</th>              <td>     3</td>      <th>                     </th>     <td> </td>    \n",
       "</tr>\n",
       "<tr>\n",
       "  <th>Covariance Type:</th>      <td>nonrobust</td>    <th>                     </th>     <td> </td>    \n",
       "</tr>\n",
       "</table>\n",
       "<table class=\"simpletable\">\n",
       "<tr>\n",
       "    <td></td>       <th>coef</th>     <th>std err</th>      <th>t</th>      <th>P>|t|</th>  <th>[0.025</th>    <th>0.975]</th>  \n",
       "</tr>\n",
       "<tr>\n",
       "  <th>const</th> <td> 3056.0538</td> <td> 1398.320</td> <td>    2.186</td> <td> 0.029</td> <td>  312.379</td> <td> 5799.729</td>\n",
       "</tr>\n",
       "<tr>\n",
       "  <th>x1</th>    <td>  538.1019</td> <td>   39.983</td> <td>   13.458</td> <td> 0.000</td> <td>  459.651</td> <td>  616.553</td>\n",
       "</tr>\n",
       "<tr>\n",
       "  <th>x2</th>    <td>    1.0133</td> <td>    0.029</td> <td>   35.199</td> <td> 0.000</td> <td>    0.957</td> <td>    1.070</td>\n",
       "</tr>\n",
       "<tr>\n",
       "  <th>x3</th>    <td>-2246.3385</td> <td>  655.053</td> <td>   -3.429</td> <td> 0.001</td> <td>-3531.633</td> <td> -961.044</td>\n",
       "</tr>\n",
       "</table>\n",
       "<table class=\"simpletable\">\n",
       "<tr>\n",
       "  <th>Omnibus:</th>       <td>133.768</td> <th>  Durbin-Watson:     </th> <td>   2.012</td> \n",
       "</tr>\n",
       "<tr>\n",
       "  <th>Prob(Omnibus):</th> <td> 0.000</td>  <th>  Jarque-Bera (JB):  </th> <td> 601.550</td> \n",
       "</tr>\n",
       "<tr>\n",
       "  <th>Skew:</th>          <td> 0.477</td>  <th>  Prob(JB):          </th> <td>2.37e-131</td>\n",
       "</tr>\n",
       "<tr>\n",
       "  <th>Kurtosis:</th>      <td> 6.488</td>  <th>  Cond. No.          </th> <td>2.73e+05</td> \n",
       "</tr>\n",
       "</table><br/><br/>Notes:<br/>[1] Standard Errors assume that the covariance matrix of the errors is correctly specified.<br/>[2] The condition number is large, 2.73e+05. This might indicate that there are<br/>strong multicollinearity or other numerical problems."
      ],
      "text/latex": [
       "\\begin{center}\n",
       "\\begin{tabular}{lclc}\n",
       "\\toprule\n",
       "\\textbf{Dep. Variable:}    &        y         & \\textbf{  R-squared:         } &     0.818   \\\\\n",
       "\\textbf{Model:}            &       OLS        & \\textbf{  Adj. R-squared:    } &     0.817   \\\\\n",
       "\\textbf{Method:}           &  Least Squares   & \\textbf{  F-statistic:       } &     1646.   \\\\\n",
       "\\textbf{Date:}             & Wed, 26 Jun 2024 & \\textbf{  Prob (F-statistic):} &     0.00    \\\\\n",
       "\\textbf{Time:}             &     21:18:49     & \\textbf{  Log-Likelihood:    } &   -11782.   \\\\\n",
       "\\textbf{No. Observations:} &        1104      & \\textbf{  AIC:               } & 2.357e+04   \\\\\n",
       "\\textbf{Df Residuals:}     &        1100      & \\textbf{  BIC:               } & 2.359e+04   \\\\\n",
       "\\textbf{Df Model:}         &           3      & \\textbf{                     } &             \\\\\n",
       "\\textbf{Covariance Type:}  &    nonrobust     & \\textbf{                     } &             \\\\\n",
       "\\bottomrule\n",
       "\\end{tabular}\n",
       "\\begin{tabular}{lcccccc}\n",
       "               & \\textbf{coef} & \\textbf{std err} & \\textbf{t} & \\textbf{P$> |$t$|$} & \\textbf{[0.025} & \\textbf{0.975]}  \\\\\n",
       "\\midrule\n",
       "\\textbf{const} &    3056.0538  &     1398.320     &     2.186  &         0.029        &      312.379    &     5799.729     \\\\\n",
       "\\textbf{x1}    &     538.1019  &       39.983     &    13.458  &         0.000        &      459.651    &      616.553     \\\\\n",
       "\\textbf{x2}    &       1.0133  &        0.029     &    35.199  &         0.000        &        0.957    &        1.070     \\\\\n",
       "\\textbf{x3}    &   -2246.3385  &      655.053     &    -3.429  &         0.001        &    -3531.633    &     -961.044     \\\\\n",
       "\\bottomrule\n",
       "\\end{tabular}\n",
       "\\begin{tabular}{lclc}\n",
       "\\textbf{Omnibus:}       & 133.768 & \\textbf{  Durbin-Watson:     } &     2.012  \\\\\n",
       "\\textbf{Prob(Omnibus):} &   0.000 & \\textbf{  Jarque-Bera (JB):  } &   601.550  \\\\\n",
       "\\textbf{Skew:}          &   0.477 & \\textbf{  Prob(JB):          } & 2.37e-131  \\\\\n",
       "\\textbf{Kurtosis:}      &   6.488 & \\textbf{  Cond. No.          } &  2.73e+05  \\\\\n",
       "\\bottomrule\n",
       "\\end{tabular}\n",
       "%\\caption{OLS Regression Results}\n",
       "\\end{center}\n",
       "\n",
       "Notes: \\newline\n",
       " [1] Standard Errors assume that the covariance matrix of the errors is correctly specified. \\newline\n",
       " [2] The condition number is large, 2.73e+05. This might indicate that there are \\newline\n",
       " strong multicollinearity or other numerical problems."
      ],
      "text/plain": [
       "<class 'statsmodels.iolib.summary.Summary'>\n",
       "\"\"\"\n",
       "                            OLS Regression Results                            \n",
       "==============================================================================\n",
       "Dep. Variable:                      y   R-squared:                       0.818\n",
       "Model:                            OLS   Adj. R-squared:                  0.817\n",
       "Method:                 Least Squares   F-statistic:                     1646.\n",
       "Date:                Wed, 26 Jun 2024   Prob (F-statistic):               0.00\n",
       "Time:                        21:18:49   Log-Likelihood:                -11782.\n",
       "No. Observations:                1104   AIC:                         2.357e+04\n",
       "Df Residuals:                    1100   BIC:                         2.359e+04\n",
       "Df Model:                           3                                         \n",
       "Covariance Type:            nonrobust                                         \n",
       "==============================================================================\n",
       "                 coef    std err          t      P>|t|      [0.025      0.975]\n",
       "------------------------------------------------------------------------------\n",
       "const       3056.0538   1398.320      2.186      0.029     312.379    5799.729\n",
       "x1           538.1019     39.983     13.458      0.000     459.651     616.553\n",
       "x2             1.0133      0.029     35.199      0.000       0.957       1.070\n",
       "x3         -2246.3385    655.053     -3.429      0.001   -3531.633    -961.044\n",
       "==============================================================================\n",
       "Omnibus:                      133.768   Durbin-Watson:                   2.012\n",
       "Prob(Omnibus):                  0.000   Jarque-Bera (JB):              601.550\n",
       "Skew:                           0.477   Prob(JB):                    2.37e-131\n",
       "Kurtosis:                       6.488   Cond. No.                     2.73e+05\n",
       "==============================================================================\n",
       "\n",
       "Notes:\n",
       "[1] Standard Errors assume that the covariance matrix of the errors is correctly specified.\n",
       "[2] The condition number is large, 2.73e+05. This might indicate that there are\n",
       "strong multicollinearity or other numerical problems.\n",
       "\"\"\""
      ]
     },
     "execution_count": 104,
     "metadata": {},
     "output_type": "execute_result"
    }
   ],
   "source": [
    "model.summary()"
   ]
  },
  {
   "cell_type": "code",
   "execution_count": 108,
   "id": "82db2c7c",
   "metadata": {},
   "outputs": [
    {
     "name": "stdout",
     "output_type": "stream",
     "text": [
      "Der Achsenabschnitt beträgt: 3056.053775970705\n"
     ]
    }
   ],
   "source": [
    "alpha = model.params[0]\n",
    "print(\"Der Achsenabschnitt beträgt:\", alpha)"
   ]
  },
  {
   "cell_type": "code",
   "execution_count": 110,
   "id": "8d99844a",
   "metadata": {},
   "outputs": [
    {
     "name": "stdout",
     "output_type": "stream",
     "text": [
      "Der Koeffizient für Alter beträgt: 538.1019464538566\n"
     ]
    }
   ],
   "source": [
    "beta_1 =  model.params[1]\n",
    "print(\"Der Koeffizient für Alter beträgt:\", beta_1)"
   ]
  },
  {
   "cell_type": "code",
   "execution_count": 109,
   "id": "ef98aba3",
   "metadata": {},
   "outputs": [
    {
     "name": "stdout",
     "output_type": "stream",
     "text": [
      "Der Koefizient für Einkommen beträgt: 1.0133395730127157\n"
     ]
    }
   ],
   "source": [
    "beta_2 = model.params[2]\n",
    "print(\"Der Koefizient für Einkommen beträgt:\", beta_2)"
   ]
  },
  {
   "cell_type": "code",
   "execution_count": 106,
   "id": "25c2541e",
   "metadata": {},
   "outputs": [
    {
     "name": "stdout",
     "output_type": "stream",
     "text": [
      "Die Variable Alter und Einkommen erklären 82.0% der Variabilität beim Preis.\n"
     ]
    }
   ],
   "source": [
    "r_squared = model.rsquared\n",
    "print(\"Die Variable Alter und Einkommen erklären \" + str(round(r_squared, 2) * 100) + \"% der Variabilität beim Preis.\")"
   ]
  },
  {
   "cell_type": "code",
   "execution_count": null,
   "id": "256afb7b",
   "metadata": {},
   "outputs": [],
   "source": [
    "alpha = reg_res.params[\"const\"]\n",
    "print(\"Der Achsenabschnitt beträgt: \" + str(round(alpha, 2)))"
   ]
  },
  {
   "cell_type": "code",
   "execution_count": null,
   "id": "75d463d5",
   "metadata": {},
   "outputs": [],
   "source": [
    "beta1 = reg_res.params[\"Alter\"]\n",
    "print(\"Eine Erhöhung des Alters um ein Jahr führt zu einer Zunahme des Kaufpreises um: \" + str(round(beta1, 2)))"
   ]
  },
  {
   "cell_type": "code",
   "execution_count": null,
   "id": "fb42823c",
   "metadata": {},
   "outputs": [],
   "source": [
    "beta2 = reg_res.params[\"Einkommen\"]\n",
    "print(\"Eine Erhöhung des Einkommens um einen Euro führt zu einer Zunahme des Kaufpreises um: \" + str(round(beta2, 2)))"
   ]
  },
  {
   "cell_type": "code",
   "execution_count": null,
   "id": "d09e22d5",
   "metadata": {},
   "outputs": [],
   "source": [
    "r_squared = reg_res.rsquared\n",
    "print(\"Die Variablen Alter und Einkommen erklären \" + str(round(r_squared, 2)*100) + \"% der Variabilität beim Preis\")"
   ]
  },
  {
   "cell_type": "code",
   "execution_count": null,
   "id": "4c67853e-ef68-45cf-81ec-c6c10e0ac492",
   "metadata": {},
   "outputs": [],
   "source": [
    "# Aufgabe 15: Prognostizieren Sie den Kaufpreis eines unserer Autos für einen männlichen Kunden im\n",
    "#             Alter von 32 Jahren mit einem Einkommen von 30.000 Euro. Prognostizieren Sie den Kaufpreis\n",
    "#             preis eines unserer Autos für einen männlichen Kunden im Alter von 51 Jahren und mit\n",
    "#             einem Einkommen von 54.000 Euro."
   ]
  },
  {
   "cell_type": "code",
   "execution_count": 111,
   "id": "188a8c08-8c2a-43d3-88af-e71d0b253343",
   "metadata": {},
   "outputs": [
    {
     "name": "stdout",
     "output_type": "stream",
     "text": [
      "        Geschlecht  Alter  Einkommen        Niederlassung  Zeit     Preis\n",
      "KundeNr                                                                  \n",
      "K0015     Männlich   32.0    43022.0              Sachsen  36.0  50811.55\n",
      "K0031     Männlich   32.0    40277.0               Bayern  34.0  42093.26\n",
      "K0115     Männlich   32.0    42406.0  Nordrhein-Westfalen  39.0  45125.20\n",
      "K0158     Männlich   32.0    52664.0    Baden-Württemberg  53.0  72598.33\n",
      "K0175     Männlich   32.0    50330.0               Bayern  27.0  49540.28\n",
      "K0213     Männlich   32.0    43819.0              Sachsen  47.0  57548.45\n",
      "K0246     Männlich   32.0    40729.0    Baden-Württemberg  33.0  54787.08\n",
      "K0316     Männlich   32.0    53135.0    Baden-Württemberg  53.0  81152.36\n",
      "K0320     Männlich   32.0    31090.0    Baden-Württemberg  29.0  59413.64\n",
      "K0447     Männlich   32.0    30856.0  Nordrhein-Westfalen  18.0  27934.83\n",
      "K0566     Männlich   32.0    26878.0               Bayern  36.0  50126.60\n",
      "K0598     Männlich   32.0    38008.0               Berlin  17.0  59823.29\n",
      "K0663     Männlich   32.0    45882.0    Baden-Württemberg  45.0  78435.10\n",
      "K0742     Männlich   32.0    45461.0        Niedersachsen  36.0  69182.41\n",
      "K0787     Männlich   32.0    47570.0               Hessen  38.0  82420.11\n",
      "K0950     Männlich   32.0    34112.0               Bayern  36.0  62280.35\n",
      "\n",
      "Zeilen, wo Alter den Wert 32 hat:\n",
      "        Geschlecht  Alter  Einkommen        Niederlassung  Zeit     Preis\n",
      "KundeNr                                                                  \n",
      "K0015     Männlich   32.0    43022.0              Sachsen  36.0  50811.55\n",
      "K0031     Männlich   32.0    40277.0               Bayern  34.0  42093.26\n",
      "K0115     Männlich   32.0    42406.0  Nordrhein-Westfalen  39.0  45125.20\n",
      "K0158     Männlich   32.0    52664.0    Baden-Württemberg  53.0  72598.33\n",
      "K0213     Männlich   32.0    43819.0              Sachsen  47.0  57548.45\n",
      "K0246     Männlich   32.0    40729.0    Baden-Württemberg  33.0  54787.08\n",
      "K0316     Männlich   32.0    53135.0    Baden-Württemberg  53.0  81152.36\n",
      "K0320     Männlich   32.0    31090.0    Baden-Württemberg  29.0  59413.64\n",
      "K0566     Männlich   32.0    26878.0               Bayern  36.0  50126.60\n",
      "K0598     Männlich   32.0    38008.0               Berlin  17.0  59823.29\n",
      "K0663     Männlich   32.0    45882.0    Baden-Württemberg  45.0  78435.10\n",
      "K0742     Männlich   32.0    45461.0        Niedersachsen  36.0  69182.41\n",
      "K0787     Männlich   32.0    47570.0               Hessen  38.0  82420.11\n",
      "K0950     Männlich   32.0    34112.0               Bayern  36.0  62280.35\n"
     ]
    }
   ],
   "source": [
    "P_höherals_E = Kunden[Kunden['Preis'] > Kunden['Einkommen']]\n",
    "\n",
    "# Filtern nach Zeilen, wo Alter den Wert 32 hat\n",
    "P_höherals_E_32 = P_höherals_E[(P_höherals_E['Alter'] == 32) & (P_höherals_E['Geschlecht'] == 'Männlich')]\n",
    "Kunden_32 = Kunden[(Kunden['Alter'] == 32) & (Kunden['Geschlecht'] == 'Männlich')]\n",
    "\n",
    "print(Kunden_32)\n",
    "print(\"\\nZeilen, wo Alter den Wert 32 hat:\")\n",
    "print(P_höherals_E_32)\n"
   ]
  },
  {
   "cell_type": "code",
   "execution_count": 112,
   "id": "8e0fefaa",
   "metadata": {},
   "outputs": [
    {
     "ename": "ModuleNotFoundError",
     "evalue": "No module named 'sklearn'",
     "output_type": "error",
     "traceback": [
      "\u001b[0;31m---------------------------------------------------------------------------\u001b[0m",
      "\u001b[0;31mModuleNotFoundError\u001b[0m                       Traceback (most recent call last)",
      "Cell \u001b[0;32mIn[112], line 3\u001b[0m\n\u001b[1;32m      1\u001b[0m \u001b[38;5;66;03m# Import necessary libraries\u001b[39;00m\n\u001b[1;32m      2\u001b[0m \u001b[38;5;28;01mimport\u001b[39;00m \u001b[38;5;21;01mseaborn\u001b[39;00m \u001b[38;5;28;01mas\u001b[39;00m \u001b[38;5;21;01msns\u001b[39;00m\n\u001b[0;32m----> 3\u001b[0m \u001b[38;5;28;01mfrom\u001b[39;00m \u001b[38;5;21;01msklearn\u001b[39;00m\u001b[38;5;21;01m.\u001b[39;00m\u001b[38;5;21;01mlinear_model\u001b[39;00m \u001b[38;5;28;01mimport\u001b[39;00m LinearRegression, LogisticRegression\n\u001b[1;32m      4\u001b[0m \u001b[38;5;28;01mfrom\u001b[39;00m \u001b[38;5;21;01msklearn\u001b[39;00m\u001b[38;5;21;01m.\u001b[39;00m\u001b[38;5;21;01mmetrics\u001b[39;00m \u001b[38;5;28;01mimport\u001b[39;00m mean_squared_error\n\u001b[1;32m      5\u001b[0m \u001b[38;5;28;01mfrom\u001b[39;00m \u001b[38;5;21;01mscipy\u001b[39;00m \u001b[38;5;28;01mimport\u001b[39;00m stats\n",
      "\u001b[0;31mModuleNotFoundError\u001b[0m: No module named 'sklearn'"
     ]
    }
   ],
   "source": [
    "# Import necessary libraries\n",
    "import seaborn as sns\n",
    "from sklearn.linear_model import LinearRegression, LogisticRegression\n",
    "from sklearn.metrics import mean_squared_error\n",
    "from scipy import stats\n",
    "\n",
    "# Prepare data for regression\n",
    "X = customer_data[['Alter', 'Einkommen']]\n",
    "y = customer_data['Preis']  # Assuming 'Preis' column is the target variable\n",
    "\n",
    "# Fit a linear regression model\n",
    "model = LinearRegression()\n",
    "model.fit(X, y)\n",
    "\n",
    "# Predictions\n",
    "predicted_price_32_30000 = model.predict([[32, 30000]])\n",
    "predicted_price_51_54000 = model.predict([[51, 54000]])\n",
    "\n",
    "\n",
    "\n",
    "\n"
   ]
  },
  {
   "cell_type": "code",
   "execution_count": null,
   "id": "620e37da-8ae7-4001-b98c-abf9caeec70a",
   "metadata": {},
   "outputs": [],
   "source": [
    "# Aufgabe 16: In Bezug auf die vorherige Frage: Welche Variable beeinflusst den Preis des Autos am\n",
    "#             meisten? Mit anderen Worten: Die von Ihnen geschätzten Regressionskoeffizienten müssen\n",
    "#             direkt vergleichbar sein. Wie sollen die Daten transformiert werden?"
   ]
  },
  {
   "cell_type": "code",
   "execution_count": null,
   "id": "a7758a07-0f73-4cb1-9321-c12a1ad2e537",
   "metadata": {},
   "outputs": [],
   "source": [
    "ff"
   ]
  },
  {
   "cell_type": "code",
   "execution_count": null,
   "id": "af514e81",
   "metadata": {},
   "outputs": [],
   "source": [
    "# 16. Variable, die den Preis des Autos am meisten beeinflusst (Regressionskoeffizienten)\n",
    "coefficients = model.coef_\n",
    "\n",
    "# Display the results\n",
    "predicted_price_32_30000, predicted_price_51_54000, coefficients\n"
   ]
  },
  {
   "cell_type": "code",
   "execution_count": null,
   "id": "8992b49d-135a-4e36-a0e5-964d8189761c",
   "metadata": {},
   "outputs": [],
   "source": [
    "# Aufgabe 17: Schätzen Sie eine Regression, die die Wahrscheinlichkeit des Kaufs eines Autos ermittelt.\n",
    "#             Verwenden Sie die entsprechende Methode."
   ]
  },
  {
   "cell_type": "code",
   "execution_count": null,
   "id": "fbae3116-4961-4fd0-b6d1-634908896b1f",
   "metadata": {},
   "outputs": [],
   "source": [
    "ff"
   ]
  },
  {
   "cell_type": "code",
   "execution_count": null,
   "id": "8b942453",
   "metadata": {},
   "outputs": [],
   "source": [
    "from sklearn.linear_model import LogisticRegression\n",
    "\n",
    "# For logistic regression, we need a binary target variable.\n",
    "# We'll create a binary target variable for demonstration purposes.\n",
    "# Assuming 'Zeit' > 30 indicates a purchase (1), and 'Zeit' <= 30 indicates no purchase (0)\n",
    "data['Purchase'] = (data['Zeit'] > 30).astype(int)\n",
    "\n",
    "# Features and target variable\n",
    "X_log = data[['Alter', 'Einkommen']]\n",
    "y_log = data['Purchase']\n",
    "\n",
    "# Fit a logistic regression model\n",
    "log_model = LogisticRegression()\n",
    "log_model.fit(X_log, y_log)\n",
    "\n",
    "# Display the coefficients\n",
    "log_coefficients = log_model.coef_"
   ]
  },
  {
   "cell_type": "code",
   "execution_count": 118,
   "id": "0e99b594",
   "metadata": {},
   "outputs": [
    {
     "data": {
      "text/html": [
       "<div>\n",
       "<style scoped>\n",
       "    .dataframe tbody tr th:only-of-type {\n",
       "        vertical-align: middle;\n",
       "    }\n",
       "\n",
       "    .dataframe tbody tr th {\n",
       "        vertical-align: top;\n",
       "    }\n",
       "\n",
       "    .dataframe thead th {\n",
       "        text-align: right;\n",
       "    }\n",
       "</style>\n",
       "<table border=\"1\" class=\"dataframe\">\n",
       "  <thead>\n",
       "    <tr style=\"text-align: right;\">\n",
       "      <th></th>\n",
       "      <th>Geschlecht</th>\n",
       "      <th>Alter</th>\n",
       "      <th>Einkommen</th>\n",
       "      <th>Niederlassung</th>\n",
       "      <th>Zeit</th>\n",
       "      <th>Preis</th>\n",
       "    </tr>\n",
       "  </thead>\n",
       "  <tbody>\n",
       "    <tr>\n",
       "      <th>K0001</th>\n",
       "      <td>Männlich</td>\n",
       "      <td>68</td>\n",
       "      <td>89437.00</td>\n",
       "      <td>Sachsen</td>\n",
       "      <td>62</td>\n",
       "      <td>114481.90</td>\n",
       "    </tr>\n",
       "    <tr>\n",
       "      <th>K0002</th>\n",
       "      <td>Männlich</td>\n",
       "      <td>58</td>\n",
       "      <td>65271.00</td>\n",
       "      <td>Nordrhein-Westfalen</td>\n",
       "      <td>44</td>\n",
       "      <td>106258.99</td>\n",
       "    </tr>\n",
       "    <tr>\n",
       "      <th>K0003</th>\n",
       "      <td>Männlich</td>\n",
       "      <td>44</td>\n",
       "      <td>48195.00</td>\n",
       "      <td>Hessen</td>\n",
       "      <td>29</td>\n",
       "      <td>85705.57</td>\n",
       "    </tr>\n",
       "    <tr>\n",
       "      <th>K0004</th>\n",
       "      <td>Weiblich</td>\n",
       "      <td>37</td>\n",
       "      <td>48957.00</td>\n",
       "      <td>Bayern</td>\n",
       "      <td>36</td>\n",
       "      <td>76412.36</td>\n",
       "    </tr>\n",
       "    <tr>\n",
       "      <th>K0005</th>\n",
       "      <td>Weiblich</td>\n",
       "      <td>50</td>\n",
       "      <td>56621.00</td>\n",
       "      <td>Bayern</td>\n",
       "      <td>40</td>\n",
       "      <td>92898.67</td>\n",
       "    </tr>\n",
       "    <tr>\n",
       "      <th>...</th>\n",
       "      <td>...</td>\n",
       "      <td>...</td>\n",
       "      <td>...</td>\n",
       "      <td>...</td>\n",
       "      <td>...</td>\n",
       "      <td>...</td>\n",
       "    </tr>\n",
       "    <tr>\n",
       "      <th>K1892</th>\n",
       "      <td>Männlich</td>\n",
       "      <td>48</td>\n",
       "      <td>59967.31</td>\n",
       "      <td>Hessen</td>\n",
       "      <td>21</td>\n",
       "      <td>NaN</td>\n",
       "    </tr>\n",
       "    <tr>\n",
       "      <th>K1893</th>\n",
       "      <td>Männlich</td>\n",
       "      <td>67</td>\n",
       "      <td>81521.76</td>\n",
       "      <td>Baden-Württemberg</td>\n",
       "      <td>21</td>\n",
       "      <td>NaN</td>\n",
       "    </tr>\n",
       "    <tr>\n",
       "      <th>K1894</th>\n",
       "      <td>Weiblich</td>\n",
       "      <td>40</td>\n",
       "      <td>41616.57</td>\n",
       "      <td>Nordrhein-Westfalen</td>\n",
       "      <td>48</td>\n",
       "      <td>NaN</td>\n",
       "    </tr>\n",
       "    <tr>\n",
       "      <th>K1895</th>\n",
       "      <td>Männlich</td>\n",
       "      <td>49</td>\n",
       "      <td>76602.79</td>\n",
       "      <td>Berlin</td>\n",
       "      <td>19</td>\n",
       "      <td>NaN</td>\n",
       "    </tr>\n",
       "    <tr>\n",
       "      <th>K1896</th>\n",
       "      <td>Männlich</td>\n",
       "      <td>49</td>\n",
       "      <td>54754.53</td>\n",
       "      <td>Berlin</td>\n",
       "      <td>44</td>\n",
       "      <td>NaN</td>\n",
       "    </tr>\n",
       "  </tbody>\n",
       "</table>\n",
       "<p>1995 rows × 6 columns</p>\n",
       "</div>"
      ],
      "text/plain": [
       "      Geschlecht  Alter  Einkommen        Niederlassung  Zeit      Preis\n",
       "K0001   Männlich     68   89437.00              Sachsen    62  114481.90\n",
       "K0002   Männlich     58   65271.00  Nordrhein-Westfalen    44  106258.99\n",
       "K0003   Männlich     44   48195.00               Hessen    29   85705.57\n",
       "K0004   Weiblich     37   48957.00               Bayern    36   76412.36\n",
       "K0005   Weiblich     50   56621.00               Bayern    40   92898.67\n",
       "...          ...    ...        ...                  ...   ...        ...\n",
       "K1892   Männlich     48   59967.31               Hessen    21        NaN\n",
       "K1893   Männlich     67   81521.76    Baden-Württemberg    21        NaN\n",
       "K1894   Weiblich     40   41616.57  Nordrhein-Westfalen    48        NaN\n",
       "K1895   Männlich     49   76602.79               Berlin    19        NaN\n",
       "K1896   Männlich     49   54754.53               Berlin    44        NaN\n",
       "\n",
       "[1995 rows x 6 columns]"
      ]
     },
     "execution_count": 118,
     "metadata": {},
     "output_type": "execute_result"
    }
   ],
   "source": [
    "df"
   ]
  },
  {
   "cell_type": "code",
   "execution_count": 129,
   "id": "e8251c99",
   "metadata": {},
   "outputs": [
    {
     "data": {
      "text/plain": [
       "1104"
      ]
     },
     "execution_count": 129,
     "metadata": {},
     "output_type": "execute_result"
    }
   ],
   "source": [
    "len(df)"
   ]
  },
  {
   "cell_type": "code",
   "execution_count": 133,
   "id": "cab91413",
   "metadata": {},
   "outputs": [],
   "source": [
    "df2 = df.copy()"
   ]
  },
  {
   "cell_type": "code",
   "execution_count": 141,
   "id": "ac57b33d",
   "metadata": {},
   "outputs": [
    {
     "data": {
      "text/plain": [
       "Geschlecht       0.0\n",
       "Alter            0.0\n",
       "Einkommen        0.0\n",
       "Niederlassung    0.0\n",
       "Zeit             0.0\n",
       "Preis            0.0\n",
       "Kauf             0.0\n",
       "dtype: float64"
      ]
     },
     "execution_count": 141,
     "metadata": {},
     "output_type": "execute_result"
    }
   ],
   "source": [
    "df2.isna().mean()"
   ]
  },
  {
   "cell_type": "code",
   "execution_count": 145,
   "id": "fd9032e8",
   "metadata": {},
   "outputs": [
    {
     "name": "stdout",
     "output_type": "stream",
     "text": [
      "Warning: Maximum number of iterations has been exceeded.\n",
      "         Current function value: inf\n",
      "         Iterations: 35\n"
     ]
    },
    {
     "name": "stderr",
     "output_type": "stream",
     "text": [
      "/Users/stheno/git/nhi/.venv/lib/python3.11/site-packages/statsmodels/discrete/discrete_model.py:227: PerfectSeparationWarning: Perfect separation or prediction detected, parameter may not be identified\n",
      "  warnings.warn(msg, category=PerfectSeparationWarning)\n",
      "/Users/stheno/git/nhi/.venv/lib/python3.11/site-packages/statsmodels/discrete/discrete_model.py:227: PerfectSeparationWarning: Perfect separation or prediction detected, parameter may not be identified\n",
      "  warnings.warn(msg, category=PerfectSeparationWarning)\n",
      "/Users/stheno/git/nhi/.venv/lib/python3.11/site-packages/statsmodels/discrete/discrete_model.py:227: PerfectSeparationWarning: Perfect separation or prediction detected, parameter may not be identified\n",
      "  warnings.warn(msg, category=PerfectSeparationWarning)\n",
      "/Users/stheno/git/nhi/.venv/lib/python3.11/site-packages/statsmodels/discrete/discrete_model.py:227: PerfectSeparationWarning: Perfect separation or prediction detected, parameter may not be identified\n",
      "  warnings.warn(msg, category=PerfectSeparationWarning)\n",
      "/Users/stheno/git/nhi/.venv/lib/python3.11/site-packages/statsmodels/discrete/discrete_model.py:227: PerfectSeparationWarning: Perfect separation or prediction detected, parameter may not be identified\n",
      "  warnings.warn(msg, category=PerfectSeparationWarning)\n",
      "/Users/stheno/git/nhi/.venv/lib/python3.11/site-packages/statsmodels/discrete/discrete_model.py:227: PerfectSeparationWarning: Perfect separation or prediction detected, parameter may not be identified\n",
      "  warnings.warn(msg, category=PerfectSeparationWarning)\n",
      "/Users/stheno/git/nhi/.venv/lib/python3.11/site-packages/statsmodels/discrete/discrete_model.py:227: PerfectSeparationWarning: Perfect separation or prediction detected, parameter may not be identified\n",
      "  warnings.warn(msg, category=PerfectSeparationWarning)\n",
      "/Users/stheno/git/nhi/.venv/lib/python3.11/site-packages/statsmodels/discrete/discrete_model.py:227: PerfectSeparationWarning: Perfect separation or prediction detected, parameter may not be identified\n",
      "  warnings.warn(msg, category=PerfectSeparationWarning)\n",
      "/Users/stheno/git/nhi/.venv/lib/python3.11/site-packages/statsmodels/discrete/discrete_model.py:227: PerfectSeparationWarning: Perfect separation or prediction detected, parameter may not be identified\n",
      "  warnings.warn(msg, category=PerfectSeparationWarning)\n",
      "/Users/stheno/git/nhi/.venv/lib/python3.11/site-packages/statsmodels/discrete/discrete_model.py:227: PerfectSeparationWarning: Perfect separation or prediction detected, parameter may not be identified\n",
      "  warnings.warn(msg, category=PerfectSeparationWarning)\n",
      "/Users/stheno/git/nhi/.venv/lib/python3.11/site-packages/statsmodels/discrete/discrete_model.py:227: PerfectSeparationWarning: Perfect separation or prediction detected, parameter may not be identified\n",
      "  warnings.warn(msg, category=PerfectSeparationWarning)\n",
      "/Users/stheno/git/nhi/.venv/lib/python3.11/site-packages/statsmodels/discrete/discrete_model.py:2385: RuntimeWarning: overflow encountered in exp\n",
      "  return 1/(1+np.exp(-X))\n",
      "/Users/stheno/git/nhi/.venv/lib/python3.11/site-packages/statsmodels/discrete/discrete_model.py:2443: RuntimeWarning: divide by zero encountered in log\n",
      "  return np.sum(np.log(self.cdf(q * linpred)))\n"
     ]
    },
    {
     "ename": "LinAlgError",
     "evalue": "Singular matrix",
     "output_type": "error",
     "traceback": [
      "\u001b[0;31m---------------------------------------------------------------------------\u001b[0m",
      "\u001b[0;31mLinAlgError\u001b[0m                               Traceback (most recent call last)",
      "Cell \u001b[0;32mIn[145], line 25\u001b[0m\n\u001b[1;32m     22\u001b[0m y_logit \u001b[38;5;241m=\u001b[39m df2[\u001b[38;5;124m'\u001b[39m\u001b[38;5;124mKauf\u001b[39m\u001b[38;5;124m'\u001b[39m]\n\u001b[1;32m     24\u001b[0m \u001b[38;5;66;03m# Fit the logistic regression model\u001b[39;00m\n\u001b[0;32m---> 25\u001b[0m logit_model \u001b[38;5;241m=\u001b[39m \u001b[43msm\u001b[49m\u001b[38;5;241;43m.\u001b[39;49m\u001b[43mLogit\u001b[49m\u001b[43m(\u001b[49m\u001b[43mnp\u001b[49m\u001b[38;5;241;43m.\u001b[39;49m\u001b[43masarray\u001b[49m\u001b[43m(\u001b[49m\u001b[43my_logit\u001b[49m\u001b[43m)\u001b[49m\u001b[38;5;241;43m.\u001b[39;49m\u001b[43mastype\u001b[49m\u001b[43m(\u001b[49m\u001b[38;5;28;43mfloat\u001b[39;49m\u001b[43m)\u001b[49m\u001b[43m,\u001b[49m\u001b[43m \u001b[49m\u001b[43mnp\u001b[49m\u001b[38;5;241;43m.\u001b[39;49m\u001b[43masarray\u001b[49m\u001b[43m(\u001b[49m\u001b[43mX_logit\u001b[49m\u001b[43m)\u001b[49m\u001b[38;5;241;43m.\u001b[39;49m\u001b[43mastype\u001b[49m\u001b[43m(\u001b[49m\u001b[38;5;28;43mfloat\u001b[39;49m\u001b[43m)\u001b[49m\u001b[43m)\u001b[49m\u001b[38;5;241;43m.\u001b[39;49m\u001b[43mfit\u001b[49m\u001b[43m(\u001b[49m\u001b[43m)\u001b[49m\n\u001b[1;32m     27\u001b[0m \u001b[38;5;66;03m# Print the summary of the model\u001b[39;00m\n\u001b[1;32m     28\u001b[0m \u001b[38;5;28mprint\u001b[39m(logit_model\u001b[38;5;241m.\u001b[39msummary())\n",
      "File \u001b[0;32m~/git/nhi/.venv/lib/python3.11/site-packages/statsmodels/discrete/discrete_model.py:2601\u001b[0m, in \u001b[0;36mLogit.fit\u001b[0;34m(self, start_params, method, maxiter, full_output, disp, callback, **kwargs)\u001b[0m\n\u001b[1;32m   2598\u001b[0m \u001b[38;5;129m@Appender\u001b[39m(DiscreteModel\u001b[38;5;241m.\u001b[39mfit\u001b[38;5;241m.\u001b[39m\u001b[38;5;18m__doc__\u001b[39m)\n\u001b[1;32m   2599\u001b[0m \u001b[38;5;28;01mdef\u001b[39;00m \u001b[38;5;21mfit\u001b[39m(\u001b[38;5;28mself\u001b[39m, start_params\u001b[38;5;241m=\u001b[39m\u001b[38;5;28;01mNone\u001b[39;00m, method\u001b[38;5;241m=\u001b[39m\u001b[38;5;124m'\u001b[39m\u001b[38;5;124mnewton\u001b[39m\u001b[38;5;124m'\u001b[39m, maxiter\u001b[38;5;241m=\u001b[39m\u001b[38;5;241m35\u001b[39m,\n\u001b[1;32m   2600\u001b[0m         full_output\u001b[38;5;241m=\u001b[39m\u001b[38;5;241m1\u001b[39m, disp\u001b[38;5;241m=\u001b[39m\u001b[38;5;241m1\u001b[39m, callback\u001b[38;5;241m=\u001b[39m\u001b[38;5;28;01mNone\u001b[39;00m, \u001b[38;5;241m*\u001b[39m\u001b[38;5;241m*\u001b[39mkwargs):\n\u001b[0;32m-> 2601\u001b[0m     bnryfit \u001b[38;5;241m=\u001b[39m \u001b[38;5;28;43msuper\u001b[39;49m\u001b[43m(\u001b[49m\u001b[43m)\u001b[49m\u001b[38;5;241;43m.\u001b[39;49m\u001b[43mfit\u001b[49m\u001b[43m(\u001b[49m\u001b[43mstart_params\u001b[49m\u001b[38;5;241;43m=\u001b[39;49m\u001b[43mstart_params\u001b[49m\u001b[43m,\u001b[49m\n\u001b[1;32m   2602\u001b[0m \u001b[43m                          \u001b[49m\u001b[43mmethod\u001b[49m\u001b[38;5;241;43m=\u001b[39;49m\u001b[43mmethod\u001b[49m\u001b[43m,\u001b[49m\n\u001b[1;32m   2603\u001b[0m \u001b[43m                          \u001b[49m\u001b[43mmaxiter\u001b[49m\u001b[38;5;241;43m=\u001b[39;49m\u001b[43mmaxiter\u001b[49m\u001b[43m,\u001b[49m\n\u001b[1;32m   2604\u001b[0m \u001b[43m                          \u001b[49m\u001b[43mfull_output\u001b[49m\u001b[38;5;241;43m=\u001b[39;49m\u001b[43mfull_output\u001b[49m\u001b[43m,\u001b[49m\n\u001b[1;32m   2605\u001b[0m \u001b[43m                          \u001b[49m\u001b[43mdisp\u001b[49m\u001b[38;5;241;43m=\u001b[39;49m\u001b[43mdisp\u001b[49m\u001b[43m,\u001b[49m\n\u001b[1;32m   2606\u001b[0m \u001b[43m                          \u001b[49m\u001b[43mcallback\u001b[49m\u001b[38;5;241;43m=\u001b[39;49m\u001b[43mcallback\u001b[49m\u001b[43m,\u001b[49m\n\u001b[1;32m   2607\u001b[0m \u001b[43m                          \u001b[49m\u001b[38;5;241;43m*\u001b[39;49m\u001b[38;5;241;43m*\u001b[39;49m\u001b[43mkwargs\u001b[49m\u001b[43m)\u001b[49m\n\u001b[1;32m   2609\u001b[0m     discretefit \u001b[38;5;241m=\u001b[39m LogitResults(\u001b[38;5;28mself\u001b[39m, bnryfit)\n\u001b[1;32m   2610\u001b[0m     \u001b[38;5;28;01mreturn\u001b[39;00m BinaryResultsWrapper(discretefit)\n",
      "File \u001b[0;32m~/git/nhi/.venv/lib/python3.11/site-packages/statsmodels/discrete/discrete_model.py:243\u001b[0m, in \u001b[0;36mDiscreteModel.fit\u001b[0;34m(self, start_params, method, maxiter, full_output, disp, callback, **kwargs)\u001b[0m\n\u001b[1;32m    240\u001b[0m \u001b[38;5;28;01melse\u001b[39;00m:\n\u001b[1;32m    241\u001b[0m     \u001b[38;5;28;01mpass\u001b[39;00m  \u001b[38;5;66;03m# TODO: make a function factory to have multiple call-backs\u001b[39;00m\n\u001b[0;32m--> 243\u001b[0m mlefit \u001b[38;5;241m=\u001b[39m \u001b[38;5;28;43msuper\u001b[39;49m\u001b[43m(\u001b[49m\u001b[43m)\u001b[49m\u001b[38;5;241;43m.\u001b[39;49m\u001b[43mfit\u001b[49m\u001b[43m(\u001b[49m\u001b[43mstart_params\u001b[49m\u001b[38;5;241;43m=\u001b[39;49m\u001b[43mstart_params\u001b[49m\u001b[43m,\u001b[49m\n\u001b[1;32m    244\u001b[0m \u001b[43m                     \u001b[49m\u001b[43mmethod\u001b[49m\u001b[38;5;241;43m=\u001b[39;49m\u001b[43mmethod\u001b[49m\u001b[43m,\u001b[49m\n\u001b[1;32m    245\u001b[0m \u001b[43m                     \u001b[49m\u001b[43mmaxiter\u001b[49m\u001b[38;5;241;43m=\u001b[39;49m\u001b[43mmaxiter\u001b[49m\u001b[43m,\u001b[49m\n\u001b[1;32m    246\u001b[0m \u001b[43m                     \u001b[49m\u001b[43mfull_output\u001b[49m\u001b[38;5;241;43m=\u001b[39;49m\u001b[43mfull_output\u001b[49m\u001b[43m,\u001b[49m\n\u001b[1;32m    247\u001b[0m \u001b[43m                     \u001b[49m\u001b[43mdisp\u001b[49m\u001b[38;5;241;43m=\u001b[39;49m\u001b[43mdisp\u001b[49m\u001b[43m,\u001b[49m\n\u001b[1;32m    248\u001b[0m \u001b[43m                     \u001b[49m\u001b[43mcallback\u001b[49m\u001b[38;5;241;43m=\u001b[39;49m\u001b[43mcallback\u001b[49m\u001b[43m,\u001b[49m\n\u001b[1;32m    249\u001b[0m \u001b[43m                     \u001b[49m\u001b[38;5;241;43m*\u001b[39;49m\u001b[38;5;241;43m*\u001b[39;49m\u001b[43mkwargs\u001b[49m\u001b[43m)\u001b[49m\n\u001b[1;32m    251\u001b[0m \u001b[38;5;28;01mreturn\u001b[39;00m mlefit\n",
      "File \u001b[0;32m~/git/nhi/.venv/lib/python3.11/site-packages/statsmodels/base/model.py:582\u001b[0m, in \u001b[0;36mLikelihoodModel.fit\u001b[0;34m(self, start_params, method, maxiter, full_output, disp, fargs, callback, retall, skip_hessian, **kwargs)\u001b[0m\n\u001b[1;32m    580\u001b[0m     Hinv \u001b[38;5;241m=\u001b[39m cov_params_func(\u001b[38;5;28mself\u001b[39m, xopt, retvals)\n\u001b[1;32m    581\u001b[0m \u001b[38;5;28;01melif\u001b[39;00m method \u001b[38;5;241m==\u001b[39m \u001b[38;5;124m'\u001b[39m\u001b[38;5;124mnewton\u001b[39m\u001b[38;5;124m'\u001b[39m \u001b[38;5;129;01mand\u001b[39;00m full_output:\n\u001b[0;32m--> 582\u001b[0m     Hinv \u001b[38;5;241m=\u001b[39m \u001b[43mnp\u001b[49m\u001b[38;5;241;43m.\u001b[39;49m\u001b[43mlinalg\u001b[49m\u001b[38;5;241;43m.\u001b[39;49m\u001b[43minv\u001b[49m\u001b[43m(\u001b[49m\u001b[38;5;241;43m-\u001b[39;49m\u001b[43mretvals\u001b[49m\u001b[43m[\u001b[49m\u001b[38;5;124;43m'\u001b[39;49m\u001b[38;5;124;43mHessian\u001b[39;49m\u001b[38;5;124;43m'\u001b[39;49m\u001b[43m]\u001b[49m\u001b[43m)\u001b[49m \u001b[38;5;241m/\u001b[39m nobs\n\u001b[1;32m    583\u001b[0m \u001b[38;5;28;01melif\u001b[39;00m \u001b[38;5;129;01mnot\u001b[39;00m skip_hessian:\n\u001b[1;32m    584\u001b[0m     H \u001b[38;5;241m=\u001b[39m \u001b[38;5;241m-\u001b[39m\u001b[38;5;241m1\u001b[39m \u001b[38;5;241m*\u001b[39m \u001b[38;5;28mself\u001b[39m\u001b[38;5;241m.\u001b[39mhessian(xopt)\n",
      "File \u001b[0;32m~/git/nhi/.venv/lib/python3.11/site-packages/numpy/linalg/_linalg.py:608\u001b[0m, in \u001b[0;36minv\u001b[0;34m(a)\u001b[0m\n\u001b[1;32m    605\u001b[0m signature \u001b[38;5;241m=\u001b[39m \u001b[38;5;124m'\u001b[39m\u001b[38;5;124mD->D\u001b[39m\u001b[38;5;124m'\u001b[39m \u001b[38;5;28;01mif\u001b[39;00m isComplexType(t) \u001b[38;5;28;01melse\u001b[39;00m \u001b[38;5;124m'\u001b[39m\u001b[38;5;124md->d\u001b[39m\u001b[38;5;124m'\u001b[39m\n\u001b[1;32m    606\u001b[0m \u001b[38;5;28;01mwith\u001b[39;00m errstate(call\u001b[38;5;241m=\u001b[39m_raise_linalgerror_singular, invalid\u001b[38;5;241m=\u001b[39m\u001b[38;5;124m'\u001b[39m\u001b[38;5;124mcall\u001b[39m\u001b[38;5;124m'\u001b[39m,\n\u001b[1;32m    607\u001b[0m               over\u001b[38;5;241m=\u001b[39m\u001b[38;5;124m'\u001b[39m\u001b[38;5;124mignore\u001b[39m\u001b[38;5;124m'\u001b[39m, divide\u001b[38;5;241m=\u001b[39m\u001b[38;5;124m'\u001b[39m\u001b[38;5;124mignore\u001b[39m\u001b[38;5;124m'\u001b[39m, under\u001b[38;5;241m=\u001b[39m\u001b[38;5;124m'\u001b[39m\u001b[38;5;124mignore\u001b[39m\u001b[38;5;124m'\u001b[39m):\n\u001b[0;32m--> 608\u001b[0m     ainv \u001b[38;5;241m=\u001b[39m \u001b[43m_umath_linalg\u001b[49m\u001b[38;5;241;43m.\u001b[39;49m\u001b[43minv\u001b[49m\u001b[43m(\u001b[49m\u001b[43ma\u001b[49m\u001b[43m,\u001b[49m\u001b[43m \u001b[49m\u001b[43msignature\u001b[49m\u001b[38;5;241;43m=\u001b[39;49m\u001b[43msignature\u001b[49m\u001b[43m)\u001b[49m\n\u001b[1;32m    609\u001b[0m \u001b[38;5;28;01mreturn\u001b[39;00m wrap(ainv\u001b[38;5;241m.\u001b[39mastype(result_t, copy\u001b[38;5;241m=\u001b[39m\u001b[38;5;28;01mFalse\u001b[39;00m))\n",
      "File \u001b[0;32m~/git/nhi/.venv/lib/python3.11/site-packages/numpy/linalg/_linalg.py:104\u001b[0m, in \u001b[0;36m_raise_linalgerror_singular\u001b[0;34m(err, flag)\u001b[0m\n\u001b[1;32m    103\u001b[0m \u001b[38;5;28;01mdef\u001b[39;00m \u001b[38;5;21m_raise_linalgerror_singular\u001b[39m(err, flag):\n\u001b[0;32m--> 104\u001b[0m     \u001b[38;5;28;01mraise\u001b[39;00m LinAlgError(\u001b[38;5;124m\"\u001b[39m\u001b[38;5;124mSingular matrix\u001b[39m\u001b[38;5;124m\"\u001b[39m)\n",
      "\u001b[0;31mLinAlgError\u001b[0m: Singular matrix"
     ]
    }
   ],
   "source": [
    "import pandas as pd\n",
    "import numpy as np\n",
    "import statsmodels.api as sm\n",
    "from sklearn.linear_model import LogisticRegression\n",
    "\n",
    "# Drop rows with missing values\n",
    "df2.dropna(inplace=True)\n",
    "\n",
    "# Create binary target variable 'Kauf'\n",
    "df2['Kauf'] = np.where(df2.index.isin(customer_geo['KundeNr']), 1, 0)\n",
    "\n",
    "# Prepare independent variables\n",
    "X_logit = df2[['Alter', 'Einkommen', 'Zeit', 'Geschlecht']]\n",
    "\n",
    "# Convert categorical variable 'Geschlecht' into dummy/indicator variables\n",
    "X_logit = pd.get_dummies(X_logit, drop_first=True)\n",
    "\n",
    "# Add constant term for intercept\n",
    "X_logit = sm.add_constant(X_logit)\n",
    "\n",
    "# Prepare dependent variable\n",
    "y_logit = df2['Kauf']\n",
    "\n",
    "# Fit the logistic regression model\n",
    "logit_model = sm.Logit(np.asarray(y_logit).astype(float), np.asarray(X_logit).astype(float)).fit()\n",
    "\n",
    "# Print the summary of the model\n",
    "print(logit_model.summary())\n"
   ]
  },
  {
   "cell_type": "code",
   "execution_count": 142,
   "id": "b284e0a4",
   "metadata": {},
   "outputs": [
    {
     "ename": "TypeError",
     "evalue": "ufunc 'isfinite' not supported for the input types, and the inputs could not be safely coerced to any supported types according to the casting rule ''safe''",
     "output_type": "error",
     "traceback": [
      "\u001b[0;31m---------------------------------------------------------------------------\u001b[0m",
      "\u001b[0;31mTypeError\u001b[0m                                 Traceback (most recent call last)",
      "Cell \u001b[0;32mIn[142], line 15\u001b[0m\n\u001b[1;32m     12\u001b[0m X_logit \u001b[38;5;241m=\u001b[39m sm\u001b[38;5;241m.\u001b[39madd_constant(X_logit)\n\u001b[1;32m     13\u001b[0m \u001b[38;5;66;03m#logit_model = sm.Logit(y_logit, X_logit).fit()\u001b[39;00m\n\u001b[1;32m     14\u001b[0m \u001b[38;5;66;03m#logit_model = LogisticRegression()\u001b[39;00m\n\u001b[0;32m---> 15\u001b[0m logit_model \u001b[38;5;241m=\u001b[39m \u001b[43msm\u001b[49m\u001b[38;5;241;43m.\u001b[39;49m\u001b[43mLogit\u001b[49m\u001b[43m(\u001b[49m\u001b[43mnp\u001b[49m\u001b[38;5;241;43m.\u001b[39;49m\u001b[43masarray\u001b[49m\u001b[43m(\u001b[49m\u001b[43my_logit\u001b[49m\u001b[43m)\u001b[49m\u001b[43m,\u001b[49m\u001b[43m \u001b[49m\u001b[43mnp\u001b[49m\u001b[38;5;241;43m.\u001b[39;49m\u001b[43masarray\u001b[49m\u001b[43m(\u001b[49m\u001b[43mX_logit\u001b[49m\u001b[43m)\u001b[49m\u001b[43m)\u001b[49m\u001b[38;5;241m.\u001b[39mfit()\n\u001b[1;32m     16\u001b[0m \u001b[38;5;66;03m#logit_model.fit(X_logit, y_logit)\u001b[39;00m\n\u001b[1;32m     17\u001b[0m \u001b[38;5;28mprint\u001b[39m(logit_model\u001b[38;5;241m.\u001b[39msummary())\n",
      "File \u001b[0;32m~/git/nhi/.venv/lib/python3.11/site-packages/statsmodels/discrete/discrete_model.py:475\u001b[0m, in \u001b[0;36mBinaryModel.__init__\u001b[0;34m(self, endog, exog, offset, check_rank, **kwargs)\u001b[0m\n\u001b[1;32m    472\u001b[0m \u001b[38;5;28;01mdef\u001b[39;00m \u001b[38;5;21m__init__\u001b[39m(\u001b[38;5;28mself\u001b[39m, endog, exog, offset\u001b[38;5;241m=\u001b[39m\u001b[38;5;28;01mNone\u001b[39;00m, check_rank\u001b[38;5;241m=\u001b[39m\u001b[38;5;28;01mTrue\u001b[39;00m, \u001b[38;5;241m*\u001b[39m\u001b[38;5;241m*\u001b[39mkwargs):\n\u001b[1;32m    473\u001b[0m     \u001b[38;5;66;03m# unconditional check, requires no extra kwargs added by subclasses\u001b[39;00m\n\u001b[1;32m    474\u001b[0m     \u001b[38;5;28mself\u001b[39m\u001b[38;5;241m.\u001b[39m_check_kwargs(kwargs)\n\u001b[0;32m--> 475\u001b[0m     \u001b[38;5;28;43msuper\u001b[39;49m\u001b[43m(\u001b[49m\u001b[43m)\u001b[49m\u001b[38;5;241;43m.\u001b[39;49m\u001b[38;5;21;43m__init__\u001b[39;49m\u001b[43m(\u001b[49m\u001b[43mendog\u001b[49m\u001b[43m,\u001b[49m\u001b[43m \u001b[49m\u001b[43mexog\u001b[49m\u001b[43m,\u001b[49m\u001b[43m \u001b[49m\u001b[43moffset\u001b[49m\u001b[38;5;241;43m=\u001b[39;49m\u001b[43moffset\u001b[49m\u001b[43m,\u001b[49m\u001b[43m \u001b[49m\u001b[43mcheck_rank\u001b[49m\u001b[38;5;241;43m=\u001b[39;49m\u001b[43mcheck_rank\u001b[49m\u001b[43m,\u001b[49m\n\u001b[1;32m    476\u001b[0m \u001b[43m                     \u001b[49m\u001b[38;5;241;43m*\u001b[39;49m\u001b[38;5;241;43m*\u001b[39;49m\u001b[43mkwargs\u001b[49m\u001b[43m)\u001b[49m\n\u001b[1;32m    477\u001b[0m     \u001b[38;5;28;01mif\u001b[39;00m \u001b[38;5;129;01mnot\u001b[39;00m \u001b[38;5;28missubclass\u001b[39m(\u001b[38;5;28mself\u001b[39m\u001b[38;5;241m.\u001b[39m\u001b[38;5;18m__class__\u001b[39m, MultinomialModel):\n\u001b[1;32m    478\u001b[0m         \u001b[38;5;28;01mif\u001b[39;00m \u001b[38;5;129;01mnot\u001b[39;00m np\u001b[38;5;241m.\u001b[39mall((\u001b[38;5;28mself\u001b[39m\u001b[38;5;241m.\u001b[39mendog \u001b[38;5;241m>\u001b[39m\u001b[38;5;241m=\u001b[39m \u001b[38;5;241m0\u001b[39m) \u001b[38;5;241m&\u001b[39m (\u001b[38;5;28mself\u001b[39m\u001b[38;5;241m.\u001b[39mendog \u001b[38;5;241m<\u001b[39m\u001b[38;5;241m=\u001b[39m \u001b[38;5;241m1\u001b[39m)):\n",
      "File \u001b[0;32m~/git/nhi/.venv/lib/python3.11/site-packages/statsmodels/discrete/discrete_model.py:185\u001b[0m, in \u001b[0;36mDiscreteModel.__init__\u001b[0;34m(self, endog, exog, check_rank, **kwargs)\u001b[0m\n\u001b[1;32m    183\u001b[0m \u001b[38;5;28;01mdef\u001b[39;00m \u001b[38;5;21m__init__\u001b[39m(\u001b[38;5;28mself\u001b[39m, endog, exog, check_rank\u001b[38;5;241m=\u001b[39m\u001b[38;5;28;01mTrue\u001b[39;00m, \u001b[38;5;241m*\u001b[39m\u001b[38;5;241m*\u001b[39mkwargs):\n\u001b[1;32m    184\u001b[0m     \u001b[38;5;28mself\u001b[39m\u001b[38;5;241m.\u001b[39m_check_rank \u001b[38;5;241m=\u001b[39m check_rank\n\u001b[0;32m--> 185\u001b[0m     \u001b[38;5;28;43msuper\u001b[39;49m\u001b[43m(\u001b[49m\u001b[43m)\u001b[49m\u001b[38;5;241;43m.\u001b[39;49m\u001b[38;5;21;43m__init__\u001b[39;49m\u001b[43m(\u001b[49m\u001b[43mendog\u001b[49m\u001b[43m,\u001b[49m\u001b[43m \u001b[49m\u001b[43mexog\u001b[49m\u001b[43m,\u001b[49m\u001b[43m \u001b[49m\u001b[38;5;241;43m*\u001b[39;49m\u001b[38;5;241;43m*\u001b[39;49m\u001b[43mkwargs\u001b[49m\u001b[43m)\u001b[49m\n\u001b[1;32m    186\u001b[0m     \u001b[38;5;28mself\u001b[39m\u001b[38;5;241m.\u001b[39mraise_on_perfect_prediction \u001b[38;5;241m=\u001b[39m \u001b[38;5;28;01mFalse\u001b[39;00m  \u001b[38;5;66;03m# keep for backwards compat\u001b[39;00m\n\u001b[1;32m    187\u001b[0m     \u001b[38;5;28mself\u001b[39m\u001b[38;5;241m.\u001b[39mk_extra \u001b[38;5;241m=\u001b[39m \u001b[38;5;241m0\u001b[39m\n",
      "File \u001b[0;32m~/git/nhi/.venv/lib/python3.11/site-packages/statsmodels/base/model.py:270\u001b[0m, in \u001b[0;36mLikelihoodModel.__init__\u001b[0;34m(self, endog, exog, **kwargs)\u001b[0m\n\u001b[1;32m    269\u001b[0m \u001b[38;5;28;01mdef\u001b[39;00m \u001b[38;5;21m__init__\u001b[39m(\u001b[38;5;28mself\u001b[39m, endog, exog\u001b[38;5;241m=\u001b[39m\u001b[38;5;28;01mNone\u001b[39;00m, \u001b[38;5;241m*\u001b[39m\u001b[38;5;241m*\u001b[39mkwargs):\n\u001b[0;32m--> 270\u001b[0m     \u001b[38;5;28;43msuper\u001b[39;49m\u001b[43m(\u001b[49m\u001b[43m)\u001b[49m\u001b[38;5;241;43m.\u001b[39;49m\u001b[38;5;21;43m__init__\u001b[39;49m\u001b[43m(\u001b[49m\u001b[43mendog\u001b[49m\u001b[43m,\u001b[49m\u001b[43m \u001b[49m\u001b[43mexog\u001b[49m\u001b[43m,\u001b[49m\u001b[43m \u001b[49m\u001b[38;5;241;43m*\u001b[39;49m\u001b[38;5;241;43m*\u001b[39;49m\u001b[43mkwargs\u001b[49m\u001b[43m)\u001b[49m\n\u001b[1;32m    271\u001b[0m     \u001b[38;5;28mself\u001b[39m\u001b[38;5;241m.\u001b[39minitialize()\n",
      "File \u001b[0;32m~/git/nhi/.venv/lib/python3.11/site-packages/statsmodels/base/model.py:95\u001b[0m, in \u001b[0;36mModel.__init__\u001b[0;34m(self, endog, exog, **kwargs)\u001b[0m\n\u001b[1;32m     93\u001b[0m missing \u001b[38;5;241m=\u001b[39m kwargs\u001b[38;5;241m.\u001b[39mpop(\u001b[38;5;124m'\u001b[39m\u001b[38;5;124mmissing\u001b[39m\u001b[38;5;124m'\u001b[39m, \u001b[38;5;124m'\u001b[39m\u001b[38;5;124mnone\u001b[39m\u001b[38;5;124m'\u001b[39m)\n\u001b[1;32m     94\u001b[0m hasconst \u001b[38;5;241m=\u001b[39m kwargs\u001b[38;5;241m.\u001b[39mpop(\u001b[38;5;124m'\u001b[39m\u001b[38;5;124mhasconst\u001b[39m\u001b[38;5;124m'\u001b[39m, \u001b[38;5;28;01mNone\u001b[39;00m)\n\u001b[0;32m---> 95\u001b[0m \u001b[38;5;28mself\u001b[39m\u001b[38;5;241m.\u001b[39mdata \u001b[38;5;241m=\u001b[39m \u001b[38;5;28;43mself\u001b[39;49m\u001b[38;5;241;43m.\u001b[39;49m\u001b[43m_handle_data\u001b[49m\u001b[43m(\u001b[49m\u001b[43mendog\u001b[49m\u001b[43m,\u001b[49m\u001b[43m \u001b[49m\u001b[43mexog\u001b[49m\u001b[43m,\u001b[49m\u001b[43m \u001b[49m\u001b[43mmissing\u001b[49m\u001b[43m,\u001b[49m\u001b[43m \u001b[49m\u001b[43mhasconst\u001b[49m\u001b[43m,\u001b[49m\n\u001b[1;32m     96\u001b[0m \u001b[43m                              \u001b[49m\u001b[38;5;241;43m*\u001b[39;49m\u001b[38;5;241;43m*\u001b[39;49m\u001b[43mkwargs\u001b[49m\u001b[43m)\u001b[49m\n\u001b[1;32m     97\u001b[0m \u001b[38;5;28mself\u001b[39m\u001b[38;5;241m.\u001b[39mk_constant \u001b[38;5;241m=\u001b[39m \u001b[38;5;28mself\u001b[39m\u001b[38;5;241m.\u001b[39mdata\u001b[38;5;241m.\u001b[39mk_constant\n\u001b[1;32m     98\u001b[0m \u001b[38;5;28mself\u001b[39m\u001b[38;5;241m.\u001b[39mexog \u001b[38;5;241m=\u001b[39m \u001b[38;5;28mself\u001b[39m\u001b[38;5;241m.\u001b[39mdata\u001b[38;5;241m.\u001b[39mexog\n",
      "File \u001b[0;32m~/git/nhi/.venv/lib/python3.11/site-packages/statsmodels/base/model.py:135\u001b[0m, in \u001b[0;36mModel._handle_data\u001b[0;34m(self, endog, exog, missing, hasconst, **kwargs)\u001b[0m\n\u001b[1;32m    134\u001b[0m \u001b[38;5;28;01mdef\u001b[39;00m \u001b[38;5;21m_handle_data\u001b[39m(\u001b[38;5;28mself\u001b[39m, endog, exog, missing, hasconst, \u001b[38;5;241m*\u001b[39m\u001b[38;5;241m*\u001b[39mkwargs):\n\u001b[0;32m--> 135\u001b[0m     data \u001b[38;5;241m=\u001b[39m \u001b[43mhandle_data\u001b[49m\u001b[43m(\u001b[49m\u001b[43mendog\u001b[49m\u001b[43m,\u001b[49m\u001b[43m \u001b[49m\u001b[43mexog\u001b[49m\u001b[43m,\u001b[49m\u001b[43m \u001b[49m\u001b[43mmissing\u001b[49m\u001b[43m,\u001b[49m\u001b[43m \u001b[49m\u001b[43mhasconst\u001b[49m\u001b[43m,\u001b[49m\u001b[43m \u001b[49m\u001b[38;5;241;43m*\u001b[39;49m\u001b[38;5;241;43m*\u001b[39;49m\u001b[43mkwargs\u001b[49m\u001b[43m)\u001b[49m\n\u001b[1;32m    136\u001b[0m     \u001b[38;5;66;03m# kwargs arrays could have changed, easier to just attach here\u001b[39;00m\n\u001b[1;32m    137\u001b[0m     \u001b[38;5;28;01mfor\u001b[39;00m key \u001b[38;5;129;01min\u001b[39;00m kwargs:\n",
      "File \u001b[0;32m~/git/nhi/.venv/lib/python3.11/site-packages/statsmodels/base/data.py:675\u001b[0m, in \u001b[0;36mhandle_data\u001b[0;34m(endog, exog, missing, hasconst, **kwargs)\u001b[0m\n\u001b[1;32m    672\u001b[0m     exog \u001b[38;5;241m=\u001b[39m np\u001b[38;5;241m.\u001b[39masarray(exog)\n\u001b[1;32m    674\u001b[0m klass \u001b[38;5;241m=\u001b[39m handle_data_class_factory(endog, exog)\n\u001b[0;32m--> 675\u001b[0m \u001b[38;5;28;01mreturn\u001b[39;00m \u001b[43mklass\u001b[49m\u001b[43m(\u001b[49m\u001b[43mendog\u001b[49m\u001b[43m,\u001b[49m\u001b[43m \u001b[49m\u001b[43mexog\u001b[49m\u001b[38;5;241;43m=\u001b[39;49m\u001b[43mexog\u001b[49m\u001b[43m,\u001b[49m\u001b[43m \u001b[49m\u001b[43mmissing\u001b[49m\u001b[38;5;241;43m=\u001b[39;49m\u001b[43mmissing\u001b[49m\u001b[43m,\u001b[49m\u001b[43m \u001b[49m\u001b[43mhasconst\u001b[49m\u001b[38;5;241;43m=\u001b[39;49m\u001b[43mhasconst\u001b[49m\u001b[43m,\u001b[49m\n\u001b[1;32m    676\u001b[0m \u001b[43m             \u001b[49m\u001b[38;5;241;43m*\u001b[39;49m\u001b[38;5;241;43m*\u001b[39;49m\u001b[43mkwargs\u001b[49m\u001b[43m)\u001b[49m\n",
      "File \u001b[0;32m~/git/nhi/.venv/lib/python3.11/site-packages/statsmodels/base/data.py:88\u001b[0m, in \u001b[0;36mModelData.__init__\u001b[0;34m(self, endog, exog, missing, hasconst, **kwargs)\u001b[0m\n\u001b[1;32m     86\u001b[0m \u001b[38;5;28mself\u001b[39m\u001b[38;5;241m.\u001b[39mconst_idx \u001b[38;5;241m=\u001b[39m \u001b[38;5;28;01mNone\u001b[39;00m\n\u001b[1;32m     87\u001b[0m \u001b[38;5;28mself\u001b[39m\u001b[38;5;241m.\u001b[39mk_constant \u001b[38;5;241m=\u001b[39m \u001b[38;5;241m0\u001b[39m\n\u001b[0;32m---> 88\u001b[0m \u001b[38;5;28;43mself\u001b[39;49m\u001b[38;5;241;43m.\u001b[39;49m\u001b[43m_handle_constant\u001b[49m\u001b[43m(\u001b[49m\u001b[43mhasconst\u001b[49m\u001b[43m)\u001b[49m\n\u001b[1;32m     89\u001b[0m \u001b[38;5;28mself\u001b[39m\u001b[38;5;241m.\u001b[39m_check_integrity()\n\u001b[1;32m     90\u001b[0m \u001b[38;5;28mself\u001b[39m\u001b[38;5;241m.\u001b[39m_cache \u001b[38;5;241m=\u001b[39m {}\n",
      "File \u001b[0;32m~/git/nhi/.venv/lib/python3.11/site-packages/statsmodels/base/data.py:133\u001b[0m, in \u001b[0;36mModelData._handle_constant\u001b[0;34m(self, hasconst)\u001b[0m\n\u001b[1;32m    131\u001b[0m check_implicit \u001b[38;5;241m=\u001b[39m \u001b[38;5;28;01mFalse\u001b[39;00m\n\u001b[1;32m    132\u001b[0m exog_max \u001b[38;5;241m=\u001b[39m np\u001b[38;5;241m.\u001b[39mmax(\u001b[38;5;28mself\u001b[39m\u001b[38;5;241m.\u001b[39mexog, axis\u001b[38;5;241m=\u001b[39m\u001b[38;5;241m0\u001b[39m)\n\u001b[0;32m--> 133\u001b[0m \u001b[38;5;28;01mif\u001b[39;00m \u001b[38;5;129;01mnot\u001b[39;00m \u001b[43mnp\u001b[49m\u001b[38;5;241;43m.\u001b[39;49m\u001b[43misfinite\u001b[49m\u001b[43m(\u001b[49m\u001b[43mexog_max\u001b[49m\u001b[43m)\u001b[49m\u001b[38;5;241m.\u001b[39mall():\n\u001b[1;32m    134\u001b[0m     \u001b[38;5;28;01mraise\u001b[39;00m MissingDataError(\u001b[38;5;124m'\u001b[39m\u001b[38;5;124mexog contains inf or nans\u001b[39m\u001b[38;5;124m'\u001b[39m)\n\u001b[1;32m    135\u001b[0m exog_min \u001b[38;5;241m=\u001b[39m np\u001b[38;5;241m.\u001b[39mmin(\u001b[38;5;28mself\u001b[39m\u001b[38;5;241m.\u001b[39mexog, axis\u001b[38;5;241m=\u001b[39m\u001b[38;5;241m0\u001b[39m)\n",
      "\u001b[0;31mTypeError\u001b[0m: ufunc 'isfinite' not supported for the input types, and the inputs could not be safely coerced to any supported types according to the casting rule ''safe''"
     ]
    }
   ],
   "source": [
    "# Exercise 17: Logistic regression for purchase probability\n",
    "# Add a binary target variable 'Kauf' to besucher_df where 1 indicates purchase\n",
    "from sklearn.linear_model import LogisticRegression\n",
    "\n",
    "#df_clean = df[df.index.isin(customer_geo['KundeNr'])]\n",
    "\n",
    "df2.dropna(inplace=True)\n",
    "#df['Kauf'] = df.index.isin(customer_geo['KundeNr']).astype(int)\n",
    "df2['Kauf'] = np.where(df2.index.isin(customer_geo['KundeNr']), 1, 0)\n",
    "X_logit = df2[['Alter', 'Einkommen', 'Zeit', 'Geschlecht']]\n",
    "y_logit = df2['Kauf']\n",
    "X_logit = sm.add_constant(X_logit)\n",
    "#logit_model = sm.Logit(y_logit, X_logit).fit()\n",
    "#logit_model = LogisticRegression()\n",
    "logit_model = sm.Logit(np.asarray(y_logit), np.asarray(X_logit)).fit()\n",
    "#logit_model.fit(X_logit, y_logit)\n",
    "print(logit_model.summary())"
   ]
  },
  {
   "cell_type": "code",
   "execution_count": null,
   "id": "b8f4e5f7",
   "metadata": {},
   "outputs": [],
   "source": []
  },
  {
   "cell_type": "code",
   "execution_count": 116,
   "id": "37543566",
   "metadata": {},
   "outputs": [
    {
     "name": "stdout",
     "output_type": "stream",
     "text": [
      "Wahrscheinlichkeit des Kaufs für 32-jährigen Besucher: 9.411452584026452e-15\n",
      "Wahrscheinlichkeit des Kaufs für 51-jährigen Besucher: 1.2075214654073497e-17\n"
     ]
    }
   ],
   "source": [
    "# Exercise 18: Purchase probability for specific visitors\n",
    "# For 32-year-old male with 30,000 Euro income and 30 minutes test time\n",
    "new_visitor_1 = pd.DataFrame({'const': [1], 'Alter': [32], 'Einkommen': [30000], 'Zeit': [30], 'Geschlecht': [1]})\n",
    "purchase_prob_1 = logit_model.predict(new_visitor_1)\n",
    "\n",
    "# For 51-year-old male with 54,000 Euro income and 45 minutes test time\n",
    "new_visitor_2 = pd.DataFrame({'const': [1], 'Alter': [51], 'Einkommen': [54000], 'Zeit': [45], 'Geschlecht': [1]})\n",
    "purchase_prob_2 = logit_model.predict(new_visitor_2)\n",
    "\n",
    "print(f\"Wahrscheinlichkeit des Kaufs für 32-jährigen Besucher: {purchase_prob_1.iloc[0]}\")\n",
    "print(f\"Wahrscheinlichkeit des Kaufs für 51-jährigen Besucher: {purchase_prob_2.iloc[0]}\")"
   ]
  },
  {
   "cell_type": "code",
   "execution_count": null,
   "id": "0dcf3728-5986-4c19-9cf2-b89a5d8bc42d",
   "metadata": {},
   "outputs": [],
   "source": [
    "# Aufgabe 18: Wie hoch ist die Wahrscheinlichkeit, dass ein 32-jähriger männlicher Kunde mit einem\n",
    "#             Einkommen von 30.000 Euro, der das Auto 30 Minuten lang getestet hat, eines unserer\n",
    "#             Modelle kauft? Wie hoch ist die Wahrscheinlichkeit, dass ein 51-jähriger männlicher Kunde\n",
    "#             mit einem Einkommen von 54.000 Euro, der das Auto 45 Minuten lang getestet hat, eines\n",
    "#             unserer Modelle kauft?"
   ]
  },
  {
   "cell_type": "code",
   "execution_count": 113,
   "id": "bb1965c0-83bb-4a93-b41d-aeee9e61168f",
   "metadata": {},
   "outputs": [
    {
     "ename": "NameError",
     "evalue": "name 'neuer_kunde1' is not defined",
     "output_type": "error",
     "traceback": [
      "\u001b[0;31m---------------------------------------------------------------------------\u001b[0m",
      "\u001b[0;31mNameError\u001b[0m                                 Traceback (most recent call last)",
      "Cell \u001b[0;32mIn[113], line 6\u001b[0m\n\u001b[1;32m      3\u001b[0m im_kunde2 \u001b[38;5;241m=\u001b[39m {\u001b[38;5;124m'\u001b[39m\u001b[38;5;124mAlter\u001b[39m\u001b[38;5;124m'\u001b[39m: \u001b[38;5;241m51\u001b[39m,\u001b[38;5;124m'\u001b[39m\u001b[38;5;124mEinkommen\u001b[39m\u001b[38;5;124m'\u001b[39m: \u001b[38;5;241m54000\u001b[39m,\u001b[38;5;124m'\u001b[39m\u001b[38;5;124mZeit\u001b[39m\u001b[38;5;124m'\u001b[39m: \u001b[38;5;241m45\u001b[39m}\n\u001b[1;32m      5\u001b[0m \u001b[38;5;66;03m# DataFrame erstellen\u001b[39;00m\n\u001b[0;32m----> 6\u001b[0m X_predict_kunde1 \u001b[38;5;241m=\u001b[39m pd\u001b[38;5;241m.\u001b[39mDataFrame([\u001b[43mneuer_kunde1\u001b[49m])\n\u001b[1;32m      7\u001b[0m X_predict_kunde2 \u001b[38;5;241m=\u001b[39m pd\u001b[38;5;241m.\u001b[39mDataFrame([neuer_kunde2])\n\u001b[1;32m      9\u001b[0m \u001b[38;5;66;03m# Hinzufügen des konstanten Terms\u001b[39;00m\n",
      "\u001b[0;31mNameError\u001b[0m: name 'neuer_kunde1' is not defined"
     ]
    }
   ],
   "source": [
    "# Personen erstellen\n",
    "im_kunde1 = {'Alter': 32,'Einkommen': 30000,'Zeit': 30}\n",
    "im_kunde2 = {'Alter': 51,'Einkommen': 54000,'Zeit': 45}\n",
    "\n",
    "# DataFrame erstellen\n",
    "X_predict_kunde1 = pd.DataFrame([neuer_kunde1])\n",
    "X_predict_kunde2 = pd.DataFrame([neuer_kunde2])\n",
    "\n",
    "# Hinzufügen des konstanten Terms\n",
    "X_predict_kunde1 = sm.add_constant(X_predict_kunde1, has_constant='add')\n",
    "X_predict_kunde2 = sm.add_constant(X_predict_kunde2, has_constant='add')\n",
    "\n",
    "# Predict Probabilities\n",
    "predicted_probability_kunde1 = logit_model.predict(X_predict_kunde1)\n",
    "predicted_probability_kunde2 = logit_model.predict(X_predict_kunde2)\n",
    "\n",
    "print(f\"Probability assumed customer 1: {predicted_probability_kunde1[0]:.2f}\")\n",
    "print(f\"Probability assumed customer 1: {predicted_probability_kunde2[0]:.2f}\")"
   ]
  },
  {
   "cell_type": "code",
   "execution_count": null,
   "id": "b59bc63d-45f0-4ef0-9276-1ff1ebfc98d9",
   "metadata": {},
   "outputs": [],
   "source": [
    "# Aufgabe 19: Auf welche Probleme sind Sie bei der Zusammenführung des Datensatzes gestoßen? Stellen\n",
    "#             len Sie die Operationen vor, die Sie zum Zusammenführen und Bereinigen der Daten\n",
    "#             durchgeführt haben."
   ]
  },
  {
   "cell_type": "code",
   "execution_count": null,
   "id": "868ee311-1c8e-4511-be49-957916ca47ed",
   "metadata": {},
   "outputs": [],
   "source": []
  },
  {
   "cell_type": "code",
   "execution_count": null,
   "id": "e1c2118c-525c-419d-9b71-bea121019d71",
   "metadata": {},
   "outputs": [],
   "source": [
    "# Aufgabe 20: Welche Vorschläge würden Sie der Kundenabteilung für die Umfrage im nächsten Jahr machen?\n",
    "#             Welche zusätzlichen Informationen sollten gesammelt werden? \n",
    "#             Formulieren Sie zwei Vorschläge."
   ]
  },
  {
   "cell_type": "code",
   "execution_count": null,
   "id": "155f9ec3-c0ba-4535-bbd3-ed7d2b087365",
   "metadata": {},
   "outputs": [],
   "source": [
    "..."
   ]
  },
  {
   "cell_type": "code",
   "execution_count": null,
   "id": "cb9ad5c3",
   "metadata": {},
   "outputs": [],
   "source": []
  }
 ],
 "metadata": {
  "kernelspec": {
   "display_name": "Python 3 (ipykernel)",
   "language": "python",
   "name": "python3"
  },
  "language_info": {
   "codemirror_mode": {
    "name": "ipython",
    "version": 3
   },
   "file_extension": ".py",
   "mimetype": "text/x-python",
   "name": "python",
   "nbconvert_exporter": "python",
   "pygments_lexer": "ipython3",
   "version": "3.11.7"
  }
 },
 "nbformat": 4,
 "nbformat_minor": 5
}
