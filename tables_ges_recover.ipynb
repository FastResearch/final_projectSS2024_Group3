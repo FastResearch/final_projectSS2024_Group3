{
 "cells": [
  {
   "cell_type": "code",
   "execution_count": 45,
   "id": "e40c9cd3-8190-4f9c-9ae2-763f46acce8d",
   "metadata": {},
   "outputs": [],
   "source": [
    "import pandas as pd\n",
    "import numpy as np\n",
    "import matplotlib.pyplot as plt\n",
    "import seaborn as sns\n",
    "import scipy.stats as stats"
   ]
  },
  {
   "cell_type": "code",
   "execution_count": 46,
   "id": "8bee1b76-6d53-4ea4-9b38-ad7f3a6b1518",
   "metadata": {},
   "outputs": [
    {
     "name": "stdout",
     "output_type": "stream",
     "text": [
      "      Alter  Einkommen      Preis  Geschlecht  Zeit KundeNr\n",
      "0        64    66894.0   88160.31         1.0  43.0   K0310\n",
      "1        54    77644.0  103145.70         1.0  40.0   K1042\n",
      "2        55    44341.0   80565.16         0.0  37.0   K0382\n",
      "3        49    67271.0   83949.89         0.0  42.0   K0498\n",
      "4        46    49832.0   93781.58         0.0  41.0   K0552\n",
      "...     ...        ...        ...         ...   ...     ...\n",
      "1099     70    69581.0  103751.58         1.0  51.0   K0467\n",
      "1100     38    48301.0   64230.98         1.0  33.0   K0122\n",
      "1101     67    63547.0  103123.57         1.0  41.0   K1045\n",
      "1102     37    32686.0   49215.87         1.0  36.0   K1096\n",
      "1103     55    71240.0  106132.59         1.0  49.0   K0861\n",
      "\n",
      "[1104 rows x 6 columns]\n",
      "     Alter           Einkommen  Geschlecht  Zeit KundeNr\n",
      "0       30    39919,0953348874           0  29,0   K1814\n",
      "1       41   53430,67308587748           0  27,0   K1544\n",
      "2       64    73163,2169267002           0  32,0   K1945\n",
      "3       41  36761,482581315344           0  44,0   K1825\n",
      "4       35   42684,33163178136           1  33,0   K1144\n",
      "..     ...                 ...         ...   ...     ...\n",
      "886     32   34391,82496545645           1  48,0   K1211\n",
      "887     41   68516,49543941053           0  34,0   K1375\n",
      "888     65   89685,33344089528           0  23,0   K1965\n",
      "889     68   95714,30526812703           0  32,0   K1540\n",
      "890     49    73319,1870845747           0  27,0   K1207\n",
      "\n",
      "[891 rows x 5 columns]\n",
      "     KundeNr          Niederlassung\n",
      "0      K0001                Sachsen\n",
      "1      K0002                    NRW\n",
      "2      K0003                 Hessen\n",
      "3      K0004                 Bayern\n",
      "4      K0005                 Bayern\n",
      "...      ...                    ...\n",
      "1990   K1991                 Hessen\n",
      "1991   K1992      Baden-Württemberg\n",
      "1992   K1993    Nordrhein-Westfalen\n",
      "1993   K1994                 Berlin\n",
      "1994   K1995  Berlin-Charlottenburg\n",
      "\n",
      "[1995 rows x 2 columns]\n"
     ]
    }
   ],
   "source": [
    "customer = pd.read_csv('kunden.csv', delimiter= ';')\n",
    "table_customer = pd.DataFrame(customer)\n",
    "\n",
    "visitor = pd.read_csv('besucher.csv', delimiter= ';', decimal= '.')\n",
    "table_visitor = pd.DataFrame(visitor)\n",
    "\n",
    "geodata = pd.read_csv('geo.txt', delimiter= '\\t')\n",
    "table_geo = pd.DataFrame(geodata)\n",
    "\n",
    "print(table_customer)\n",
    "print(table_visitor)\n",
    "print(table_geo)"
   ]
  },
  {
   "cell_type": "code",
   "execution_count": 47,
   "id": "9f5be8cb-4019-4592-b2d5-218a6f8d0087",
   "metadata": {},
   "outputs": [
    {
     "name": "stdout",
     "output_type": "stream",
     "text": [
      "Frage: Überschneiden sich Kundennummern?\n",
      "\n",
      "\n",
      "Zeilen Insgesamt: 1995\n",
      "\n",
      "Kundendaten\n",
      "    KundeNr  Geschlecht  Alter  Einkommen  Zeit      Preis\n",
      "476   K0001         1.0     68    89437.0  62.0  114481.90\n",
      "892   K0002         1.0     58    65271.0  44.0  106258.99\n",
      "225   K0003         1.0     44    48195.0  29.0   85705.57\n",
      "174   K0004         0.0     37    48957.0  36.0   76412.36\n",
      "991   K0005         0.0     50    56621.0  40.0   92898.67\n",
      "..      ...         ...    ...        ...   ...        ...\n",
      "240   K1100         1.0     61    82624.0  59.0  134755.80\n",
      "422   K1101         1.0     39    37905.0  32.0   61717.86\n",
      "758   K1102         1.0     39    40159.0  37.0   67170.69\n",
      "813   K1103         0.0     48    45545.0  30.0   75700.83\n",
      "829   K1104         1.0     63    80414.0  49.0  101554.64\n",
      "\n",
      "[1104 rows x 6 columns]\n",
      "Besucherdaten\n",
      "    KundeNr  Geschlecht  Alter          Einkommen  Zeit\n",
      "454   K1105           0     42  57149,49800655036  35,0\n",
      "812   K1106           1     34  43358,56434967347  33,0\n",
      "229   K1107           1     33  45748,42693618564  55,0\n",
      "400   K1108           1     57  58633,96976384482  32,0\n",
      "744   K1109           0     43  53592,01268373325  31,0\n",
      "..      ...         ...    ...                ...   ...\n",
      "18    K1991           1     48  59967,31328247114  21,0\n",
      "799   K1992           1     67  81521,76144297997  21,0\n",
      "592   K1993           0     40  41616,57298010873  48,0\n",
      "72    K1994           1     49   76602,7888395788  19,0\n",
      "491   K1995           1     49  54754,52544962578  44,0\n",
      "\n",
      "[891 rows x 5 columns]\n",
      "\n",
      "Antwort: Die Kundennummern gehen nahtlos ineinander über.\n"
     ]
    }
   ],
   "source": [
    "print(\"Frage: Überschneiden sich Kundennummern?\")\n",
    "table_customer_resorted = table_customer[['KundeNr', 'Geschlecht', 'Alter', 'Einkommen', 'Zeit', 'Preis']]\n",
    "table_customer_sort_by_KNr = table_customer_resorted.sort_values('KundeNr')\n",
    "table_visitor_resorted = table_visitor[['KundeNr', 'Geschlecht', 'Alter', 'Einkommen', 'Zeit']]\n",
    "table_visitor_sort_by_KNr = table_visitor_resorted.sort_values('KundeNr')\n",
    "print(\n",
    ")\n",
    "sum_rows = len(table_customer_sort_by_KNr) + len(table_visitor_sort_by_KNr)\n",
    "print(\n",
    ")\n",
    "print(\"Zeilen Insgesamt:\", sum_rows)\n",
    "print(\n",
    ")\n",
    "print(\"Kundendaten\")\n",
    "print(table_customer_sort_by_KNr)\n",
    "print(\"Besucherdaten\")\n",
    "print(table_visitor_sort_by_KNr)\n",
    "print(\n",
    ")\n",
    "print(\"Antwort: Die Kundennummern gehen nahtlos ineinander über.\")"
   ]
  },
  {
   "cell_type": "code",
   "execution_count": 48,
   "id": "12639d1d-d8f3-474e-98f4-5180332abd3c",
   "metadata": {
    "scrolled": true
   },
   "outputs": [
    {
     "name": "stdout",
     "output_type": "stream",
     "text": [
      "Wir benutzen die Funktion 'merge: outer join' mit dem 'Key: KundeNr'\n",
      "jedem Kunden bzw. Besucher das Attribut Niederlassung zuzuordnen.\n",
      "\n",
      "Kundendaten\n",
      "     KundeNr  Geschlecht  Alter  Einkommen  Zeit      Preis  Niederlassung\n",
      "0      K0001         1.0   68.0    89437.0  62.0  114481.90        Sachsen\n",
      "1      K0002         1.0   58.0    65271.0  44.0  106258.99            NRW\n",
      "2      K0003         1.0   44.0    48195.0  29.0   85705.57         Hessen\n",
      "3      K0004         0.0   37.0    48957.0  36.0   76412.36         Bayern\n",
      "4      K0005         0.0   50.0    56621.0  40.0   92898.67         Bayern\n",
      "...      ...         ...    ...        ...   ...        ...            ...\n",
      "1099   K1100         1.0   61.0    82624.0  59.0  134755.80         Berlin\n",
      "1100   K1101         1.0   39.0    37905.0  32.0   61717.86         Hessen\n",
      "1101   K1102         1.0   39.0    40159.0  37.0   67170.69  Niedersachsen\n",
      "1102   K1103         0.0   48.0    45545.0  30.0   75700.83         Berlin\n",
      "1103   K1104         1.0   63.0    80414.0  49.0  101554.64        Sachsen\n",
      "\n",
      "[1104 rows x 7 columns]\n",
      "\n",
      "Besucherdaten\n",
      "    KundeNr  Geschlecht  Alter          Einkommen  Zeit          Niederlassung\n",
      "0     K1105         0.0   42.0  57149,49800655036  35,0                 Hessen\n",
      "1     K1106         1.0   34.0  43358,56434967347  33,0                 Berlin\n",
      "2     K1107         1.0   33.0  45748,42693618564  55,0          Niedersachsen\n",
      "3     K1108         1.0   57.0  58633,96976384482  32,0              Thüringen\n",
      "4     K1109         0.0   43.0  53592,01268373325  31,0    Nordrhein-Westfalen\n",
      "..      ...         ...    ...                ...   ...                    ...\n",
      "886   K1991         1.0   48.0  59967,31328247114  21,0                 Hessen\n",
      "887   K1992         1.0   67.0  81521,76144297997  21,0      Baden-Württemberg\n",
      "888   K1993         0.0   40.0  41616,57298010873  48,0    Nordrhein-Westfalen\n",
      "889   K1994         1.0   49.0   76602,7888395788  19,0                 Berlin\n",
      "890   K1995         1.0   49.0  54754,52544962578  44,0  Berlin-Charlottenburg\n",
      "\n",
      "[891 rows x 6 columns]\n"
     ]
    }
   ],
   "source": [
    "print(\"Wir benutzen die Funktion 'merge: outer join' mit dem 'Key: KundeNr'\") \n",
    "print(\"jedem Kunden bzw. Besucher das Attribut Niederlassung zuzuordnen.\")\n",
    "print(\n",
    ")\n",
    "customer_merge = pd.merge(table_customer_sort_by_KNr, table_geo, on = 'KundeNr', how = 'outer')\n",
    "customer_geo = customer_merge.head(1104)\n",
    "visitor_merge = pd.merge(table_visitor_sort_by_KNr, table_geo, on='KundeNr', how='outer')\n",
    "visitor_geo = visitor_merge.head(891)\n",
    "print(\"Kundendaten\")\n",
    "print(customer_geo)\n",
    "print(\n",
    ")\n",
    "print(\"Besucherdaten\")\n",
    "print(visitor_geo)"
   ]
  },
  {
   "cell_type": "code",
   "execution_count": 49,
   "id": "07c1e380-f742-41ed-8713-1157462b126b",
   "metadata": {},
   "outputs": [
    {
     "name": "stdout",
     "output_type": "stream",
     "text": [
      "Frage: gibt es leere Zellen in den Kundendaten?\n",
      "\n",
      "Antwort: Ja, folgende:\n",
      "    KundeNr  Geschlecht  Alter  Einkommen  Zeit      Preis  \\\n",
      "23    K0024         NaN   41.0    46542.0  40.0   63477.00   \n",
      "89    K0090         NaN   64.0    83452.0  62.0  133180.70   \n",
      "165   K0166         NaN   53.0    49798.0  39.0   61329.51   \n",
      "324   K0325         NaN   52.0    66602.0  45.0   98756.07   \n",
      "789   K0790         NaN   67.0    91461.0  66.0  131748.07   \n",
      "\n",
      "           Niederlassung  \n",
      "23     Baden-Württemberg  \n",
      "89         Niedersachsen  \n",
      "165  Nordrhein-Westfalen  \n",
      "324               Bayern  \n",
      "789               Berlin  \n",
      "\n",
      "Frage: gibt es leere Zellen in den Kundendaten?\n",
      "Empty DataFrame\n",
      "Columns: [KundeNr, Geschlecht, Alter, Einkommen, Zeit, Niederlassung]\n",
      "Index: []\n",
      "Nein.\n"
     ]
    }
   ],
   "source": [
    "print(\"Frage: gibt es leere Zellen in den Kundendaten?\")\n",
    "print(\n",
    "    )      \n",
    "customer_isna_rows = customer_geo[customer_geo.isna().any(axis = 1)]\n",
    "print(\"Antwort: Ja, folgende:\")\n",
    "print(customer_isna_rows)\n",
    "\n",
    "print(\n",
    "    )\n",
    "print(\"Frage: gibt es leere Zellen in den Kundendaten?\")\n",
    "visitor_isna_rows = visitor_geo[visitor_geo.isna().any(axis = 1)]\n",
    "print(visitor_isna_rows)\n",
    "print(\"Nein.\")"
   ]
  },
  {
   "cell_type": "code",
   "execution_count": 50,
   "id": "66142b50-42b2-41f1-9d6b-e875a587572e",
   "metadata": {},
   "outputs": [],
   "source": [
    "# Hier beginnt die Datenbereinigung mit der Spalte Geschlecht"
   ]
  },
  {
   "cell_type": "code",
   "execution_count": 102,
   "id": "110cba52-8259-4fbc-9d30-04d424984d50",
   "metadata": {
    "scrolled": true
   },
   "outputs": [
    {
     "name": "stdout",
     "output_type": "stream",
     "text": [
      "Frage: Wie möchten wir die leeren Felder ersetzen.\n",
      "Antwort: Wir möchten den Prozentualen Anteil von Männern und Frauen beibehalten.\n",
      "Prozentualer Anteil von 1.0: 63.77%\n",
      "Prozentualer Anteil von 0.0: 36.23%\n",
      "\n",
      "Nun ersetzen wir die leeren Felder anhand der Prozentzahlen und prüfen ob noch leere Felder existieren.\n",
      "Gibt es noch NaN-Werte in 'Geschlecht'?\n",
      "True\n",
      "Wir ersetzen alle 0.0 Werte mit 'Weiblich' und alle 1.0 Werte mit 'Männlich'.\n",
      "\n",
      "Kundendaten\n",
      "     KundeNr  Geschlecht  Alter  Einkommen  Zeit      Preis  Niederlassung\n",
      "0      K0001         1.0   68.0    89437.0  62.0  114481.90        Sachsen\n",
      "1      K0002         1.0   58.0    65271.0  44.0  106258.99            NRW\n",
      "2      K0003         1.0   44.0    48195.0  29.0   85705.57         Hessen\n",
      "3      K0004         0.0   37.0    48957.0  36.0   76412.36         Bayern\n",
      "4      K0005         0.0   50.0    56621.0  40.0   92898.67         Bayern\n",
      "...      ...         ...    ...        ...   ...        ...            ...\n",
      "1099   K1100         1.0   61.0    82624.0  59.0  134755.80         Berlin\n",
      "1100   K1101         1.0   39.0    37905.0  32.0   61717.86         Hessen\n",
      "1101   K1102         1.0   39.0    40159.0  37.0   67170.69  Niedersachsen\n",
      "1102   K1103         0.0   48.0    45545.0  30.0   75700.83         Berlin\n",
      "1103   K1104         1.0   63.0    80414.0  49.0  101554.64        Sachsen\n",
      "\n",
      "[1104 rows x 7 columns]\n",
      "Besucherdaten\n",
      "    KundeNr  Geschlecht  Alter          Einkommen  Zeit          Niederlassung\n",
      "0     K1105         0.0   42.0  57149,49800655036  35,0                 Hessen\n",
      "1     K1106         1.0   34.0  43358,56434967347  33,0                 Berlin\n",
      "2     K1107         1.0   33.0  45748,42693618564  55,0          Niedersachsen\n",
      "3     K1108         1.0   57.0  58633,96976384482  32,0              Thüringen\n",
      "4     K1109         0.0   43.0  53592,01268373325  31,0    Nordrhein-Westfalen\n",
      "..      ...         ...    ...                ...   ...                    ...\n",
      "886   K1991         1.0   48.0  59967,31328247114  21,0                 Hessen\n",
      "887   K1992         1.0   67.0  81521,76144297997  21,0      Baden-Württemberg\n",
      "888   K1993         0.0   40.0  41616,57298010873  48,0    Nordrhein-Westfalen\n",
      "889   K1994         1.0   49.0   76602,7888395788  19,0                 Berlin\n",
      "890   K1995         1.0   49.0  54754,52544962578  44,0  Berlin-Charlottenburg\n",
      "\n",
      "[891 rows x 6 columns]\n",
      "\n",
      "Es sind keine leeren Felder mehr vorhanden.\n",
      "Geschlechterbezeichnung wurde eingefügt.\n",
      "\n",
      "Die Daten zum Geschlecht der Kunden und Besucher sind so verteilt\n",
      "\n"
     ]
    },
    {
     "data": {
      "image/png": "[encoded data removed]",
      "text/plain": [
       "<Figure size 1200x500 with 2 Axes>"
      ]
     },
     "metadata": {},
     "output_type": "display_data"
    }
   ],
   "source": [
    "print(\"Frage: Wie möchten wir die leeren Felder ersetzen.\")\n",
    "print(\"Antwort: Wir möchten den Prozentualen Anteil von Männern und Frauen beibehalten.\")\n",
    "counts = customer_geo['Geschlecht'].value_counts(normalize=True)\n",
    "percentage_1 = counts.get(1.0, 0)\n",
    "percentage_0 = counts.get(0.0, 0)\n",
    "print(f\"Prozentualer Anteil von 1.0: {percentage_1:.2%}\")\n",
    "print(f\"Prozentualer Anteil von 0.0: {percentage_0:.2%}\")\n",
    "print(\n",
    ")\n",
    "print(\"Nun ersetzen wir die leeren Felder anhand der Prozentzahlen und prüfen ob noch leere Felder existieren.\")\n",
    "\n",
    "nan_indices = customer_geo[customer_geo['Geschlecht'].isnull()].index\n",
    "replacement_values = np.random.choice([1.0, 0.0], size=len(nan_indices), p=[percentage_1, percentage_0])\n",
    "customer_geo.loc[nan_indices, 'Geschlecht'] = replacement_values\n",
    "\n",
    "# Prüfen, ob noch leere Felder existieren\n",
    "print(\"Gibt es noch NaN-Werte in 'Geschlecht'?\")\n",
    "print(customer_geo['Geschlecht'].isnull().sum() == 0)\n",
    "\n",
    "Kundendaten_01 = customer_geo.copy() \n",
    "Besucherdaten_01 = visitor_geo.copy()  \n",
    "\n",
    "#Kundendaten_01['Geschlecht'] = Kundendaten_01['Geschlecht'].replace({1.0: 'Männlich', 0.0: 'Weiblich'})\n",
    "#Besucherdaten_01['Geschlecht'] = Besucherdaten_01['Geschlecht'].replace({1.0: 'Männlich', 0.0: 'Weiblich'})\n",
    "print(\"Wir ersetzen alle 0.0 Werte mit 'Weiblich' und alle 1.0 Werte mit 'Männlich'.\")\n",
    "print(\n",
    ")\n",
    "print(\"Kundendaten\")\n",
    "print(Kundendaten_01)\n",
    "\n",
    "print(\"Besucherdaten\")\n",
    "print(Besucherdaten_01)\n",
    "print(\n",
    ")\n",
    "print(\"Es sind keine leeren Felder mehr vorhanden.\")\n",
    "print(\"Geschlechterbezeichnung wurde eingefügt.\")\n",
    "print(\n",
    ")\n",
    "print(\"Die Daten zum Geschlecht der Kunden und Besucher sind so verteilt\")\n",
    "print(\n",
    ")   \n",
    "fig, axs = plt.subplots(1, 2, figsize=(12, 5))\n",
    "\n",
    "# Histogramm für Kundendaten_01\n",
    "axs[0].hist(Kundendaten_01['Geschlecht'], bins=[-0.5, 0.5, 1.5], edgecolor='black')\n",
    "axs[0].set_xticks([0, 1])\n",
    "axs[0].set_xticklabels(['Weiblich', 'Männlich'])\n",
    "axs[0].set_xlabel('Geschlecht')\n",
    "axs[0].set_ylabel('Frequency')\n",
    "axs[0].set_title('Geschlecht der Kunden')\n",
    "\n",
    "# Anzahl über den Säulen platzieren\n",
    "counts_kunde, bins_kunde = np.histogram(Kundendaten_01['Geschlecht'], bins=[-0.5, 0.5, 1.5])\n",
    "for count, bin in zip(counts_kunde, bins_kunde):\n",
    "    axs[0].text(bin + 0.25, count + 0.05, str(int(count)), ha='center', va='bottom')\n",
    "\n",
    "# Histogramm für Besucherdaten_01\n",
    "axs[1].hist(Besucherdaten_01['Geschlecht'], bins=[-0.5, 0.5, 1.5], edgecolor='black')\n",
    "axs[1].set_xticks([0, 1])\n",
    "axs[1].set_xticklabels(['Weiblich', 'Männlich'])\n",
    "axs[1].set_xlabel('Geschlecht')\n",
    "axs[1].set_ylabel('Frequency')\n",
    "axs[1].set_title('Geschlecht der Besucher')\n",
    "\n",
    "# Anzahl über den Säulen platzieren\n",
    "counts_besucher, bins_besucher = np.histogram(Besucherdaten_01['Geschlecht'], bins=[-0.5, 0.5, 1.5])\n",
    "for count, bin in zip(counts_besucher, bins_besucher):\n",
    "    axs[1].text(bin + 0.25, count + 0.05, str(int(count)), ha='center', va='bottom')\n",
    "\n",
    "plt.tight_layout()\n",
    "plt.show()\n",
    "\n",
    "Kundendaten_02 = Kundendaten_01\n",
    "Besucherdaten_02 = Besucherdaten_01\n",
    "# Ersetzen der Werte in der Spalte \"Geschlecht\"\n",
    "Kundendaten_02['Geschlecht'] = Kundendaten_02['Geschlecht'].replace({0.0: 'Weiblich', 1.0: 'Männlich'})\n",
    "Besucherdaten_02['Geschlecht'] = Besucherdaten_02['Geschlecht'].replace({0.0: 'Weiblich', 1.0: 'Männlich'})"
   ]
  },
  {
   "cell_type": "code",
   "execution_count": 103,
   "id": "b6f41382-5cef-4afe-b257-ffe2c9bea49d",
   "metadata": {},
   "outputs": [
    {
     "name": "stdout",
     "output_type": "stream",
     "text": [
      "    KundeNr Geschlecht  Alter          Einkommen  Zeit          Niederlassung\n",
      "0     K1105   Weiblich   42.0  57149,49800655036  35,0                 Hessen\n",
      "1     K1106   Männlich   34.0  43358,56434967347  33,0                 Berlin\n",
      "2     K1107   Männlich   33.0  45748,42693618564  55,0          Niedersachsen\n",
      "3     K1108   Männlich   57.0  58633,96976384482  32,0              Thüringen\n",
      "4     K1109   Weiblich   43.0  53592,01268373325  31,0    Nordrhein-Westfalen\n",
      "..      ...        ...    ...                ...   ...                    ...\n",
      "886   K1991   Männlich   48.0  59967,31328247114  21,0                 Hessen\n",
      "887   K1992   Männlich   67.0  81521,76144297997  21,0      Baden-Württemberg\n",
      "888   K1993   Weiblich   40.0  41616,57298010873  48,0    Nordrhein-Westfalen\n",
      "889   K1994   Männlich   49.0   76602,7888395788  19,0                 Berlin\n",
      "890   K1995   Männlich   49.0  54754,52544962578  44,0  Berlin-Charlottenburg\n",
      "\n",
      "[891 rows x 6 columns]\n"
     ]
    },
    {
     "data": {
      "image/png": "[encoded data removed]",
      "text/plain": [
       "<Figure size 1200x500 with 2 Axes>"
      ]
     },
     "metadata": {},
     "output_type": "display_data"
    },
    {
     "name": "stdout",
     "output_type": "stream",
     "text": [
      "Bereinigung für Kundendaten_02:\n",
      "Untergrenze für Ausreißer in Alter: 8.5\n",
      "Obergrenze für Ausreißer in Alter: 92.5\n",
      "Ausreißer in Alter:\n",
      "    KundeNr Geschlecht  Alter  Einkommen  Zeit      Preis      Niederlassung\n",
      "38    K0039   Männlich  120.0    61857.0  52.0  104214.07  Baden-Württemberg\n",
      "493   K0494   Weiblich  100.0    88749.0  64.0  119134.23             Bayern\n",
      "\n",
      "Bereinigung für Besucherdaten_02:\n",
      "Untergrenze für Ausreißer in Alter: 10.0\n",
      "Obergrenze für Ausreißer in Alter: 90.0\n",
      "Ausreißer in Alter:\n",
      "Empty DataFrame\n",
      "Columns: [KundeNr, Geschlecht, Alter, Einkommen, Zeit, Niederlassung]\n",
      "Index: []\n",
      "\n"
     ]
    },
    {
     "data": {
      "image/png": "[encoded data removed]",
      "text/plain": [
       "<Figure size 1200x500 with 2 Axes>"
      ]
     },
     "metadata": {},
     "output_type": "display_data"
    },
    {
     "name": "stdout",
     "output_type": "stream",
     "text": [
      "KundeNr           object\n",
      "Geschlecht        object\n",
      "Alter            float64\n",
      "Einkommen         object\n",
      "Zeit              object\n",
      "Niederlassung     object\n",
      "dtype: object\n",
      "    KundeNr Geschlecht  Alter          Einkommen  Zeit          Niederlassung\n",
      "0     K1105   Weiblich   42.0  57149,49800655036  35,0                 Hessen\n",
      "1     K1106   Männlich   34.0  43358,56434967347  33,0                 Berlin\n",
      "2     K1107   Männlich   33.0  45748,42693618564  55,0          Niedersachsen\n",
      "3     K1108   Männlich   57.0  58633,96976384482  32,0              Thüringen\n",
      "4     K1109   Weiblich   43.0  53592,01268373325  31,0    Nordrhein-Westfalen\n",
      "..      ...        ...    ...                ...   ...                    ...\n",
      "886   K1991   Männlich   48.0  59967,31328247114  21,0                 Hessen\n",
      "887   K1992   Männlich   67.0  81521,76144297997  21,0      Baden-Württemberg\n",
      "888   K1993   Weiblich   40.0  41616,57298010873  48,0    Nordrhein-Westfalen\n",
      "889   K1994   Männlich   49.0   76602,7888395788  19,0                 Berlin\n",
      "890   K1995   Männlich   49.0  54754,52544962578  44,0  Berlin-Charlottenburg\n",
      "\n",
      "[891 rows x 6 columns]\n"
     ]
    }
   ],
   "source": [
    "# Histogramme erstellen\n",
    "fig, axs = plt.subplots(1, 2, figsize=(12, 5))\n",
    "\n",
    "# Histogramm für Kundendaten_02\n",
    "axs[0].hist(Kundendaten_02['Alter'], bins=np.arange(30, 131, 10), edgecolor='black')\n",
    "axs[0].set_xticks(np.arange(30, 131, 10))\n",
    "axs[0].set_xlabel('Alter')\n",
    "axs[0].set_ylabel('Frequency')\n",
    "axs[0].set_title('Alter der Kunden')\n",
    "\n",
    "# Anzahl über den Säulen platzieren\n",
    "counts_kunde, bins_kunde = np.histogram(Kundendaten_02['Alter'], bins=np.arange(30, 131, 10))\n",
    "for count, bin in zip(counts_kunde, bins_kunde[:-1]):\n",
    "    axs[0].text(bin + 5, count + 0.5, str(int(count)), ha='center', va='bottom')\n",
    "\n",
    "print(Besucherdaten_02)\n",
    "# Histogramm für Besucherdaten_02\n",
    "axs[1].hist(Besucherdaten_02['Alter'], bins=np.arange(30, 131, 10), edgecolor='black')\n",
    "axs[1].set_xticks(np.arange(30, 131, 10))\n",
    "axs[1].set_xlabel('Alter')\n",
    "axs[1].set_ylabel('Frequency')\n",
    "axs[1].set_title('Alter der Besucher')\n",
    "\n",
    "# Anzahl über den Säulen platzieren\n",
    "counts_besucher, bins_besucher = np.histogram(Besucherdaten_02['Alter'], bins=np.arange(30, 131, 10))\n",
    "for count, bin in zip(counts_besucher, bins_besucher[:-1]):\n",
    "    axs[1].text(bin + 5, count + 0.5, str(int(count)), ha='center', va='bottom')\n",
    "\n",
    "plt.tight_layout()\n",
    "plt.show()\n",
    "\n",
    "# Funktion zur Bereinigung der Ausreißer\n",
    "def remove_outliers(df, column):\n",
    "    q1 = df[column].quantile(0.25)\n",
    "    q3 = df[column].quantile(0.75)\n",
    "    iqr = q3 - q1\n",
    "\n",
    "    # Bestimmen der unteren und oberen Grenzen für Ausreißer\n",
    "    lower_bound = q1 - 1.5 * iqr\n",
    "    upper_bound = q3 + 1.5 * iqr\n",
    "\n",
    "    # Identifizieren von Ausreißern\n",
    "    outliers = df[(df[column] < lower_bound) | (df[column] > upper_bound)]\n",
    "\n",
    "    print(f\"Untergrenze für Ausreißer in {column}: {lower_bound}\")\n",
    "    print(f\"Obergrenze für Ausreißer in {column}: {upper_bound}\")\n",
    "    print(f\"Ausreißer in {column}:\")\n",
    "    print(outliers)\n",
    "    print()\n",
    "\n",
    "    # Ersetzen der Ausreißer mit dem Median\n",
    "    median = df[column].median()\n",
    "    df[column] = df[column].apply(lambda x: median if x < lower_bound or x > upper_bound else x)\n",
    "\n",
    "    return df\n",
    "\n",
    "# Bereinigung der Ausreißer in Kundendaten_02 und Besucherdaten_02\n",
    "Kundendaten_03 = Kundendaten_02.copy()\n",
    "Besucherdaten_03 = Besucherdaten_02.copy()\n",
    "\n",
    "print(\"Bereinigung für Kundendaten_02:\")\n",
    "Kundendaten_03 = remove_outliers(Kundendaten_03, 'Alter')\n",
    "\n",
    "print(\"Bereinigung für Besucherdaten_02:\")\n",
    "Besucherdaten_03 = remove_outliers(Besucherdaten_03, 'Alter')\n",
    "\n",
    "# Histogramme erstellen\n",
    "fig, axs = plt.subplots(1, 2, figsize=(12, 5))\n",
    "\n",
    "# Histogramm für Kundendaten_03\n",
    "axs[0].hist(Kundendaten_03['Alter'], bins=np.arange(30, 81, 10), edgecolor='black')\n",
    "axs[0].set_xticks(np.arange(30, 81, 10))\n",
    "axs[0].set_xlabel('Alter')\n",
    "axs[0].set_ylabel('Frequency')\n",
    "axs[0].set_title('Alter der Kunden')\n",
    "\n",
    "# Anzahl über den Säulen platzieren\n",
    "counts_kunde, bins_kunde = np.histogram(Kundendaten_03['Alter'], bins=np.arange(30, 81, 10))\n",
    "for count, bin in zip(counts_kunde, bins_kunde[:-1]):\n",
    "    axs[0].text(bin + 5, count + 0.5, str(int(count)), ha='center', va='bottom')\n",
    "\n",
    "# Histogramm für Besucherdaten_03\n",
    "axs[1].hist(Besucherdaten_03['Alter'], bins=np.arange(30, 81, 10), edgecolor='black')\n",
    "axs[1].set_xticks(np.arange(30, 81, 10))\n",
    "axs[1].set_xlabel('Alter')\n",
    "axs[1].set_ylabel('Frequency')\n",
    "axs[1].set_title('Alter der Besucher')\n",
    "\n",
    "# Anzahl über den Säulen platzieren\n",
    "counts_besucher, bins_besucher = np.histogram(Besucherdaten_03['Alter'], bins=np.arange(30, 81, 10))\n",
    "for count, bin in zip(counts_besucher, bins_besucher[:-1]):\n",
    "    axs[1].text(bin + 5, count + 0.5, str(int(count)), ha='center', va='bottom')\n",
    "\n",
    "plt.tight_layout()\n",
    "plt.show()\n",
    "print(Besucherdaten_03.dtypes)\n",
    "print(Besucherdaten_03)\n",
    "Besucherdaten_03['Zeit'] = Besucherdaten_03['Zeit'].str.replace(',', '.').astype(float)"
   ]
  },
  {
   "cell_type": "code",
   "execution_count": 104,
   "id": "101301f8-ec73-4de9-b425-85a80e876a00",
   "metadata": {},
   "outputs": [
    {
     "name": "stderr",
     "output_type": "stream",
     "text": [
      "C:\\Users\\seank\\AppData\\Local\\Temp\\ipykernel_7504\\2622268542.py:30: UserWarning: Tight layout not applied. The bottom and top margins cannot be made large enough to accommodate all axes decorations.\n",
      "  plt.tight_layout()\n"
     ]
    },
    {
     "name": "stdout",
     "output_type": "stream",
     "text": [
      "Bereinigung für Kundendaten_03:\n",
      "Anzahl der Ausreißer in Einkommen: 3\n",
      "Ausreißer in Einkommen:\n",
      "     KundeNr Geschlecht  Alter     Einkommen  Zeit      Preis  \\\n",
      "700    K0701   Weiblich   68.0  1.000000e+09  52.0   87209.72   \n",
      "1020   K1021   Männlich   69.0  0.000000e+00  65.0  125140.05   \n",
      "1082   K1083   Weiblich   59.0 -6.284037e+04  46.0   92837.59   \n",
      "\n",
      "            Niederlassung  \n",
      "700   Nordrhein-Westfalen  \n",
      "1020               Bayern  \n",
      "1082    Baden-Württemberg  \n",
      "\n",
      "Durchschnitt der verbleibenden Daten: 58894.676657584016\n",
      "Bereinigung für Besucherdaten_03:\n",
      "Anzahl der Ausreißer in Einkommen: 0\n",
      "Ausreißer in Einkommen:\n",
      "Empty DataFrame\n",
      "Columns: [KundeNr, Geschlecht, Alter, Einkommen, Zeit, Niederlassung]\n",
      "Index: []\n",
      "\n",
      "Durchschnitt der verbleibenden Daten: 59367.93604938272\n"
     ]
    },
    {
     "ename": "ValueError",
     "evalue": "Image size of 1005x1349519 pixels is too large. It must be less than 2^16 in each direction.",
     "output_type": "error",
     "traceback": [
      "\u001b[1;31m---------------------------------------------------------------------------\u001b[0m",
      "\u001b[1;31mValueError\u001b[0m                                Traceback (most recent call last)",
      "File \u001b[1;32m~\\anaconda3\\Lib\\site-packages\\IPython\\core\\formatters.py:340\u001b[0m, in \u001b[0;36mBaseFormatter.__call__\u001b[1;34m(self, obj)\u001b[0m\n\u001b[0;32m    338\u001b[0m     \u001b[38;5;28;01mpass\u001b[39;00m\n\u001b[0;32m    339\u001b[0m \u001b[38;5;28;01melse\u001b[39;00m:\n\u001b[1;32m--> 340\u001b[0m     \u001b[38;5;28;01mreturn\u001b[39;00m printer(obj)\n\u001b[0;32m    341\u001b[0m \u001b[38;5;66;03m# Finally look for special method names\u001b[39;00m\n\u001b[0;32m    342\u001b[0m method \u001b[38;5;241m=\u001b[39m get_real_method(obj, \u001b[38;5;28mself\u001b[39m\u001b[38;5;241m.\u001b[39mprint_method)\n",
      "File \u001b[1;32m~\\anaconda3\\Lib\\site-packages\\IPython\\core\\pylabtools.py:152\u001b[0m, in \u001b[0;36mprint_figure\u001b[1;34m(fig, fmt, bbox_inches, base64, **kwargs)\u001b[0m\n\u001b[0;32m    149\u001b[0m     \u001b[38;5;28;01mfrom\u001b[39;00m \u001b[38;5;21;01mmatplotlib\u001b[39;00m\u001b[38;5;21;01m.\u001b[39;00m\u001b[38;5;21;01mbackend_bases\u001b[39;00m \u001b[38;5;28;01mimport\u001b[39;00m FigureCanvasBase\n\u001b[0;32m    150\u001b[0m     FigureCanvasBase(fig)\n\u001b[1;32m--> 152\u001b[0m fig\u001b[38;5;241m.\u001b[39mcanvas\u001b[38;5;241m.\u001b[39mprint_figure(bytes_io, \u001b[38;5;241m*\u001b[39m\u001b[38;5;241m*\u001b[39mkw)\n\u001b[0;32m    153\u001b[0m data \u001b[38;5;241m=\u001b[39m bytes_io\u001b[38;5;241m.\u001b[39mgetvalue()\n\u001b[0;32m    154\u001b[0m \u001b[38;5;28;01mif\u001b[39;00m fmt \u001b[38;5;241m==\u001b[39m \u001b[38;5;124m'\u001b[39m\u001b[38;5;124msvg\u001b[39m\u001b[38;5;124m'\u001b[39m:\n",
      "File \u001b[1;32m~\\anaconda3\\Lib\\site-packages\\matplotlib\\backend_bases.py:2187\u001b[0m, in \u001b[0;36mFigureCanvasBase.print_figure\u001b[1;34m(self, filename, dpi, facecolor, edgecolor, orientation, format, bbox_inches, pad_inches, bbox_extra_artists, backend, **kwargs)\u001b[0m\n\u001b[0;32m   2183\u001b[0m \u001b[38;5;28;01mtry\u001b[39;00m:\n\u001b[0;32m   2184\u001b[0m     \u001b[38;5;66;03m# _get_renderer may change the figure dpi (as vector formats\u001b[39;00m\n\u001b[0;32m   2185\u001b[0m     \u001b[38;5;66;03m# force the figure dpi to 72), so we need to set it again here.\u001b[39;00m\n\u001b[0;32m   2186\u001b[0m     \u001b[38;5;28;01mwith\u001b[39;00m cbook\u001b[38;5;241m.\u001b[39m_setattr_cm(\u001b[38;5;28mself\u001b[39m\u001b[38;5;241m.\u001b[39mfigure, dpi\u001b[38;5;241m=\u001b[39mdpi):\n\u001b[1;32m-> 2187\u001b[0m         result \u001b[38;5;241m=\u001b[39m print_method(\n\u001b[0;32m   2188\u001b[0m             filename,\n\u001b[0;32m   2189\u001b[0m             facecolor\u001b[38;5;241m=\u001b[39mfacecolor,\n\u001b[0;32m   2190\u001b[0m             edgecolor\u001b[38;5;241m=\u001b[39medgecolor,\n\u001b[0;32m   2191\u001b[0m             orientation\u001b[38;5;241m=\u001b[39morientation,\n\u001b[0;32m   2192\u001b[0m             bbox_inches_restore\u001b[38;5;241m=\u001b[39m_bbox_inches_restore,\n\u001b[0;32m   2193\u001b[0m             \u001b[38;5;241m*\u001b[39m\u001b[38;5;241m*\u001b[39mkwargs)\n\u001b[0;32m   2194\u001b[0m \u001b[38;5;28;01mfinally\u001b[39;00m:\n\u001b[0;32m   2195\u001b[0m     \u001b[38;5;28;01mif\u001b[39;00m bbox_inches \u001b[38;5;129;01mand\u001b[39;00m restore_bbox:\n",
      "File \u001b[1;32m~\\anaconda3\\Lib\\site-packages\\matplotlib\\backend_bases.py:2043\u001b[0m, in \u001b[0;36mFigureCanvasBase._switch_canvas_and_return_print_method.<locals>.<lambda>\u001b[1;34m(*args, **kwargs)\u001b[0m\n\u001b[0;32m   2039\u001b[0m     optional_kws \u001b[38;5;241m=\u001b[39m {  \u001b[38;5;66;03m# Passed by print_figure for other renderers.\u001b[39;00m\n\u001b[0;32m   2040\u001b[0m         \u001b[38;5;124m\"\u001b[39m\u001b[38;5;124mdpi\u001b[39m\u001b[38;5;124m\"\u001b[39m, \u001b[38;5;124m\"\u001b[39m\u001b[38;5;124mfacecolor\u001b[39m\u001b[38;5;124m\"\u001b[39m, \u001b[38;5;124m\"\u001b[39m\u001b[38;5;124medgecolor\u001b[39m\u001b[38;5;124m\"\u001b[39m, \u001b[38;5;124m\"\u001b[39m\u001b[38;5;124morientation\u001b[39m\u001b[38;5;124m\"\u001b[39m,\n\u001b[0;32m   2041\u001b[0m         \u001b[38;5;124m\"\u001b[39m\u001b[38;5;124mbbox_inches_restore\u001b[39m\u001b[38;5;124m\"\u001b[39m}\n\u001b[0;32m   2042\u001b[0m     skip \u001b[38;5;241m=\u001b[39m optional_kws \u001b[38;5;241m-\u001b[39m {\u001b[38;5;241m*\u001b[39minspect\u001b[38;5;241m.\u001b[39msignature(meth)\u001b[38;5;241m.\u001b[39mparameters}\n\u001b[1;32m-> 2043\u001b[0m     print_method \u001b[38;5;241m=\u001b[39m functools\u001b[38;5;241m.\u001b[39mwraps(meth)(\u001b[38;5;28;01mlambda\u001b[39;00m \u001b[38;5;241m*\u001b[39margs, \u001b[38;5;241m*\u001b[39m\u001b[38;5;241m*\u001b[39mkwargs: meth(\n\u001b[0;32m   2044\u001b[0m         \u001b[38;5;241m*\u001b[39margs, \u001b[38;5;241m*\u001b[39m\u001b[38;5;241m*\u001b[39m{k: v \u001b[38;5;28;01mfor\u001b[39;00m k, v \u001b[38;5;129;01min\u001b[39;00m kwargs\u001b[38;5;241m.\u001b[39mitems() \u001b[38;5;28;01mif\u001b[39;00m k \u001b[38;5;129;01mnot\u001b[39;00m \u001b[38;5;129;01min\u001b[39;00m skip}))\n\u001b[0;32m   2045\u001b[0m \u001b[38;5;28;01melse\u001b[39;00m:  \u001b[38;5;66;03m# Let third-parties do as they see fit.\u001b[39;00m\n\u001b[0;32m   2046\u001b[0m     print_method \u001b[38;5;241m=\u001b[39m meth\n",
      "File \u001b[1;32m~\\anaconda3\\Lib\\site-packages\\matplotlib\\backends\\backend_agg.py:497\u001b[0m, in \u001b[0;36mFigureCanvasAgg.print_png\u001b[1;34m(self, filename_or_obj, metadata, pil_kwargs)\u001b[0m\n\u001b[0;32m    450\u001b[0m \u001b[38;5;28;01mdef\u001b[39;00m \u001b[38;5;21mprint_png\u001b[39m(\u001b[38;5;28mself\u001b[39m, filename_or_obj, \u001b[38;5;241m*\u001b[39m, metadata\u001b[38;5;241m=\u001b[39m\u001b[38;5;28;01mNone\u001b[39;00m, pil_kwargs\u001b[38;5;241m=\u001b[39m\u001b[38;5;28;01mNone\u001b[39;00m):\n\u001b[0;32m    451\u001b[0m \u001b[38;5;250m    \u001b[39m\u001b[38;5;124;03m\"\"\"\u001b[39;00m\n\u001b[0;32m    452\u001b[0m \u001b[38;5;124;03m    Write the figure to a PNG file.\u001b[39;00m\n\u001b[0;32m    453\u001b[0m \n\u001b[1;32m   (...)\u001b[0m\n\u001b[0;32m    495\u001b[0m \u001b[38;5;124;03m        *metadata*, including the default 'Software' key.\u001b[39;00m\n\u001b[0;32m    496\u001b[0m \u001b[38;5;124;03m    \"\"\"\u001b[39;00m\n\u001b[1;32m--> 497\u001b[0m     \u001b[38;5;28mself\u001b[39m\u001b[38;5;241m.\u001b[39m_print_pil(filename_or_obj, \u001b[38;5;124m\"\u001b[39m\u001b[38;5;124mpng\u001b[39m\u001b[38;5;124m\"\u001b[39m, pil_kwargs, metadata)\n",
      "File \u001b[1;32m~\\anaconda3\\Lib\\site-packages\\matplotlib\\backends\\backend_agg.py:445\u001b[0m, in \u001b[0;36mFigureCanvasAgg._print_pil\u001b[1;34m(self, filename_or_obj, fmt, pil_kwargs, metadata)\u001b[0m\n\u001b[0;32m    440\u001b[0m \u001b[38;5;28;01mdef\u001b[39;00m \u001b[38;5;21m_print_pil\u001b[39m(\u001b[38;5;28mself\u001b[39m, filename_or_obj, fmt, pil_kwargs, metadata\u001b[38;5;241m=\u001b[39m\u001b[38;5;28;01mNone\u001b[39;00m):\n\u001b[0;32m    441\u001b[0m \u001b[38;5;250m    \u001b[39m\u001b[38;5;124;03m\"\"\"\u001b[39;00m\n\u001b[0;32m    442\u001b[0m \u001b[38;5;124;03m    Draw the canvas, then save it using `.image.imsave` (to which\u001b[39;00m\n\u001b[0;32m    443\u001b[0m \u001b[38;5;124;03m    *pil_kwargs* and *metadata* are forwarded).\u001b[39;00m\n\u001b[0;32m    444\u001b[0m \u001b[38;5;124;03m    \"\"\"\u001b[39;00m\n\u001b[1;32m--> 445\u001b[0m     FigureCanvasAgg\u001b[38;5;241m.\u001b[39mdraw(\u001b[38;5;28mself\u001b[39m)\n\u001b[0;32m    446\u001b[0m     mpl\u001b[38;5;241m.\u001b[39mimage\u001b[38;5;241m.\u001b[39mimsave(\n\u001b[0;32m    447\u001b[0m         filename_or_obj, \u001b[38;5;28mself\u001b[39m\u001b[38;5;241m.\u001b[39mbuffer_rgba(), \u001b[38;5;28mformat\u001b[39m\u001b[38;5;241m=\u001b[39mfmt, origin\u001b[38;5;241m=\u001b[39m\u001b[38;5;124m\"\u001b[39m\u001b[38;5;124mupper\u001b[39m\u001b[38;5;124m\"\u001b[39m,\n\u001b[0;32m    448\u001b[0m         dpi\u001b[38;5;241m=\u001b[39m\u001b[38;5;28mself\u001b[39m\u001b[38;5;241m.\u001b[39mfigure\u001b[38;5;241m.\u001b[39mdpi, metadata\u001b[38;5;241m=\u001b[39mmetadata, pil_kwargs\u001b[38;5;241m=\u001b[39mpil_kwargs)\n",
      "File \u001b[1;32m~\\anaconda3\\Lib\\site-packages\\matplotlib\\backends\\backend_agg.py:383\u001b[0m, in \u001b[0;36mFigureCanvasAgg.draw\u001b[1;34m(self)\u001b[0m\n\u001b[0;32m    381\u001b[0m \u001b[38;5;28;01mdef\u001b[39;00m \u001b[38;5;21mdraw\u001b[39m(\u001b[38;5;28mself\u001b[39m):\n\u001b[0;32m    382\u001b[0m     \u001b[38;5;66;03m# docstring inherited\u001b[39;00m\n\u001b[1;32m--> 383\u001b[0m     \u001b[38;5;28mself\u001b[39m\u001b[38;5;241m.\u001b[39mrenderer \u001b[38;5;241m=\u001b[39m \u001b[38;5;28mself\u001b[39m\u001b[38;5;241m.\u001b[39mget_renderer()\n\u001b[0;32m    384\u001b[0m     \u001b[38;5;28mself\u001b[39m\u001b[38;5;241m.\u001b[39mrenderer\u001b[38;5;241m.\u001b[39mclear()\n\u001b[0;32m    385\u001b[0m     \u001b[38;5;66;03m# Acquire a lock on the shared font cache.\u001b[39;00m\n",
      "File \u001b[1;32m~\\anaconda3\\Lib\\site-packages\\matplotlib\\backends\\backend_agg.py:398\u001b[0m, in \u001b[0;36mFigureCanvasAgg.get_renderer\u001b[1;34m(self)\u001b[0m\n\u001b[0;32m    396\u001b[0m reuse_renderer \u001b[38;5;241m=\u001b[39m (\u001b[38;5;28mself\u001b[39m\u001b[38;5;241m.\u001b[39m_lastKey \u001b[38;5;241m==\u001b[39m key)\n\u001b[0;32m    397\u001b[0m \u001b[38;5;28;01mif\u001b[39;00m \u001b[38;5;129;01mnot\u001b[39;00m reuse_renderer:\n\u001b[1;32m--> 398\u001b[0m     \u001b[38;5;28mself\u001b[39m\u001b[38;5;241m.\u001b[39mrenderer \u001b[38;5;241m=\u001b[39m RendererAgg(w, h, \u001b[38;5;28mself\u001b[39m\u001b[38;5;241m.\u001b[39mfigure\u001b[38;5;241m.\u001b[39mdpi)\n\u001b[0;32m    399\u001b[0m     \u001b[38;5;28mself\u001b[39m\u001b[38;5;241m.\u001b[39m_lastKey \u001b[38;5;241m=\u001b[39m key\n\u001b[0;32m    400\u001b[0m \u001b[38;5;28;01mreturn\u001b[39;00m \u001b[38;5;28mself\u001b[39m\u001b[38;5;241m.\u001b[39mrenderer\n",
      "File \u001b[1;32m~\\anaconda3\\Lib\\site-packages\\matplotlib\\backends\\backend_agg.py:70\u001b[0m, in \u001b[0;36mRendererAgg.__init__\u001b[1;34m(self, width, height, dpi)\u001b[0m\n\u001b[0;32m     68\u001b[0m \u001b[38;5;28mself\u001b[39m\u001b[38;5;241m.\u001b[39mwidth \u001b[38;5;241m=\u001b[39m width\n\u001b[0;32m     69\u001b[0m \u001b[38;5;28mself\u001b[39m\u001b[38;5;241m.\u001b[39mheight \u001b[38;5;241m=\u001b[39m height\n\u001b[1;32m---> 70\u001b[0m \u001b[38;5;28mself\u001b[39m\u001b[38;5;241m.\u001b[39m_renderer \u001b[38;5;241m=\u001b[39m _RendererAgg(\u001b[38;5;28mint\u001b[39m(width), \u001b[38;5;28mint\u001b[39m(height), dpi)\n\u001b[0;32m     71\u001b[0m \u001b[38;5;28mself\u001b[39m\u001b[38;5;241m.\u001b[39m_filter_renderers \u001b[38;5;241m=\u001b[39m []\n\u001b[0;32m     73\u001b[0m \u001b[38;5;28mself\u001b[39m\u001b[38;5;241m.\u001b[39m_update_methods()\n",
      "\u001b[1;31mValueError\u001b[0m: Image size of 1005x1349519 pixels is too large. It must be less than 2^16 in each direction."
     ]
    },
    {
     "data": {
      "text/plain": [
       "<Figure size 1200x500 with 2 Axes>"
      ]
     },
     "metadata": {},
     "output_type": "display_data"
    },
    {
     "data": {
      "image/png": "[encoded data removed]",
      "text/plain": [
       "<Figure size 1200x500 with 2 Axes>"
      ]
     },
     "metadata": {},
     "output_type": "display_data"
    }
   ],
   "source": [
    "# Histogramme erstellen\n",
    "fig, axs = plt.subplots(1, 2, figsize=(12, 5))\n",
    "\n",
    "# Histogramm für Kundendaten_04\n",
    "axs[0].hist(Kundendaten_03['Einkommen'].dropna(), bins=np.arange(10000, 120000, 20000), edgecolor='black')\n",
    "axs[0].set_xticks(np.arange(10000, 120000, 20000))\n",
    "axs[0].set_xlim([10000, 110000])\n",
    "axs[0].set_xlabel('Einkommen')\n",
    "axs[0].set_ylabel('Frequency')\n",
    "axs[0].set_title('Einkommen der Kunden')\n",
    "\n",
    "# Anzahl über den Säulen platzieren\n",
    "counts_kunde, bins_kunde = np.histogram(Kundendaten_04['Einkommen'].dropna(), bins=np.arange(10000, 120000, 20000))\n",
    "for count, bin in zip(counts_kunde, bins_kunde[:-1]):\n",
    "    axs[0].text(bin + 10000, count + 0.5, str(int(count)), ha='center', va='bottom')\n",
    "\n",
    "# Histogramm für Besucherdaten_04\n",
    "axs[1].hist(Besucherdaten_03['Einkommen'].dropna(), bins=np.arange(10000, 120000, 20000), edgecolor='black')\n",
    "axs[1].set_xticks(np.arange(10000, 120000, 20000))\n",
    "axs[1].set_xlim([10000, 110000])\n",
    "axs[1].set_xlabel('Einkommen')\n",
    "axs[1].set_ylabel('Frequency')\n",
    "axs[1].set_title('Einkommen der Besucher')\n",
    "\n",
    "# Anzahl über den Säulen platzieren\n",
    "counts_besucher, bins_besucher = np.histogram(Besucherdaten_04['Einkommen'].dropna(), bins=np.arange(10000, 120000, 20000))\n",
    "for count, bin in zip(counts_besucher, bins_besucher[:-1]):\n",
    "    axs[1].text(bin + 10000, count + 0.5, str(int(count)), ha='center', va='bottom')\n",
    "\n",
    "plt.tight_layout()\n",
    "# Konvertiere die Spalte 'Einkommen' zu float und runde auf zwei Nachkommastellen für Besucherdaten_03\n",
    "Besucherdaten_03['Einkommen'] = Besucherdaten_03['Einkommen'].astype(str).str.replace(',', '.').astype(float).round(2)\n",
    "\n",
    "# Funktion zur Bereinigung der Ausreißer und zum Entfernen\n",
    "def remove_outliers(df, column, lower_bound=10000, upper_bound=150000):\n",
    "    # Sicherstellen, dass die Spalte numerisch ist\n",
    "    df[column] = pd.to_numeric(df[column], errors='coerce')\n",
    "\n",
    "    # Identifizieren von Ausreißern\n",
    "    outliers = df[(df[column] < lower_bound) | (df[column] > upper_bound)]\n",
    "    print(f\"Anzahl der Ausreißer in {column}: {len(outliers)}\")\n",
    "    print(f\"Ausreißer in {column}:\")\n",
    "    print(outliers)\n",
    "    print()\n",
    "\n",
    "    # Berechnen des Durchschnitts nach Entfernung der Ausreißer\n",
    "    mean = df[(df[column] >= lower_bound) & (df[column] <= upper_bound)][column].mean()\n",
    "    print(f\"Durchschnitt der verbleibenden Daten: {mean}\")\n",
    "\n",
    "    # Ersetzen der Ausreißer durch den Durchschnitt\n",
    "    df.loc[outliers.index, column] = mean\n",
    "\n",
    "    return df\n",
    "\n",
    "# Bereinigung der Ausreißer und Entfernen in Kundendaten_03\n",
    "Kundendaten_04 = Kundendaten_03.copy()\n",
    "print(\"Bereinigung für Kundendaten_03:\")\n",
    "Kundendaten_04 = remove_outliers(Kundendaten_04, 'Einkommen')\n",
    "\n",
    "# Bereinigung der Ausreißer und Entfernen in Besucherdaten_03\n",
    "Besucherdaten_04 = Besucherdaten_03.copy()\n",
    "print(\"Bereinigung für Besucherdaten_03:\")\n",
    "Besucherdaten_04 = remove_outliers(Besucherdaten_04, 'Einkommen')\n",
    "\n",
    "# Histogramme erstellen\n",
    "fig, axs = plt.subplots(1, 2, figsize=(12, 5))\n",
    "\n",
    "# Histogramm für Kundendaten_04\n",
    "axs[0].hist(Kundendaten_04['Einkommen'].dropna(), bins=np.arange(10000, 120000, 20000), edgecolor='black')\n",
    "axs[0].set_xticks(np.arange(10000, 120000, 20000))\n",
    "axs[0].set_xlim([10000, 110000])\n",
    "axs[0].set_xlabel('Einkommen')\n",
    "axs[0].set_ylabel('Frequency')\n",
    "axs[0].set_title('Einkommen der Kunden')\n",
    "\n",
    "# Anzahl über den Säulen platzieren\n",
    "counts_kunde, bins_kunde = np.histogram(Kundendaten_04['Einkommen'].dropna(), bins=np.arange(10000, 120000, 20000))\n",
    "for count, bin in zip(counts_kunde, bins_kunde[:-1]):\n",
    "    axs[0].text(bin + 10000, count + 0.5, str(int(count)), ha='center', va='bottom')\n",
    "\n",
    "# Histogramm für Besucherdaten_04\n",
    "axs[1].hist(Besucherdaten_04['Einkommen'].dropna(), bins=np.arange(10000, 120000, 20000), edgecolor='black')\n",
    "axs[1].set_xticks(np.arange(10000, 120000, 20000))\n",
    "axs[1].set_xlim([10000, 110000])\n",
    "axs[1].set_xlabel('Einkommen')\n",
    "axs[1].set_ylabel('Frequency')\n",
    "axs[1].set_title('Einkommen der Besucher')\n",
    "\n",
    "# Anzahl über den Säulen platzieren\n",
    "counts_besucher, bins_besucher = np.histogram(Besucherdaten_04['Einkommen'].dropna(), bins=np.arange(10000, 120000, 20000))\n",
    "for count, bin in zip(counts_besucher, bins_besucher[:-1]):\n",
    "    axs[1].text(bin + 10000, count + 0.5, str(int(count)), ha='center', va='bottom')\n",
    "\n",
    "plt.tight_layout()"
   ]
  },
  {
   "cell_type": "code",
   "execution_count": 105,
   "id": "58408681-61dc-4176-bf0d-61fa183b2ad8",
   "metadata": {
    "scrolled": true
   },
   "outputs": [
    {
     "name": "stdout",
     "output_type": "stream",
     "text": [
      "Treten unter den Values für 'Niederlassung Doppelungen auf? Ja, diese:.\n",
      "\n",
      "['Sachsen' 'NRW' 'Hessen' 'Bayern' 'Baden-Württemberg'\n",
      " 'Nordrhein-Westfalen' 'Berlin' 'Niedersachsen' 'Brandenburg' 'Thüringen'\n",
      " 'Hamburg' 'Düsseldorf' 'Berlin-Charlottenburg' 'Berlin-Mitte' 'BERLIN']\n",
      "['Hessen' 'Berlin' 'Niedersachsen' 'Thüringen' 'Nordrhein-Westfalen'\n",
      " 'Baden-Württemberg' 'Bayern' 'Hamburg' 'Sachsen' 'Brandenburg' 'BERLIN'\n",
      " 'Düsseldorf' 'NRW' 'Berlin-Charlottenburg']\n",
      "\n",
      "Wir fassen NRW; Nordrhein-westfalen unter Nordrhein-westfalen und BERLIN; Berlin-Charlottenburg; Berlin-Mitte; Berlin unter Berlin zusammen.\n",
      "\n",
      "Sind nun noch Doppelungen vorhanden?\n",
      "\n",
      "['Sachsen' 'Nordrhein-Westfalen' 'Hessen' 'Bayern' 'Baden-Württemberg'\n",
      " 'Berlin' 'Niedersachsen' 'Brandenburg' 'Thüringen' 'Hamburg' 'Düsseldorf']\n",
      "['Hessen' 'Berlin' 'Niedersachsen' 'Thüringen' 'Nordrhein-Westfalen'\n",
      " 'Baden-Württemberg' 'Bayern' 'Hamburg' 'Sachsen' 'Brandenburg'\n",
      " 'Düsseldorf']\n",
      "\n",
      "Nein. Jedes Bundesland tritt jetzt nur noch in einer Schreibweise auf.\n"
     ]
    }
   ],
   "source": [
    "print(\"Treten unter den Values für 'Niederlassung Doppelungen auf?\" \" Ja, diese:.\")\n",
    "print(\n",
    "    )\n",
    "print(Kundendaten_04['Niederlassung'].unique())\n",
    "print(Besucherdaten_04['Niederlassung'].unique())\n",
    "print(\n",
    "    )\n",
    "print(\"Wir fassen NRW; Nordrhein-westfalen unter Nordrhein-westfalen und BERLIN; Berlin-Charlottenburg; Berlin-Mitte; Berlin unter Berlin zusammen.\")\n",
    "\n",
    "Kundendaten_04['Niederlassung'] = Kundendaten_04['Niederlassung'].replace({\n",
    "    'NRW': 'Nordrhein-Westfalen',\n",
    "    'BERLIN': 'Berlin',\n",
    "    'Berlin-Charlottenburg': 'Berlin',\n",
    "    'Berlin-Mitte': 'Berlin'\n",
    "})\n",
    "\n",
    "Besucherdaten_04['Niederlassung'] = Besucherdaten_04['Niederlassung'].replace({\n",
    "    'NRW': 'Nordrhein-Westfalen',\n",
    "    'BERLIN': 'Berlin',\n",
    "    'Berlin-Charlottenburg': 'Berlin',\n",
    "    'Berlin-Mitte': 'Berlin'\n",
    "})\n",
    "print(\n",
    ")\n",
    "print(\"Sind nun noch Doppelungen vorhanden?\")\n",
    "print(\n",
    ")\n",
    "print(Kundendaten_04['Niederlassung'].unique())\n",
    "print(Besucherdaten_04['Niederlassung'].unique())  \n",
    "print(\n",
    ")\n",
    "print(\"Nein. Jedes Bundesland tritt jetzt nur noch in einer Schreibweise auf.\")"
   ]
  },
  {
   "cell_type": "code",
   "execution_count": null,
   "id": "4f4a1d95-9a44-4b92-b3a9-f8c2a4ec0003",
   "metadata": {},
   "outputs": [],
   "source": []
  },
  {
   "cell_type": "code",
   "execution_count": 113,
   "id": "642d761c-6124-40c8-b4eb-d9638f94d53b",
   "metadata": {},
   "outputs": [
    {
     "ename": "SyntaxError",
     "evalue": "unterminated string literal (detected at line 59) (3970016843.py, line 59)",
     "output_type": "error",
     "traceback": [
      "\u001b[1;36m  Cell \u001b[1;32mIn[113], line 59\u001b[1;36m\u001b[0m\n\u001b[1;33m    print(\"Wir setzen die Untergrenze in Sachen 'Zeit' auf 20 bzw. 10 Wir glauben,)\u001b[0m\n\u001b[1;37m          ^\u001b[0m\n\u001b[1;31mSyntaxError\u001b[0m\u001b[1;31m:\u001b[0m unterminated string literal (detected at line 59)\n"
     ]
    }
   ],
   "source": [
    "# Histogramme erstellen\n",
    "fig, axs = plt.subplots(1, 2, figsize=(12, 5))\n",
    "\n",
    "# Histogramm für Kundendaten_04\n",
    "axs[0].hist(Kundendaten_04['Zeit'], bins=np.arange(10, 91, 20), edgecolor='black')\n",
    "axs[0].set_xticks(np.arange(10, 91, 20))\n",
    "axs[0].set_xlabel('Zeit')\n",
    "axs[0].set_ylabel('Frequency')\n",
    "axs[0].set_title('Zeit der Kunden')\n",
    "\n",
    "# Anzahl über den Säulen platzieren\n",
    "counts_kunde, bins_kunde = np.histogram(Kundendaten_04['Zeit'], bins=np.arange(10, 91, 20))\n",
    "for count, bin in zip(counts_kunde, bins_kunde[:-1]):\n",
    "    axs[0].text(bin + 10, count + 0.5, str(int(count)), ha='center', va='bottom')\n",
    "\n",
    "# Histogramm für Besucherdaten_04 (nach Konvertierung)\n",
    "axs[1].hist(Besucherdaten_04['Zeit'], bins=np.arange(10, 91, 20), edgecolor='black')\n",
    "axs[1].set_xticks(np.arange(10, 91, 20))\n",
    "axs[1].set_xlabel('Zeit')\n",
    "axs[1].set_ylabel('Frequency')\n",
    "axs[1].set_title('Zeit der Besucher')\n",
    "\n",
    "# Anzahl über den Säulen platzieren\n",
    "counts_besucher, bins_besucher = np.histogram(Besucherdaten_04['Zeit'], bins=np.arange(10, 91, 20))\n",
    "for count, bin in zip(counts_besucher, bins_besucher[:-1]):\n",
    "    axs[1].text(bin + 10, count + 0.5, str(int(count)), ha='center', va='bottom')\n",
    "\n",
    "plt.tight_layout()\n",
    "plt.show()\n",
    "# Funktion zur Bereinigung der Ausreißer und Ersetzung durch Durchschnitt\n",
    "def remove_outliers_and_replace_with_mean(df, column, lower_bound, upper_bound):\n",
    "    # Sicherstellen, dass die Spalte numerisch ist\n",
    "    df[column] = pd.to_numeric(df[column], errors='coerce')\n",
    "    \n",
    "    # Identifizieren von Ausreißern\n",
    "    outliers = df[(df[column] < lower_bound) | (df[column] > upper_bound)]\n",
    "    \n",
    "    # Entfernen der Ausreißer\n",
    "    df_no_outliers = df[(df[column] >= lower_bound) & (df[column] <= upper_bound)]\n",
    "    \n",
    "    # Berechnung des Durchschnitts ohne Ausreißer\n",
    "    mean_value = df_no_outliers[column].mean()\n",
    "    \n",
    "    # Ersetzen der Ausreißer durch den Durchschnitt\n",
    "    df.loc[outliers.index, column] = mean_value\n",
    "    \n",
    "    return df, outliers\n",
    "\n",
    "# Bereinigung der Ausreißer in der Spalte 'Zeit'\n",
    "Kundendaten_05, outliers_kunden = remove_outliers_and_replace_with_mean(Kundendaten_04.copy(), 'Zeit', 20, 90)\n",
    "Besucherdaten_05, outliers_besucher = remove_outliers_and_replace_with_mean(Besucherdaten_04.copy(), 'Zeit', 10, 90)\n",
    "\n",
    "# Anzeigen der Ausreißer\n",
    "print(\"Ausreißer in Kundendaten_04:\")\n",
    "print(outliers_kunden)\n",
    "print(\"\\nAusreißer in Besucherdaten_04:\")\n",
    "print(outliers_besucher)\n",
    "\n",
    "print(\"Wir setzen die Untergrenze in Sachen 'Zeit' auf 20 bzw. 10 Wir glauben,)\n",
    "print(\"dass diese niedrig aber für Einzelfälle Realistisch ist.\")\n",
    "print(\"Die Obergrenze Setzen wir mit 90 hoch. Wir begründen dies damit,\") \n",
    "print(\"dass es nicht umbedingt ungweöhnlich ist bei einem Autokauf genau nachfragende und\")\n",
    "print(\"länger überlegende Kunden im Geschäft zu haben.\")\n",
    "print(\"Wir setzen die Obergrenze in erster linie um Messfehler in extremer höhe heraus zu filtern.\")\n",
    "\n",
    "# Histogramme erstellen\n",
    "fig, axs = plt.subplots(1, 2, figsize=(12, 5))\n",
    "\n",
    "# Histogramm für Kundendaten_04\n",
    "axs[0].hist(Kundendaten_05['Zeit'], bins=np.arange(10, 91, 20), edgecolor='black')\n",
    "axs[0].set_xticks(np.arange(10, 91, 20))\n",
    "axs[0].set_xlabel('Zeit')\n",
    "axs[0].set_ylabel('Frequency')\n",
    "axs[0].set_title('Zeit der Kunden')\n",
    "\n",
    "# Anzahl über den Säulen platzieren\n",
    "counts_kunde, bins_kunde = np.histogram(Kundendaten_04['Zeit'], bins=np.arange(10, 91, 20))\n",
    "for count, bin in zip(counts_kunde, bins_kunde[:-1]):\n",
    "    axs[0].text(bin + 10, count + 0.5, str(int(count)), ha='center', va='bottom')\n",
    "\n",
    "# Histogramm für Besucherdaten_04 (nach Konvertierung)\n",
    "axs[1].hist(Besucherdaten_05['Zeit'], bins=np.arange(10, 91, 20), edgecolor='black')\n",
    "axs[1].set_xticks(np.arange(10, 91, 20))\n",
    "axs[1].set_xlabel('Zeit')\n",
    "axs[1].set_ylabel('Frequency')\n",
    "axs[1].set_title('Zeit der Besucher')\n",
    "\n",
    "# Anzahl über den Säulen platzieren\n",
    "counts_besucher, bins_besucher = np.histogram(Besucherdaten_04['Zeit'], bins=np.arange(10, 91, 20))\n",
    "for count, bin in zip(counts_besucher, bins_besucher[:-1]):\n",
    "    axs[1].text(bin + 10, count + 0.5, str(int(count)), ha='center', va='bottom')\n",
    "\n",
    "plt.tight_layout()\n",
    "plt.show()"
   ]
  },
  {
   "cell_type": "code",
   "execution_count": 108,
   "id": "a16848d0-2539-4a96-ad0a-5551541fcd7a",
   "metadata": {},
   "outputs": [
    {
     "data": {
      "image/png": "[encoded data removed]",
      "text/plain": [
       "<Figure size 800x600 with 1 Axes>"
      ]
     },
     "metadata": {},
     "output_type": "display_data"
    },
    {
     "data": {
      "image/png": "[encoded data removed]",
      "text/plain": [
       "<Figure size 800x600 with 1 Axes>"
      ]
     },
     "metadata": {},
     "output_type": "display_data"
    }
   ],
   "source": [
    "# Original-Histogramm der Spalte 'Preis'\n",
    "plt.figure(figsize=(8, 6))\n",
    "plt.hist(Kundendaten_05['Preis'], bins=20, edgecolor='black')\n",
    "plt.xlabel('Preis')\n",
    "plt.ylabel('Frequency')\n",
    "plt.title('Histogramm Preis Kunden')\n",
    "\n",
    "# Anzahl über den Säulen platzieren\n",
    "for bin_edge in plt.gca().patches:\n",
    "    plt.gca().annotate(f\"{int(bin_edge.get_height())}\", \n",
    "                       xy=(bin_edge.get_x() + bin_edge.get_width() / 2, bin_edge.get_height()), \n",
    "                       xytext=(0, 3),  # 3 points vertical offset\n",
    "                       textcoords=\"offset points\",\n",
    "                       ha='center', va='bottom')\n",
    "\n",
    "plt.show()\n",
    "\n",
    "# Berechnung der Quartile und des IQR\n",
    "q1 = Kundendaten_05['Preis'].quantile(0.25)\n",
    "q3 = Kundendaten_05['Preis'].quantile(0.75)\n",
    "iqr = q3 - q1\n",
    "\n",
    "# Bestimmen der unteren und oberen Grenzen für Ausreißer\n",
    "lower_bound = q1 - 1.5 * iqr\n",
    "upper_bound = q3 + 1.5 * iqr\n",
    "\n",
    "# Identifizierung der Ausreißer\n",
    "outliers = Kundendaten_05[(Kundendaten_05['Preis'] < lower_bound) | (Kundendaten_05['Preis'] > upper_bound)]\n",
    "\n",
    "# Ersetzen der Ausreißer mit dem Median\n",
    "median_price = Kundendaten_05['Preis'].median()\n",
    "Kundendaten_bereinigt = Kundendaten_05.copy()  # Kopie des DataFrame für die Bereinigung\n",
    "Kundendaten_bereinigt.loc[outliers.index, 'Preis'] = median_price\n",
    "\n",
    "# Histogramm der bereinigten Preise\n",
    "plt.figure(figsize=(8, 6))\n",
    "plt.hist(Kundendaten_bereinigt['Preis'], bins=20, edgecolor='black')\n",
    "plt.xlabel('Preis')\n",
    "plt.ylabel('Frequency')\n",
    "plt.title('Histogramm Preis Kunden')\n",
    "\n",
    "# Anzahl über den Säulen platzieren\n",
    "for bin_edge in plt.gca().patches:\n",
    "    plt.gca().annotate(f\"{int(bin_edge.get_height())}\", \n",
    "                       xy=(bin_edge.get_x() + bin_edge.get_width() / 2, bin_edge.get_height()), \n",
    "                       xytext=(0, 3),  # 3 points vertical offset\n",
    "                       textcoords=\"offset points\",\n",
    "                       ha='center', va='bottom')\n",
    "\n",
    "plt.show()"
   ]
  },
  {
   "cell_type": "code",
   "execution_count": 109,
   "id": "dfd7e69a-b603-433f-87e0-f00e7cf43685",
   "metadata": {},
   "outputs": [
    {
     "name": "stdout",
     "output_type": "stream",
     "text": [
      "     KundeNr Geschlecht  Alter  Einkommen  Zeit      Preis  \\\n",
      "0      K0001   Männlich   68.0    89437.0  62.0  114481.90   \n",
      "1      K0002   Männlich   58.0    65271.0  44.0  106258.99   \n",
      "2      K0003   Männlich   44.0    48195.0  29.0   85705.57   \n",
      "3      K0004   Weiblich   37.0    48957.0  36.0   76412.36   \n",
      "4      K0005   Weiblich   50.0    56621.0  40.0   92898.67   \n",
      "...      ...        ...    ...        ...   ...        ...   \n",
      "1099   K1100   Männlich   61.0    82624.0  59.0  134755.80   \n",
      "1100   K1101   Männlich   39.0    37905.0  32.0   61717.86   \n",
      "1101   K1102   Männlich   39.0    40159.0  37.0   67170.69   \n",
      "1102   K1103   Weiblich   48.0    45545.0  30.0   75700.83   \n",
      "1103   K1104   Männlich   63.0    80414.0  49.0  101554.64   \n",
      "\n",
      "            Niederlassung  \n",
      "0                 Sachsen  \n",
      "1     Nordrhein-Westfalen  \n",
      "2                  Hessen  \n",
      "3                  Bayern  \n",
      "4                  Bayern  \n",
      "...                   ...  \n",
      "1099               Berlin  \n",
      "1100               Hessen  \n",
      "1101        Niedersachsen  \n",
      "1102               Berlin  \n",
      "1103              Sachsen  \n",
      "\n",
      "[1104 rows x 7 columns]\n",
      "    KundeNr Geschlecht  Alter  Einkommen  Zeit        Niederlassung\n",
      "0     K1105   Weiblich   42.0   57149.50  35.0               Hessen\n",
      "1     K1106   Männlich   34.0   43358.56  33.0               Berlin\n",
      "2     K1107   Männlich   33.0   45748.43  55.0        Niedersachsen\n",
      "3     K1108   Männlich   57.0   58633.97  32.0            Thüringen\n",
      "4     K1109   Weiblich   43.0   53592.01  31.0  Nordrhein-Westfalen\n",
      "..      ...        ...    ...        ...   ...                  ...\n",
      "886   K1991   Männlich   48.0   59967.31  21.0               Hessen\n",
      "887   K1992   Männlich   67.0   81521.76  21.0    Baden-Württemberg\n",
      "888   K1993   Weiblich   40.0   41616.57  48.0  Nordrhein-Westfalen\n",
      "889   K1994   Männlich   49.0   76602.79  19.0               Berlin\n",
      "890   K1995   Männlich   49.0   54754.53  44.0               Berlin\n",
      "\n",
      "[891 rows x 6 columns]\n"
     ]
    }
   ],
   "source": [
    "print(Kundendaten_bereinigt)\n",
    "Besucherdaten_bereinigt = Besucherdaten_05\n",
    "print(Besucherdaten_bereinigt)\n"
   ]
  },
  {
   "cell_type": "code",
   "execution_count": 115,
   "id": "8ba09091-4560-40b5-9353-07dec9e07f5a",
   "metadata": {},
   "outputs": [
    {
     "ename": "TypeError",
     "evalue": "descriptor 'is_integer' for 'float' objects doesn't apply to a 'int' object",
     "output_type": "error",
     "traceback": [
      "\u001b[1;31m---------------------------------------------------------------------------\u001b[0m",
      "\u001b[1;31mTypeError\u001b[0m                                 Traceback (most recent call last)",
      "Cell \u001b[1;32mIn[115], line 2\u001b[0m\n\u001b[0;32m      1\u001b[0m \u001b[38;5;66;03m# Prüfen, ob alle Werte ganzzahlig sind in den Spalten \"Alter\" und \"Zeit\"\u001b[39;00m\n\u001b[1;32m----> 2\u001b[0m \u001b[38;5;28;01mif\u001b[39;00m Kundendaten_bereinigt[\u001b[38;5;124m'\u001b[39m\u001b[38;5;124mAlter\u001b[39m\u001b[38;5;124m'\u001b[39m]\u001b[38;5;241m.\u001b[39mapply(\u001b[38;5;28mfloat\u001b[39m\u001b[38;5;241m.\u001b[39mis_integer)\u001b[38;5;241m.\u001b[39mall():\n\u001b[0;32m      3\u001b[0m     Kundendaten_bereinigt[\u001b[38;5;124m'\u001b[39m\u001b[38;5;124mAlter\u001b[39m\u001b[38;5;124m'\u001b[39m] \u001b[38;5;241m=\u001b[39m Kundendaten_bereinigt[\u001b[38;5;124m'\u001b[39m\u001b[38;5;124mAlter\u001b[39m\u001b[38;5;124m'\u001b[39m]\u001b[38;5;241m.\u001b[39mastype(\u001b[38;5;28mint\u001b[39m)\n\u001b[0;32m      5\u001b[0m \u001b[38;5;28;01mif\u001b[39;00m Besucherdaten_bereinigt[\u001b[38;5;124m'\u001b[39m\u001b[38;5;124mZeit\u001b[39m\u001b[38;5;124m'\u001b[39m]\u001b[38;5;241m.\u001b[39mdropna()\u001b[38;5;241m.\u001b[39mapply(\u001b[38;5;28mfloat\u001b[39m\u001b[38;5;241m.\u001b[39mis_integer)\u001b[38;5;241m.\u001b[39mall():\n",
      "File \u001b[1;32m~\\anaconda3\\Lib\\site-packages\\pandas\\core\\series.py:4764\u001b[0m, in \u001b[0;36mSeries.apply\u001b[1;34m(self, func, convert_dtype, args, by_row, **kwargs)\u001b[0m\n\u001b[0;32m   4629\u001b[0m \u001b[38;5;28;01mdef\u001b[39;00m \u001b[38;5;21mapply\u001b[39m(\n\u001b[0;32m   4630\u001b[0m     \u001b[38;5;28mself\u001b[39m,\n\u001b[0;32m   4631\u001b[0m     func: AggFuncType,\n\u001b[1;32m   (...)\u001b[0m\n\u001b[0;32m   4636\u001b[0m     \u001b[38;5;241m*\u001b[39m\u001b[38;5;241m*\u001b[39mkwargs,\n\u001b[0;32m   4637\u001b[0m ) \u001b[38;5;241m-\u001b[39m\u001b[38;5;241m>\u001b[39m DataFrame \u001b[38;5;241m|\u001b[39m Series:\n\u001b[0;32m   4638\u001b[0m \u001b[38;5;250m    \u001b[39m\u001b[38;5;124;03m\"\"\"\u001b[39;00m\n\u001b[0;32m   4639\u001b[0m \u001b[38;5;124;03m    Invoke function on values of Series.\u001b[39;00m\n\u001b[0;32m   4640\u001b[0m \n\u001b[1;32m   (...)\u001b[0m\n\u001b[0;32m   4755\u001b[0m \u001b[38;5;124;03m    dtype: float64\u001b[39;00m\n\u001b[0;32m   4756\u001b[0m \u001b[38;5;124;03m    \"\"\"\u001b[39;00m\n\u001b[0;32m   4757\u001b[0m     \u001b[38;5;28;01mreturn\u001b[39;00m SeriesApply(\n\u001b[0;32m   4758\u001b[0m         \u001b[38;5;28mself\u001b[39m,\n\u001b[0;32m   4759\u001b[0m         func,\n\u001b[0;32m   4760\u001b[0m         convert_dtype\u001b[38;5;241m=\u001b[39mconvert_dtype,\n\u001b[0;32m   4761\u001b[0m         by_row\u001b[38;5;241m=\u001b[39mby_row,\n\u001b[0;32m   4762\u001b[0m         args\u001b[38;5;241m=\u001b[39margs,\n\u001b[0;32m   4763\u001b[0m         kwargs\u001b[38;5;241m=\u001b[39mkwargs,\n\u001b[1;32m-> 4764\u001b[0m     )\u001b[38;5;241m.\u001b[39mapply()\n",
      "File \u001b[1;32m~\\anaconda3\\Lib\\site-packages\\pandas\\core\\apply.py:1209\u001b[0m, in \u001b[0;36mSeriesApply.apply\u001b[1;34m(self)\u001b[0m\n\u001b[0;32m   1206\u001b[0m     \u001b[38;5;28;01mreturn\u001b[39;00m \u001b[38;5;28mself\u001b[39m\u001b[38;5;241m.\u001b[39mapply_compat()\n\u001b[0;32m   1208\u001b[0m \u001b[38;5;66;03m# self.func is Callable\u001b[39;00m\n\u001b[1;32m-> 1209\u001b[0m \u001b[38;5;28;01mreturn\u001b[39;00m \u001b[38;5;28mself\u001b[39m\u001b[38;5;241m.\u001b[39mapply_standard()\n",
      "File \u001b[1;32m~\\anaconda3\\Lib\\site-packages\\pandas\\core\\apply.py:1289\u001b[0m, in \u001b[0;36mSeriesApply.apply_standard\u001b[1;34m(self)\u001b[0m\n\u001b[0;32m   1283\u001b[0m \u001b[38;5;66;03m# row-wise access\u001b[39;00m\n\u001b[0;32m   1284\u001b[0m \u001b[38;5;66;03m# apply doesn't have a `na_action` keyword and for backward compat reasons\u001b[39;00m\n\u001b[0;32m   1285\u001b[0m \u001b[38;5;66;03m# we need to give `na_action=\"ignore\"` for categorical data.\u001b[39;00m\n\u001b[0;32m   1286\u001b[0m \u001b[38;5;66;03m# TODO: remove the `na_action=\"ignore\"` when that default has been changed in\u001b[39;00m\n\u001b[0;32m   1287\u001b[0m \u001b[38;5;66;03m#  Categorical (GH51645).\u001b[39;00m\n\u001b[0;32m   1288\u001b[0m action \u001b[38;5;241m=\u001b[39m \u001b[38;5;124m\"\u001b[39m\u001b[38;5;124mignore\u001b[39m\u001b[38;5;124m\"\u001b[39m \u001b[38;5;28;01mif\u001b[39;00m \u001b[38;5;28misinstance\u001b[39m(obj\u001b[38;5;241m.\u001b[39mdtype, CategoricalDtype) \u001b[38;5;28;01melse\u001b[39;00m \u001b[38;5;28;01mNone\u001b[39;00m\n\u001b[1;32m-> 1289\u001b[0m mapped \u001b[38;5;241m=\u001b[39m obj\u001b[38;5;241m.\u001b[39m_map_values(\n\u001b[0;32m   1290\u001b[0m     mapper\u001b[38;5;241m=\u001b[39mcurried, na_action\u001b[38;5;241m=\u001b[39maction, convert\u001b[38;5;241m=\u001b[39m\u001b[38;5;28mself\u001b[39m\u001b[38;5;241m.\u001b[39mconvert_dtype\n\u001b[0;32m   1291\u001b[0m )\n\u001b[0;32m   1293\u001b[0m \u001b[38;5;28;01mif\u001b[39;00m \u001b[38;5;28mlen\u001b[39m(mapped) \u001b[38;5;129;01mand\u001b[39;00m \u001b[38;5;28misinstance\u001b[39m(mapped[\u001b[38;5;241m0\u001b[39m], ABCSeries):\n\u001b[0;32m   1294\u001b[0m     \u001b[38;5;66;03m# GH#43986 Need to do list(mapped) in order to get treated as nested\u001b[39;00m\n\u001b[0;32m   1295\u001b[0m     \u001b[38;5;66;03m#  See also GH#25959 regarding EA support\u001b[39;00m\n\u001b[0;32m   1296\u001b[0m     \u001b[38;5;28;01mreturn\u001b[39;00m obj\u001b[38;5;241m.\u001b[39m_constructor_expanddim(\u001b[38;5;28mlist\u001b[39m(mapped), index\u001b[38;5;241m=\u001b[39mobj\u001b[38;5;241m.\u001b[39mindex)\n",
      "File \u001b[1;32m~\\anaconda3\\Lib\\site-packages\\pandas\\core\\base.py:921\u001b[0m, in \u001b[0;36mIndexOpsMixin._map_values\u001b[1;34m(self, mapper, na_action, convert)\u001b[0m\n\u001b[0;32m    918\u001b[0m \u001b[38;5;28;01mif\u001b[39;00m \u001b[38;5;28misinstance\u001b[39m(arr, ExtensionArray):\n\u001b[0;32m    919\u001b[0m     \u001b[38;5;28;01mreturn\u001b[39;00m arr\u001b[38;5;241m.\u001b[39mmap(mapper, na_action\u001b[38;5;241m=\u001b[39mna_action)\n\u001b[1;32m--> 921\u001b[0m \u001b[38;5;28;01mreturn\u001b[39;00m algorithms\u001b[38;5;241m.\u001b[39mmap_array(arr, mapper, na_action\u001b[38;5;241m=\u001b[39mna_action, convert\u001b[38;5;241m=\u001b[39mconvert)\n",
      "File \u001b[1;32m~\\anaconda3\\Lib\\site-packages\\pandas\\core\\algorithms.py:1814\u001b[0m, in \u001b[0;36mmap_array\u001b[1;34m(arr, mapper, na_action, convert)\u001b[0m\n\u001b[0;32m   1812\u001b[0m values \u001b[38;5;241m=\u001b[39m arr\u001b[38;5;241m.\u001b[39mastype(\u001b[38;5;28mobject\u001b[39m, copy\u001b[38;5;241m=\u001b[39m\u001b[38;5;28;01mFalse\u001b[39;00m)\n\u001b[0;32m   1813\u001b[0m \u001b[38;5;28;01mif\u001b[39;00m na_action \u001b[38;5;129;01mis\u001b[39;00m \u001b[38;5;28;01mNone\u001b[39;00m:\n\u001b[1;32m-> 1814\u001b[0m     \u001b[38;5;28;01mreturn\u001b[39;00m lib\u001b[38;5;241m.\u001b[39mmap_infer(values, mapper, convert\u001b[38;5;241m=\u001b[39mconvert)\n\u001b[0;32m   1815\u001b[0m \u001b[38;5;28;01melse\u001b[39;00m:\n\u001b[0;32m   1816\u001b[0m     \u001b[38;5;28;01mreturn\u001b[39;00m lib\u001b[38;5;241m.\u001b[39mmap_infer_mask(\n\u001b[0;32m   1817\u001b[0m         values, mapper, mask\u001b[38;5;241m=\u001b[39misna(values)\u001b[38;5;241m.\u001b[39mview(np\u001b[38;5;241m.\u001b[39muint8), convert\u001b[38;5;241m=\u001b[39mconvert\n\u001b[0;32m   1818\u001b[0m     )\n",
      "File \u001b[1;32mlib.pyx:2926\u001b[0m, in \u001b[0;36mpandas._libs.lib.map_infer\u001b[1;34m()\u001b[0m\n",
      "\u001b[1;31mTypeError\u001b[0m: descriptor 'is_integer' for 'float' objects doesn't apply to a 'int' object"
     ]
    }
   ],
   "source": [
    "# Prüfen, ob alle Werte ganzzahlig sind in den Spalten \"Alter\" und \"Zeit\"\n",
    "if Kundendaten_bereinigt['Alter'].apply(float.is_integer).all():\n",
    "    Kundendaten_bereinigt['Alter'] = Kundendaten_bereinigt['Alter'].astype(int)\n",
    "    \n",
    "if Besucherdaten_bereinigt['Zeit'].dropna().apply(float.is_integer).all():\n",
    "    Besucherdaten_bereinigt['Zeit'] = Besucherdaten_bereinigt['Zeit'].astype(int)\n",
    "\n",
    "# Überprüfen der Änderungen\n",
    "print(\"Datentypen nach der Konvertierung:\")\n",
    "print(\"Kundendaten_bereinigt:\")\n",
    "print(Kundendaten_bereinigt.dtypes)\n",
    "\n",
    "print(\"\\nBesucherdaten_bereinigt:\")\n",
    "print(Besucherdaten_bereinigt.dtypes)"
   ]
  },
  {
   "cell_type": "code",
   "execution_count": 120,
   "id": "8c48fbab-fa1c-4249-805e-ad804bac6d24",
   "metadata": {},
   "outputs": [
    {
     "name": "stdout",
     "output_type": "stream",
     "text": [
      "Index(['KundeNr', 'Geschlecht', 'Alter', 'Einkommen', 'Niederlassung', 'Zeit',\n",
      "       'Preis'],\n",
      "      dtype='object')\n",
      "Index(['KundeNr', 'Geschlecht', 'Alter', 'Einkommen', 'Niederlassung', 'Zeit'], dtype='object')\n",
      "        Geschlecht  Alter  Einkommen        Niederlassung  Zeit      Preis\n",
      "KundeNr                                                                   \n",
      "K0001     Männlich     68   89437.00              Sachsen  62.0  114481.90\n",
      "K0002     Männlich     58   65271.00  Nordrhein-Westfalen  44.0  106258.99\n",
      "K0003     Männlich     44   48195.00               Hessen  29.0   85705.57\n",
      "K0004     Weiblich     37   48957.00               Bayern  36.0   76412.36\n",
      "K0005     Weiblich     50   56621.00               Bayern  40.0   92898.67\n",
      "...            ...    ...        ...                  ...   ...        ...\n",
      "K1991     Männlich     48   59967.31               Hessen  21.0        NaN\n",
      "K1992     Männlich     67   81521.76    Baden-Württemberg  21.0        NaN\n",
      "K1993     Weiblich     40   41616.57  Nordrhein-Westfalen  48.0        NaN\n",
      "K1994     Männlich     49   76602.79               Berlin  19.0        NaN\n",
      "K1995     Männlich     49   54754.53               Berlin  44.0        NaN\n",
      "\n",
      "[1995 rows x 6 columns]\n",
      "        Geschlecht  Alter  Einkommen        Niederlassung  Zeit      Preis\n",
      "KundeNr                                                                   \n",
      "K0001     Männlich     68    89437.0              Sachsen  62.0  114481.90\n",
      "K0002     Männlich     58    65271.0  Nordrhein-Westfalen  44.0  106258.99\n",
      "K0003     Männlich     44    48195.0               Hessen  29.0   85705.57\n",
      "K0004     Weiblich     37    48957.0               Bayern  36.0   76412.36\n",
      "K0005     Weiblich     50    56621.0               Bayern  40.0   92898.67\n",
      "...            ...    ...        ...                  ...   ...        ...\n",
      "K1100     Männlich     61    82624.0               Berlin  59.0  134755.80\n",
      "K1101     Männlich     39    37905.0               Hessen  32.0   61717.86\n",
      "K1102     Männlich     39    40159.0        Niedersachsen  37.0   67170.69\n",
      "K1103     Weiblich     48    45545.0               Berlin  30.0   75700.83\n",
      "K1104     Männlich     63    80414.0              Sachsen  49.0  101554.64\n",
      "\n",
      "[1104 rows x 6 columns]\n",
      "        Geschlecht  Alter  Einkommen        Niederlassung  Zeit\n",
      "KundeNr                                                        \n",
      "K1105     Weiblich     42   57149.50               Hessen  35.0\n",
      "K1106     Männlich     34   43358.56               Berlin  33.0\n",
      "K1107     Männlich     33   45748.43        Niedersachsen  55.0\n",
      "K1108     Männlich     57   58633.97            Thüringen  32.0\n",
      "K1109     Weiblich     43   53592.01  Nordrhein-Westfalen  31.0\n",
      "...            ...    ...        ...                  ...   ...\n",
      "K1991     Männlich     48   59967.31               Hessen  21.0\n",
      "K1992     Männlich     67   81521.76    Baden-Württemberg  21.0\n",
      "K1993     Weiblich     40   41616.57  Nordrhein-Westfalen  48.0\n",
      "K1994     Männlich     49   76602.79               Berlin  19.0\n",
      "K1995     Männlich     49   54754.53               Berlin  44.0\n",
      "\n",
      "[891 rows x 5 columns]\n"
     ]
    }
   ],
   "source": [
    "# Falls notwendig, den Index zurücksetzen und 'KundeNr' als normale Spalte hinzufügen\n",
    "Kundendaten_bereinigt.reset_index(inplace=True)\n",
    "Besucherdaten_bereinigt.reset_index(inplace=True)\n",
    "\n",
    "# Optional: Nochmals überprüfen, ob 'KundeNr' jetzt eine Spalte ist\n",
    "print(Kundendaten_bereinigt.columns)\n",
    "print(Besucherdaten_bereinigt.columns)\n",
    "\n",
    "# Setzen Sie 'KundeNr' als Index, wenn erforderlich\n",
    "Kundendaten_bereinigt.set_index('KundeNr', inplace=True)\n",
    "Besucherdaten_bereinigt.set_index('KundeNr', inplace=True)\n",
    "\n",
    "# Auswahl der gewünschten Spalten\n",
    "Kundendaten_bereinigt = Kundendaten_bereinigt[['Geschlecht', 'Alter', 'Einkommen', 'Niederlassung', 'Zeit', 'Preis']]\n",
    "Besucherdaten_bereinigt = Besucherdaten_bereinigt[['Geschlecht', 'Alter', 'Einkommen', 'Niederlassung', 'Zeit']]\n",
    "\n",
    "# Zusammenführen der DataFrames\n",
    "df = pd.concat([Kundendaten_bereinigt, Besucherdaten_bereinigt])\n",
    "Kunden = Kundendaten_bereinigt\n",
    "Besucher = Besucherdaten_bereinigt\n",
    "\n",
    "# Ausgabe des resultierenden DataFrames\n",
    "print(df)\n",
    "print(Kunden)\n",
    "print(Besucher)"
   ]
  },
  {
   "cell_type": "code",
   "execution_count": null,
   "id": "d58e481f-2e96-4959-9467-0cfdbbb37367",
   "metadata": {},
   "outputs": [],
   "source": [
    "# Aufgabe 1: Wie viele Autos wurden verkauft?"
   ]
  },
  {
   "cell_type": "code",
   "execution_count": 121,
   "id": "72206564-8ce6-479f-8346-68fa5c66c3ff",
   "metadata": {},
   "outputs": [
    {
     "name": "stdout",
     "output_type": "stream",
     "text": [
      "Es wurden 1104 Autos verkauft.\n"
     ]
    }
   ],
   "source": [
    "verkaufte_Autos = df[df['Preis'].notna()]\n",
    "Anzahl_verkaufter_Autos = len(verkaufte_Autos)\n",
    "\n",
    "print(f\"Es wurden {Anzahl_verkaufter_Autos} Autos verkauft.\")"
   ]
  },
  {
   "cell_type": "code",
   "execution_count": null,
   "id": "cce99414-cc84-4cff-8760-5848594426c0",
   "metadata": {},
   "outputs": [],
   "source": [
    "# Aufgabe 2: Was ist der Höchst-, Mindest- und Durchschnittspreis der verkauften Autos?"
   ]
  },
  {
   "cell_type": "code",
   "execution_count": 122,
   "id": "330703ae-37a5-43c5-82a0-9d0cafafa01a",
   "metadata": {
    "scrolled": true
   },
   "outputs": [
    {
     "name": "stdout",
     "output_type": "stream",
     "text": [
      "Der Mindestpreis ist:          21,471.65€\n",
      "Der Maximalpreis ist:         149,827.25€\n",
      "Der Durchschnittspreis ist:    88,905.86€\n"
     ]
    }
   ],
   "source": [
    "# Min, Max und Mean der Spalte 'Preis'\n",
    "preis_min = df['Preis'].min()\n",
    "preis_max = df['Preis'].max()\n",
    "preis_mean = df['Preis'].mean().round(2)\n",
    "\n",
    "# Ausgabe der Ergebnisse\n",
    "print(f\"Der Mindestpreis ist:          {preis_min:,}€\")\n",
    "print(f\"Der Maximalpreis ist:         {preis_max:,}€\")\n",
    "print(f\"Der Durchschnittspreis ist:    {preis_mean:,}€\")"
   ]
  },
  {
   "cell_type": "code",
   "execution_count": null,
   "id": "14dc2f85-cbea-46e6-a4ff-0d660bf16ecc",
   "metadata": {},
   "outputs": [],
   "source": [
    "# Aufgabe 3: Wie hoch war der Gesamtumsatz?"
   ]
  },
  {
   "cell_type": "code",
   "execution_count": 123,
   "id": "f7a0a618-85cc-44aa-9814-c079a7bd31aa",
   "metadata": {},
   "outputs": [
    {
     "name": "stdout",
     "output_type": "stream",
     "text": [
      "Der Gesamtumsatz liegt bei: 98,152,068.52499999€\n"
     ]
    }
   ],
   "source": [
    "Gesamtumsatz = df['Preis'].sum()\n",
    "print(f\"Der Gesamtumsatz liegt bei: {Gesamtumsatz:,}€\")"
   ]
  },
  {
   "cell_type": "code",
   "execution_count": null,
   "id": "ce69c4ae-2476-4b38-8b8d-43e3f4dade39",
   "metadata": {},
   "outputs": [],
   "source": [
    "# Aufgabe 4: Wie viele Autos wurden pro Bundesland verkauft?"
   ]
  },
  {
   "cell_type": "code",
   "execution_count": null,
   "id": "f440b6b9-c91f-4ccc-843f-5877bab24a64",
   "metadata": {},
   "outputs": [],
   "source": []
  },
  {
   "cell_type": "code",
   "execution_count": null,
   "id": "2fd6b3d5-cf08-4620-bc9b-4e973b494578",
   "metadata": {},
   "outputs": [],
   "source": [
    "# Aufgabe 5: Wie hoch war der durchschnittliche Umsatz pro Bundesland?"
   ]
  },
  {
   "cell_type": "code",
   "execution_count": null,
   "id": "2bfe4c53-358e-49e6-bd6d-a0ef8312b387",
   "metadata": {},
   "outputs": [],
   "source": []
  },
  {
   "cell_type": "code",
   "execution_count": null,
   "id": "711a2567-324c-4670-85f6-917c489a7ec4",
   "metadata": {},
   "outputs": [],
   "source": [
    "# Aufgabe 6: In welchem Bundesland wurde das teuerste Auto verkauft?"
   ]
  },
  {
   "cell_type": "code",
   "execution_count": null,
   "id": "1803d0ca-d62a-4178-954f-29b1e619c4cc",
   "metadata": {},
   "outputs": [],
   "source": []
  },
  {
   "cell_type": "code",
   "execution_count": null,
   "id": "907f40ee-df51-45f7-b613-f2f12412cd6d",
   "metadata": {},
   "outputs": [],
   "source": [
    "# Aufgabe 7: Haben mehr Frauen oder mehr Männer unsere Autos gekauft?"
   ]
  },
  {
   "cell_type": "code",
   "execution_count": null,
   "id": "470a7463-63f1-482f-bcc8-c28b89e1a576",
   "metadata": {},
   "outputs": [],
   "source": []
  },
  {
   "cell_type": "code",
   "execution_count": null,
   "id": "284668c8-f688-4ae1-a61d-0bffc3ff11d6",
   "metadata": {},
   "outputs": [],
   "source": [
    "# Aufgabe 8: Wie hoch ist das Durchschnittsalter unserer Kunden? Wie hoch ist das Durchschnittsalter unserer Besucher?"
   ]
  },
  {
   "cell_type": "code",
   "execution_count": null,
   "id": "7ec5391c-99ff-455f-9497-41739b9508f1",
   "metadata": {},
   "outputs": [],
   "source": []
  },
  {
   "cell_type": "code",
   "execution_count": null,
   "id": "7492b397-b37b-4605-b8a6-436dc9b2d8c6",
   "metadata": {},
   "outputs": [],
   "source": [
    "# Aufgabe 9: Wie hoch ist das Durchschnittseinkommen unserer Kunden? Wie hoch ist das Durchschnittseinkommen unserer Besucher?"
   ]
  },
  {
   "cell_type": "code",
   "execution_count": null,
   "id": "298445fe-58b0-49b1-b537-f287deca86bc",
   "metadata": {},
   "outputs": [],
   "source": []
  },
  {
   "cell_type": "code",
   "execution_count": null,
   "id": "dfe2acf2-d739-4d46-a417-72302101cca2",
   "metadata": {},
   "outputs": [],
   "source": [
    "# Aufgabe 10: Bestimmen Sie, ob es einen statistisch signifikanten Unterschied zwischen dem Durchschnittseinkommen der Kunden \n",
    "#             und dem Durchschnittseinkommen der Besucher gibt."
   ]
  },
  {
   "cell_type": "code",
   "execution_count": null,
   "id": "e07b8b89-6d17-4e5d-b720-61fb204cc946",
   "metadata": {},
   "outputs": [],
   "source": [
    "from scipy.stats import ttest_ind\n",
    "\n",
    "# Beispielgruppen aus den beiden DataFrames\n",
    "einkommen_der_kunden = customer_geo_retype['Einkommen']\n",
    "einkommen_der_besucher = visitor_geo_retype['Einkommen']\n",
    "\n",
    "# Welch-T-Test\n",
    "t_stat, p_value = ttest_ind(einkommen_der_kunden, einkommen_der_besucher, equal_var=False)\n",
    "\n",
    "print(f\"Welch's T-Statistik: {t_stat}\")\n",
    "print(f\"P-Wert: {p_value}\")"
   ]
  },
  {
   "cell_type": "code",
   "execution_count": null,
   "id": "0e34f6c4-8ca0-4add-8ca6-747751bda173",
   "metadata": {},
   "outputs": [],
   "source": [
    "# Aufgabe 11: Wie hoch ist die Korrelation (Pearson-Korrelation) zwischen den Variablen Alter, Einkommen, Preis und Zeit?"
   ]
  },
  {
   "cell_type": "code",
   "execution_count": null,
   "id": "98ae6bf7-bc12-4fa5-9011-76f2cf4bfa25",
   "metadata": {},
   "outputs": [],
   "source": [
    "correlation_matrix = df[['Alter', 'Einkommen', 'Preis', 'Zeit']].corr(method='pearson')\n",
    "\n",
    "# Ausgabe der Korrelationsmatrix\n",
    "print(\"Korrelationsmatrix (Pearson-Korrelation):\")\n",
    "print(correlation_matrix)\n",
    "correlation_list = correlation_matrix.values.flatten().tolist()\n",
    "correlation_list = [round(coeff, 2) for coeff in correlation_list]\n",
    "print(\n",
    ")\n",
    "print(\"Hinweis: Die Funktion .corr('method='pearson') ignoriert alle Wertepaare bei denen ein Wert NaN ist.\")\n",
    "print(\n",
    ")\n",
    "alter_einkommen = \"positive Korrelation. Ältere Personen tendieren dazu, höhere Einkommen zu haben.\"\n",
    "alter_preis = \"starke positive Korrelation. Ältere Personen neigen dazu, höhere Preise zu zahlen.\"\n",
    "alter_zeit = \"schwache positive Korrelation. Ältere Personen bleiben tendenziell etwas länger im Geschäft.\"\n",
    "einkommen_preis = \"sehr starke positive Korrelation. Personen mit höherem Einkommen tendieren dazu, höhere Preise zu zahlen.\"\n",
    "einkommen_zeit = \"moderate positive Korrelation. Personen mit höherem Einkommen bleiben tendenziell länger im Geschäft.\"\n",
    "preis_zeit = \"moderate positive Korrelation. Höhere Preise korrelieren mit einer tendenziell höheren Vorgangszeit.\"\n",
    "\n",
    "KE_AE = correlation_list[1]\n",
    "KE_AP = correlation_list[2]\n",
    "KE_AZ = correlation_list[3]\n",
    "KE_EP = correlation_list[6]\n",
    "KE_EZ = correlation_list[7]\n",
    "KE_PZ = correlation_list[11]\n",
    "print(\"Interpretation der jeweiligen Korrelationskoefizienten\")\n",
    "print(\n",
    ")\n",
    "print(\"Alter - Einkommen korreliert mit:\", KE_AE)\n",
    "print(alter_einkommen)\n",
    "print(\n",
    ")\n",
    "print(\"Alter - Preis korreliert mit\", KE_AP)\n",
    "print(alter_preis)\n",
    "print(\n",
    ")\n",
    "print(\"Alter - Zeit korreliert mit\", KE_AZ)\n",
    "print(alter_zeit)\n",
    "print(\n",
    ")\n",
    "print(\"Einkommen - Preis korreliert mit\", KE_EP)\n",
    "print(einkommen_preis)\n",
    "print(\n",
    ")\n",
    "print(\"Einkommen - Preis korreliert mit\", KE_EZ)\n",
    "print(einkommen_zeit)\n",
    "print(\n",
    ")\n",
    "print(\"Preis - Zeit korreliert mit\", KE_PZ)\n",
    "print(preis_zeit)"
   ]
  },
  {
   "cell_type": "code",
   "execution_count": null,
   "id": "57ead820-f832-41dd-92b9-e60323a450bb",
   "metadata": {},
   "outputs": [],
   "source": [
    "# Aufgabe 12: Testen Sie grafisch mit Hilfe eines qq-Plots, ob die Variable Zeit approximativ normalverteilt ist."
   ]
  },
  {
   "cell_type": "code",
   "execution_count": null,
   "id": "f2e4dda1-0b73-447b-98b0-75f5abeeba40",
   "metadata": {},
   "outputs": [],
   "source": [
    "# QQ-Plot für die Variable \"Zeit\"\n",
    "zeit = df['Zeit'].dropna()\n",
    "\n",
    "# QQ-Plot erstellen\n",
    "stats.probplot(zeit, dist=\"norm\", plot=plt)\n",
    "plt.title('QQ-Plot für die Variable \"Zeit\"')\n",
    "plt.xlabel('Theoretische Quantile')\n",
    "plt.ylabel('Empirische Quantile')\n",
    "plt.grid(True)"
   ]
  },
  {
   "cell_type": "code",
   "execution_count": null,
   "id": "799ae457-1a75-4379-a316-abfe2481e9b2",
   "metadata": {},
   "outputs": [],
   "source": [
    "# Aufgabe 13: Wie viele Kunden haben keinen Bankkredit aufgenommen, um das Auto zu kaufen?\n",
    "#             Kundenabteilung hat vergessen, diese Informationen zu erfassen. Wir können davon aus\n",
    "#             gehen, dass die Kunden mit einem Jahreseinkommen höher als der Autopreis keinen Kredit\n",
    "#             aufgenommen haben."
   ]
  },
  {
   "cell_type": "code",
   "execution_count": null,
   "id": "b2ccc8ee-db2a-4f25-bf94-9a3a67b6b543",
   "metadata": {},
   "outputs": [],
   "source": []
  },
  {
   "cell_type": "code",
   "execution_count": null,
   "id": "c66740e2-7db2-4638-8444-fa92e5a21acb",
   "metadata": {},
   "outputs": [],
   "source": [
    "# Aufgabe 14: Welche sozioökonomischen Merkmale beeinflussen den Kaufpreis? Wählen Sie die geeigneten\n",
    "#             unabhängigen Variablen aus und schätzen Sie eine Regression unter Verwendung der geeigneten Methode."
   ]
  },
  {
   "cell_type": "code",
   "execution_count": null,
   "id": "e0fb19e0-feed-453e-ba4d-f55d40d094c5",
   "metadata": {},
   "outputs": [],
   "source": []
  },
  {
   "cell_type": "code",
   "execution_count": null,
   "id": "4c67853e-ef68-45cf-81ec-c6c10e0ac492",
   "metadata": {},
   "outputs": [],
   "source": [
    "# Aufgabe 15: Prognostizieren Sie den Kaufpreis eines unserer Autos für einen männlichen Kunden im\n",
    "#             Alter von 32 Jahren mit einem Einkommen von 30.000 Euro. Prognostizieren Sie den Kaufpreis\n",
    "#             preis eines unserer Autos für einen männlichen Kunden im Alter von 51 Jahren und mit\n",
    "#             einem Einkommen von 54.000 Euro."
   ]
  },
  {
   "cell_type": "code",
   "execution_count": null,
   "id": "188a8c08-8c2a-43d3-88af-e71d0b253343",
   "metadata": {},
   "outputs": [],
   "source": [
    "P_höherals_E = Kunden[Kunden['Preis'] > Kunden['Einkommen']]\n",
    "\n",
    "# Filtern nach Zeilen, wo Alter den Wert 32 hat\n",
    "P_höherals_E_32 = P_höherals_E[(P_höherals_E['Alter'] == 32) & (P_höherals_E['Geschlecht'] == 'Männlich')]\n",
    "Kunden_32 = Kunden[(Kunden['Alter'] == 32) & (Kunden['Geschlecht'] == 'Männlich')]\n",
    "\n",
    "print(Kunden_32)\n",
    "print(\"\\nZeilen, wo Alter den Wert 32 hat:\")\n",
    "print(P_höherals_E_32)\n"
   ]
  },
  {
   "cell_type": "code",
   "execution_count": null,
   "id": "8e0fefaa",
   "metadata": {},
   "outputs": [],
   "source": [
    "# Import necessary libraries\n",
    "import seaborn as sns\n",
    "from sklearn.linear_model import LinearRegression, LogisticRegression\n",
    "from sklearn.metrics import mean_squared_error\n",
    "from scipy import stats\n",
    "\n",
    "# Prepare data for regression\n",
    "X = customer_data[['Alter', 'Einkommen']]\n",
    "y = customer_data['Preis']  # Assuming 'Preis' column is the target variable\n",
    "\n",
    "# Fit a linear regression model\n",
    "model = LinearRegression()\n",
    "model.fit(X, y)\n",
    "\n",
    "# Predictions\n",
    "predicted_price_32_30000 = model.predict([[32, 30000]])\n",
    "predicted_price_51_54000 = model.predict([[51, 54000]])\n",
    "\n",
    "\n",
    "\n",
    "\n"
   ]
  },
  {
   "cell_type": "code",
   "execution_count": null,
   "id": "620e37da-8ae7-4001-b98c-abf9caeec70a",
   "metadata": {},
   "outputs": [],
   "source": [
    "# Aufgabe 16: In Bezug auf die vorherige Frage: Welche Variable beeinflusst den Preis des Autos am\n",
    "#             meisten? Mit anderen Worten: Die von Ihnen geschätzten Regressionskoeffizienten müssen\n",
    "#             direkt vergleichbar sein. Wie sollen die Daten transformiert werden?"
   ]
  },
  {
   "cell_type": "code",
   "execution_count": null,
   "id": "a7758a07-0f73-4cb1-9321-c12a1ad2e537",
   "metadata": {},
   "outputs": [],
   "source": [
    "ff"
   ]
  },
  {
   "cell_type": "code",
   "execution_count": null,
   "id": "af514e81",
   "metadata": {},
   "outputs": [],
   "source": [
    "# 16. Variable, die den Preis des Autos am meisten beeinflusst (Regressionskoeffizienten)\n",
    "coefficients = model.coef_\n",
    "\n",
    "# Display the results\n",
    "predicted_price_32_30000, predicted_price_51_54000, coefficients\n"
   ]
  },
  {
   "cell_type": "code",
   "execution_count": null,
   "id": "8992b49d-135a-4e36-a0e5-964d8189761c",
   "metadata": {},
   "outputs": [],
   "source": [
    "# Aufgabe 17: Schätzen Sie eine Regression, die die Wahrscheinlichkeit des Kaufs eines Autos ermittelt.\n",
    "#             Verwenden Sie die entsprechende Methode."
   ]
  },
  {
   "cell_type": "code",
   "execution_count": null,
   "id": "fbae3116-4961-4fd0-b6d1-634908896b1f",
   "metadata": {},
   "outputs": [],
   "source": [
    "ff"
   ]
  },
  {
   "cell_type": "code",
   "execution_count": null,
   "id": "8b942453",
   "metadata": {},
   "outputs": [],
   "source": [
    "from sklearn.linear_model import LogisticRegression\n",
    "\n",
    "# For logistic regression, we need a binary target variable.\n",
    "# We'll create a binary target variable for demonstration purposes.\n",
    "# Assuming 'Zeit' > 30 indicates a purchase (1), and 'Zeit' <= 30 indicates no purchase (0)\n",
    "data['Purchase'] = (data['Zeit'] > 30).astype(int)\n",
    "\n",
    "# Features and target variable\n",
    "X_log = data[['Alter', 'Einkommen']]\n",
    "y_log = data['Purchase']\n",
    "\n",
    "# Fit a logistic regression model\n",
    "log_model = LogisticRegression()\n",
    "log_model.fit(X_log, y_log)\n",
    "\n",
    "# Display the coefficients\n",
    "log_coefficients = log_model.coef_"
   ]
  },
  {
   "cell_type": "code",
   "execution_count": null,
   "id": "0dcf3728-5986-4c19-9cf2-b89a5d8bc42d",
   "metadata": {},
   "outputs": [],
   "source": [
    "# Aufgabe 18: Wie hoch ist die Wahrscheinlichkeit, dass ein 32-jähriger männlicher Kunde mit einem\n",
    "#             Einkommen von 30.000 Euro, der das Auto 30 Minuten lang getestet hat, eines unserer\n",
    "#             Modelle kauft? Wie hoch ist die Wahrscheinlichkeit, dass ein 51-jähriger männlicher Kunde\n",
    "#             mit einem Einkommen von 54.000 Euro, der das Auto 45 Minuten lang getestet hat, eines\n",
    "#             unserer Modelle kauft?"
   ]
  },
  {
   "cell_type": "code",
   "execution_count": null,
   "id": "bb1965c0-83bb-4a93-b41d-aeee9e61168f",
   "metadata": {},
   "outputs": [],
   "source": []
  },
  {
   "cell_type": "code",
   "execution_count": null,
   "id": "b59bc63d-45f0-4ef0-9276-1ff1ebfc98d9",
   "metadata": {},
   "outputs": [],
   "source": [
    "# Aufgabe 19: Auf welche Probleme sind Sie bei der Zusammenführung des Datensatzes gestoßen? Stellen\n",
    "#             len Sie die Operationen vor, die Sie zum Zusammenführen und Bereinigen der Daten\n",
    "#             durchgeführt haben."
   ]
  },
  {
   "cell_type": "code",
   "execution_count": null,
   "id": "868ee311-1c8e-4511-be49-957916ca47ed",
   "metadata": {},
   "outputs": [],
   "source": []
  },
  {
   "cell_type": "code",
   "execution_count": null,
   "id": "e1c2118c-525c-419d-9b71-bea121019d71",
   "metadata": {},
   "outputs": [],
   "source": [
    "# Aufgabe 20: Welche Vorschläge würden Sie der Kundenabteilung für die Umfrage im nächsten Jahr machen?\n",
    "#             Welche zusätzlichen Informationen sollten gesammelt werden? \n",
    "#             Formulieren Sie zwei Vorschläge."
   ]
  },
  {
   "cell_type": "code",
   "execution_count": null,
   "id": "155f9ec3-c0ba-4535-bbd3-ed7d2b087365",
   "metadata": {},
   "outputs": [],
   "source": [
    "..."
   ]
  },
  {
   "cell_type": "code",
   "execution_count": null,
   "id": "cb9ad5c3",
   "metadata": {},
   "outputs": [],
   "source": []
  }
 ],
 "metadata": {
  "kernelspec": {
   "display_name": "Python 3 (ipykernel)",
   "language": "python",
   "name": "python3"
  },
  "language_info": {
   "codemirror_mode": {
    "name": "ipython",
    "version": 3
   },
   "file_extension": ".py",
   "mimetype": "text/x-python",
   "name": "python",
   "nbconvert_exporter": "python",
   "pygments_lexer": "ipython3",
   "version": "3.11.7"
  }
 },
 "nbformat": 4,
 "nbformat_minor": 5
}
